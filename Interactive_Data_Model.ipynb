{
 "cells": [
  {
   "cell_type": "code",
   "execution_count": 1,
   "metadata": {},
   "outputs": [
    {
     "data": {
      "application/javascript": [
       "\n",
       "(function(root) {\n",
       "  function now() {\n",
       "    return new Date();\n",
       "  }\n",
       "\n",
       "  var force = true;\n",
       "\n",
       "  if (typeof root._bokeh_onload_callbacks === \"undefined\" || force === true) {\n",
       "    root._bokeh_onload_callbacks = [];\n",
       "    root._bokeh_is_loading = undefined;\n",
       "  }\n",
       "\n",
       "  if (typeof (root._bokeh_timeout) === \"undefined\" || force === true) {\n",
       "    root._bokeh_timeout = Date.now() + 5000;\n",
       "    root._bokeh_failed_load = false;\n",
       "  }\n",
       "\n",
       "  function run_callbacks() {\n",
       "    try {\n",
       "      root._bokeh_onload_callbacks.forEach(function(callback) {\n",
       "        if (callback != null)\n",
       "          callback();\n",
       "      });\n",
       "    } finally {\n",
       "      delete root._bokeh_onload_callbacks\n",
       "    }\n",
       "    console.debug(\"Bokeh: all callbacks have finished\");\n",
       "  }\n",
       "\n",
       "  function load_libs(css_urls, js_urls, callback) {\n",
       "    if (css_urls == null) css_urls = [];\n",
       "    if (js_urls == null) js_urls = [];\n",
       "\n",
       "    root._bokeh_onload_callbacks.push(callback);\n",
       "    if (root._bokeh_is_loading > 0) {\n",
       "      console.debug(\"Bokeh: BokehJS is being loaded, scheduling callback at\", now());\n",
       "      return null;\n",
       "    }\n",
       "    if (js_urls == null || js_urls.length === 0) {\n",
       "      run_callbacks();\n",
       "      return null;\n",
       "    }\n",
       "    console.debug(\"Bokeh: BokehJS not loaded, scheduling load and callback at\", now());\n",
       "    root._bokeh_is_loading = css_urls.length + js_urls.length;\n",
       "\n",
       "    function on_load() {\n",
       "      root._bokeh_is_loading--;\n",
       "      if (root._bokeh_is_loading === 0) {\n",
       "        console.debug(\"Bokeh: all BokehJS libraries/stylesheets loaded\");\n",
       "        run_callbacks()\n",
       "      }\n",
       "    }\n",
       "\n",
       "    function on_error() {\n",
       "      console.error(\"failed to load \" + url);\n",
       "    }\n",
       "\n",
       "    for (var i = 0; i < css_urls.length; i++) {\n",
       "      var url = css_urls[i];\n",
       "      const element = document.createElement(\"link\");\n",
       "      element.onload = on_load;\n",
       "      element.onerror = on_error;\n",
       "      element.rel = \"stylesheet\";\n",
       "      element.type = \"text/css\";\n",
       "      element.href = url;\n",
       "      console.debug(\"Bokeh: injecting link tag for BokehJS stylesheet: \", url);\n",
       "      document.body.appendChild(element);\n",
       "    }\n",
       "\n",
       "    var skip = [];\n",
       "    if (window.requirejs) {\n",
       "      window.requirejs.config({'paths': {'plotly': 'https://cdn.plot.ly/plotly-latest.min'}});\n",
       "      require([\"plotly\"], function(Plotly,) {\n",
       "        window.Plotly = Plotly;\n",
       "      })\n",
       "    }\n",
       "    if (((window['Plotly'] !== undefined) && (!(window['Plotly'] instanceof HTMLElement))) || window.requirejs) {\n",
       "      var urls = ['https://cdn.plot.ly/plotly-latest.min.js'];\n",
       "      for (var i = 0; i < urls.length; i++) {\n",
       "        skip.push(urls[i])\n",
       "      }\n",
       "    }\n",
       "    for (var i = 0; i < js_urls.length; i++) {\n",
       "      var url = js_urls[i];\n",
       "      if (skip.indexOf(url) >= 0) { on_load(); continue; }\n",
       "      var element = document.createElement('script');\n",
       "      element.onload = on_load;\n",
       "      element.onerror = on_error;\n",
       "      element.async = false;\n",
       "      element.src = url;\n",
       "      console.debug(\"Bokeh: injecting script tag for BokehJS library: \", url);\n",
       "      document.head.appendChild(element);\n",
       "    }\n",
       "\tif (!js_urls.length) {\n",
       "      on_load()\n",
       "    }\n",
       "  };\n",
       "\n",
       "  function inject_raw_css(css) {\n",
       "    const element = document.createElement(\"style\");\n",
       "    element.appendChild(document.createTextNode(css));\n",
       "    document.body.appendChild(element);\n",
       "  }\n",
       "\n",
       "  var js_urls = [\"https://code.jquery.com/jquery-3.4.1.min.js\", \"https://cdn.plot.ly/plotly-latest.min.js\", \"https://cdn.bokeh.org/bokeh/release/bokeh-2.2.3.min.js\", \"https://cdn.bokeh.org/bokeh/release/bokeh-widgets-2.2.3.min.js\", \"https://cdn.bokeh.org/bokeh/release/bokeh-tables-2.2.3.min.js\", \"https://unpkg.com/@holoviz/panel@^0.10.3/dist/panel.min.js\"];\n",
       "  var css_urls = [\"https://unpkg.com/@holoviz/panel@0.10.3/dist/css/alerts.css\", \"https://unpkg.com/@holoviz/panel@0.10.3/dist/css/card.css\", \"https://unpkg.com/@holoviz/panel@0.10.3/dist/css/dataframe.css\", \"https://unpkg.com/@holoviz/panel@0.10.3/dist/css/json.css\", \"https://unpkg.com/@holoviz/panel@0.10.3/dist/css/markdown.css\", \"https://unpkg.com/@holoviz/panel@0.10.3/dist/css/widgets.css\"];\n",
       "\n",
       "  var inline_js = [\n",
       "    function(Bokeh) {\n",
       "      Bokeh.set_log_level(\"info\");\n",
       "    },\n",
       "    function(Bokeh) {} // ensure no trailing comma for IE\n",
       "  ];\n",
       "\n",
       "  function run_inline_js() {\n",
       "    if ((root.Bokeh !== undefined) || (force === true)) {\n",
       "      for (var i = 0; i < inline_js.length; i++) {\n",
       "        inline_js[i].call(root, root.Bokeh);\n",
       "      }} else if (Date.now() < root._bokeh_timeout) {\n",
       "      setTimeout(run_inline_js, 100);\n",
       "    } else if (!root._bokeh_failed_load) {\n",
       "      console.log(\"Bokeh: BokehJS failed to load within specified timeout.\");\n",
       "      root._bokeh_failed_load = true;\n",
       "    }\n",
       "  }\n",
       "\n",
       "  if (root._bokeh_is_loading === 0) {\n",
       "    console.debug(\"Bokeh: BokehJS loaded, going straight to plotting\");\n",
       "    run_inline_js();\n",
       "  } else {\n",
       "    load_libs(css_urls, js_urls, function() {\n",
       "      console.debug(\"Bokeh: BokehJS plotting callback run at\", now());\n",
       "      run_inline_js();\n",
       "    });\n",
       "  }\n",
       "}(window));"
      ],
      "application/vnd.holoviews_load.v0+json": "\n(function(root) {\n  function now() {\n    return new Date();\n  }\n\n  var force = true;\n\n  if (typeof root._bokeh_onload_callbacks === \"undefined\" || force === true) {\n    root._bokeh_onload_callbacks = [];\n    root._bokeh_is_loading = undefined;\n  }\n\n  if (typeof (root._bokeh_timeout) === \"undefined\" || force === true) {\n    root._bokeh_timeout = Date.now() + 5000;\n    root._bokeh_failed_load = false;\n  }\n\n  function run_callbacks() {\n    try {\n      root._bokeh_onload_callbacks.forEach(function(callback) {\n        if (callback != null)\n          callback();\n      });\n    } finally {\n      delete root._bokeh_onload_callbacks\n    }\n    console.debug(\"Bokeh: all callbacks have finished\");\n  }\n\n  function load_libs(css_urls, js_urls, callback) {\n    if (css_urls == null) css_urls = [];\n    if (js_urls == null) js_urls = [];\n\n    root._bokeh_onload_callbacks.push(callback);\n    if (root._bokeh_is_loading > 0) {\n      console.debug(\"Bokeh: BokehJS is being loaded, scheduling callback at\", now());\n      return null;\n    }\n    if (js_urls == null || js_urls.length === 0) {\n      run_callbacks();\n      return null;\n    }\n    console.debug(\"Bokeh: BokehJS not loaded, scheduling load and callback at\", now());\n    root._bokeh_is_loading = css_urls.length + js_urls.length;\n\n    function on_load() {\n      root._bokeh_is_loading--;\n      if (root._bokeh_is_loading === 0) {\n        console.debug(\"Bokeh: all BokehJS libraries/stylesheets loaded\");\n        run_callbacks()\n      }\n    }\n\n    function on_error() {\n      console.error(\"failed to load \" + url);\n    }\n\n    for (var i = 0; i < css_urls.length; i++) {\n      var url = css_urls[i];\n      const element = document.createElement(\"link\");\n      element.onload = on_load;\n      element.onerror = on_error;\n      element.rel = \"stylesheet\";\n      element.type = \"text/css\";\n      element.href = url;\n      console.debug(\"Bokeh: injecting link tag for BokehJS stylesheet: \", url);\n      document.body.appendChild(element);\n    }\n\n    var skip = [];\n    if (window.requirejs) {\n      window.requirejs.config({'paths': {'plotly': 'https://cdn.plot.ly/plotly-latest.min'}});\n      require([\"plotly\"], function(Plotly,) {\n        window.Plotly = Plotly;\n      })\n    }\n    if (((window['Plotly'] !== undefined) && (!(window['Plotly'] instanceof HTMLElement))) || window.requirejs) {\n      var urls = ['https://cdn.plot.ly/plotly-latest.min.js'];\n      for (var i = 0; i < urls.length; i++) {\n        skip.push(urls[i])\n      }\n    }\n    for (var i = 0; i < js_urls.length; i++) {\n      var url = js_urls[i];\n      if (skip.indexOf(url) >= 0) { on_load(); continue; }\n      var element = document.createElement('script');\n      element.onload = on_load;\n      element.onerror = on_error;\n      element.async = false;\n      element.src = url;\n      console.debug(\"Bokeh: injecting script tag for BokehJS library: \", url);\n      document.head.appendChild(element);\n    }\n\tif (!js_urls.length) {\n      on_load()\n    }\n  };\n\n  function inject_raw_css(css) {\n    const element = document.createElement(\"style\");\n    element.appendChild(document.createTextNode(css));\n    document.body.appendChild(element);\n  }\n\n  var js_urls = [\"https://code.jquery.com/jquery-3.4.1.min.js\", \"https://cdn.plot.ly/plotly-latest.min.js\", \"https://cdn.bokeh.org/bokeh/release/bokeh-2.2.3.min.js\", \"https://cdn.bokeh.org/bokeh/release/bokeh-widgets-2.2.3.min.js\", \"https://cdn.bokeh.org/bokeh/release/bokeh-tables-2.2.3.min.js\", \"https://unpkg.com/@holoviz/panel@^0.10.3/dist/panel.min.js\"];\n  var css_urls = [\"https://unpkg.com/@holoviz/panel@0.10.3/dist/css/alerts.css\", \"https://unpkg.com/@holoviz/panel@0.10.3/dist/css/card.css\", \"https://unpkg.com/@holoviz/panel@0.10.3/dist/css/dataframe.css\", \"https://unpkg.com/@holoviz/panel@0.10.3/dist/css/json.css\", \"https://unpkg.com/@holoviz/panel@0.10.3/dist/css/markdown.css\", \"https://unpkg.com/@holoviz/panel@0.10.3/dist/css/widgets.css\"];\n\n  var inline_js = [\n    function(Bokeh) {\n      Bokeh.set_log_level(\"info\");\n    },\n    function(Bokeh) {} // ensure no trailing comma for IE\n  ];\n\n  function run_inline_js() {\n    if ((root.Bokeh !== undefined) || (force === true)) {\n      for (var i = 0; i < inline_js.length; i++) {\n        inline_js[i].call(root, root.Bokeh);\n      }} else if (Date.now() < root._bokeh_timeout) {\n      setTimeout(run_inline_js, 100);\n    } else if (!root._bokeh_failed_load) {\n      console.log(\"Bokeh: BokehJS failed to load within specified timeout.\");\n      root._bokeh_failed_load = true;\n    }\n  }\n\n  if (root._bokeh_is_loading === 0) {\n    console.debug(\"Bokeh: BokehJS loaded, going straight to plotting\");\n    run_inline_js();\n  } else {\n    load_libs(css_urls, js_urls, function() {\n      console.debug(\"Bokeh: BokehJS plotting callback run at\", now());\n      run_inline_js();\n    });\n  }\n}(window));"
     },
     "metadata": {},
     "output_type": "display_data"
    },
    {
     "data": {
      "application/javascript": [
       "\n",
       "if ((window.PyViz === undefined) || (window.PyViz instanceof HTMLElement)) {\n",
       "  window.PyViz = {comms: {}, comm_status:{}, kernels:{}, receivers: {}, plot_index: []}\n",
       "}\n",
       "\n",
       "\n",
       "    function JupyterCommManager() {\n",
       "    }\n",
       "\n",
       "    JupyterCommManager.prototype.register_target = function(plot_id, comm_id, msg_handler) {\n",
       "      if (window.comm_manager || ((window.Jupyter !== undefined) && (Jupyter.notebook.kernel != null))) {\n",
       "        var comm_manager = window.comm_manager || Jupyter.notebook.kernel.comm_manager;\n",
       "        comm_manager.register_target(comm_id, function(comm) {\n",
       "          comm.on_msg(msg_handler);\n",
       "        });\n",
       "      } else if ((plot_id in window.PyViz.kernels) && (window.PyViz.kernels[plot_id])) {\n",
       "        window.PyViz.kernels[plot_id].registerCommTarget(comm_id, function(comm) {\n",
       "          comm.onMsg = msg_handler;\n",
       "        });\n",
       "      } else if (typeof google != 'undefined' && google.colab.kernel != null) {\n",
       "        google.colab.kernel.comms.registerTarget(comm_id, (comm) => {\n",
       "          var messages = comm.messages[Symbol.asyncIterator]();\n",
       "          function processIteratorResult(result) {\n",
       "            var message = result.value;\n",
       "            console.log(message)\n",
       "            var content = {data: message.data, comm_id};\n",
       "            var buffers = []\n",
       "            for (var buffer of message.buffers || []) {\n",
       "              buffers.push(new DataView(buffer))\n",
       "            }\n",
       "            var metadata = message.metadata || {};\n",
       "            var msg = {content, buffers, metadata}\n",
       "            msg_handler(msg);\n",
       "            return messages.next().then(processIteratorResult);\n",
       "          }\n",
       "          return messages.next().then(processIteratorResult);\n",
       "        })\n",
       "      }\n",
       "    }\n",
       "\n",
       "    JupyterCommManager.prototype.get_client_comm = function(plot_id, comm_id, msg_handler) {\n",
       "      if (comm_id in window.PyViz.comms) {\n",
       "        return window.PyViz.comms[comm_id];\n",
       "      } else if (window.comm_manager || ((window.Jupyter !== undefined) && (Jupyter.notebook.kernel != null))) {\n",
       "        var comm_manager = window.comm_manager || Jupyter.notebook.kernel.comm_manager;\n",
       "        var comm = comm_manager.new_comm(comm_id, {}, {}, {}, comm_id);\n",
       "        if (msg_handler) {\n",
       "          comm.on_msg(msg_handler);\n",
       "        }\n",
       "      } else if ((plot_id in window.PyViz.kernels) && (window.PyViz.kernels[plot_id])) {\n",
       "        var comm = window.PyViz.kernels[plot_id].connectToComm(comm_id);\n",
       "        comm.open();\n",
       "        if (msg_handler) {\n",
       "          comm.onMsg = msg_handler;\n",
       "        }\n",
       "      } else if (typeof google != 'undefined' && google.colab.kernel != null) {\n",
       "        var comm_promise = google.colab.kernel.comms.open(comm_id)\n",
       "        comm_promise.then((comm) => {\n",
       "          window.PyViz.comms[comm_id] = comm;\n",
       "          if (msg_handler) {\n",
       "            var messages = comm.messages[Symbol.asyncIterator]();\n",
       "            function processIteratorResult(result) {\n",
       "              var message = result.value;\n",
       "              var content = {data: message.data};\n",
       "              var metadata = message.metadata || {comm_id};\n",
       "              var msg = {content, metadata}\n",
       "              msg_handler(msg);\n",
       "              return messages.next().then(processIteratorResult);\n",
       "            }\n",
       "            return messages.next().then(processIteratorResult);\n",
       "          }\n",
       "        }) \n",
       "        var sendClosure = (data, metadata, buffers, disposeOnDone) => {\n",
       "          return comm_promise.then((comm) => {\n",
       "            comm.send(data, metadata, buffers, disposeOnDone);\n",
       "          });\n",
       "        };\n",
       "        var comm = {\n",
       "          send: sendClosure\n",
       "        };\n",
       "      }\n",
       "      window.PyViz.comms[comm_id] = comm;\n",
       "      return comm;\n",
       "    }\n",
       "    window.PyViz.comm_manager = new JupyterCommManager();\n",
       "    \n",
       "\n",
       "\n",
       "var JS_MIME_TYPE = 'application/javascript';\n",
       "var HTML_MIME_TYPE = 'text/html';\n",
       "var EXEC_MIME_TYPE = 'application/vnd.holoviews_exec.v0+json';\n",
       "var CLASS_NAME = 'output';\n",
       "\n",
       "/**\n",
       " * Render data to the DOM node\n",
       " */\n",
       "function render(props, node) {\n",
       "  var div = document.createElement(\"div\");\n",
       "  var script = document.createElement(\"script\");\n",
       "  node.appendChild(div);\n",
       "  node.appendChild(script);\n",
       "}\n",
       "\n",
       "/**\n",
       " * Handle when a new output is added\n",
       " */\n",
       "function handle_add_output(event, handle) {\n",
       "  var output_area = handle.output_area;\n",
       "  var output = handle.output;\n",
       "  if ((output.data == undefined) || (!output.data.hasOwnProperty(EXEC_MIME_TYPE))) {\n",
       "    return\n",
       "  }\n",
       "  var id = output.metadata[EXEC_MIME_TYPE][\"id\"];\n",
       "  var toinsert = output_area.element.find(\".\" + CLASS_NAME.split(' ')[0]);\n",
       "  if (id !== undefined) {\n",
       "    var nchildren = toinsert.length;\n",
       "    var html_node = toinsert[nchildren-1].children[0];\n",
       "    html_node.innerHTML = output.data[HTML_MIME_TYPE];\n",
       "    var scripts = [];\n",
       "    var nodelist = html_node.querySelectorAll(\"script\");\n",
       "    for (var i in nodelist) {\n",
       "      if (nodelist.hasOwnProperty(i)) {\n",
       "        scripts.push(nodelist[i])\n",
       "      }\n",
       "    }\n",
       "\n",
       "    scripts.forEach( function (oldScript) {\n",
       "      var newScript = document.createElement(\"script\");\n",
       "      var attrs = [];\n",
       "      var nodemap = oldScript.attributes;\n",
       "      for (var j in nodemap) {\n",
       "        if (nodemap.hasOwnProperty(j)) {\n",
       "          attrs.push(nodemap[j])\n",
       "        }\n",
       "      }\n",
       "      attrs.forEach(function(attr) { newScript.setAttribute(attr.name, attr.value) });\n",
       "      newScript.appendChild(document.createTextNode(oldScript.innerHTML));\n",
       "      oldScript.parentNode.replaceChild(newScript, oldScript);\n",
       "    });\n",
       "    if (JS_MIME_TYPE in output.data) {\n",
       "      toinsert[nchildren-1].children[1].textContent = output.data[JS_MIME_TYPE];\n",
       "    }\n",
       "    output_area._hv_plot_id = id;\n",
       "    if ((window.Bokeh !== undefined) && (id in Bokeh.index)) {\n",
       "      window.PyViz.plot_index[id] = Bokeh.index[id];\n",
       "    } else {\n",
       "      window.PyViz.plot_index[id] = null;\n",
       "    }\n",
       "  } else if (output.metadata[EXEC_MIME_TYPE][\"server_id\"] !== undefined) {\n",
       "    var bk_div = document.createElement(\"div\");\n",
       "    bk_div.innerHTML = output.data[HTML_MIME_TYPE];\n",
       "    var script_attrs = bk_div.children[0].attributes;\n",
       "    for (var i = 0; i < script_attrs.length; i++) {\n",
       "      toinsert[toinsert.length - 1].childNodes[1].setAttribute(script_attrs[i].name, script_attrs[i].value);\n",
       "    }\n",
       "    // store reference to server id on output_area\n",
       "    output_area._bokeh_server_id = output.metadata[EXEC_MIME_TYPE][\"server_id\"];\n",
       "  }\n",
       "}\n",
       "\n",
       "/**\n",
       " * Handle when an output is cleared or removed\n",
       " */\n",
       "function handle_clear_output(event, handle) {\n",
       "  var id = handle.cell.output_area._hv_plot_id;\n",
       "  var server_id = handle.cell.output_area._bokeh_server_id;\n",
       "  if (((id === undefined) || !(id in PyViz.plot_index)) && (server_id !== undefined)) { return; }\n",
       "  var comm = window.PyViz.comm_manager.get_client_comm(\"hv-extension-comm\", \"hv-extension-comm\", function () {});\n",
       "  if (server_id !== null) {\n",
       "    comm.send({event_type: 'server_delete', 'id': server_id});\n",
       "    return;\n",
       "  } else if (comm !== null) {\n",
       "    comm.send({event_type: 'delete', 'id': id});\n",
       "  }\n",
       "  delete PyViz.plot_index[id];\n",
       "  if ((window.Bokeh !== undefined) & (id in window.Bokeh.index)) {\n",
       "    var doc = window.Bokeh.index[id].model.document\n",
       "    doc.clear();\n",
       "    const i = window.Bokeh.documents.indexOf(doc);\n",
       "    if (i > -1) {\n",
       "      window.Bokeh.documents.splice(i, 1);\n",
       "    }\n",
       "  }\n",
       "}\n",
       "\n",
       "/**\n",
       " * Handle kernel restart event\n",
       " */\n",
       "function handle_kernel_cleanup(event, handle) {\n",
       "  delete PyViz.comms[\"hv-extension-comm\"];\n",
       "  window.PyViz.plot_index = {}\n",
       "}\n",
       "\n",
       "/**\n",
       " * Handle update_display_data messages\n",
       " */\n",
       "function handle_update_output(event, handle) {\n",
       "  handle_clear_output(event, {cell: {output_area: handle.output_area}})\n",
       "  handle_add_output(event, handle)\n",
       "}\n",
       "\n",
       "function register_renderer(events, OutputArea) {\n",
       "  function append_mime(data, metadata, element) {\n",
       "    // create a DOM node to render to\n",
       "    var toinsert = this.create_output_subarea(\n",
       "    metadata,\n",
       "    CLASS_NAME,\n",
       "    EXEC_MIME_TYPE\n",
       "    );\n",
       "    this.keyboard_manager.register_events(toinsert);\n",
       "    // Render to node\n",
       "    var props = {data: data, metadata: metadata[EXEC_MIME_TYPE]};\n",
       "    render(props, toinsert[0]);\n",
       "    element.append(toinsert);\n",
       "    return toinsert\n",
       "  }\n",
       "\n",
       "  events.on('output_added.OutputArea', handle_add_output);\n",
       "  events.on('output_updated.OutputArea', handle_update_output);\n",
       "  events.on('clear_output.CodeCell', handle_clear_output);\n",
       "  events.on('delete.Cell', handle_clear_output);\n",
       "  events.on('kernel_ready.Kernel', handle_kernel_cleanup);\n",
       "\n",
       "  OutputArea.prototype.register_mime_type(EXEC_MIME_TYPE, append_mime, {\n",
       "    safe: true,\n",
       "    index: 0\n",
       "  });\n",
       "}\n",
       "\n",
       "if (window.Jupyter !== undefined) {\n",
       "  try {\n",
       "    var events = require('base/js/events');\n",
       "    var OutputArea = require('notebook/js/outputarea').OutputArea;\n",
       "    if (OutputArea.prototype.mime_types().indexOf(EXEC_MIME_TYPE) == -1) {\n",
       "      register_renderer(events, OutputArea);\n",
       "    }\n",
       "  } catch(err) {\n",
       "  }\n",
       "}\n"
      ],
      "application/vnd.holoviews_load.v0+json": "\nif ((window.PyViz === undefined) || (window.PyViz instanceof HTMLElement)) {\n  window.PyViz = {comms: {}, comm_status:{}, kernels:{}, receivers: {}, plot_index: []}\n}\n\n\n    function JupyterCommManager() {\n    }\n\n    JupyterCommManager.prototype.register_target = function(plot_id, comm_id, msg_handler) {\n      if (window.comm_manager || ((window.Jupyter !== undefined) && (Jupyter.notebook.kernel != null))) {\n        var comm_manager = window.comm_manager || Jupyter.notebook.kernel.comm_manager;\n        comm_manager.register_target(comm_id, function(comm) {\n          comm.on_msg(msg_handler);\n        });\n      } else if ((plot_id in window.PyViz.kernels) && (window.PyViz.kernels[plot_id])) {\n        window.PyViz.kernels[plot_id].registerCommTarget(comm_id, function(comm) {\n          comm.onMsg = msg_handler;\n        });\n      } else if (typeof google != 'undefined' && google.colab.kernel != null) {\n        google.colab.kernel.comms.registerTarget(comm_id, (comm) => {\n          var messages = comm.messages[Symbol.asyncIterator]();\n          function processIteratorResult(result) {\n            var message = result.value;\n            console.log(message)\n            var content = {data: message.data, comm_id};\n            var buffers = []\n            for (var buffer of message.buffers || []) {\n              buffers.push(new DataView(buffer))\n            }\n            var metadata = message.metadata || {};\n            var msg = {content, buffers, metadata}\n            msg_handler(msg);\n            return messages.next().then(processIteratorResult);\n          }\n          return messages.next().then(processIteratorResult);\n        })\n      }\n    }\n\n    JupyterCommManager.prototype.get_client_comm = function(plot_id, comm_id, msg_handler) {\n      if (comm_id in window.PyViz.comms) {\n        return window.PyViz.comms[comm_id];\n      } else if (window.comm_manager || ((window.Jupyter !== undefined) && (Jupyter.notebook.kernel != null))) {\n        var comm_manager = window.comm_manager || Jupyter.notebook.kernel.comm_manager;\n        var comm = comm_manager.new_comm(comm_id, {}, {}, {}, comm_id);\n        if (msg_handler) {\n          comm.on_msg(msg_handler);\n        }\n      } else if ((plot_id in window.PyViz.kernels) && (window.PyViz.kernels[plot_id])) {\n        var comm = window.PyViz.kernels[plot_id].connectToComm(comm_id);\n        comm.open();\n        if (msg_handler) {\n          comm.onMsg = msg_handler;\n        }\n      } else if (typeof google != 'undefined' && google.colab.kernel != null) {\n        var comm_promise = google.colab.kernel.comms.open(comm_id)\n        comm_promise.then((comm) => {\n          window.PyViz.comms[comm_id] = comm;\n          if (msg_handler) {\n            var messages = comm.messages[Symbol.asyncIterator]();\n            function processIteratorResult(result) {\n              var message = result.value;\n              var content = {data: message.data};\n              var metadata = message.metadata || {comm_id};\n              var msg = {content, metadata}\n              msg_handler(msg);\n              return messages.next().then(processIteratorResult);\n            }\n            return messages.next().then(processIteratorResult);\n          }\n        }) \n        var sendClosure = (data, metadata, buffers, disposeOnDone) => {\n          return comm_promise.then((comm) => {\n            comm.send(data, metadata, buffers, disposeOnDone);\n          });\n        };\n        var comm = {\n          send: sendClosure\n        };\n      }\n      window.PyViz.comms[comm_id] = comm;\n      return comm;\n    }\n    window.PyViz.comm_manager = new JupyterCommManager();\n    \n\n\nvar JS_MIME_TYPE = 'application/javascript';\nvar HTML_MIME_TYPE = 'text/html';\nvar EXEC_MIME_TYPE = 'application/vnd.holoviews_exec.v0+json';\nvar CLASS_NAME = 'output';\n\n/**\n * Render data to the DOM node\n */\nfunction render(props, node) {\n  var div = document.createElement(\"div\");\n  var script = document.createElement(\"script\");\n  node.appendChild(div);\n  node.appendChild(script);\n}\n\n/**\n * Handle when a new output is added\n */\nfunction handle_add_output(event, handle) {\n  var output_area = handle.output_area;\n  var output = handle.output;\n  if ((output.data == undefined) || (!output.data.hasOwnProperty(EXEC_MIME_TYPE))) {\n    return\n  }\n  var id = output.metadata[EXEC_MIME_TYPE][\"id\"];\n  var toinsert = output_area.element.find(\".\" + CLASS_NAME.split(' ')[0]);\n  if (id !== undefined) {\n    var nchildren = toinsert.length;\n    var html_node = toinsert[nchildren-1].children[0];\n    html_node.innerHTML = output.data[HTML_MIME_TYPE];\n    var scripts = [];\n    var nodelist = html_node.querySelectorAll(\"script\");\n    for (var i in nodelist) {\n      if (nodelist.hasOwnProperty(i)) {\n        scripts.push(nodelist[i])\n      }\n    }\n\n    scripts.forEach( function (oldScript) {\n      var newScript = document.createElement(\"script\");\n      var attrs = [];\n      var nodemap = oldScript.attributes;\n      for (var j in nodemap) {\n        if (nodemap.hasOwnProperty(j)) {\n          attrs.push(nodemap[j])\n        }\n      }\n      attrs.forEach(function(attr) { newScript.setAttribute(attr.name, attr.value) });\n      newScript.appendChild(document.createTextNode(oldScript.innerHTML));\n      oldScript.parentNode.replaceChild(newScript, oldScript);\n    });\n    if (JS_MIME_TYPE in output.data) {\n      toinsert[nchildren-1].children[1].textContent = output.data[JS_MIME_TYPE];\n    }\n    output_area._hv_plot_id = id;\n    if ((window.Bokeh !== undefined) && (id in Bokeh.index)) {\n      window.PyViz.plot_index[id] = Bokeh.index[id];\n    } else {\n      window.PyViz.plot_index[id] = null;\n    }\n  } else if (output.metadata[EXEC_MIME_TYPE][\"server_id\"] !== undefined) {\n    var bk_div = document.createElement(\"div\");\n    bk_div.innerHTML = output.data[HTML_MIME_TYPE];\n    var script_attrs = bk_div.children[0].attributes;\n    for (var i = 0; i < script_attrs.length; i++) {\n      toinsert[toinsert.length - 1].childNodes[1].setAttribute(script_attrs[i].name, script_attrs[i].value);\n    }\n    // store reference to server id on output_area\n    output_area._bokeh_server_id = output.metadata[EXEC_MIME_TYPE][\"server_id\"];\n  }\n}\n\n/**\n * Handle when an output is cleared or removed\n */\nfunction handle_clear_output(event, handle) {\n  var id = handle.cell.output_area._hv_plot_id;\n  var server_id = handle.cell.output_area._bokeh_server_id;\n  if (((id === undefined) || !(id in PyViz.plot_index)) && (server_id !== undefined)) { return; }\n  var comm = window.PyViz.comm_manager.get_client_comm(\"hv-extension-comm\", \"hv-extension-comm\", function () {});\n  if (server_id !== null) {\n    comm.send({event_type: 'server_delete', 'id': server_id});\n    return;\n  } else if (comm !== null) {\n    comm.send({event_type: 'delete', 'id': id});\n  }\n  delete PyViz.plot_index[id];\n  if ((window.Bokeh !== undefined) & (id in window.Bokeh.index)) {\n    var doc = window.Bokeh.index[id].model.document\n    doc.clear();\n    const i = window.Bokeh.documents.indexOf(doc);\n    if (i > -1) {\n      window.Bokeh.documents.splice(i, 1);\n    }\n  }\n}\n\n/**\n * Handle kernel restart event\n */\nfunction handle_kernel_cleanup(event, handle) {\n  delete PyViz.comms[\"hv-extension-comm\"];\n  window.PyViz.plot_index = {}\n}\n\n/**\n * Handle update_display_data messages\n */\nfunction handle_update_output(event, handle) {\n  handle_clear_output(event, {cell: {output_area: handle.output_area}})\n  handle_add_output(event, handle)\n}\n\nfunction register_renderer(events, OutputArea) {\n  function append_mime(data, metadata, element) {\n    // create a DOM node to render to\n    var toinsert = this.create_output_subarea(\n    metadata,\n    CLASS_NAME,\n    EXEC_MIME_TYPE\n    );\n    this.keyboard_manager.register_events(toinsert);\n    // Render to node\n    var props = {data: data, metadata: metadata[EXEC_MIME_TYPE]};\n    render(props, toinsert[0]);\n    element.append(toinsert);\n    return toinsert\n  }\n\n  events.on('output_added.OutputArea', handle_add_output);\n  events.on('output_updated.OutputArea', handle_update_output);\n  events.on('clear_output.CodeCell', handle_clear_output);\n  events.on('delete.Cell', handle_clear_output);\n  events.on('kernel_ready.Kernel', handle_kernel_cleanup);\n\n  OutputArea.prototype.register_mime_type(EXEC_MIME_TYPE, append_mime, {\n    safe: true,\n    index: 0\n  });\n}\n\nif (window.Jupyter !== undefined) {\n  try {\n    var events = require('base/js/events');\n    var OutputArea = require('notebook/js/outputarea').OutputArea;\n    if (OutputArea.prototype.mime_types().indexOf(EXEC_MIME_TYPE) == -1) {\n      register_renderer(events, OutputArea);\n    }\n  } catch(err) {\n  }\n}\n"
     },
     "metadata": {},
     "output_type": "display_data"
    },
    {
     "data": {
      "application/javascript": [
       "\n",
       "(function(root) {\n",
       "  function now() {\n",
       "    return new Date();\n",
       "  }\n",
       "\n",
       "  var force = true;\n",
       "\n",
       "  if (typeof root._bokeh_onload_callbacks === \"undefined\" || force === true) {\n",
       "    root._bokeh_onload_callbacks = [];\n",
       "    root._bokeh_is_loading = undefined;\n",
       "  }\n",
       "\n",
       "  if (typeof (root._bokeh_timeout) === \"undefined\" || force === true) {\n",
       "    root._bokeh_timeout = Date.now() + 5000;\n",
       "    root._bokeh_failed_load = false;\n",
       "  }\n",
       "\n",
       "  function run_callbacks() {\n",
       "    try {\n",
       "      root._bokeh_onload_callbacks.forEach(function(callback) {\n",
       "        if (callback != null)\n",
       "          callback();\n",
       "      });\n",
       "    } finally {\n",
       "      delete root._bokeh_onload_callbacks\n",
       "    }\n",
       "    console.debug(\"Bokeh: all callbacks have finished\");\n",
       "  }\n",
       "\n",
       "  function load_libs(css_urls, js_urls, callback) {\n",
       "    if (css_urls == null) css_urls = [];\n",
       "    if (js_urls == null) js_urls = [];\n",
       "\n",
       "    root._bokeh_onload_callbacks.push(callback);\n",
       "    if (root._bokeh_is_loading > 0) {\n",
       "      console.debug(\"Bokeh: BokehJS is being loaded, scheduling callback at\", now());\n",
       "      return null;\n",
       "    }\n",
       "    if (js_urls == null || js_urls.length === 0) {\n",
       "      run_callbacks();\n",
       "      return null;\n",
       "    }\n",
       "    console.debug(\"Bokeh: BokehJS not loaded, scheduling load and callback at\", now());\n",
       "    root._bokeh_is_loading = css_urls.length + js_urls.length;\n",
       "\n",
       "    function on_load() {\n",
       "      root._bokeh_is_loading--;\n",
       "      if (root._bokeh_is_loading === 0) {\n",
       "        console.debug(\"Bokeh: all BokehJS libraries/stylesheets loaded\");\n",
       "        run_callbacks()\n",
       "      }\n",
       "    }\n",
       "\n",
       "    function on_error() {\n",
       "      console.error(\"failed to load \" + url);\n",
       "    }\n",
       "\n",
       "    for (var i = 0; i < css_urls.length; i++) {\n",
       "      var url = css_urls[i];\n",
       "      const element = document.createElement(\"link\");\n",
       "      element.onload = on_load;\n",
       "      element.onerror = on_error;\n",
       "      element.rel = \"stylesheet\";\n",
       "      element.type = \"text/css\";\n",
       "      element.href = url;\n",
       "      console.debug(\"Bokeh: injecting link tag for BokehJS stylesheet: \", url);\n",
       "      document.body.appendChild(element);\n",
       "    }\n",
       "\n",
       "    var skip = [];\n",
       "    if (window.requirejs) {\n",
       "      window.requirejs.config({'paths': {'plotly': 'https://cdn.plot.ly/plotly-latest.min'}});\n",
       "      require([], function() {\n",
       "      })\n",
       "    }\n",
       "    if (((window['Plotly'] !== undefined) && (!(window['Plotly'] instanceof HTMLElement))) || window.requirejs) {\n",
       "      var urls = ['https://cdn.plot.ly/plotly-latest.min.js'];\n",
       "      for (var i = 0; i < urls.length; i++) {\n",
       "        skip.push(urls[i])\n",
       "      }\n",
       "    }\n",
       "    for (var i = 0; i < js_urls.length; i++) {\n",
       "      var url = js_urls[i];\n",
       "      if (skip.indexOf(url) >= 0) { on_load(); continue; }\n",
       "      var element = document.createElement('script');\n",
       "      element.onload = on_load;\n",
       "      element.onerror = on_error;\n",
       "      element.async = false;\n",
       "      element.src = url;\n",
       "      console.debug(\"Bokeh: injecting script tag for BokehJS library: \", url);\n",
       "      document.head.appendChild(element);\n",
       "    }\n",
       "\tif (!js_urls.length) {\n",
       "      on_load()\n",
       "    }\n",
       "  };\n",
       "\n",
       "  function inject_raw_css(css) {\n",
       "    const element = document.createElement(\"style\");\n",
       "    element.appendChild(document.createTextNode(css));\n",
       "    document.body.appendChild(element);\n",
       "  }\n",
       "\n",
       "  var js_urls = [\"https://code.jquery.com/jquery-3.4.1.min.js\", \"https://cdn.plot.ly/plotly-latest.min.js\", \"https://cdn.bokeh.org/bokeh/release/bokeh-2.2.3.min.js\", \"https://cdn.bokeh.org/bokeh/release/bokeh-widgets-2.2.3.min.js\", \"https://cdn.bokeh.org/bokeh/release/bokeh-tables-2.2.3.min.js\", \"https://unpkg.com/@holoviz/panel@^0.10.3/dist/panel.min.js\"];\n",
       "  var css_urls = [\"https://unpkg.com/@holoviz/panel@0.10.3/dist/css/alerts.css\", \"https://unpkg.com/@holoviz/panel@0.10.3/dist/css/card.css\", \"https://unpkg.com/@holoviz/panel@0.10.3/dist/css/dataframe.css\", \"https://unpkg.com/@holoviz/panel@0.10.3/dist/css/json.css\", \"https://unpkg.com/@holoviz/panel@0.10.3/dist/css/markdown.css\", \"https://unpkg.com/@holoviz/panel@0.10.3/dist/css/widgets.css\"];\n",
       "\n",
       "  var inline_js = [\n",
       "    function(Bokeh) {\n",
       "      Bokeh.set_log_level(\"info\");\n",
       "    },\n",
       "    function(Bokeh) {} // ensure no trailing comma for IE\n",
       "  ];\n",
       "\n",
       "  function run_inline_js() {\n",
       "    if ((root.Bokeh !== undefined) || (force === true)) {\n",
       "      for (var i = 0; i < inline_js.length; i++) {\n",
       "        inline_js[i].call(root, root.Bokeh);\n",
       "      }} else if (Date.now() < root._bokeh_timeout) {\n",
       "      setTimeout(run_inline_js, 100);\n",
       "    } else if (!root._bokeh_failed_load) {\n",
       "      console.log(\"Bokeh: BokehJS failed to load within specified timeout.\");\n",
       "      root._bokeh_failed_load = true;\n",
       "    }\n",
       "  }\n",
       "\n",
       "  if (root._bokeh_is_loading === 0) {\n",
       "    console.debug(\"Bokeh: BokehJS loaded, going straight to plotting\");\n",
       "    run_inline_js();\n",
       "  } else {\n",
       "    load_libs(css_urls, js_urls, function() {\n",
       "      console.debug(\"Bokeh: BokehJS plotting callback run at\", now());\n",
       "      run_inline_js();\n",
       "    });\n",
       "  }\n",
       "}(window));"
      ],
      "application/vnd.holoviews_load.v0+json": "\n(function(root) {\n  function now() {\n    return new Date();\n  }\n\n  var force = true;\n\n  if (typeof root._bokeh_onload_callbacks === \"undefined\" || force === true) {\n    root._bokeh_onload_callbacks = [];\n    root._bokeh_is_loading = undefined;\n  }\n\n  if (typeof (root._bokeh_timeout) === \"undefined\" || force === true) {\n    root._bokeh_timeout = Date.now() + 5000;\n    root._bokeh_failed_load = false;\n  }\n\n  function run_callbacks() {\n    try {\n      root._bokeh_onload_callbacks.forEach(function(callback) {\n        if (callback != null)\n          callback();\n      });\n    } finally {\n      delete root._bokeh_onload_callbacks\n    }\n    console.debug(\"Bokeh: all callbacks have finished\");\n  }\n\n  function load_libs(css_urls, js_urls, callback) {\n    if (css_urls == null) css_urls = [];\n    if (js_urls == null) js_urls = [];\n\n    root._bokeh_onload_callbacks.push(callback);\n    if (root._bokeh_is_loading > 0) {\n      console.debug(\"Bokeh: BokehJS is being loaded, scheduling callback at\", now());\n      return null;\n    }\n    if (js_urls == null || js_urls.length === 0) {\n      run_callbacks();\n      return null;\n    }\n    console.debug(\"Bokeh: BokehJS not loaded, scheduling load and callback at\", now());\n    root._bokeh_is_loading = css_urls.length + js_urls.length;\n\n    function on_load() {\n      root._bokeh_is_loading--;\n      if (root._bokeh_is_loading === 0) {\n        console.debug(\"Bokeh: all BokehJS libraries/stylesheets loaded\");\n        run_callbacks()\n      }\n    }\n\n    function on_error() {\n      console.error(\"failed to load \" + url);\n    }\n\n    for (var i = 0; i < css_urls.length; i++) {\n      var url = css_urls[i];\n      const element = document.createElement(\"link\");\n      element.onload = on_load;\n      element.onerror = on_error;\n      element.rel = \"stylesheet\";\n      element.type = \"text/css\";\n      element.href = url;\n      console.debug(\"Bokeh: injecting link tag for BokehJS stylesheet: \", url);\n      document.body.appendChild(element);\n    }\n\n    var skip = [];\n    if (window.requirejs) {\n      window.requirejs.config({'paths': {'plotly': 'https://cdn.plot.ly/plotly-latest.min'}});\n      require([], function() {\n      })\n    }\n    if (((window['Plotly'] !== undefined) && (!(window['Plotly'] instanceof HTMLElement))) || window.requirejs) {\n      var urls = ['https://cdn.plot.ly/plotly-latest.min.js'];\n      for (var i = 0; i < urls.length; i++) {\n        skip.push(urls[i])\n      }\n    }\n    for (var i = 0; i < js_urls.length; i++) {\n      var url = js_urls[i];\n      if (skip.indexOf(url) >= 0) { on_load(); continue; }\n      var element = document.createElement('script');\n      element.onload = on_load;\n      element.onerror = on_error;\n      element.async = false;\n      element.src = url;\n      console.debug(\"Bokeh: injecting script tag for BokehJS library: \", url);\n      document.head.appendChild(element);\n    }\n\tif (!js_urls.length) {\n      on_load()\n    }\n  };\n\n  function inject_raw_css(css) {\n    const element = document.createElement(\"style\");\n    element.appendChild(document.createTextNode(css));\n    document.body.appendChild(element);\n  }\n\n  var js_urls = [\"https://code.jquery.com/jquery-3.4.1.min.js\", \"https://cdn.plot.ly/plotly-latest.min.js\", \"https://cdn.bokeh.org/bokeh/release/bokeh-2.2.3.min.js\", \"https://cdn.bokeh.org/bokeh/release/bokeh-widgets-2.2.3.min.js\", \"https://cdn.bokeh.org/bokeh/release/bokeh-tables-2.2.3.min.js\", \"https://unpkg.com/@holoviz/panel@^0.10.3/dist/panel.min.js\"];\n  var css_urls = [\"https://unpkg.com/@holoviz/panel@0.10.3/dist/css/alerts.css\", \"https://unpkg.com/@holoviz/panel@0.10.3/dist/css/card.css\", \"https://unpkg.com/@holoviz/panel@0.10.3/dist/css/dataframe.css\", \"https://unpkg.com/@holoviz/panel@0.10.3/dist/css/json.css\", \"https://unpkg.com/@holoviz/panel@0.10.3/dist/css/markdown.css\", \"https://unpkg.com/@holoviz/panel@0.10.3/dist/css/widgets.css\"];\n\n  var inline_js = [\n    function(Bokeh) {\n      Bokeh.set_log_level(\"info\");\n    },\n    function(Bokeh) {} // ensure no trailing comma for IE\n  ];\n\n  function run_inline_js() {\n    if ((root.Bokeh !== undefined) || (force === true)) {\n      for (var i = 0; i < inline_js.length; i++) {\n        inline_js[i].call(root, root.Bokeh);\n      }} else if (Date.now() < root._bokeh_timeout) {\n      setTimeout(run_inline_js, 100);\n    } else if (!root._bokeh_failed_load) {\n      console.log(\"Bokeh: BokehJS failed to load within specified timeout.\");\n      root._bokeh_failed_load = true;\n    }\n  }\n\n  if (root._bokeh_is_loading === 0) {\n    console.debug(\"Bokeh: BokehJS loaded, going straight to plotting\");\n    run_inline_js();\n  } else {\n    load_libs(css_urls, js_urls, function() {\n      console.debug(\"Bokeh: BokehJS plotting callback run at\", now());\n      run_inline_js();\n    });\n  }\n}(window));"
     },
     "metadata": {},
     "output_type": "display_data"
    },
    {
     "data": {
      "application/javascript": [
       "\n",
       "if ((window.PyViz === undefined) || (window.PyViz instanceof HTMLElement)) {\n",
       "  window.PyViz = {comms: {}, comm_status:{}, kernels:{}, receivers: {}, plot_index: []}\n",
       "}\n",
       "\n",
       "\n",
       "    function JupyterCommManager() {\n",
       "    }\n",
       "\n",
       "    JupyterCommManager.prototype.register_target = function(plot_id, comm_id, msg_handler) {\n",
       "      if (window.comm_manager || ((window.Jupyter !== undefined) && (Jupyter.notebook.kernel != null))) {\n",
       "        var comm_manager = window.comm_manager || Jupyter.notebook.kernel.comm_manager;\n",
       "        comm_manager.register_target(comm_id, function(comm) {\n",
       "          comm.on_msg(msg_handler);\n",
       "        });\n",
       "      } else if ((plot_id in window.PyViz.kernels) && (window.PyViz.kernels[plot_id])) {\n",
       "        window.PyViz.kernels[plot_id].registerCommTarget(comm_id, function(comm) {\n",
       "          comm.onMsg = msg_handler;\n",
       "        });\n",
       "      } else if (typeof google != 'undefined' && google.colab.kernel != null) {\n",
       "        google.colab.kernel.comms.registerTarget(comm_id, (comm) => {\n",
       "          var messages = comm.messages[Symbol.asyncIterator]();\n",
       "          function processIteratorResult(result) {\n",
       "            var message = result.value;\n",
       "            console.log(message)\n",
       "            var content = {data: message.data, comm_id};\n",
       "            var buffers = []\n",
       "            for (var buffer of message.buffers || []) {\n",
       "              buffers.push(new DataView(buffer))\n",
       "            }\n",
       "            var metadata = message.metadata || {};\n",
       "            var msg = {content, buffers, metadata}\n",
       "            msg_handler(msg);\n",
       "            return messages.next().then(processIteratorResult);\n",
       "          }\n",
       "          return messages.next().then(processIteratorResult);\n",
       "        })\n",
       "      }\n",
       "    }\n",
       "\n",
       "    JupyterCommManager.prototype.get_client_comm = function(plot_id, comm_id, msg_handler) {\n",
       "      if (comm_id in window.PyViz.comms) {\n",
       "        return window.PyViz.comms[comm_id];\n",
       "      } else if (window.comm_manager || ((window.Jupyter !== undefined) && (Jupyter.notebook.kernel != null))) {\n",
       "        var comm_manager = window.comm_manager || Jupyter.notebook.kernel.comm_manager;\n",
       "        var comm = comm_manager.new_comm(comm_id, {}, {}, {}, comm_id);\n",
       "        if (msg_handler) {\n",
       "          comm.on_msg(msg_handler);\n",
       "        }\n",
       "      } else if ((plot_id in window.PyViz.kernels) && (window.PyViz.kernels[plot_id])) {\n",
       "        var comm = window.PyViz.kernels[plot_id].connectToComm(comm_id);\n",
       "        comm.open();\n",
       "        if (msg_handler) {\n",
       "          comm.onMsg = msg_handler;\n",
       "        }\n",
       "      } else if (typeof google != 'undefined' && google.colab.kernel != null) {\n",
       "        var comm_promise = google.colab.kernel.comms.open(comm_id)\n",
       "        comm_promise.then((comm) => {\n",
       "          window.PyViz.comms[comm_id] = comm;\n",
       "          if (msg_handler) {\n",
       "            var messages = comm.messages[Symbol.asyncIterator]();\n",
       "            function processIteratorResult(result) {\n",
       "              var message = result.value;\n",
       "              var content = {data: message.data};\n",
       "              var metadata = message.metadata || {comm_id};\n",
       "              var msg = {content, metadata}\n",
       "              msg_handler(msg);\n",
       "              return messages.next().then(processIteratorResult);\n",
       "            }\n",
       "            return messages.next().then(processIteratorResult);\n",
       "          }\n",
       "        }) \n",
       "        var sendClosure = (data, metadata, buffers, disposeOnDone) => {\n",
       "          return comm_promise.then((comm) => {\n",
       "            comm.send(data, metadata, buffers, disposeOnDone);\n",
       "          });\n",
       "        };\n",
       "        var comm = {\n",
       "          send: sendClosure\n",
       "        };\n",
       "      }\n",
       "      window.PyViz.comms[comm_id] = comm;\n",
       "      return comm;\n",
       "    }\n",
       "    window.PyViz.comm_manager = new JupyterCommManager();\n",
       "    \n",
       "\n",
       "\n",
       "var JS_MIME_TYPE = 'application/javascript';\n",
       "var HTML_MIME_TYPE = 'text/html';\n",
       "var EXEC_MIME_TYPE = 'application/vnd.holoviews_exec.v0+json';\n",
       "var CLASS_NAME = 'output';\n",
       "\n",
       "/**\n",
       " * Render data to the DOM node\n",
       " */\n",
       "function render(props, node) {\n",
       "  var div = document.createElement(\"div\");\n",
       "  var script = document.createElement(\"script\");\n",
       "  node.appendChild(div);\n",
       "  node.appendChild(script);\n",
       "}\n",
       "\n",
       "/**\n",
       " * Handle when a new output is added\n",
       " */\n",
       "function handle_add_output(event, handle) {\n",
       "  var output_area = handle.output_area;\n",
       "  var output = handle.output;\n",
       "  if ((output.data == undefined) || (!output.data.hasOwnProperty(EXEC_MIME_TYPE))) {\n",
       "    return\n",
       "  }\n",
       "  var id = output.metadata[EXEC_MIME_TYPE][\"id\"];\n",
       "  var toinsert = output_area.element.find(\".\" + CLASS_NAME.split(' ')[0]);\n",
       "  if (id !== undefined) {\n",
       "    var nchildren = toinsert.length;\n",
       "    var html_node = toinsert[nchildren-1].children[0];\n",
       "    html_node.innerHTML = output.data[HTML_MIME_TYPE];\n",
       "    var scripts = [];\n",
       "    var nodelist = html_node.querySelectorAll(\"script\");\n",
       "    for (var i in nodelist) {\n",
       "      if (nodelist.hasOwnProperty(i)) {\n",
       "        scripts.push(nodelist[i])\n",
       "      }\n",
       "    }\n",
       "\n",
       "    scripts.forEach( function (oldScript) {\n",
       "      var newScript = document.createElement(\"script\");\n",
       "      var attrs = [];\n",
       "      var nodemap = oldScript.attributes;\n",
       "      for (var j in nodemap) {\n",
       "        if (nodemap.hasOwnProperty(j)) {\n",
       "          attrs.push(nodemap[j])\n",
       "        }\n",
       "      }\n",
       "      attrs.forEach(function(attr) { newScript.setAttribute(attr.name, attr.value) });\n",
       "      newScript.appendChild(document.createTextNode(oldScript.innerHTML));\n",
       "      oldScript.parentNode.replaceChild(newScript, oldScript);\n",
       "    });\n",
       "    if (JS_MIME_TYPE in output.data) {\n",
       "      toinsert[nchildren-1].children[1].textContent = output.data[JS_MIME_TYPE];\n",
       "    }\n",
       "    output_area._hv_plot_id = id;\n",
       "    if ((window.Bokeh !== undefined) && (id in Bokeh.index)) {\n",
       "      window.PyViz.plot_index[id] = Bokeh.index[id];\n",
       "    } else {\n",
       "      window.PyViz.plot_index[id] = null;\n",
       "    }\n",
       "  } else if (output.metadata[EXEC_MIME_TYPE][\"server_id\"] !== undefined) {\n",
       "    var bk_div = document.createElement(\"div\");\n",
       "    bk_div.innerHTML = output.data[HTML_MIME_TYPE];\n",
       "    var script_attrs = bk_div.children[0].attributes;\n",
       "    for (var i = 0; i < script_attrs.length; i++) {\n",
       "      toinsert[toinsert.length - 1].childNodes[1].setAttribute(script_attrs[i].name, script_attrs[i].value);\n",
       "    }\n",
       "    // store reference to server id on output_area\n",
       "    output_area._bokeh_server_id = output.metadata[EXEC_MIME_TYPE][\"server_id\"];\n",
       "  }\n",
       "}\n",
       "\n",
       "/**\n",
       " * Handle when an output is cleared or removed\n",
       " */\n",
       "function handle_clear_output(event, handle) {\n",
       "  var id = handle.cell.output_area._hv_plot_id;\n",
       "  var server_id = handle.cell.output_area._bokeh_server_id;\n",
       "  if (((id === undefined) || !(id in PyViz.plot_index)) && (server_id !== undefined)) { return; }\n",
       "  var comm = window.PyViz.comm_manager.get_client_comm(\"hv-extension-comm\", \"hv-extension-comm\", function () {});\n",
       "  if (server_id !== null) {\n",
       "    comm.send({event_type: 'server_delete', 'id': server_id});\n",
       "    return;\n",
       "  } else if (comm !== null) {\n",
       "    comm.send({event_type: 'delete', 'id': id});\n",
       "  }\n",
       "  delete PyViz.plot_index[id];\n",
       "  if ((window.Bokeh !== undefined) & (id in window.Bokeh.index)) {\n",
       "    var doc = window.Bokeh.index[id].model.document\n",
       "    doc.clear();\n",
       "    const i = window.Bokeh.documents.indexOf(doc);\n",
       "    if (i > -1) {\n",
       "      window.Bokeh.documents.splice(i, 1);\n",
       "    }\n",
       "  }\n",
       "}\n",
       "\n",
       "/**\n",
       " * Handle kernel restart event\n",
       " */\n",
       "function handle_kernel_cleanup(event, handle) {\n",
       "  delete PyViz.comms[\"hv-extension-comm\"];\n",
       "  window.PyViz.plot_index = {}\n",
       "}\n",
       "\n",
       "/**\n",
       " * Handle update_display_data messages\n",
       " */\n",
       "function handle_update_output(event, handle) {\n",
       "  handle_clear_output(event, {cell: {output_area: handle.output_area}})\n",
       "  handle_add_output(event, handle)\n",
       "}\n",
       "\n",
       "function register_renderer(events, OutputArea) {\n",
       "  function append_mime(data, metadata, element) {\n",
       "    // create a DOM node to render to\n",
       "    var toinsert = this.create_output_subarea(\n",
       "    metadata,\n",
       "    CLASS_NAME,\n",
       "    EXEC_MIME_TYPE\n",
       "    );\n",
       "    this.keyboard_manager.register_events(toinsert);\n",
       "    // Render to node\n",
       "    var props = {data: data, metadata: metadata[EXEC_MIME_TYPE]};\n",
       "    render(props, toinsert[0]);\n",
       "    element.append(toinsert);\n",
       "    return toinsert\n",
       "  }\n",
       "\n",
       "  events.on('output_added.OutputArea', handle_add_output);\n",
       "  events.on('output_updated.OutputArea', handle_update_output);\n",
       "  events.on('clear_output.CodeCell', handle_clear_output);\n",
       "  events.on('delete.Cell', handle_clear_output);\n",
       "  events.on('kernel_ready.Kernel', handle_kernel_cleanup);\n",
       "\n",
       "  OutputArea.prototype.register_mime_type(EXEC_MIME_TYPE, append_mime, {\n",
       "    safe: true,\n",
       "    index: 0\n",
       "  });\n",
       "}\n",
       "\n",
       "if (window.Jupyter !== undefined) {\n",
       "  try {\n",
       "    var events = require('base/js/events');\n",
       "    var OutputArea = require('notebook/js/outputarea').OutputArea;\n",
       "    if (OutputArea.prototype.mime_types().indexOf(EXEC_MIME_TYPE) == -1) {\n",
       "      register_renderer(events, OutputArea);\n",
       "    }\n",
       "  } catch(err) {\n",
       "  }\n",
       "}\n"
      ],
      "application/vnd.holoviews_load.v0+json": "\nif ((window.PyViz === undefined) || (window.PyViz instanceof HTMLElement)) {\n  window.PyViz = {comms: {}, comm_status:{}, kernels:{}, receivers: {}, plot_index: []}\n}\n\n\n    function JupyterCommManager() {\n    }\n\n    JupyterCommManager.prototype.register_target = function(plot_id, comm_id, msg_handler) {\n      if (window.comm_manager || ((window.Jupyter !== undefined) && (Jupyter.notebook.kernel != null))) {\n        var comm_manager = window.comm_manager || Jupyter.notebook.kernel.comm_manager;\n        comm_manager.register_target(comm_id, function(comm) {\n          comm.on_msg(msg_handler);\n        });\n      } else if ((plot_id in window.PyViz.kernels) && (window.PyViz.kernels[plot_id])) {\n        window.PyViz.kernels[plot_id].registerCommTarget(comm_id, function(comm) {\n          comm.onMsg = msg_handler;\n        });\n      } else if (typeof google != 'undefined' && google.colab.kernel != null) {\n        google.colab.kernel.comms.registerTarget(comm_id, (comm) => {\n          var messages = comm.messages[Symbol.asyncIterator]();\n          function processIteratorResult(result) {\n            var message = result.value;\n            console.log(message)\n            var content = {data: message.data, comm_id};\n            var buffers = []\n            for (var buffer of message.buffers || []) {\n              buffers.push(new DataView(buffer))\n            }\n            var metadata = message.metadata || {};\n            var msg = {content, buffers, metadata}\n            msg_handler(msg);\n            return messages.next().then(processIteratorResult);\n          }\n          return messages.next().then(processIteratorResult);\n        })\n      }\n    }\n\n    JupyterCommManager.prototype.get_client_comm = function(plot_id, comm_id, msg_handler) {\n      if (comm_id in window.PyViz.comms) {\n        return window.PyViz.comms[comm_id];\n      } else if (window.comm_manager || ((window.Jupyter !== undefined) && (Jupyter.notebook.kernel != null))) {\n        var comm_manager = window.comm_manager || Jupyter.notebook.kernel.comm_manager;\n        var comm = comm_manager.new_comm(comm_id, {}, {}, {}, comm_id);\n        if (msg_handler) {\n          comm.on_msg(msg_handler);\n        }\n      } else if ((plot_id in window.PyViz.kernels) && (window.PyViz.kernels[plot_id])) {\n        var comm = window.PyViz.kernels[plot_id].connectToComm(comm_id);\n        comm.open();\n        if (msg_handler) {\n          comm.onMsg = msg_handler;\n        }\n      } else if (typeof google != 'undefined' && google.colab.kernel != null) {\n        var comm_promise = google.colab.kernel.comms.open(comm_id)\n        comm_promise.then((comm) => {\n          window.PyViz.comms[comm_id] = comm;\n          if (msg_handler) {\n            var messages = comm.messages[Symbol.asyncIterator]();\n            function processIteratorResult(result) {\n              var message = result.value;\n              var content = {data: message.data};\n              var metadata = message.metadata || {comm_id};\n              var msg = {content, metadata}\n              msg_handler(msg);\n              return messages.next().then(processIteratorResult);\n            }\n            return messages.next().then(processIteratorResult);\n          }\n        }) \n        var sendClosure = (data, metadata, buffers, disposeOnDone) => {\n          return comm_promise.then((comm) => {\n            comm.send(data, metadata, buffers, disposeOnDone);\n          });\n        };\n        var comm = {\n          send: sendClosure\n        };\n      }\n      window.PyViz.comms[comm_id] = comm;\n      return comm;\n    }\n    window.PyViz.comm_manager = new JupyterCommManager();\n    \n\n\nvar JS_MIME_TYPE = 'application/javascript';\nvar HTML_MIME_TYPE = 'text/html';\nvar EXEC_MIME_TYPE = 'application/vnd.holoviews_exec.v0+json';\nvar CLASS_NAME = 'output';\n\n/**\n * Render data to the DOM node\n */\nfunction render(props, node) {\n  var div = document.createElement(\"div\");\n  var script = document.createElement(\"script\");\n  node.appendChild(div);\n  node.appendChild(script);\n}\n\n/**\n * Handle when a new output is added\n */\nfunction handle_add_output(event, handle) {\n  var output_area = handle.output_area;\n  var output = handle.output;\n  if ((output.data == undefined) || (!output.data.hasOwnProperty(EXEC_MIME_TYPE))) {\n    return\n  }\n  var id = output.metadata[EXEC_MIME_TYPE][\"id\"];\n  var toinsert = output_area.element.find(\".\" + CLASS_NAME.split(' ')[0]);\n  if (id !== undefined) {\n    var nchildren = toinsert.length;\n    var html_node = toinsert[nchildren-1].children[0];\n    html_node.innerHTML = output.data[HTML_MIME_TYPE];\n    var scripts = [];\n    var nodelist = html_node.querySelectorAll(\"script\");\n    for (var i in nodelist) {\n      if (nodelist.hasOwnProperty(i)) {\n        scripts.push(nodelist[i])\n      }\n    }\n\n    scripts.forEach( function (oldScript) {\n      var newScript = document.createElement(\"script\");\n      var attrs = [];\n      var nodemap = oldScript.attributes;\n      for (var j in nodemap) {\n        if (nodemap.hasOwnProperty(j)) {\n          attrs.push(nodemap[j])\n        }\n      }\n      attrs.forEach(function(attr) { newScript.setAttribute(attr.name, attr.value) });\n      newScript.appendChild(document.createTextNode(oldScript.innerHTML));\n      oldScript.parentNode.replaceChild(newScript, oldScript);\n    });\n    if (JS_MIME_TYPE in output.data) {\n      toinsert[nchildren-1].children[1].textContent = output.data[JS_MIME_TYPE];\n    }\n    output_area._hv_plot_id = id;\n    if ((window.Bokeh !== undefined) && (id in Bokeh.index)) {\n      window.PyViz.plot_index[id] = Bokeh.index[id];\n    } else {\n      window.PyViz.plot_index[id] = null;\n    }\n  } else if (output.metadata[EXEC_MIME_TYPE][\"server_id\"] !== undefined) {\n    var bk_div = document.createElement(\"div\");\n    bk_div.innerHTML = output.data[HTML_MIME_TYPE];\n    var script_attrs = bk_div.children[0].attributes;\n    for (var i = 0; i < script_attrs.length; i++) {\n      toinsert[toinsert.length - 1].childNodes[1].setAttribute(script_attrs[i].name, script_attrs[i].value);\n    }\n    // store reference to server id on output_area\n    output_area._bokeh_server_id = output.metadata[EXEC_MIME_TYPE][\"server_id\"];\n  }\n}\n\n/**\n * Handle when an output is cleared or removed\n */\nfunction handle_clear_output(event, handle) {\n  var id = handle.cell.output_area._hv_plot_id;\n  var server_id = handle.cell.output_area._bokeh_server_id;\n  if (((id === undefined) || !(id in PyViz.plot_index)) && (server_id !== undefined)) { return; }\n  var comm = window.PyViz.comm_manager.get_client_comm(\"hv-extension-comm\", \"hv-extension-comm\", function () {});\n  if (server_id !== null) {\n    comm.send({event_type: 'server_delete', 'id': server_id});\n    return;\n  } else if (comm !== null) {\n    comm.send({event_type: 'delete', 'id': id});\n  }\n  delete PyViz.plot_index[id];\n  if ((window.Bokeh !== undefined) & (id in window.Bokeh.index)) {\n    var doc = window.Bokeh.index[id].model.document\n    doc.clear();\n    const i = window.Bokeh.documents.indexOf(doc);\n    if (i > -1) {\n      window.Bokeh.documents.splice(i, 1);\n    }\n  }\n}\n\n/**\n * Handle kernel restart event\n */\nfunction handle_kernel_cleanup(event, handle) {\n  delete PyViz.comms[\"hv-extension-comm\"];\n  window.PyViz.plot_index = {}\n}\n\n/**\n * Handle update_display_data messages\n */\nfunction handle_update_output(event, handle) {\n  handle_clear_output(event, {cell: {output_area: handle.output_area}})\n  handle_add_output(event, handle)\n}\n\nfunction register_renderer(events, OutputArea) {\n  function append_mime(data, metadata, element) {\n    // create a DOM node to render to\n    var toinsert = this.create_output_subarea(\n    metadata,\n    CLASS_NAME,\n    EXEC_MIME_TYPE\n    );\n    this.keyboard_manager.register_events(toinsert);\n    // Render to node\n    var props = {data: data, metadata: metadata[EXEC_MIME_TYPE]};\n    render(props, toinsert[0]);\n    element.append(toinsert);\n    return toinsert\n  }\n\n  events.on('output_added.OutputArea', handle_add_output);\n  events.on('output_updated.OutputArea', handle_update_output);\n  events.on('clear_output.CodeCell', handle_clear_output);\n  events.on('delete.Cell', handle_clear_output);\n  events.on('kernel_ready.Kernel', handle_kernel_cleanup);\n\n  OutputArea.prototype.register_mime_type(EXEC_MIME_TYPE, append_mime, {\n    safe: true,\n    index: 0\n  });\n}\n\nif (window.Jupyter !== undefined) {\n  try {\n    var events = require('base/js/events');\n    var OutputArea = require('notebook/js/outputarea').OutputArea;\n    if (OutputArea.prototype.mime_types().indexOf(EXEC_MIME_TYPE) == -1) {\n      register_renderer(events, OutputArea);\n    }\n  } catch(err) {\n  }\n}\n"
     },
     "metadata": {},
     "output_type": "display_data"
    }
   ],
   "source": [
    "import natsort\n",
    "import numpy as np\n",
    "import pandas as pd\n",
    "import param\n",
    "import plotly.io as pio\n",
    "import plotly.express as px\n",
    "import plotly.graph_objects as go\n",
    "import plotly.figure_factory as ff\n",
    "import re\n",
    "import traceback\n",
    "import panel as pn\n",
    "pn.extension(\"plotly\")\n",
    "import io\n",
    "from io import BytesIO\n",
    "from io import StringIO\n",
    "from bokeh.models.widgets.tables import NumberFormatter\n",
    "from sklearn.decomposition import PCA\n",
    "from sklearn.metrics import pairwise as pw\n",
    "import json\n",
    "import ast\n",
    "import statistics \n",
    "import matplotlib.pyplot as plt\n",
    "import matplotlib_venn as venn\n",
    "from matplotlib_venn import venn2, venn3, venn3_circles\n",
    "from PIL import Image\n",
    "from upsetplot import from_memberships\n",
    "from upsetplot import plot\n",
    "pn.extension()"
   ]
  },
  {
   "cell_type": "code",
   "execution_count": 54,
   "metadata": {
    "scrolled": true
   },
   "outputs": [
    {
     "name": "stdout",
     "output_type": "stream",
     "text": [
      "Launching server at http://localhost:5065\n"
     ]
    },
    {
     "name": "stderr",
     "output_type": "stream",
     "text": [
      "C:\\Users\\valbrecht\\Anaconda3\\envs\\QC repository\\lib\\site-packages\\upsetplot\\plotting.py:375: UserWarning:\n",
      "\n",
      "tight_layout : falling back to Agg renderer\n",
      "\n"
     ]
    }
   ],
   "source": [
    "exec(open(\"class.py\").read())\n",
    "\n",
    "i_file = pn.widgets.FileInput(name=\"Upload file\")\n",
    "\n",
    "loading_status = pn.Row()\n",
    "idle = pn.indicators.LoadingSpinner(value=False, width=100, height=100, color=\"primary\")\n",
    "loading = pn.indicators.LoadingSpinner(value=True, width=100, height=100, color=\"primary\")\n",
    "\n",
    "button_analysis = pn.widgets.Button(name=\"Analyse clusters\", width=50)\n",
    "\n",
    "i_logOR01_selection = pn.widgets.Select(options=[\"0/1 normalized data\", \"log transformed data\", \"stringency filtered raw data\"], name=\"Select type of data for download\", width=300)\n",
    "\n",
    "i_acquisition = pn.widgets.Select(options=[\"LFQ6 - Spectronaut\", \"LFQ5 - Spectronaut\", \"LFQ6 - MQ\", \"LFQ5 - MQ\",  \"SILAC - MQ\"], name=\"Acquisition\", width=300)\n",
    "i_organism = pn.widgets.Select(options=list(SpatialDataSet.markerproteins_set.keys()), name=\"Organism\", width=300) #\n",
    "\n",
    "\n",
    "i_comment = pn.widgets.input.TextAreaInput(name=\"Additional Comments\", placeholder=\"Write any kind of information assoiciated with this dataset here...\")\n",
    "\n",
    "i_clusterwidget = pn.widgets.Select(options=[\"Proteasome\", \"Lysosome\"], name=\"Cluster of interest\", width=300)\n",
    "i_mapwidget = pn.widgets.Select(options=[\"Map1\", \"Map2\"], name=\"Map of interest\", width=300)\n",
    "\n",
    "i_collapse_maps_PCA = pn.widgets.Checkbox(value=False, name=\"Collapse maps\")\n",
    "\n",
    "cache_uploaded = pn.widgets.Checkbox(value=False)\n",
    "\n",
    "\n",
    "cache_run = pn.widgets.Checkbox(value=False)\n",
    "\n",
    "analysis_status = pn.Pane(\"No analysis run yet\", width=1000)\n",
    "filereading_status = pn.Pane(\"No data import yet\", width=1000)\n",
    "\n",
    "i_expname = pn.widgets.TextInput(name=\"Experiment Name\", placeholder=\"Enter your experiment name here here...\")\n",
    "\n",
    "i_consecutiveLFQi = pn.widgets.IntSlider(name=\"Consecutive LFQ intensities\", start=1, end=10, step=1, value=4)\n",
    "i_summed_MSMS_counts = pn.widgets.IntSlider(name=\"Summed MS/MS counts ≥ 2n x number of fractions\", start=1, end=10, step=1, value=2)\n",
    "\n",
    "i_RatioHLcount = pn.widgets.IntSlider(name=\"Quantification events (Ratio H/L Count)\", start=1, end=10, step=1, value=2)\n",
    "i_RatioVariability = pn.widgets.IntSlider(name=\"Ratio H/L variability [%]\", start=0, end=100, step=5, value=30)\n",
    "\n",
    "i_name_pattern = pn.widgets.Select(name=\"Name pattern\",options=[\"(?P<rep>.*)_(?P<frac>.*)\", \".* (?P<cond>.*)_(?P<rep>.*)_(?P<frac>.*)\",\".* (?P<rep>.*)_(?P<frac>.*)\",\n",
    "                                                                \".* (?P<cond>.*)_(?P<frac>.*)_(?P<rep>.*)\", \".* (?P<cond>.*)_(?P<frac>.*_.*)_(?P<rep>.*)\", \"Custom\"])\n",
    "i_custom_namepattern = pn.widgets.TextInput(name=\"Customized Name Pattern\", placeholder=\"Enter a string here...e.g.: .* (?P<rep>.*)_(?P<frac>.*)\")\n",
    "regex_pattern = {\n",
    "    \"(?P<rep>.*)_(?P<frac>.*)\" : [\"Spectronaut MAP1_03K\"],\n",
    "    \".* (?P<rep>.*)_(?P<frac>.*)\" : [\"MAP1_03K\",\"MAP3_03K\"],\n",
    "    \".* (?P<cond>.*)_(?P<rep>.*)_(?P<frac>.*)\" : [\"EGF_rep1_06K\",\"EGF_rep3_06K\"],\n",
    "    \".* (?P<cond>.*)_(?P<frac>.*)_(?P<rep>.*)\" : [\"Control_Mem_1\", \"Control_Cyt_1\"],\n",
    "    \".* (?P<cond>.*)_(?P<frac>.*_.*)_(?P<rep>.*)\" : [\"4h_mem_frac3_1\", \"co_mem_frac2_2\"]\n",
    "    }\n",
    "i_pattern_examples = pn.widgets.Select(name = \"Examples\", options=regex_pattern[i_name_pattern.value])\n",
    "\n",
    "@pn.depends(i_name_pattern.param.value, i_custom_namepattern, i_pattern_examples)\n",
    "def custimization(name_pattern, custom_namepattern, pattern_examples):\n",
    "    if name_pattern == \"Custom\":\n",
    "        return i_custom_namepattern\n",
    "    else:\n",
    "        example_for_name_pattern = regex_pattern[name_pattern]\n",
    "        i_pattern_examples.options = example_for_name_pattern\n",
    "        return i_pattern_examples\n",
    "\n",
    "i_x_vs_yAxis_PCA = {\n",
    "    \"PC1\" : [\"PC3\", \"PC2\"],\n",
    "    \"PC2\" : [\"PC1\", \"PC3\"],\n",
    "    \"PC3\" : [\"PC1\", \"PC2\"],\n",
    "    }\n",
    "\n",
    "i_xAxis_PCA = pn.widgets.Select(name=\"X-Axis\", options=[\"PC1\", \"PC2\",\"PC3\"])\n",
    "i_yAxis_PCA = pn.widgets.Select(name=\"Y-Axis\", options=i_x_vs_yAxis_PCA[i_xAxis_PCA.value])\n",
    "\n",
    "i_xAxis_PCA_comp = pn.widgets.Select(name=\"X-Axis\", options=[\"PC1\", \"PC2\",\"PC3\"])\n",
    "i_yAxis_PCA_comp = pn.widgets.Select(name=\"Y-Axis\", options=i_x_vs_yAxis_PCA[i_xAxis_PCA_comp.value])\n",
    "\n",
    "@pn.depends(i_xAxis_PCA_comp.param.value, watch=True)\n",
    "def custimization_PCA_comp(xAxis_PCA_comp):\n",
    "    yAxis_PCA_comp = i_x_vs_yAxis_PCA[xAxis_PCA_comp]\n",
    "    i_yAxis_PCA_comp.options = yAxis_PCA_comp\n",
    "    #return i_yAxis_PCA_comp\n",
    "\n",
    "@pn.depends(i_xAxis_PCA.param.value, watch=True)\n",
    "def custimization_PCA(xAxis_PCA):\n",
    "    yAxis_PCA = i_x_vs_yAxis_PCA[xAxis_PCA]\n",
    "    i_yAxis_PCA.options = yAxis_PCA\n",
    "    #return i_yAxis_PCA\n",
    "\n",
    "@pn.depends(i_acquisition.param.value, i_consecutiveLFQi, i_summed_MSMS_counts)\n",
    "def acquisition_response(acquisition, consecutiveLFQi, summed_MSMS_counts):\n",
    "    if acquisition == \"SILAC - MQ\":\n",
    "        return pn.Column(pn.Row(i_name_pattern, custimization), pn.Row(pn.Pane(\"Stringency filtering\")), pn.Row(i_RatioHLcount, i_RatioVariability))\n",
    "    else:\n",
    "        return pn.Column(pn.Row(pn.Row(i_name_pattern, custimization)), pn.Row(pn.Pane(\"Stringency filtering\")), pn.Row(i_consecutiveLFQi, i_summed_MSMS_counts))\n",
    "\n",
    "#define widgets that should be disbled after run==True\n",
    "wdgts = [i_acquisition,i_name_pattern,i_expname, i_pattern_examples, button_analysis, i_expname, i_organism, i_consecutiveLFQi, i_summed_MSMS_counts, \n",
    "         i_RatioHLcount, i_RatioVariability, i_comment]            \n",
    "\n",
    "@pn.depends(i_file.param.value)\n",
    "def read_file(file):\n",
    "    if file is None:\n",
    "        filereading_status = \"No file is uploaded\"\n",
    "        cache_uploaded.value = False\n",
    "        return filereading_status\n",
    "    else:\n",
    "        cache_uploaded.value = False\n",
    "        try:\n",
    "            if i_file.filename[-3:] == \"xls\" or i_file.filename[-3:] == \"txt\":\n",
    "                df_original = pd.read_csv(BytesIO(file), sep=\"\\t\", comment=\"#\", nrows=5, usecols=lambda x: bool(re.match(SpatialDataSet.regex[\"imported_columns\"], x)), low_memory=True)\n",
    "            elif i_file.filename[-3:] == \"csv\":\n",
    "                df_original = pd.read_csv(BytesIO(file), sep=\",\", comment=\"#\", nrows=5, usecols=lambda x: bool(re.match(SpatialDataSet.regex[\"imported_columns\"], x)), low_memory=True)\n",
    "            else:\n",
    "                return pn.Column(\"Upload either csv, xls, or txt formatted files.\")\n",
    "            cache_uploaded.value = True\n",
    "            for wdgt in wdgts:\n",
    "                wdgt.disabled = False\n",
    "\n",
    "            return pn.Column(pn.Row(pn.widgets.DataFrame(df_original, height=200, width=600, disabled=True)),#i_class.\n",
    "                             pn.Row(i_expname), \n",
    "                             pn.Row(i_organism, i_acquisition), \n",
    "                             pn.Row(acquisition_response), \n",
    "                             pn.Row(i_comment),\n",
    "                             pn.Row(button_analysis))\n",
    "\n",
    "        except Exception: \n",
    "            filereading_status = traceback.format_exc()\n",
    "            cache_uploaded.value = False\n",
    "            return filereading_status   \n",
    "        \n",
    "        \n",
    "def execution(event):\n",
    "    if cache_uploaded.value == False:\n",
    "        analysis_status.object = \"Please upload a file first\"\n",
    "    elif i_expname.value == \"\":\n",
    "        analysis_status.object = \"Please enter an experiment name first\"\n",
    "    else:        \n",
    "        dashboard_analysis.objects = []\n",
    "        cache_run.value = False\n",
    "        for wdgt in wdgts:\n",
    "            wdgt.disabled = True\n",
    "        #if you did already your comparison, but add another experiment afterwards - without reloading your AnylsedDatasets.json\n",
    "        #for wdgt in wdgts_comparison:\n",
    "        #    wdgt.disabled = True\n",
    "        try:\n",
    "            \n",
    "            dashboard_analysis.append(i_clusterwidget)\n",
    "            dashboard_analysis.append(i_mapwidget)\n",
    "            dashboard_analysis.append(analysis_tabs)\n",
    "            loading_status.objects = [loading]\n",
    "            analysis_status.object = \"Analysis in progress\"\n",
    "            if i_name_pattern.value == \"Custom\":\n",
    "                namePattern = i_custom_namepattern.value\n",
    "            else:\n",
    "                namePattern = i_name_pattern.value\n",
    "            global i_class\n",
    "            if i_acquisition.value == \"SILAC\":\n",
    "                i_class = SpatialDataSet(i_file.filename, i_expname.value, i_acquisition.value, comment=i_comment.value, name_pattern=namePattern, organism=i_organism.value, \n",
    "                                         RatioHLcount=i_RatioHLcount.value, RatioVariability=i_RatioVariability.value)\n",
    "            else:\n",
    "                i_class = SpatialDataSet(i_file.filename, i_expname.value, i_acquisition.value, comment=i_comment.value, name_pattern=namePattern, organism=i_organism.value,\n",
    "                                         consecutiveLFQi=i_consecutiveLFQi.value, summed_MSMS_counts=i_summed_MSMS_counts.value)\n",
    "            analysis_status.object = \"Data Reading\"\n",
    "            i_class.data_reading(content=BytesIO(i_file.value))\n",
    "            analysis_status.object = \"Data Processing\"\n",
    "            i_class.processingdf()\n",
    "            update_object_selector(i_mapwidget, i_clusterwidget)\n",
    "            i_class.quantity_profiles_proteinGroups()\n",
    "            analysis_status.object = \"PCA\"\n",
    "            i_class.perform_pca()\n",
    "            i_class.multiple_iterations()\n",
    "            analysis_status.object = \"Calculating Manhattan Distance\"\n",
    "            i_class.distance_calculation()\n",
    "            analysis_status.object = \"Calculating Dynamic Range\"\n",
    "            i_class.dynamic_range()\n",
    "            analysis_status.object = \"Writing Overview Table\"\n",
    "            i_class.results_overview_table()\n",
    "            analysis_status.object = \"Writing Analysed Dataset Dictionary\"\n",
    "            SpatialDataSetComparison.analysed_datasets_dict.update(i_class.analysed_datasets_dict)\n",
    "            loading_status.objects = [idle]\n",
    "            analysis_status.object = \"Analysis finished! Please open the 'Analysis' tab!\"\n",
    "            cache_run.value = True\n",
    "            #exc_info = sys.exc_info()\n",
    "        except:\n",
    "            for wdgt in wdgts:\n",
    "                wdgt.disabled = False\n",
    "            loading_status.objects = [\"\"]\n",
    "            #The traceback gives no traceback, so out of that there will be still the output: Analysis in progress, although it is not possible. Out of that i removed the traceback\n",
    "            analysis_status.object = traceback.format_exc()\n",
    "            cache_run.value = False\n",
    "\n",
    "button_analysis.on_click(execution)  \n",
    "\n",
    "def update_object_selector(i_mapwidget, i_clusterwidget):\n",
    "    i_mapwidget.options = list(i_class.map_names)\n",
    "    i_clusterwidget.options = list(i_class.markerproteins.keys())\n",
    "        \n",
    "               \n",
    "  \n",
    "@pn.depends(i_mapwidget.param.value, cache_run.param.value, i_collapse_maps_PCA.param.value, i_clusterwidget.param.value, i_xAxis_PCA.param.value, i_yAxis_PCA.param.value)\n",
    "def update_data_overview(mapwidget, run, collapse_maps_PCA, clusterwidget, xAxis_PCA, yAxis_PCA):\n",
    "    try:\n",
    "        if run == True:\n",
    "            pca_plot = i_class.global_pca_plot(map_of_interest=mapwidget , cluster_of_interest=clusterwidget, x_PCA=xAxis_PCA, y_PCA=yAxis_PCA, collapse_maps=collapse_maps_PCA)\n",
    "            log_histogram = i_class.plot_log_data()\n",
    "            visualization_map = pn.Column(\n",
    "                    pn.Row(i_collapse_maps_PCA),\n",
    "                    pn.Row(pn.Pane(pca_plot, width=1000)),\n",
    "                    pn.Row(i_xAxis_PCA, i_yAxis_PCA),\n",
    "                    pn.Row(pn.Pane(log_histogram, width=1000))\n",
    "                    )\n",
    "            app_tabs.active = 1\n",
    "            return visualization_map\n",
    "        else:\n",
    "            visualization_map = \"Run analysis first!\"\n",
    "            return visualization_map\n",
    "    except Exception:\n",
    "        update_status = traceback.format_exc()\n",
    "        return update_status\n",
    "            \n",
    "\n",
    "@pn.depends(i_clusterwidget.param.value,i_mapwidget.param.value, cache_run.param.value)\n",
    "def update_cluster_overview(clusterwidget, mapwidget, run):\n",
    "    try:\n",
    "        if run == True:\n",
    "            list_genes = [goi for goi in i_class.genenames_sortedout_list if goi in i_class.markerproteins[clusterwidget]]\n",
    "            i_class.cache_cluster_quantified = True\n",
    "            distance_boxplot = i_class.distance_boxplot(cluster_of_interest=clusterwidget)\n",
    "            if i_class.cache_cluster_quantified == False:\n",
    "                return \"This protein cluster was not quantified\"\n",
    "            \n",
    "            else:\n",
    "                df_quantification_overview = i_class.quantification_overview(cluster_of_interest=clusterwidget)\n",
    "                profiles_plot = i_class.profiles_plot(map_of_interest = mapwidget, cluster_of_interest=clusterwidget)\n",
    "                pca_plot = i_class.pca_plot(cluster_of_interest=clusterwidget)\n",
    "                cluster_overview = pn.Column(\n",
    "                        pn.Row(pn.Pane(pca_plot, width=500),\n",
    "                               pn.Pane(distance_boxplot, width=500),\n",
    "                               pn.Pane(profiles_plot, width=500)),\n",
    "                        pn.Row(pn.Pane(\"In total {} proteins across all maps were quantified, whereas the following proteins were not consistently quantified throughout all maps: {}\".format(\n",
    "                                i_class.proteins_quantified_across_all_maps, \", \".join(list_genes)) if len(list_genes) != 0 else\n",
    "                            \"All genes from this cluster are quantified in all maps.\"), width=1000),\n",
    "                        pn.Row(pn.widgets.DataFrame(df_quantification_overview, height=200, width=500, disabled=True))  \n",
    "                        )\n",
    "                return cluster_overview\n",
    "        \n",
    "        else:\n",
    "            cluster_overview = \"Run analysis first!\"\n",
    "            return cluster_overview\n",
    "    except Exception:\n",
    "        update_status = traceback.format_exc()\n",
    "        return update_status\n",
    "    \n",
    "    \n",
    "@pn.depends(i_clusterwidget.param.value, cache_run.param.value)\n",
    "def update_cluster_details(clusterwidget, run):\n",
    "    try:\n",
    "        if run == True:\n",
    "            cluster_details = i_class.distance_to_median_boxplot(cluster_of_interest = clusterwidget)\n",
    "            return pn.Row(cluster_details, width=1000)\n",
    "        else:\n",
    "            cluster_details = \"Run analysis first!\"\n",
    "            return pn.Row(cluster_details, width=1000)\n",
    "    except Exception:\n",
    "        update_status = traceback.format_exc()\n",
    "        return update_status\n",
    "    \n",
    "@pn.depends(cache_run.param.value)\n",
    "def update_quantity(run):\n",
    "    try:\n",
    "        if run == True:\n",
    "            fig_npg, fig_npr, fig_npr_dc, fig_npg_F, fig_npgf_F, fig_npg_F_dc = i_class.plot_quantity_profiles_proteinGroups()\n",
    "            return pn.Column(\n",
    "                    pn.Row(pn.Column(fig_npg), pn.Column(fig_npr), pn.Column(fig_npr_dc)) ,\n",
    "                pn.Row(pn.Column(fig_npg_F), pn.Column(fig_npgf_F), pn.Column(fig_npg_F_dc)))\n",
    "        else:\n",
    "            return \"Run analysis first!\"\n",
    "    except Exception:\n",
    "        update_status = traceback.format_exc()\n",
    "        return update_status\n",
    "    \n",
    "    \n",
    "@pn.depends(cache_run.param.value)\n",
    "def update_dynamic_range(run):\n",
    "    try:\n",
    "        if run == True:\n",
    "            fig_dynamic_range = i_class.plot_dynamic_range()\n",
    "            return pn.Row(fig_dynamic_range)\n",
    "        else:\n",
    "            return \"Run analysis first!\"\n",
    "    except Exception:\n",
    "        update_status = traceback.format_exc()\n",
    "        return update_status\n",
    "            \n",
    "    \n",
    "\n",
    "@pn.depends(cache_run.param.value)\n",
    "def show_tabular_overview(run):\n",
    "    try:\n",
    "        if run == True:\n",
    "            content = pn.Column(\n",
    "                pn.widgets.DataFrame(pd.read_json(i_class.analysed_datasets_dict[i_expname.value][\"Overview table\"]), height=200, width=600, disabled=True),\n",
    "                pn.widgets.FileDownload(callback=table_download, filename=\"cluster_distances.csv\"),\n",
    "                i_logOR01_selection,\n",
    "                df01_download_widget,\n",
    "                pn.widgets.FileDownload(callback=json_download, filename=\"AnalysedDatasets.json\")\n",
    "            )\n",
    "            return pn.Row(content, width=1000)\n",
    "        else:\n",
    "            content = \"Please, upload a file first and press ‘Analyse clusters’\"\n",
    "            return pn.Row(content, width=1000)\n",
    "    except Exception:\n",
    "        content = traceback.format_exc()\n",
    "        return pn.Row(content, width=1000)\n",
    "\n",
    "@pn.depends(cache_run.param.value)\n",
    "def table_download(run):\n",
    "    df = i_class.results_overview_table()\n",
    "    sio = StringIO()\n",
    "    df.to_csv(sio)\n",
    "    sio.seek(0)\n",
    "    return sio\n",
    "\n",
    "\n",
    "@pn.depends(cache_run.param.value)\n",
    "def json_download(run):\n",
    "    sio = StringIO()\n",
    "    json.dump(\n",
    "        SpatialDataSetComparison.analysed_datasets_dict, \n",
    "        sio, \n",
    "        indent=4, \n",
    "        sort_keys=True\n",
    "    )\n",
    "    sio.seek(0)\n",
    "    return sio\n",
    "\n",
    "\n",
    "@pn.depends(cache_run.param.value, i_logOR01_selection.param.value)\n",
    "def df01_download_widget(run, logOR01_selection):\n",
    "    if logOR01_selection == \"0/1 normalized data\":\n",
    "        return pn.Column(pn.widgets.FileDownload(callback=df01_download, filename = \"01_normalized_data.csv\"), width=650) \n",
    "    if logOR01_selection == \"log transformed data\":\n",
    "        return pn.Column(pn.widgets.FileDownload(callback=dflog_download, filename = \"log_transformed_data.csv\"), width=650)\n",
    "    else:\n",
    "        return pn.Column(pn.widgets.FileDownload(callback=df_filteredRawData_download, filename = \"stringency_filtered_raw_data.csv\"), width=650)\n",
    "\n",
    "    \n",
    "@pn.depends(cache_run.param.value)\n",
    "def df01_download(run):\n",
    "    df_01 = i_class.reframe_df_01ORlog_for_svm(i_class.df_01_stacked)\n",
    "    sio = StringIO()\n",
    "    df_01.to_csv(sio)\n",
    "    sio.seek(0)\n",
    "    return sio \n",
    "    \n",
    "    \n",
    "@pn.depends(cache_run.param.value)\n",
    "def dflog_download(run):\n",
    "    df_log = i_class.reframe_df_01ORlog_for_svm(i_class.df_log_stacked)\n",
    "    sio = StringIO()\n",
    "    df_log.to_csv(sio)\n",
    "    sio.seek(0)\n",
    "    return sio \n",
    "\n",
    "\n",
    "@pn.depends(cache_run.param.value)\n",
    "def df_filteredRawData_download(run):\n",
    "    df = i_class.reframe_df_01ORlog_for_svm(i_class.df_stringencyFiltered)\n",
    "    sio = StringIO()\n",
    "    df.to_csv(sio)\n",
    "    sio.seek(0)\n",
    "    return sio\n",
    "\n",
    "\n",
    "loading_status_comparison = pn.Row()\n",
    "idle_comparison = pn.indicators.LoadingSpinner(value=False, width=100, height=100, color=\"primary\")\n",
    "loading_comparison = pn.indicators.LoadingSpinner(value=True, width=100, height=100, color=\"primary\")\n",
    "\n",
    "cache_uploaded_json = pn.widgets.Checkbox(value=False)\n",
    "cache_run_json = pn.widgets.Checkbox(value=False)\n",
    "button_comparison = pn.widgets.Button(name=\"Compare experiments\", width=50)\n",
    "i_jsonFile = pn.widgets.FileInput(name=\"Upload JSON file for comparison\")\n",
    "i_organism_comparison = pn.widgets.Select(options=list(SpatialDataSet.markerproteins_set.keys()), name=\"Organism\", width=300) #\n",
    "#i_clusterwidget_comparison = pn.widgets.Select(options=list(SpatialDataSet.markerproteins.keys()), name=\"Cluster of interest\", width=300)\n",
    "i_clusterwidget_comparison = pn.widgets.Select(options=[\"Proteasome\", \"Lysosome\"], name=\"Cluster of interest\", width=300)\n",
    "i_clusters_for_ranking = pn.widgets.CrossSelector(name=\"Select clusters to be considered for ranking calculation\", #value=list(SpatialDataSet.markerproteins.keys()), \n",
    "                                                options=[\"Proteasome\", \"Lysosome\"], size=8)\n",
    "i_multi_choice = pn.widgets.CrossSelector(name=\"Select experiments for comparison\", value=[\"a\", \"b\"], options=[\"a\", \"b\", \"c\"])\n",
    "i_ref_exp = pn.widgets.Select(name=\"Select experiments as reference\", options=[\"a\", \"b\", \"c\"])\n",
    "i_scatter_metric = pn.widgets.Select(name=\"Distance metric\",\n",
    "                                     options=[\"euclidean distance\", \"manhattan distance\",\n",
    "                                              \"1 - cosine correlation\", \"1 - pearson correlation\"])\n",
    "i_scatter_consolidation = pn.widgets.Select(name=\"Consolidation of replicate distances\",\n",
    "                                            options=[\"median\",\"average\",\"sum\"])\n",
    "\n",
    "dashboard_json = pn.Column(\"Please, upload a file first and press 'Compare clusters'\", name=\"Comparison\", css_classes=[\"content-width\"])\n",
    "comparison_status = pn.Pane(\"No datasets were compared yet\")\n",
    "i_collapse_maps = pn.widgets.Checkbox(value=False, name=\"Collapse maps\")\n",
    "i_collapse_cluster = pn.widgets.Checkbox(value=True, name=\"Collapse cluster\")\n",
    "i_markerset_or_cluster = pn.widgets.Checkbox(value=False, name=\"Display only protein clusters\")\n",
    "#i_ranking_boxPlot = pn.widgets.Checkbox(value=False, name=\"Display box plot\")\n",
    "i_ranking_boxPlot = pn.widgets.RadioBoxGroup(name=\"Types of ranking\", options=[\"Box plot\", \"Bar plot - median\", \"Bar plot - sum\"], inline=True)\n",
    "#i_toggle_sumORmedian = pn.widgets.Toggle(name=\"Sum or Median\", button_type=\"primary\")\n",
    "i_ExpOverview = pn.Row(pn.Pane(\"\", width=1000))\n",
    "i_include_dataset = pn.widgets.Checkbox(value=False, name=\"Include data analysed under 'Analysis' tab\")\n",
    "wdgts_comparison = [button_comparison,i_organism_comparison, i_include_dataset] \n",
    "json_dict = {}\n",
    "\n",
    "\n",
    "\n",
    "@pn.depends(cache_run.param.value, i_jsonFile.param.value)#cache_run.param.value\n",
    "def open_jsonFile(run, jsonFile):#run\n",
    "    cache_run_json.value = False\n",
    "    if run == False and jsonFile is None:\n",
    "        filereading_status_json = \"No file is uploaded\"\n",
    "        cache_uploaded_json.value = False\n",
    "        return filereading_status_json\n",
    "    else:\n",
    "        try:\n",
    "            cache_uploaded_json.value = False\n",
    "            if run == True:\n",
    "                global json_dict\n",
    "                json_dict.update(SpatialDataSet.analysed_datasets_dict)\n",
    "            elif jsonFile is not None:\n",
    "                if i_include_dataset.value == False:\n",
    "                    json_dict = ast.literal_eval(jsonFile.decode(\"UTF-8\"))\n",
    "                else:\n",
    "                    #global json_dict\n",
    "                    json_dict.update(ast.literal_eval(jsonFile.decode(\"UTF-8\"))) #i_class.\n",
    "            try:\n",
    "                dashboard_comparison.objects = dashboard_comparison.objects[0:4]\n",
    "            except:\n",
    "                pass\n",
    "            if hasattr(json_dict, \"keys\") == False: #i_class.\n",
    "                return \"Your json-File does not fulfill the requirements\"\n",
    "            else:\n",
    "                i_multi_choice.options = []\n",
    "                filereading_status_json = list(json_dict.keys())# list(set(list(SpatialDataSet.analysed_datasets_dict.keys()) + )) #i_class.\n",
    "                cache_uploaded_json.value = True\n",
    "                for wdgt in wdgts_comparison:\n",
    "                    wdgt.disabled = False\n",
    "                return pn.Column(pn.Row(\"You will compare following experiments:\\n {}, and {}\".format(\", \".join(filereading_status_json[:-1]), filereading_status_json[-1])),\n",
    "                                 pn.Row(i_include_dataset),\n",
    "                                 pn.Row(i_organism_comparison),\n",
    "                                 pn.Row(button_comparison),\n",
    "                                 )\n",
    "        \n",
    "        except Exception: \n",
    "            filereading_status_json = traceback.format_exc()\n",
    "            cache_uploaded_json.value = False\n",
    "            return filereading_status_json                 \n",
    "\n",
    "@pn.depends(i_multi_choice.param.value, i_clusterwidget_comparison.param.value, cache_run_json.param.value, i_xAxis_PCA_comp.param.value, i_yAxis_PCA_comp.param.value, \n",
    "            i_markerset_or_cluster.param.value)\n",
    "def update_visualization_map_comparison(multi_choice, clusterwidget_comparison, run_json, xAxis_PCA_comp, yAxis_PCA_comp, markerset_or_cluster):\n",
    "    try:\n",
    "        if run_json == True:\n",
    "            if multi_choice == []:\n",
    "                return pn.Column(#pn.Row(i_multi_choice),\n",
    "                                 pn.Row(\"Please select experiments for comparison\")\n",
    "                                )\n",
    "            else:\n",
    "                pass\n",
    "            pca_global_comparison = i_class_comp.plot_global_pca_comparison(cluster_of_interest_comparison=clusterwidget_comparison, x_PCA=xAxis_PCA_comp, y_PCA=yAxis_PCA_comp, \n",
    "                                                                       markerset_or_cluster=markerset_or_cluster, multi_choice=multi_choice)\n",
    "            if markerset_or_cluster == False:\n",
    "                return pn.Column(#pn.Row(i_multi_choice),\n",
    "                                 pn.Row(i_clusterwidget_comparison),\n",
    "                                 pn.Row(i_markerset_or_cluster),\n",
    "                                 pn.Row(pca_global_comparison),\n",
    "                                 pn.Row(i_xAxis_PCA_comp, i_yAxis_PCA_comp)  \n",
    "                                )\n",
    "            else:\n",
    "                return pn.Column(#pn.Row(i_multi_choice),\n",
    "                                 pn.Row(i_markerset_or_cluster),\n",
    "                                 pn.Row(pca_global_comparison),\n",
    "                                 pn.Row(i_xAxis_PCA_comp, i_yAxis_PCA_comp)   \n",
    "                                )\n",
    "        else:\n",
    "            pca_global_comparison = \"Run analysis first!\"\n",
    "            return pca_global_comparison\n",
    "    except Exception:\n",
    "        update_status = traceback.format_exc()\n",
    "        return update_status\n",
    "\n",
    "\n",
    "@pn.depends(i_multi_choice.param.value, i_clusterwidget_comparison.param.value, i_collapse_maps.param.value, i_collapse_cluster.param.value, i_clusters_for_ranking.param.value, i_ref_exp.param.value,\n",
    "            i_ranking_boxPlot.param.value, cache_run_json.param.value) #i_toggle_sumORmedian.param.value, toggle_sumORmedian\n",
    "def update_distance_and_pca(multi_choice, clusterwidget_comparison, collapse_maps, collapse_cluster, clusters_for_ranking, ref_exp, ranking_boxPlot, run_json):\n",
    "    try:\n",
    "        if run_json == True:\n",
    "            if multi_choice == []:\n",
    "                return pn.Column(#pn.Row(i_multi_choice),\n",
    "                                 pn.Row(\"Please select experiments for comparison\")\n",
    "                                )\n",
    "            else:\n",
    "                pass\n",
    "            #i_ref_exp.options = multi_choice\n",
    "            update_ref_exp(i_ref_exp)\n",
    "            if clusters_for_ranking == []:\n",
    "                clusters_for_ranking = [clusterwidget_comparison]\n",
    "            else:\n",
    "                pass\n",
    "            \n",
    "            distance_ranking_comparison = i_class_comp.distance_ranking_barplot_comparison(collapse_cluster=collapse_cluster, multi_choice=multi_choice, \n",
    "                                                                                           clusters_for_ranking=clusters_for_ranking, ranking_boxPlot=ranking_boxPlot)\n",
    "            i_class_comp.cache_cluster_quantified = True\n",
    "            distance_comparison = i_class_comp.distance_boxplot_comparison(collapse_maps=collapse_maps, cluster_of_interest_comparison=clusterwidget_comparison, multi_choice=multi_choice)\n",
    "            if i_class_comp.cache_cluster_quantified == False:\n",
    "                return pn.Column(\n",
    "                                 pn.Row(i_clusterwidget_comparison),\n",
    "                                 pn.Row(\"Cluster was not quantified in any experiment\")\n",
    "                                )\n",
    "            else:\n",
    "                pca_comparison = i_class_comp.plot_pca_comparison(collapse_maps=collapse_maps, cluster_of_interest_comparison=clusterwidget_comparison, multi_choice=multi_choice)\n",
    "                if clusters_for_ranking == []:\n",
    "                    return pn.Column(\n",
    "                                     pn.Row(i_clusters_for_ranking),\n",
    "                                     pn.Row(\"Select at least one cluster\"),         \n",
    "                                     pn.Row(i_clusterwidget_comparison),\n",
    "                                     pn.Row(i_collapse_maps),\n",
    "                                     pn.Row(pca_comparison),\n",
    "                                     pn.Row(distance_comparison),\n",
    "                                     )\n",
    "                else:\n",
    "                    if i_collapse_cluster.value == True:\n",
    "                        return pn.Column(\n",
    "                                     pn.Row(i_clusters_for_ranking),\n",
    "                                     pn.Row(i_collapse_cluster, i_ranking_boxPlot),\n",
    "                                     pn.Row(distance_ranking_comparison),\n",
    "                                     #pn.Row(pn.widgets.DataFrame(i_class_comp.df_quantified_cluster, height=200, width=1800, disabled=True)),\n",
    "                                     pn.Row(pn.widgets.DataFrame(i_class_comp.df_quantified_cluster2, height=200, width=1800, disabled=True)),\n",
    "                                     pn.Row(i_clusterwidget_comparison),\n",
    "                                     pn.Row(i_collapse_maps),\n",
    "                                     pn.Row(pca_comparison),\n",
    "                                     pn.Row(distance_comparison),\n",
    "\n",
    "                                    )\n",
    "                    else:\n",
    "                        return pn.Column(\n",
    "                                     pn.Row(i_clusters_for_ranking),\n",
    "                                     pn.Row(i_collapse_cluster),\n",
    "                                     pn.Row(distance_ranking_comparison),\n",
    "                                     #pn.Row(pn.widgets.DataFrame(i_class_comp.df_quantified_cluster, height=200, width=1800, disabled=True)), \n",
    "                                     pn.Row(pn.widgets.DataFrame(i_class_comp.df_quantified_cluster2, height=200, width=1800, disabled=True)),\n",
    "                                     pn.Row(i_clusterwidget_comparison),\n",
    "                                     pn.Row(i_collapse_maps),\n",
    "                                     pn.Row(pca_comparison),\n",
    "                                     pn.Row(distance_comparison),\n",
    "\n",
    "                                    )\n",
    "        else:\n",
    "            pca_comparison = \"Run analysis first!\"\n",
    "            return pca_comparison\n",
    "    except Exception:\n",
    "        update_status = traceback.format_exc()\n",
    "        return update_status\n",
    "    \n",
    "    \n",
    "@pn.depends(i_multi_choice.param.value, cache_run_json.param.value)\n",
    "def update_npr_ngg_nprDc(multi_choice, run_json):\n",
    "    try:\n",
    "        if run_json == True: \n",
    "            if multi_choice == []:\n",
    "                return pn.Column(\n",
    "                                 pn.Row(\"Please select experiments for comparison\"))\n",
    "            else:\n",
    "                fig_quantity_pg, fig_quantity_pr = i_class_comp.quantity_pr_pg_barplot_comparison(multi_choice=multi_choice)\n",
    "                coverage_barplot = i_class_comp.coverage_comparison(multi_choice=multi_choice)\n",
    "                return pn.Column(\n",
    "                                 pn.Row(fig_quantity_pg), \n",
    "                                 pn.Row(fig_quantity_pr),\n",
    "                                 pn.Row(coverage_barplot)\n",
    "                                )\n",
    "        else:\n",
    "            completeness_barplot = \"Run analysis first!\"\n",
    "            return completeness_barplot\n",
    "    except Exception:\n",
    "        update_status = traceback.format_exc()\n",
    "        return update_status \n",
    "    \n",
    "@pn.depends(i_multi_choice.param.value, cache_run_json.param.value)\n",
    "def update_venn(multi_choice, run_json):\n",
    "    try:\n",
    "        if run_json == True: \n",
    "            venn_plot = []\n",
    "            if len(multi_choice)<=1:\n",
    "                return pn.Column(\n",
    "                                 pn.Row(pn.Pane(\"Please select 2 or more experiments for comparison\"), width=1000))\n",
    "            else:\n",
    "                venn_plot, figure_UpSetPlot = i_class_comp.venn_sections(multi_choice_venn = multi_choice)\n",
    "                return pn.Column(\n",
    "                                 pn.Pane(venn_plot),\n",
    "                                 pn.Row(figure_UpSetPlot,width=1000)\n",
    "                                )\n",
    "        else:\n",
    "            venn_plot = \"Run analysis first!\"\n",
    "            return venn_plot\n",
    "    except Exception:\n",
    "        update_status = traceback.format_exc()\n",
    "        return update_status    \n",
    "\n",
    "@pn.depends(i_multi_choice.param.value, cache_run_json.param.value)\n",
    "def update_SVM_Analysis(multi_choice, run_json):\n",
    "    try:\n",
    "        if run_json == True: \n",
    "            if multi_choice == []:\n",
    "                return pn.Column(\n",
    "                                 pn.Row(\"Please select experiments for comparison\"))\n",
    "            else:\n",
    "                if i_class_comp.cache_stored_SVM == False:\n",
    "                    return pn.Column(\n",
    "                                 pn.Row(\"No Missclassifiaction Matrix is stored\"))\n",
    "                else:\n",
    "                    fig_markerPredictionAccuracy, fig_clusterPerformance = i_class_comp.svm_plotting(multi_choice)\n",
    "                    return pn.Column(\n",
    "                                 pn.Row(fig_markerPredictionAccuracy),\n",
    "                                 pn.Row(fig_clusterPerformance))\n",
    "    except Exception:\n",
    "        update_status = traceback.format_exc()\n",
    "        return update_status \n",
    "                \n",
    "@pn.depends(i_multi_choice.param.value, i_ref_exp.param.value, i_collapse_cluster.param.value, cache_run_json.param.value)\n",
    "def update_dynamic_range_comparison(multi_choice, ref_exp, collapse_cluster, run_json):\n",
    "    try:\n",
    "        if run_json == True: \n",
    "            if multi_choice == []:\n",
    "                return pn.Column(\n",
    "                                 pn.Row(\"Please select experiments for comparison\"))\n",
    "            else:\n",
    "                dynamic_range_barplot = i_class_comp.dynamic_range_comparison(collapse_cluster=collapse_cluster, multi_choice=multi_choice, ref_exp=ref_exp)\n",
    "                return pn.Column(\n",
    "                                 pn.Row(dynamic_range_barplot),\n",
    "                                 pn.Row(i_collapse_cluster),\n",
    "                                 pn.Row(i_ref_exp)\n",
    "                                )\n",
    "        else:\n",
    "            dynamic_range_barplot = \"Run analysis first!\"\n",
    "            return dynamic_range_barplot\n",
    "    except Exception:\n",
    "        update_status = traceback.format_exc()\n",
    "        return update_status \n",
    "    \n",
    "    \n",
    "@pn.depends(i_multi_choice.param.value, i_scatter_metric.param.value, i_scatter_consolidation.param.value, cache_run_json.param.value)\n",
    "def update_global_scatter_comparison(multi_choice, metric, consolidation, run_json):\n",
    "    try:\n",
    "        if run_json == True: \n",
    "            if multi_choice == []:\n",
    "                return pn.Column(#pn.Row(i_multi_choice),\n",
    "                                 pn.Row(\"Please select experiments for comparison\"))\n",
    "            else:\n",
    "                scatter_histogram = i_class_comp.calculate_global_scatter(multi_choice=multi_choice,\n",
    "                                                                              metric=metric, consolidation=consolidation)\n",
    "                return pn.Column(pn.Row(i_scatter_metric),\n",
    "                                 pn.Row(i_scatter_consolidation),\n",
    "                                 pn.Row(scatter_histogram)\n",
    "                                )\n",
    "        else:\n",
    "            return \"Run analysis first!\"\n",
    "    except Exception:\n",
    "        update_status = traceback.format_exc()\n",
    "        return update_status\n",
    "    \n",
    "    \n",
    "def update_multi_choice(i_multi_choice, i_clusterwidget, i_clusters_for_ranking):\n",
    "    i_multi_choice.options = list(json_dict.keys())\n",
    "    i_clusterwidget.options = list(i_class_comp.markerproteins.keys())\n",
    "    i_clusters_for_ranking.options = list(i_class_comp.markerproteins.keys())\n",
    "    i_clusters_for_ranking.value = list(i_class_comp.markerproteins.keys())\n",
    "    i_multi_choice.value = list(json_dict.keys())\n",
    "\n",
    "    \n",
    "@pn.depends(i_multi_choice.param.value, watch=True)\n",
    "def update_ref_exp(multi_choice):\n",
    "    i_ref_exp.options = i_multi_choice.value\n",
    "    #return i_ref_exp\n",
    "\n",
    "\n",
    "@pn.depends(i_multi_choice.param.value, watch=True)\n",
    "def update_ExpOverview(multi_choice):\n",
    "    dict_analysis_parameters={}\n",
    "    for exp_name in multi_choice:\n",
    "        dict_analysis_parameters[exp_name] = json_dict[exp_name][\"Analysis parameters\"]\n",
    "    i_ExpOverview[0] = pn.widgets.DataFrame(pd.DataFrame.from_dict(dict_analysis_parameters))\n",
    "    i_ExpOverview.value = pd.DataFrame.from_dict(dict_analysis_parameters)\n",
    "    i_ExpOverview.disabled = True\n",
    "    i_ExpOverview.height = 200\n",
    "\n",
    "    \n",
    "def execution_comparison(event):\n",
    "    if cache_uploaded_json.value == False:\n",
    "        comparison_status.object = \"Please upload a JSON-file first\"\n",
    "    else:        \n",
    "        #dashboard_comparison.objects[2:] = []\n",
    "        cache_run_json.value = False\n",
    "        for wdgt in wdgts_comparison:\n",
    "            wdgt.disabled = True\n",
    "        try:\n",
    "            loading_status_comparison.objects = [loading_comparison]\n",
    "            comparison_status.object = \"Analysis in progress\"\n",
    "            protein_cluster = SpatialDataSet.markerproteins_set[i_organism_comparison.value].keys()\n",
    "            update_ref_exp(i_ref_exp)\n",
    "            global i_class_comp\n",
    "            comparison_status.object = \"Initialization\"\n",
    "            i_class_comp = SpatialDataSetComparison(clusters_for_ranking=protein_cluster, ref_exp=i_ref_exp.value, organism=i_organism_comparison.value)\n",
    "            i_class_comp.json_dict = json_dict\n",
    "            comparison_status.object = \"Reading\"\n",
    "            i_class_comp.read_jsonFile()\n",
    "            update_multi_choice(i_multi_choice, i_clusterwidget_comparison, i_clusters_for_ranking)\n",
    "            comparison_status.object = \"SVM Processing\"\n",
    "            i_class_comp.svm_processing()\n",
    "            comparison_status.object = \"PCA\"\n",
    "            i_class_comp.perform_pca_comparison()\n",
    "            dashboard_comparison.append(pn.Row(i_multi_choice))\n",
    "            dashboard_comparison.append(pn.Row(i_ExpOverview))\n",
    "            dashboard_comparison.append(comparison_tabs)\n",
    "            loading_status_comparison.objects = [idle_comparison]\n",
    "            comparison_status.object = \"Comparison finished!\"\n",
    "            cache_run_json.value = True\n",
    "        except Exception:\n",
    "            loading_status_comparison.objects = [\"\"]\n",
    "            for wdgt in wdgts_comparison:\n",
    "                wdgt.disabled = False\n",
    "            comparison_status.object = traceback.format_exc()\n",
    "            cache_run_json.value = False\n",
    "button_comparison.on_click(execution_comparison)\n",
    "\n",
    "\n",
    "i_jsonFile_amendments_intended = pn.widgets.FileInput(name=\"Upload JSON file to be amended\")\n",
    "i_json_ExpSelector = pn.widgets.CrossSelector(name=\"Select experiments, that will be removed from JSON file\", width=1000)\n",
    "cache_uploaded_json_amendment = pn.widgets.Checkbox(value=False)\n",
    "cache_run_json_amendment = pn.widgets.Checkbox(value=False)\n",
    "button_reset = pn.widgets.Button(name=\"Reset\", width=50)\n",
    "download_status = pn.Pane(\"Upload a JSON file first\", width=1000)\n",
    "i_df_ExpComment = pn.widgets.DataFrame()\n",
    "wdgt_json = [button_reset]\n",
    "json_dict_amendments_intended = {}\n",
    "#make a cache, and say, if this hasnt been executed so far, please reset it\n",
    "dict_new_expNames = {}\n",
    "dict_new_comments = {}\n",
    "i_exp_SVM = pn.widgets.Select(name=\"Select experiments as reference\", options=[\"a\", \"b\", \"c\"])\n",
    "button_SVM_analysis = pn.widgets.Button(name=\"Analyse misclassification matrix\", width=50)\n",
    "i_SVM_table = pn.widgets.input.TextAreaInput(name=\"Misclassification matrix from Perseus\", placeholder=\"Copy matrix here...\")\n",
    "cache_uploaded_SVM = pn.widgets.Checkbox(value=False)\n",
    "analysis_status_SVM = pn.Row(pn.Pane(\"No SVM analysis run yet\", width=1000))\n",
    "\n",
    "    \n",
    "@pn.depends(i_jsonFile_amendments_intended.param.value)#cache_run.param.value\n",
    "def open_jsonFile_amendment(jsonFile_amendments):#run\n",
    "    cache_run_json_amendment.value = False\n",
    "    if jsonFile_amendments is None:\n",
    "        cache_uploaded_json_amendment.value = False\n",
    "    else:\n",
    "        dashboard_manageDatasets.objects[2:] = []\n",
    "        #dashboard_manageDatasets.objects = []\n",
    "        dashboard_MissclassificationMatrix.objects = []\n",
    "        dashboard_amendment.objects = []\n",
    "        cache_uploaded_json_amendment.value = False\n",
    "        try:\n",
    "            \n",
    "            json_dict_cache = ast.literal_eval(i_jsonFile_amendments_intended.value.decode(\"UTF-8\"))\n",
    "            if hasattr(json_dict_cache, \"keys\") == False: \n",
    "                    return \"Your json-File does not fulfill the requirements\"\n",
    "            else:\n",
    "                global json_dict_amendments_intended\n",
    "                try:\n",
    "                    json_dict_amendments_intended.update(json_dict_cache)\n",
    "                except Exception:\n",
    "                    json_dict_amendments_intended = json_dict_cache\n",
    "                i_json_ExpSelector.options = list(json_dict_amendments_intended.keys())\n",
    "                cache_uploaded_json_amendment.value = True\n",
    "                for wdgt in wdgt_json:\n",
    "                    wdgt.disabled = False\n",
    "                download_status.object = \"Upload sucessful\"\n",
    "                dashboard_manageDatasets.append(amendment_tabs)\n",
    "                dashboard_amendment.append(pn.Column(i_df_ExpComment, download_status))\n",
    "                i_SVM_table.value = \"\"\n",
    "                analysis_status_SVM[0] = pn.Pane(\"Please paste a SVM Matrix first\")\n",
    "                dashboard_MissclassificationMatrix.append(pn.Row(i_exp_SVM, i_SVM_table))\n",
    "                dashboard_MissclassificationMatrix.append(read_SVM_matrix)\n",
    "                dashboard_MissclassificationMatrix.append(analysis_status_SVM)\n",
    "                return pn.Column(\n",
    "                                 i_json_ExpSelector,\n",
    "                                 pn.widgets.FileDownload(callback=json_amendment_download, filename=\"AnalysedDatasets2.0.json\"),\n",
    "                                 button_reset,\n",
    "                                 )\n",
    "        except Exception: \n",
    "            filereading_status_json = traceback.format_exc()\n",
    "            cache_uploaded_json_amendment.value = False\n",
    "            return filereading_status_json\n",
    "\n",
    "######              i_SVM_table.value = \"\"\n",
    "######      #analysis_status_SVM[0] = pn.Pane(\"Please paste a SVM Matrix first\")\n",
    "######      dashboard_svm.append(i_SVM_table)\n",
    "######      dashboard_svm.append(read_SVM_matrix)\n",
    "######      dashboard_svm.append(analysis_status_SVM)\n",
    "\n",
    "    \n",
    "@pn.depends(i_exp_SVM.param.value, watch=True)\n",
    "def update_SVM_Matrix(exp_SVM):\n",
    "    try:\n",
    "        i_SVM_table.value = json_dict_amendments_intended[exp_SVM][\"Misclassification Matrix\"]#{\"Misclassification Matrix\" : json_dict_amendments_intended[exp_SVM][\"Misclassification Matrix\"]}\n",
    "        i_SVM_table.disabled =  True\n",
    "    except:\n",
    "        i_SVM_table.disabled =  False\n",
    "        i_SVM_table.value = ''\n",
    "    \n",
    "\n",
    "@pn.depends(i_json_ExpSelector.param.value, watch=True)\n",
    "def update_exp_for_SVM(multi_choice):\n",
    "    i_exp_SVM.options = i_json_ExpSelector.value\n",
    "    #return i_ref_exp\n",
    "    \n",
    "        \n",
    "@pn.depends(i_SVM_table.param.value)\n",
    "def read_SVM_matrix(SVM_table):   \n",
    "    if SVM_table == \"\":\n",
    "        SVM_reading_status = \"No misclassification matrix is uploaded\"\n",
    "        cache_uploaded_SVM.value = False\n",
    "        analysis_status_SVM[0] = pn.Pane(\"Please paste a SVM Matrix first\")\n",
    "    else:\n",
    "        cache_uploaded_SVM.value = False\n",
    "        try:\n",
    "            try:\n",
    "                df_SVM = pd.read_json(json_dict_amendments_intended[i_exp_SVM.value][\"Misclassification Matrix\"])\n",
    "            except KeyError:\n",
    "                df_SVM = pd.read_table(StringIO(SVM_table), sep=\"\\t\")\n",
    "                json_dict_amendments_intended[i_exp_SVM.value][\"Misclassification Matrix\"] = df_SVM.to_json()#\n",
    "            i_SVM_table.disabled =  True\n",
    "            #SVM_dict, SVM_dict_total = i_class.svm_processing()\n",
    "            \n",
    "                #\"Cluster performance\" : SVM_dict.copy(), \n",
    "            #                                                                                \"Total cluster performance\" : SVM_dict_total.copy()}\n",
    "            ##analysis_status_SVM[0] = pn.Pane(\"No SVM analysis run yet\")\n",
    "            SVM_reading_status = svm_heatmap(df_SVM)\n",
    "            cache_uploaded_SVM.value = True\n",
    "            #button_SVM_analysis.disabled = False\n",
    "            return pn.Column(#pn.Row(button_SVM_analysis),\n",
    "                             pn.Row(SVM_reading_status, height=600),\n",
    "                            )\n",
    "        except Exception: \n",
    "            SVM_reading_status = \"Paste the SVM matrix from Perseus only!\"\n",
    "            i_SVM_table.disabled = False\n",
    "            #SVM_reading_status = traceback.format_exc()\n",
    "            cache_uploaded_SVM.value = False\n",
    "            analysis_status_SVM[0] = pn.Pane(traceback.format_exc())    #pn.Pane(\"\")\n",
    "            return SVM_reading_status \n",
    "\n",
    "        \n",
    "#def execution_SVM(event):\n",
    "#    if cache_uploaded_SVM.value == False:\n",
    "#        analysis_status_SVM[0] = pn.Pane(\"Please paste a SVM Matrix first\")\n",
    "#    else:        \n",
    "#        try:\n",
    "#            button_SVM_analysis.disabled = True\n",
    "#            fig_clusterPerformance = i_class.svm_processing()\n",
    "#            analysis_status_SVM[0] = fig_clusterPerformance\n",
    "#        except Exception:\n",
    "#            analysis_status_SVM[0] = pn.Pane(traceback.format_exc())    \n",
    "#button_SVM_analysis.on_click(execution_SVM)   \n",
    "        \n",
    "def json_amendment_download():\n",
    "    if i_json_ExpSelector.value == []:\n",
    "        download_status.object = \"No experiments are selected\"\n",
    "        return\n",
    "    else:\n",
    "        json_new = json_dict_amendments_intended.copy()\n",
    "        exp_names_del = [elem for elem in i_json_ExpSelector.options if not elem in i_json_ExpSelector.value]        \n",
    "        for key in exp_names_del:\n",
    "            del json_new[key]\n",
    "        checked_exp = set()\n",
    "        redundant_expNames = set(new_Exp for new_Exp in dict_new_expNames.values() if new_Exp in checked_exp or checked_exp.add(new_Exp))\n",
    "        if redundant_expNames != set():\n",
    "            download_status.object = \"Experiments are not allowed to be labelled identically\"\n",
    "            return\n",
    "        else:\n",
    "            for exp_name in json_new:\n",
    "                json_new[exp_name][\"Analysis parameters\"][\"comment\"] = dict_new_comments[exp_name] #dict_new_expNames\n",
    "            json_new = {dict_new_expNames[oldK]: value for oldK, value in json_new.items()}\n",
    "            sio = StringIO()\n",
    "            json.dump(\n",
    "                json_new, \n",
    "                sio, \n",
    "                indent=4, \n",
    "                sort_keys=True\n",
    "            )\n",
    "            sio.seek(0)\n",
    "            download_status.object = \"Download sucessful\"\n",
    "            return sio\n",
    "\n",
    "        \n",
    "def reset_json_amendment(event):\n",
    "    global json_dict_amendments_intended\n",
    "    json_dict_amendments_intended = {}\n",
    "    i_json_ExpSelector.options = []\n",
    "    i_json_ExpSelector.value = []\n",
    "    i_df_ExpComment.value = pd.DataFrame()\n",
    "    for wdgt in wdgt_json:\n",
    "        wdgt.disabled = True\n",
    "    download_status.object = \"Reset sucessful\"\n",
    "button_reset.on_click(reset_json_amendment)\n",
    "\n",
    "\n",
    "@pn.depends(i_json_ExpSelector.param.value, watch=True)\n",
    "def update_renameExp(json_ExpSelector):\n",
    "    dict_ExpComments = {}\n",
    "    for exp_name in json_ExpSelector:\n",
    "        dict_ExpComments[exp_name] = json_dict_amendments_intended[exp_name][\"Analysis parameters\"][\"comment\"]\n",
    "    df_ExpComments = pd.DataFrame(dict_ExpComments.items(), columns=[\"Experiment name - old\", \"Comment\"])#pd.DataFrame.from_dict(dict_ExpComments)\n",
    "    df_ExpComments.insert(0, \"Experiment name - new\", df_ExpComments[\"Experiment name - old\"])\n",
    "    df_ExpComments.set_index(\"Experiment name - old\", inplace=True)\n",
    "    df_ExpComments.replace({\"Experiment name - new\": dict_new_expNames}, inplace=True)\n",
    "    exp_previous = list(dict_new_comments.keys())\n",
    "    for exp in exp_previous:\n",
    "        if exp not in json_ExpSelector:\n",
    "            del dict_new_comments[exp]\n",
    "    df_ExpComments.loc[dict_new_comments.keys(),\"Comment\"] = list(dict_new_comments.values())\n",
    "    i_df_ExpComment.value = df_ExpComments\n",
    "    i_df_ExpComment.height=len(json_ExpSelector)*50\n",
    "    #return i_df_ExpComment\n",
    "\n",
    "@pn.depends(i_df_ExpComment.param.value, watch=True)\n",
    "def update_newExpNames(df_ExpComment):\n",
    "    try:        \n",
    "        global dict_new_expNames \n",
    "        changed_expName = set(list(dict_new_expNames.values())+list(df_ExpComment[\"Experiment name - new\"]))-set(dict_new_expNames.values())\n",
    "        dict_new_expNames = dict(zip(df_ExpComment.index, df_ExpComment[\"Experiment name - new\"]))\n",
    "        global dict_new_comments\n",
    "        dict_new_comments_cache = dict_new_comments.copy()\n",
    "        changed_comment = set(list(dict_new_comments.values())+list(df_ExpComment[\"Comment\"]))-set(dict_new_comments.values())\n",
    "        dict_new_comments = dict(zip(df_ExpComment.index, df_ExpComment[\"Comment\"]))\n",
    "        if changed_expName == set() and changed_comment == set():\n",
    "            tracked_change = \"No changes saved\"\n",
    "        elif changed_expName != set() and changed_comment != set():\n",
    "            tracked_change = \"Upload sucessful\"\n",
    "        elif changed_expName != set():\n",
    "            new_exp = list(changed_expName)[0]\n",
    "            old_exp = list(dict_new_expNames.keys())[list(dict_new_expNames.values()).index(new_exp)]\n",
    "            tracked_change = \"Experiment name was changed from {} to {}\".format(old_exp, new_exp)\n",
    "        else:# changed_comment != set():\n",
    "            new_comment = list(changed_comment)[0]\n",
    "            exp = list(dict_new_comments.keys())[list(dict_new_comments.values()).index(new_comment)]\n",
    "            old_comment = dict_new_comments_cache[exp]\n",
    "            tracked_change = \"Comment of the experiment {} was changed from {} to {}\".format(exp, old_comment, new_comment)\n",
    "        download_status.object = tracked_change\n",
    "    except Exception:\n",
    "        pass\n",
    "\n",
    "dasboard_home = pn.Column(i_file, read_file,analysis_status, loading_status, name=\"Home\", css_classes=[\"content-width\"])\n",
    "dashboard_analysis = pn.Column(\"Please, upload a file first and press 'Analyse clusters'\", name=\"Analysis\", css_classes=[\"content-width\"])\n",
    "dashboard_MissclassificationMatrix = pn.Column(\"Please, upload a file first and press 'Analyse clusters'\", name=\"SVM Analysis\", css_classes=[\"content-width\"])\n",
    "dashboard_amendment = pn.Column(\"Please, upload a json file first\", name=\"Renaming\", css_classes=[\"content-width\"])\n",
    "dashboard_comparison = pn.Column(i_jsonFile, open_jsonFile, comparison_status, loading_status_comparison)\n",
    "dashboard_manageDatasets = pn.Column(i_jsonFile_amendments_intended, open_jsonFile_amendment)\n",
    "    \n",
    "analysis_tabs = pn.Tabs(margin=10, css_classes=[\"content-width\"], dynamic=True)\n",
    "analysis_tabs.append((\"Data overview\", update_data_overview))\n",
    "analysis_tabs.append((\"Cluster Overview\", update_cluster_overview))\n",
    "analysis_tabs.append((\"Cluster Details\", update_cluster_details))\n",
    "analysis_tabs.append((\"Depth and Coverage\", update_quantity))\n",
    "analysis_tabs.append((\"Dynamic Range\", update_dynamic_range))\n",
    "analysis_tabs.append((\"Download\", show_tabular_overview))\n",
    "\n",
    "comparison_tabs = pn.Tabs(margin=10, css_classes=[\"content-width\"], dynamic=True)\n",
    "comparison_tabs.append((\"Data Overview\", update_visualization_map_comparison))\n",
    "comparison_tabs.append((\"Global Scatter\", update_global_scatter_comparison))\n",
    "comparison_tabs.append((\"Biological Precision\", update_distance_and_pca))\n",
    "comparison_tabs.append((\"Depth and Coverage\", update_npr_ngg_nprDc))\n",
    "comparison_tabs.append((\"Unique and shared protein groups\", update_venn))\n",
    "comparison_tabs.append((\"Dynamic Range\", update_dynamic_range_comparison))\n",
    "comparison_tabs.append((\"SVM Analysis\", update_SVM_Analysis))\n",
    "\n",
    "amendment_tabs = pn.Tabs(margin=10, css_classes=[\"content-width\"], dynamic=True)\n",
    "amendment_tabs.append((\"Change Experiment name and comment\", dashboard_amendment))\n",
    "amendment_tabs.append((\"SVM Analysis\", dashboard_MissclassificationMatrix))\n",
    "\n",
    "\n",
    "app_tabs = pn.Tabs(margin=10, css_classes=[\"content-width\"], dynamic=True)\n",
    "app_tabs.append((\"Home\", dasboard_home))\n",
    "app_tabs.append((\"Analysis\", dashboard_analysis))\n",
    "app_tabs.append((\"Data comparison\", dashboard_comparison))\n",
    "app_tabs.append((\"Manage Datasets\", dashboard_manageDatasets))\n",
    "\n",
    "app_tabs.append((\"About\", pn.Row(\"Explanation of what's going on here\", width=2000)))\n",
    "\n",
    "#i_search = pn.widgets.TextInput(name=\"Search\")\n",
    "app_center = pn.Column(pn.Row(pn.Pane(\"# QC tool for Spatial Proteomics\", width = 600),\n",
    "                              pn.layout.HSpacer(),\n",
    "                              #i_search,\n",
    "                              #width=1600, \n",
    "                              margin=10),\n",
    "                       app_tabs,\n",
    "                       #pn.Spacer(background=\"#DDDDDD\", height=100, margin=0)\n",
    "                      )\n",
    "app = pn.GridSpec()#sizing_mode=\"stretch_both\", margin=0)\n",
    "app[0,0] = pn.Spacer(background=\"white\", margin=0) #\"#DDDDDD\"\n",
    "app[0,9] = pn.Spacer(background=\"white\", margin=0) #\"#DDDDDD\"\n",
    "app[0,1:8] = app_center\n",
    "\n",
    "pwd = pn.widgets.PasswordInput(name=\"Please enter password for access.\")\n",
    "app_container = pn.Column(pwd)\n",
    "\n",
    "def check_pwd(event, app=app):\n",
    "    pwd = event.new\n",
    "    if pwd == \"pwd\":\n",
    "        app_container[0]=app\n",
    "pwd.param.watch(check_pwd, \"value\")\n",
    "\n",
    "try:\n",
    "    server.stop()\n",
    "except Exception:\n",
    "    print(\"First server startup\")\n",
    "server = app.show(port=5065, websocket_max_message_size=2000000000)\n",
    "#app.servable()"
   ]
  },
  {
   "cell_type": "code",
   "execution_count": 42,
   "metadata": {},
   "outputs": [
    {
     "ename": "AttributeError",
     "evalue": "'SpatialDataSetComparison' object has no attribute 'global_SVM_dict_total'",
     "output_type": "error",
     "traceback": [
      "\u001b[1;31m---------------------------------------------------------------------------\u001b[0m",
      "\u001b[1;31mAttributeError\u001b[0m                            Traceback (most recent call last)",
      "\u001b[1;32m<ipython-input-42-e37acd2d6fec>\u001b[0m in \u001b[0;36m<module>\u001b[1;34m\u001b[0m\n\u001b[1;32m----> 1\u001b[1;33m \u001b[0mi_class_comp\u001b[0m\u001b[1;33m.\u001b[0m\u001b[0mglobal_SVM_dict_total\u001b[0m\u001b[1;33m\u001b[0m\u001b[1;33m\u001b[0m\u001b[0m\n\u001b[0m",
      "\u001b[1;31mAttributeError\u001b[0m: 'SpatialDataSetComparison' object has no attribute 'global_SVM_dict_total'"
     ]
    }
   ],
   "source": [
    "i_class_comp.global_SVM_dict_total"
   ]
  },
  {
   "cell_type": "code",
   "execution_count": 25,
   "metadata": {},
   "outputs": [
    {
     "name": "stdout",
     "output_type": "stream",
     "text": [
      "Yes\n"
     ]
    }
   ],
   "source": [
    "if i_class_comp.global_SVM_dict == {}:\n",
    "    print(\"Yes\")"
   ]
  },
  {
   "cell_type": "code",
   "execution_count": 33,
   "metadata": {},
   "outputs": [
    {
     "data": {
      "text/plain": [
       "False"
      ]
     },
     "execution_count": 33,
     "metadata": {},
     "output_type": "execute_result"
    },
    {
     "data": {
      "text/plain": [
       "<Figure size 432x288 with 0 Axes>"
      ]
     },
     "metadata": {},
     "output_type": "display_data"
    }
   ],
   "source": [
    "test = i_class_comp.svm_processing()\n",
    "test"
   ]
  },
  {
   "cell_type": "code",
   "execution_count": 18,
   "metadata": {},
   "outputs": [],
   "source": [
    "fig_markerPredictionAccuracy, fig_clusterPerformance = i_class_comp.svm_plotting(i_multi_choice.value)"
   ]
  },
  {
   "cell_type": "code",
   "execution_count": 20,
   "metadata": {},
   "outputs": [
    {
     "data": {
      "application/vnd.plotly.v1+json": {
       "config": {
        "plotlyServerURL": "https://plot.ly"
       },
       "data": [
        {
         "marker": {
          "color": "#1F77B4"
         },
         "name": "44 min",
         "type": "scatter",
         "x": [
          "True: ER",
          "True: Large Protein Complex",
          "True: Lysosome",
          "True: Peroxisome",
          "True: Plasma membrane",
          "True: Endosome",
          "True: Mitochondrion",
          "True: Golgi",
          "True: Actin binding proteins",
          "True: Ergic/cisGolgi",
          "True: ER_high_curvature",
          "True: Nuclear pore complex"
         ],
         "y": [
          0.9741379310344828,
          0.9950083194675541,
          0.9859154929577464,
          1,
          0.9739130434782609,
          0.9517241379310345,
          0.9955357142857143,
          0.9583333333333334,
          0.923076923076923,
          0.96,
          0.9473684210526315,
          0.9333333333333333
         ]
        },
        {
         "marker": {
          "color": "#1F77B4"
         },
         "mode": "markers",
         "showlegend": false,
         "type": "scatter",
         "x": [
          "Avg. all clusters"
         ],
         "y": [
          0.9665288874959178
         ]
        },
        {
         "marker": {
          "color": "#1F77B4"
         },
         "mode": "markers",
         "showlegend": false,
         "type": "scatter",
         "x": [
          "Avg. all organelles"
         ],
         "y": [
          0.9718808971192449
         ]
        },
        {
         "marker": {
          "color": "#FF7F0E"
         },
         "name": "r",
         "type": "scatter",
         "x": [
          "True: ER",
          "True: Large Protein Complex",
          "True: Lysosome",
          "True: Peroxisome",
          "True: Plasma membrane",
          "True: Endosome",
          "True: Mitochondrion",
          "True: Golgi",
          "True: Actin binding proteins",
          "True: Ergic/cisGolgi",
          "True: ER_high_curvature",
          "True: Nuclear pore complex"
         ],
         "y": [
          0.9741379310344828,
          0.9950083194675541,
          0.9859154929577464,
          1,
          0.9739130434782609,
          0.9517241379310345,
          0.9955357142857143,
          0.9583333333333334,
          0.923076923076923,
          0.96,
          0.9473684210526315,
          0.9333333333333333
         ]
        },
        {
         "marker": {
          "color": "#FF7F0E"
         },
         "mode": "markers",
         "showlegend": false,
         "type": "scatter",
         "x": [
          "Avg. all clusters"
         ],
         "y": [
          0.9665288874959178
         ]
        },
        {
         "marker": {
          "color": "#FF7F0E"
         },
         "mode": "markers",
         "showlegend": false,
         "type": "scatter",
         "x": [
          "Avg. all organelles"
         ],
         "y": [
          0.9718808971192449
         ]
        }
       ],
       "layout": {
        "template": {
         "data": {
          "bar": [
           {
            "error_x": {
             "color": "rgb(36,36,36)"
            },
            "error_y": {
             "color": "rgb(36,36,36)"
            },
            "marker": {
             "line": {
              "color": "white",
              "width": 0.5
             }
            },
            "type": "bar"
           }
          ],
          "barpolar": [
           {
            "marker": {
             "line": {
              "color": "white",
              "width": 0.5
             }
            },
            "type": "barpolar"
           }
          ],
          "carpet": [
           {
            "aaxis": {
             "endlinecolor": "rgb(36,36,36)",
             "gridcolor": "white",
             "linecolor": "white",
             "minorgridcolor": "white",
             "startlinecolor": "rgb(36,36,36)"
            },
            "baxis": {
             "endlinecolor": "rgb(36,36,36)",
             "gridcolor": "white",
             "linecolor": "white",
             "minorgridcolor": "white",
             "startlinecolor": "rgb(36,36,36)"
            },
            "type": "carpet"
           }
          ],
          "choropleth": [
           {
            "colorbar": {
             "outlinewidth": 1,
             "tickcolor": "rgb(36,36,36)",
             "ticks": "outside"
            },
            "type": "choropleth"
           }
          ],
          "contour": [
           {
            "colorbar": {
             "outlinewidth": 1,
             "tickcolor": "rgb(36,36,36)",
             "ticks": "outside"
            },
            "colorscale": [
             [
              0,
              "#440154"
             ],
             [
              0.1111111111111111,
              "#482878"
             ],
             [
              0.2222222222222222,
              "#3e4989"
             ],
             [
              0.3333333333333333,
              "#31688e"
             ],
             [
              0.4444444444444444,
              "#26828e"
             ],
             [
              0.5555555555555556,
              "#1f9e89"
             ],
             [
              0.6666666666666666,
              "#35b779"
             ],
             [
              0.7777777777777778,
              "#6ece58"
             ],
             [
              0.8888888888888888,
              "#b5de2b"
             ],
             [
              1,
              "#fde725"
             ]
            ],
            "type": "contour"
           }
          ],
          "contourcarpet": [
           {
            "colorbar": {
             "outlinewidth": 1,
             "tickcolor": "rgb(36,36,36)",
             "ticks": "outside"
            },
            "type": "contourcarpet"
           }
          ],
          "heatmap": [
           {
            "colorbar": {
             "outlinewidth": 1,
             "tickcolor": "rgb(36,36,36)",
             "ticks": "outside"
            },
            "colorscale": [
             [
              0,
              "#440154"
             ],
             [
              0.1111111111111111,
              "#482878"
             ],
             [
              0.2222222222222222,
              "#3e4989"
             ],
             [
              0.3333333333333333,
              "#31688e"
             ],
             [
              0.4444444444444444,
              "#26828e"
             ],
             [
              0.5555555555555556,
              "#1f9e89"
             ],
             [
              0.6666666666666666,
              "#35b779"
             ],
             [
              0.7777777777777778,
              "#6ece58"
             ],
             [
              0.8888888888888888,
              "#b5de2b"
             ],
             [
              1,
              "#fde725"
             ]
            ],
            "type": "heatmap"
           }
          ],
          "heatmapgl": [
           {
            "colorbar": {
             "outlinewidth": 1,
             "tickcolor": "rgb(36,36,36)",
             "ticks": "outside"
            },
            "colorscale": [
             [
              0,
              "#440154"
             ],
             [
              0.1111111111111111,
              "#482878"
             ],
             [
              0.2222222222222222,
              "#3e4989"
             ],
             [
              0.3333333333333333,
              "#31688e"
             ],
             [
              0.4444444444444444,
              "#26828e"
             ],
             [
              0.5555555555555556,
              "#1f9e89"
             ],
             [
              0.6666666666666666,
              "#35b779"
             ],
             [
              0.7777777777777778,
              "#6ece58"
             ],
             [
              0.8888888888888888,
              "#b5de2b"
             ],
             [
              1,
              "#fde725"
             ]
            ],
            "type": "heatmapgl"
           }
          ],
          "histogram": [
           {
            "marker": {
             "line": {
              "color": "white",
              "width": 0.6
             }
            },
            "type": "histogram"
           }
          ],
          "histogram2d": [
           {
            "colorbar": {
             "outlinewidth": 1,
             "tickcolor": "rgb(36,36,36)",
             "ticks": "outside"
            },
            "colorscale": [
             [
              0,
              "#440154"
             ],
             [
              0.1111111111111111,
              "#482878"
             ],
             [
              0.2222222222222222,
              "#3e4989"
             ],
             [
              0.3333333333333333,
              "#31688e"
             ],
             [
              0.4444444444444444,
              "#26828e"
             ],
             [
              0.5555555555555556,
              "#1f9e89"
             ],
             [
              0.6666666666666666,
              "#35b779"
             ],
             [
              0.7777777777777778,
              "#6ece58"
             ],
             [
              0.8888888888888888,
              "#b5de2b"
             ],
             [
              1,
              "#fde725"
             ]
            ],
            "type": "histogram2d"
           }
          ],
          "histogram2dcontour": [
           {
            "colorbar": {
             "outlinewidth": 1,
             "tickcolor": "rgb(36,36,36)",
             "ticks": "outside"
            },
            "colorscale": [
             [
              0,
              "#440154"
             ],
             [
              0.1111111111111111,
              "#482878"
             ],
             [
              0.2222222222222222,
              "#3e4989"
             ],
             [
              0.3333333333333333,
              "#31688e"
             ],
             [
              0.4444444444444444,
              "#26828e"
             ],
             [
              0.5555555555555556,
              "#1f9e89"
             ],
             [
              0.6666666666666666,
              "#35b779"
             ],
             [
              0.7777777777777778,
              "#6ece58"
             ],
             [
              0.8888888888888888,
              "#b5de2b"
             ],
             [
              1,
              "#fde725"
             ]
            ],
            "type": "histogram2dcontour"
           }
          ],
          "mesh3d": [
           {
            "colorbar": {
             "outlinewidth": 1,
             "tickcolor": "rgb(36,36,36)",
             "ticks": "outside"
            },
            "type": "mesh3d"
           }
          ],
          "parcoords": [
           {
            "line": {
             "colorbar": {
              "outlinewidth": 1,
              "tickcolor": "rgb(36,36,36)",
              "ticks": "outside"
             }
            },
            "type": "parcoords"
           }
          ],
          "pie": [
           {
            "automargin": true,
            "type": "pie"
           }
          ],
          "scatter": [
           {
            "marker": {
             "colorbar": {
              "outlinewidth": 1,
              "tickcolor": "rgb(36,36,36)",
              "ticks": "outside"
             }
            },
            "type": "scatter"
           }
          ],
          "scatter3d": [
           {
            "line": {
             "colorbar": {
              "outlinewidth": 1,
              "tickcolor": "rgb(36,36,36)",
              "ticks": "outside"
             }
            },
            "marker": {
             "colorbar": {
              "outlinewidth": 1,
              "tickcolor": "rgb(36,36,36)",
              "ticks": "outside"
             }
            },
            "type": "scatter3d"
           }
          ],
          "scattercarpet": [
           {
            "marker": {
             "colorbar": {
              "outlinewidth": 1,
              "tickcolor": "rgb(36,36,36)",
              "ticks": "outside"
             }
            },
            "type": "scattercarpet"
           }
          ],
          "scattergeo": [
           {
            "marker": {
             "colorbar": {
              "outlinewidth": 1,
              "tickcolor": "rgb(36,36,36)",
              "ticks": "outside"
             }
            },
            "type": "scattergeo"
           }
          ],
          "scattergl": [
           {
            "marker": {
             "colorbar": {
              "outlinewidth": 1,
              "tickcolor": "rgb(36,36,36)",
              "ticks": "outside"
             }
            },
            "type": "scattergl"
           }
          ],
          "scattermapbox": [
           {
            "marker": {
             "colorbar": {
              "outlinewidth": 1,
              "tickcolor": "rgb(36,36,36)",
              "ticks": "outside"
             }
            },
            "type": "scattermapbox"
           }
          ],
          "scatterpolar": [
           {
            "marker": {
             "colorbar": {
              "outlinewidth": 1,
              "tickcolor": "rgb(36,36,36)",
              "ticks": "outside"
             }
            },
            "type": "scatterpolar"
           }
          ],
          "scatterpolargl": [
           {
            "marker": {
             "colorbar": {
              "outlinewidth": 1,
              "tickcolor": "rgb(36,36,36)",
              "ticks": "outside"
             }
            },
            "type": "scatterpolargl"
           }
          ],
          "scatterternary": [
           {
            "marker": {
             "colorbar": {
              "outlinewidth": 1,
              "tickcolor": "rgb(36,36,36)",
              "ticks": "outside"
             }
            },
            "type": "scatterternary"
           }
          ],
          "surface": [
           {
            "colorbar": {
             "outlinewidth": 1,
             "tickcolor": "rgb(36,36,36)",
             "ticks": "outside"
            },
            "colorscale": [
             [
              0,
              "#440154"
             ],
             [
              0.1111111111111111,
              "#482878"
             ],
             [
              0.2222222222222222,
              "#3e4989"
             ],
             [
              0.3333333333333333,
              "#31688e"
             ],
             [
              0.4444444444444444,
              "#26828e"
             ],
             [
              0.5555555555555556,
              "#1f9e89"
             ],
             [
              0.6666666666666666,
              "#35b779"
             ],
             [
              0.7777777777777778,
              "#6ece58"
             ],
             [
              0.8888888888888888,
              "#b5de2b"
             ],
             [
              1,
              "#fde725"
             ]
            ],
            "type": "surface"
           }
          ],
          "table": [
           {
            "cells": {
             "fill": {
              "color": "rgb(237,237,237)"
             },
             "line": {
              "color": "white"
             }
            },
            "header": {
             "fill": {
              "color": "rgb(217,217,217)"
             },
             "line": {
              "color": "white"
             }
            },
            "type": "table"
           }
          ]
         },
         "layout": {
          "annotationdefaults": {
           "arrowhead": 0,
           "arrowwidth": 1
          },
          "autotypenumbers": "strict",
          "coloraxis": {
           "colorbar": {
            "outlinewidth": 1,
            "tickcolor": "rgb(36,36,36)",
            "ticks": "outside"
           }
          },
          "colorscale": {
           "diverging": [
            [
             0,
             "rgb(103,0,31)"
            ],
            [
             0.1,
             "rgb(178,24,43)"
            ],
            [
             0.2,
             "rgb(214,96,77)"
            ],
            [
             0.3,
             "rgb(244,165,130)"
            ],
            [
             0.4,
             "rgb(253,219,199)"
            ],
            [
             0.5,
             "rgb(247,247,247)"
            ],
            [
             0.6,
             "rgb(209,229,240)"
            ],
            [
             0.7,
             "rgb(146,197,222)"
            ],
            [
             0.8,
             "rgb(67,147,195)"
            ],
            [
             0.9,
             "rgb(33,102,172)"
            ],
            [
             1,
             "rgb(5,48,97)"
            ]
           ],
           "sequential": [
            [
             0,
             "#440154"
            ],
            [
             0.1111111111111111,
             "#482878"
            ],
            [
             0.2222222222222222,
             "#3e4989"
            ],
            [
             0.3333333333333333,
             "#31688e"
            ],
            [
             0.4444444444444444,
             "#26828e"
            ],
            [
             0.5555555555555556,
             "#1f9e89"
            ],
            [
             0.6666666666666666,
             "#35b779"
            ],
            [
             0.7777777777777778,
             "#6ece58"
            ],
            [
             0.8888888888888888,
             "#b5de2b"
            ],
            [
             1,
             "#fde725"
            ]
           ],
           "sequentialminus": [
            [
             0,
             "#440154"
            ],
            [
             0.1111111111111111,
             "#482878"
            ],
            [
             0.2222222222222222,
             "#3e4989"
            ],
            [
             0.3333333333333333,
             "#31688e"
            ],
            [
             0.4444444444444444,
             "#26828e"
            ],
            [
             0.5555555555555556,
             "#1f9e89"
            ],
            [
             0.6666666666666666,
             "#35b779"
            ],
            [
             0.7777777777777778,
             "#6ece58"
            ],
            [
             0.8888888888888888,
             "#b5de2b"
            ],
            [
             1,
             "#fde725"
            ]
           ]
          },
          "colorway": [
           "#1F77B4",
           "#FF7F0E",
           "#2CA02C",
           "#D62728",
           "#9467BD",
           "#8C564B",
           "#E377C2",
           "#7F7F7F",
           "#BCBD22",
           "#17BECF"
          ],
          "font": {
           "color": "rgb(36,36,36)"
          },
          "geo": {
           "bgcolor": "white",
           "lakecolor": "white",
           "landcolor": "white",
           "showlakes": true,
           "showland": true,
           "subunitcolor": "white"
          },
          "hoverlabel": {
           "align": "left"
          },
          "hovermode": "closest",
          "mapbox": {
           "style": "light"
          },
          "paper_bgcolor": "white",
          "plot_bgcolor": "white",
          "polar": {
           "angularaxis": {
            "gridcolor": "rgb(232,232,232)",
            "linecolor": "rgb(36,36,36)",
            "showgrid": false,
            "showline": true,
            "ticks": "outside"
           },
           "bgcolor": "white",
           "radialaxis": {
            "gridcolor": "rgb(232,232,232)",
            "linecolor": "rgb(36,36,36)",
            "showgrid": false,
            "showline": true,
            "ticks": "outside"
           }
          },
          "scene": {
           "xaxis": {
            "backgroundcolor": "white",
            "gridcolor": "rgb(232,232,232)",
            "gridwidth": 2,
            "linecolor": "rgb(36,36,36)",
            "showbackground": true,
            "showgrid": false,
            "showline": true,
            "ticks": "outside",
            "zeroline": false,
            "zerolinecolor": "rgb(36,36,36)"
           },
           "yaxis": {
            "backgroundcolor": "white",
            "gridcolor": "rgb(232,232,232)",
            "gridwidth": 2,
            "linecolor": "rgb(36,36,36)",
            "showbackground": true,
            "showgrid": false,
            "showline": true,
            "ticks": "outside",
            "zeroline": false,
            "zerolinecolor": "rgb(36,36,36)"
           },
           "zaxis": {
            "backgroundcolor": "white",
            "gridcolor": "rgb(232,232,232)",
            "gridwidth": 2,
            "linecolor": "rgb(36,36,36)",
            "showbackground": true,
            "showgrid": false,
            "showline": true,
            "ticks": "outside",
            "zeroline": false,
            "zerolinecolor": "rgb(36,36,36)"
           }
          },
          "shapedefaults": {
           "fillcolor": "black",
           "line": {
            "width": 0
           },
           "opacity": 0.3
          },
          "ternary": {
           "aaxis": {
            "gridcolor": "rgb(232,232,232)",
            "linecolor": "rgb(36,36,36)",
            "showgrid": false,
            "showline": true,
            "ticks": "outside"
           },
           "baxis": {
            "gridcolor": "rgb(232,232,232)",
            "linecolor": "rgb(36,36,36)",
            "showgrid": false,
            "showline": true,
            "ticks": "outside"
           },
           "bgcolor": "white",
           "caxis": {
            "gridcolor": "rgb(232,232,232)",
            "linecolor": "rgb(36,36,36)",
            "showgrid": false,
            "showline": true,
            "ticks": "outside"
           }
          },
          "title": {
           "x": 0.05
          },
          "xaxis": {
           "automargin": true,
           "gridcolor": "rgb(232,232,232)",
           "linecolor": "rgb(36,36,36)",
           "showgrid": false,
           "showline": true,
           "ticks": "outside",
           "title": {
            "standoff": 15
           },
           "zeroline": false,
           "zerolinecolor": "rgb(36,36,36)"
          },
          "yaxis": {
           "automargin": true,
           "gridcolor": "rgb(232,232,232)",
           "linecolor": "rgb(36,36,36)",
           "showgrid": false,
           "showline": true,
           "ticks": "outside",
           "title": {
            "standoff": 15
           },
           "zeroline": false,
           "zerolinecolor": "rgb(36,36,36)"
          }
         }
        },
        "title": {
         "text": "Cluster Performance"
        },
        "xaxis": {
         "linecolor": "black",
         "linewidth": 1,
         "mirror": true
        },
        "yaxis": {
         "linecolor": "black",
         "linewidth": 1,
         "mirror": true,
         "title": {
          "text": "F1 score - harmonic mean of recall and precision"
         }
        }
       }
      },
      "text/html": [
       "<div>                            <div id=\"963a06be-096c-4843-aa74-542255649418\" class=\"plotly-graph-div\" style=\"height:525px; width:100%;\"></div>            <script type=\"text/javascript\">                require([\"plotly\"], function(Plotly) {                    window.PLOTLYENV=window.PLOTLYENV || {};                                    if (document.getElementById(\"963a06be-096c-4843-aa74-542255649418\")) {                    Plotly.newPlot(                        \"963a06be-096c-4843-aa74-542255649418\",                        [{\"marker\": {\"color\": \"#1F77B4\"}, \"name\": \"44 min\", \"type\": \"scatter\", \"x\": [\"True: ER\", \"True: Large Protein Complex\", \"True: Lysosome\", \"True: Peroxisome\", \"True: Plasma membrane\", \"True: Endosome\", \"True: Mitochondrion\", \"True: Golgi\", \"True: Actin binding proteins\", \"True: Ergic/cisGolgi\", \"True: ER_high_curvature\", \"True: Nuclear pore complex\"], \"y\": [0.9741379310344828, 0.9950083194675541, 0.9859154929577464, 1.0, 0.9739130434782609, 0.9517241379310345, 0.9955357142857143, 0.9583333333333334, 0.923076923076923, 0.96, 0.9473684210526315, 0.9333333333333333]}, {\"marker\": {\"color\": \"#1F77B4\"}, \"mode\": \"markers\", \"showlegend\": false, \"type\": \"scatter\", \"x\": [\"Avg. all clusters\"], \"y\": [0.9665288874959178]}, {\"marker\": {\"color\": \"#1F77B4\"}, \"mode\": \"markers\", \"showlegend\": false, \"type\": \"scatter\", \"x\": [\"Avg. all organelles\"], \"y\": [0.9718808971192449]}, {\"marker\": {\"color\": \"#FF7F0E\"}, \"name\": \"r\", \"type\": \"scatter\", \"x\": [\"True: ER\", \"True: Large Protein Complex\", \"True: Lysosome\", \"True: Peroxisome\", \"True: Plasma membrane\", \"True: Endosome\", \"True: Mitochondrion\", \"True: Golgi\", \"True: Actin binding proteins\", \"True: Ergic/cisGolgi\", \"True: ER_high_curvature\", \"True: Nuclear pore complex\"], \"y\": [0.9741379310344828, 0.9950083194675541, 0.9859154929577464, 1.0, 0.9739130434782609, 0.9517241379310345, 0.9955357142857143, 0.9583333333333334, 0.923076923076923, 0.96, 0.9473684210526315, 0.9333333333333333]}, {\"marker\": {\"color\": \"#FF7F0E\"}, \"mode\": \"markers\", \"showlegend\": false, \"type\": \"scatter\", \"x\": [\"Avg. all clusters\"], \"y\": [0.9665288874959178]}, {\"marker\": {\"color\": \"#FF7F0E\"}, \"mode\": \"markers\", \"showlegend\": false, \"type\": \"scatter\", \"x\": [\"Avg. all organelles\"], \"y\": [0.9718808971192449]}],                        {\"template\": {\"data\": {\"bar\": [{\"error_x\": {\"color\": \"rgb(36,36,36)\"}, \"error_y\": {\"color\": \"rgb(36,36,36)\"}, \"marker\": {\"line\": {\"color\": \"white\", \"width\": 0.5}}, \"type\": \"bar\"}], \"barpolar\": [{\"marker\": {\"line\": {\"color\": \"white\", \"width\": 0.5}}, \"type\": \"barpolar\"}], \"carpet\": [{\"aaxis\": {\"endlinecolor\": \"rgb(36,36,36)\", \"gridcolor\": \"white\", \"linecolor\": \"white\", \"minorgridcolor\": \"white\", \"startlinecolor\": \"rgb(36,36,36)\"}, \"baxis\": {\"endlinecolor\": \"rgb(36,36,36)\", \"gridcolor\": \"white\", \"linecolor\": \"white\", \"minorgridcolor\": \"white\", \"startlinecolor\": \"rgb(36,36,36)\"}, \"type\": \"carpet\"}], \"choropleth\": [{\"colorbar\": {\"outlinewidth\": 1, \"tickcolor\": \"rgb(36,36,36)\", \"ticks\": \"outside\"}, \"type\": \"choropleth\"}], \"contour\": [{\"colorbar\": {\"outlinewidth\": 1, \"tickcolor\": \"rgb(36,36,36)\", \"ticks\": \"outside\"}, \"colorscale\": [[0.0, \"#440154\"], [0.1111111111111111, \"#482878\"], [0.2222222222222222, \"#3e4989\"], [0.3333333333333333, \"#31688e\"], [0.4444444444444444, \"#26828e\"], [0.5555555555555556, \"#1f9e89\"], [0.6666666666666666, \"#35b779\"], [0.7777777777777778, \"#6ece58\"], [0.8888888888888888, \"#b5de2b\"], [1.0, \"#fde725\"]], \"type\": \"contour\"}], \"contourcarpet\": [{\"colorbar\": {\"outlinewidth\": 1, \"tickcolor\": \"rgb(36,36,36)\", \"ticks\": \"outside\"}, \"type\": \"contourcarpet\"}], \"heatmap\": [{\"colorbar\": {\"outlinewidth\": 1, \"tickcolor\": \"rgb(36,36,36)\", \"ticks\": \"outside\"}, \"colorscale\": [[0.0, \"#440154\"], [0.1111111111111111, \"#482878\"], [0.2222222222222222, \"#3e4989\"], [0.3333333333333333, \"#31688e\"], [0.4444444444444444, \"#26828e\"], [0.5555555555555556, \"#1f9e89\"], [0.6666666666666666, \"#35b779\"], [0.7777777777777778, \"#6ece58\"], [0.8888888888888888, \"#b5de2b\"], [1.0, \"#fde725\"]], \"type\": \"heatmap\"}], \"heatmapgl\": [{\"colorbar\": {\"outlinewidth\": 1, \"tickcolor\": \"rgb(36,36,36)\", \"ticks\": \"outside\"}, \"colorscale\": [[0.0, \"#440154\"], [0.1111111111111111, \"#482878\"], [0.2222222222222222, \"#3e4989\"], [0.3333333333333333, \"#31688e\"], [0.4444444444444444, \"#26828e\"], [0.5555555555555556, \"#1f9e89\"], [0.6666666666666666, \"#35b779\"], [0.7777777777777778, \"#6ece58\"], [0.8888888888888888, \"#b5de2b\"], [1.0, \"#fde725\"]], \"type\": \"heatmapgl\"}], \"histogram\": [{\"marker\": {\"line\": {\"color\": \"white\", \"width\": 0.6}}, \"type\": \"histogram\"}], \"histogram2d\": [{\"colorbar\": {\"outlinewidth\": 1, \"tickcolor\": \"rgb(36,36,36)\", \"ticks\": \"outside\"}, \"colorscale\": [[0.0, \"#440154\"], [0.1111111111111111, \"#482878\"], [0.2222222222222222, \"#3e4989\"], [0.3333333333333333, \"#31688e\"], [0.4444444444444444, \"#26828e\"], [0.5555555555555556, \"#1f9e89\"], [0.6666666666666666, \"#35b779\"], [0.7777777777777778, \"#6ece58\"], [0.8888888888888888, \"#b5de2b\"], [1.0, \"#fde725\"]], \"type\": \"histogram2d\"}], \"histogram2dcontour\": [{\"colorbar\": {\"outlinewidth\": 1, \"tickcolor\": \"rgb(36,36,36)\", \"ticks\": \"outside\"}, \"colorscale\": [[0.0, \"#440154\"], [0.1111111111111111, \"#482878\"], [0.2222222222222222, \"#3e4989\"], [0.3333333333333333, \"#31688e\"], [0.4444444444444444, \"#26828e\"], [0.5555555555555556, \"#1f9e89\"], [0.6666666666666666, \"#35b779\"], [0.7777777777777778, \"#6ece58\"], [0.8888888888888888, \"#b5de2b\"], [1.0, \"#fde725\"]], \"type\": \"histogram2dcontour\"}], \"mesh3d\": [{\"colorbar\": {\"outlinewidth\": 1, \"tickcolor\": \"rgb(36,36,36)\", \"ticks\": \"outside\"}, \"type\": \"mesh3d\"}], \"parcoords\": [{\"line\": {\"colorbar\": {\"outlinewidth\": 1, \"tickcolor\": \"rgb(36,36,36)\", \"ticks\": \"outside\"}}, \"type\": \"parcoords\"}], \"pie\": [{\"automargin\": true, \"type\": \"pie\"}], \"scatter\": [{\"marker\": {\"colorbar\": {\"outlinewidth\": 1, \"tickcolor\": \"rgb(36,36,36)\", \"ticks\": \"outside\"}}, \"type\": \"scatter\"}], \"scatter3d\": [{\"line\": {\"colorbar\": {\"outlinewidth\": 1, \"tickcolor\": \"rgb(36,36,36)\", \"ticks\": \"outside\"}}, \"marker\": {\"colorbar\": {\"outlinewidth\": 1, \"tickcolor\": \"rgb(36,36,36)\", \"ticks\": \"outside\"}}, \"type\": \"scatter3d\"}], \"scattercarpet\": [{\"marker\": {\"colorbar\": {\"outlinewidth\": 1, \"tickcolor\": \"rgb(36,36,36)\", \"ticks\": \"outside\"}}, \"type\": \"scattercarpet\"}], \"scattergeo\": [{\"marker\": {\"colorbar\": {\"outlinewidth\": 1, \"tickcolor\": \"rgb(36,36,36)\", \"ticks\": \"outside\"}}, \"type\": \"scattergeo\"}], \"scattergl\": [{\"marker\": {\"colorbar\": {\"outlinewidth\": 1, \"tickcolor\": \"rgb(36,36,36)\", \"ticks\": \"outside\"}}, \"type\": \"scattergl\"}], \"scattermapbox\": [{\"marker\": {\"colorbar\": {\"outlinewidth\": 1, \"tickcolor\": \"rgb(36,36,36)\", \"ticks\": \"outside\"}}, \"type\": \"scattermapbox\"}], \"scatterpolar\": [{\"marker\": {\"colorbar\": {\"outlinewidth\": 1, \"tickcolor\": \"rgb(36,36,36)\", \"ticks\": \"outside\"}}, \"type\": \"scatterpolar\"}], \"scatterpolargl\": [{\"marker\": {\"colorbar\": {\"outlinewidth\": 1, \"tickcolor\": \"rgb(36,36,36)\", \"ticks\": \"outside\"}}, \"type\": \"scatterpolargl\"}], \"scatterternary\": [{\"marker\": {\"colorbar\": {\"outlinewidth\": 1, \"tickcolor\": \"rgb(36,36,36)\", \"ticks\": \"outside\"}}, \"type\": \"scatterternary\"}], \"surface\": [{\"colorbar\": {\"outlinewidth\": 1, \"tickcolor\": \"rgb(36,36,36)\", \"ticks\": \"outside\"}, \"colorscale\": [[0.0, \"#440154\"], [0.1111111111111111, \"#482878\"], [0.2222222222222222, \"#3e4989\"], [0.3333333333333333, \"#31688e\"], [0.4444444444444444, \"#26828e\"], [0.5555555555555556, \"#1f9e89\"], [0.6666666666666666, \"#35b779\"], [0.7777777777777778, \"#6ece58\"], [0.8888888888888888, \"#b5de2b\"], [1.0, \"#fde725\"]], \"type\": \"surface\"}], \"table\": [{\"cells\": {\"fill\": {\"color\": \"rgb(237,237,237)\"}, \"line\": {\"color\": \"white\"}}, \"header\": {\"fill\": {\"color\": \"rgb(217,217,217)\"}, \"line\": {\"color\": \"white\"}}, \"type\": \"table\"}]}, \"layout\": {\"annotationdefaults\": {\"arrowhead\": 0, \"arrowwidth\": 1}, \"autotypenumbers\": \"strict\", \"coloraxis\": {\"colorbar\": {\"outlinewidth\": 1, \"tickcolor\": \"rgb(36,36,36)\", \"ticks\": \"outside\"}}, \"colorscale\": {\"diverging\": [[0.0, \"rgb(103,0,31)\"], [0.1, \"rgb(178,24,43)\"], [0.2, \"rgb(214,96,77)\"], [0.3, \"rgb(244,165,130)\"], [0.4, \"rgb(253,219,199)\"], [0.5, \"rgb(247,247,247)\"], [0.6, \"rgb(209,229,240)\"], [0.7, \"rgb(146,197,222)\"], [0.8, \"rgb(67,147,195)\"], [0.9, \"rgb(33,102,172)\"], [1.0, \"rgb(5,48,97)\"]], \"sequential\": [[0.0, \"#440154\"], [0.1111111111111111, \"#482878\"], [0.2222222222222222, \"#3e4989\"], [0.3333333333333333, \"#31688e\"], [0.4444444444444444, \"#26828e\"], [0.5555555555555556, \"#1f9e89\"], [0.6666666666666666, \"#35b779\"], [0.7777777777777778, \"#6ece58\"], [0.8888888888888888, \"#b5de2b\"], [1.0, \"#fde725\"]], \"sequentialminus\": [[0.0, \"#440154\"], [0.1111111111111111, \"#482878\"], [0.2222222222222222, \"#3e4989\"], [0.3333333333333333, \"#31688e\"], [0.4444444444444444, \"#26828e\"], [0.5555555555555556, \"#1f9e89\"], [0.6666666666666666, \"#35b779\"], [0.7777777777777778, \"#6ece58\"], [0.8888888888888888, \"#b5de2b\"], [1.0, \"#fde725\"]]}, \"colorway\": [\"#1F77B4\", \"#FF7F0E\", \"#2CA02C\", \"#D62728\", \"#9467BD\", \"#8C564B\", \"#E377C2\", \"#7F7F7F\", \"#BCBD22\", \"#17BECF\"], \"font\": {\"color\": \"rgb(36,36,36)\"}, \"geo\": {\"bgcolor\": \"white\", \"lakecolor\": \"white\", \"landcolor\": \"white\", \"showlakes\": true, \"showland\": true, \"subunitcolor\": \"white\"}, \"hoverlabel\": {\"align\": \"left\"}, \"hovermode\": \"closest\", \"mapbox\": {\"style\": \"light\"}, \"paper_bgcolor\": \"white\", \"plot_bgcolor\": \"white\", \"polar\": {\"angularaxis\": {\"gridcolor\": \"rgb(232,232,232)\", \"linecolor\": \"rgb(36,36,36)\", \"showgrid\": false, \"showline\": true, \"ticks\": \"outside\"}, \"bgcolor\": \"white\", \"radialaxis\": {\"gridcolor\": \"rgb(232,232,232)\", \"linecolor\": \"rgb(36,36,36)\", \"showgrid\": false, \"showline\": true, \"ticks\": \"outside\"}}, \"scene\": {\"xaxis\": {\"backgroundcolor\": \"white\", \"gridcolor\": \"rgb(232,232,232)\", \"gridwidth\": 2, \"linecolor\": \"rgb(36,36,36)\", \"showbackground\": true, \"showgrid\": false, \"showline\": true, \"ticks\": \"outside\", \"zeroline\": false, \"zerolinecolor\": \"rgb(36,36,36)\"}, \"yaxis\": {\"backgroundcolor\": \"white\", \"gridcolor\": \"rgb(232,232,232)\", \"gridwidth\": 2, \"linecolor\": \"rgb(36,36,36)\", \"showbackground\": true, \"showgrid\": false, \"showline\": true, \"ticks\": \"outside\", \"zeroline\": false, \"zerolinecolor\": \"rgb(36,36,36)\"}, \"zaxis\": {\"backgroundcolor\": \"white\", \"gridcolor\": \"rgb(232,232,232)\", \"gridwidth\": 2, \"linecolor\": \"rgb(36,36,36)\", \"showbackground\": true, \"showgrid\": false, \"showline\": true, \"ticks\": \"outside\", \"zeroline\": false, \"zerolinecolor\": \"rgb(36,36,36)\"}}, \"shapedefaults\": {\"fillcolor\": \"black\", \"line\": {\"width\": 0}, \"opacity\": 0.3}, \"ternary\": {\"aaxis\": {\"gridcolor\": \"rgb(232,232,232)\", \"linecolor\": \"rgb(36,36,36)\", \"showgrid\": false, \"showline\": true, \"ticks\": \"outside\"}, \"baxis\": {\"gridcolor\": \"rgb(232,232,232)\", \"linecolor\": \"rgb(36,36,36)\", \"showgrid\": false, \"showline\": true, \"ticks\": \"outside\"}, \"bgcolor\": \"white\", \"caxis\": {\"gridcolor\": \"rgb(232,232,232)\", \"linecolor\": \"rgb(36,36,36)\", \"showgrid\": false, \"showline\": true, \"ticks\": \"outside\"}}, \"title\": {\"x\": 0.05}, \"xaxis\": {\"automargin\": true, \"gridcolor\": \"rgb(232,232,232)\", \"linecolor\": \"rgb(36,36,36)\", \"showgrid\": false, \"showline\": true, \"ticks\": \"outside\", \"title\": {\"standoff\": 15}, \"zeroline\": false, \"zerolinecolor\": \"rgb(36,36,36)\"}, \"yaxis\": {\"automargin\": true, \"gridcolor\": \"rgb(232,232,232)\", \"linecolor\": \"rgb(36,36,36)\", \"showgrid\": false, \"showline\": true, \"ticks\": \"outside\", \"title\": {\"standoff\": 15}, \"zeroline\": false, \"zerolinecolor\": \"rgb(36,36,36)\"}}}, \"title\": {\"text\": \"Cluster Performance\"}, \"xaxis\": {\"linecolor\": \"black\", \"linewidth\": 1, \"mirror\": true}, \"yaxis\": {\"linecolor\": \"black\", \"linewidth\": 1, \"mirror\": true, \"title\": {\"text\": \"F1 score - harmonic mean of recall and precision\"}}},                        {\"responsive\": true}                    ).then(function(){\n",
       "                            \n",
       "var gd = document.getElementById('963a06be-096c-4843-aa74-542255649418');\n",
       "var x = new MutationObserver(function (mutations, observer) {{\n",
       "        var display = window.getComputedStyle(gd).display;\n",
       "        if (!display || display === 'none') {{\n",
       "            console.log([gd, 'removed!']);\n",
       "            Plotly.purge(gd);\n",
       "            observer.disconnect();\n",
       "        }}\n",
       "}});\n",
       "\n",
       "// Listen for the removal of the full notebook cells\n",
       "var notebookContainer = gd.closest('#notebook-container');\n",
       "if (notebookContainer) {{\n",
       "    x.observe(notebookContainer, {childList: true});\n",
       "}}\n",
       "\n",
       "// Listen for the clearing of the current output cell\n",
       "var outputEl = gd.closest('.output');\n",
       "if (outputEl) {{\n",
       "    x.observe(outputEl, {childList: true});\n",
       "}}\n",
       "\n",
       "                        })                };                });            </script>        </div>"
      ]
     },
     "metadata": {},
     "output_type": "display_data"
    }
   ],
   "source": [
    "fig_clusterPerformance"
   ]
  },
  {
   "cell_type": "code",
   "execution_count": 7,
   "metadata": {},
   "outputs": [],
   "source": [
    "df_SVM = pd.read_json(i_class_comp.json_dict['44 min'][\"Misclassification Matrix\"])"
   ]
  },
  {
   "cell_type": "code",
   "execution_count": 17,
   "metadata": {},
   "outputs": [
    {
     "data": {
      "text/html": [
       "<div>\n",
       "<style scoped>\n",
       "    .dataframe tbody tr th:only-of-type {\n",
       "        vertical-align: middle;\n",
       "    }\n",
       "\n",
       "    .dataframe tbody tr th {\n",
       "        vertical-align: top;\n",
       "    }\n",
       "\n",
       "    .dataframe thead th {\n",
       "        text-align: right;\n",
       "    }\n",
       "</style>\n",
       "<table border=\"1\" class=\"dataframe\">\n",
       "  <thead>\n",
       "    <tr style=\"text-align: right;\">\n",
       "      <th></th>\n",
       "      <th>Predicted: ER</th>\n",
       "      <th>Predicted: Large Protein Complex</th>\n",
       "      <th>Predicted: Lysosome</th>\n",
       "      <th>Predicted: Peroxisome</th>\n",
       "      <th>Predicted: Plasma membrane</th>\n",
       "      <th>Predicted: Endosome</th>\n",
       "      <th>Predicted: Mitochondrion</th>\n",
       "      <th>Predicted: Golgi</th>\n",
       "      <th>Predicted: Actin binding proteins</th>\n",
       "      <th>Predicted: Ergic/cisGolgi</th>\n",
       "      <th>Predicted: ER_high_curvature</th>\n",
       "      <th>Predicted: Nuclear pore complex</th>\n",
       "      <th>T: True group</th>\n",
       "    </tr>\n",
       "  </thead>\n",
       "  <tbody>\n",
       "    <tr>\n",
       "      <th>0</th>\n",
       "      <td>113</td>\n",
       "      <td>0</td>\n",
       "      <td>0</td>\n",
       "      <td>0</td>\n",
       "      <td>0</td>\n",
       "      <td>0</td>\n",
       "      <td>2</td>\n",
       "      <td>0</td>\n",
       "      <td>0</td>\n",
       "      <td>0</td>\n",
       "      <td>0</td>\n",
       "      <td>0</td>\n",
       "      <td>True: ER</td>\n",
       "    </tr>\n",
       "    <tr>\n",
       "      <th>1</th>\n",
       "      <td>0</td>\n",
       "      <td>299</td>\n",
       "      <td>0</td>\n",
       "      <td>0</td>\n",
       "      <td>0</td>\n",
       "      <td>0</td>\n",
       "      <td>0</td>\n",
       "      <td>0</td>\n",
       "      <td>0</td>\n",
       "      <td>0</td>\n",
       "      <td>0</td>\n",
       "      <td>0</td>\n",
       "      <td>True: Large Protein Complex</td>\n",
       "    </tr>\n",
       "    <tr>\n",
       "      <th>2</th>\n",
       "      <td>0</td>\n",
       "      <td>0</td>\n",
       "      <td>35</td>\n",
       "      <td>0</td>\n",
       "      <td>0</td>\n",
       "      <td>0</td>\n",
       "      <td>0</td>\n",
       "      <td>0</td>\n",
       "      <td>0</td>\n",
       "      <td>0</td>\n",
       "      <td>0</td>\n",
       "      <td>0</td>\n",
       "      <td>True: Lysosome</td>\n",
       "    </tr>\n",
       "    <tr>\n",
       "      <th>3</th>\n",
       "      <td>0</td>\n",
       "      <td>0</td>\n",
       "      <td>0</td>\n",
       "      <td>16</td>\n",
       "      <td>0</td>\n",
       "      <td>0</td>\n",
       "      <td>0</td>\n",
       "      <td>0</td>\n",
       "      <td>0</td>\n",
       "      <td>0</td>\n",
       "      <td>0</td>\n",
       "      <td>0</td>\n",
       "      <td>True: Peroxisome</td>\n",
       "    </tr>\n",
       "    <tr>\n",
       "      <th>4</th>\n",
       "      <td>1</td>\n",
       "      <td>0</td>\n",
       "      <td>0</td>\n",
       "      <td>0</td>\n",
       "      <td>112</td>\n",
       "      <td>0</td>\n",
       "      <td>0</td>\n",
       "      <td>0</td>\n",
       "      <td>1</td>\n",
       "      <td>0</td>\n",
       "      <td>0</td>\n",
       "      <td>0</td>\n",
       "      <td>True: Plasma membrane</td>\n",
       "    </tr>\n",
       "    <tr>\n",
       "      <th>5</th>\n",
       "      <td>2</td>\n",
       "      <td>3</td>\n",
       "      <td>1</td>\n",
       "      <td>0</td>\n",
       "      <td>0</td>\n",
       "      <td>69</td>\n",
       "      <td>0</td>\n",
       "      <td>0</td>\n",
       "      <td>0</td>\n",
       "      <td>1</td>\n",
       "      <td>0</td>\n",
       "      <td>0</td>\n",
       "      <td>True: Endosome</td>\n",
       "    </tr>\n",
       "    <tr>\n",
       "      <th>6</th>\n",
       "      <td>0</td>\n",
       "      <td>0</td>\n",
       "      <td>0</td>\n",
       "      <td>0</td>\n",
       "      <td>0</td>\n",
       "      <td>0</td>\n",
       "      <td>223</td>\n",
       "      <td>0</td>\n",
       "      <td>0</td>\n",
       "      <td>0</td>\n",
       "      <td>0</td>\n",
       "      <td>0</td>\n",
       "      <td>True: Mitochondrion</td>\n",
       "    </tr>\n",
       "    <tr>\n",
       "      <th>7</th>\n",
       "      <td>0</td>\n",
       "      <td>0</td>\n",
       "      <td>0</td>\n",
       "      <td>0</td>\n",
       "      <td>1</td>\n",
       "      <td>0</td>\n",
       "      <td>0</td>\n",
       "      <td>23</td>\n",
       "      <td>0</td>\n",
       "      <td>0</td>\n",
       "      <td>0</td>\n",
       "      <td>0</td>\n",
       "      <td>True: Golgi</td>\n",
       "    </tr>\n",
       "    <tr>\n",
       "      <th>8</th>\n",
       "      <td>0</td>\n",
       "      <td>0</td>\n",
       "      <td>0</td>\n",
       "      <td>0</td>\n",
       "      <td>2</td>\n",
       "      <td>0</td>\n",
       "      <td>0</td>\n",
       "      <td>1</td>\n",
       "      <td>24</td>\n",
       "      <td>0</td>\n",
       "      <td>0</td>\n",
       "      <td>0</td>\n",
       "      <td>True: Actin binding proteins</td>\n",
       "    </tr>\n",
       "    <tr>\n",
       "      <th>9</th>\n",
       "      <td>0</td>\n",
       "      <td>0</td>\n",
       "      <td>0</td>\n",
       "      <td>0</td>\n",
       "      <td>0</td>\n",
       "      <td>0</td>\n",
       "      <td>0</td>\n",
       "      <td>0</td>\n",
       "      <td>0</td>\n",
       "      <td>24</td>\n",
       "      <td>1</td>\n",
       "      <td>0</td>\n",
       "      <td>True: Ergic/cisGolgi</td>\n",
       "    </tr>\n",
       "    <tr>\n",
       "      <th>10</th>\n",
       "      <td>0</td>\n",
       "      <td>0</td>\n",
       "      <td>0</td>\n",
       "      <td>0</td>\n",
       "      <td>0</td>\n",
       "      <td>0</td>\n",
       "      <td>0</td>\n",
       "      <td>0</td>\n",
       "      <td>0</td>\n",
       "      <td>0</td>\n",
       "      <td>9</td>\n",
       "      <td>0</td>\n",
       "      <td>True: ER_high_curvature</td>\n",
       "    </tr>\n",
       "    <tr>\n",
       "      <th>11</th>\n",
       "      <td>1</td>\n",
       "      <td>0</td>\n",
       "      <td>0</td>\n",
       "      <td>0</td>\n",
       "      <td>1</td>\n",
       "      <td>0</td>\n",
       "      <td>0</td>\n",
       "      <td>0</td>\n",
       "      <td>0</td>\n",
       "      <td>0</td>\n",
       "      <td>0</td>\n",
       "      <td>14</td>\n",
       "      <td>True: Nuclear pore complex</td>\n",
       "    </tr>\n",
       "  </tbody>\n",
       "</table>\n",
       "</div>"
      ],
      "text/plain": [
       "    Predicted: ER  Predicted: Large Protein Complex  Predicted: Lysosome  \\\n",
       "0             113                                 0                    0   \n",
       "1               0                               299                    0   \n",
       "2               0                                 0                   35   \n",
       "3               0                                 0                    0   \n",
       "4               1                                 0                    0   \n",
       "5               2                                 3                    1   \n",
       "6               0                                 0                    0   \n",
       "7               0                                 0                    0   \n",
       "8               0                                 0                    0   \n",
       "9               0                                 0                    0   \n",
       "10              0                                 0                    0   \n",
       "11              1                                 0                    0   \n",
       "\n",
       "    Predicted: Peroxisome  Predicted: Plasma membrane  Predicted: Endosome  \\\n",
       "0                       0                           0                    0   \n",
       "1                       0                           0                    0   \n",
       "2                       0                           0                    0   \n",
       "3                      16                           0                    0   \n",
       "4                       0                         112                    0   \n",
       "5                       0                           0                   69   \n",
       "6                       0                           0                    0   \n",
       "7                       0                           1                    0   \n",
       "8                       0                           2                    0   \n",
       "9                       0                           0                    0   \n",
       "10                      0                           0                    0   \n",
       "11                      0                           1                    0   \n",
       "\n",
       "    Predicted: Mitochondrion  Predicted: Golgi  \\\n",
       "0                          2                 0   \n",
       "1                          0                 0   \n",
       "2                          0                 0   \n",
       "3                          0                 0   \n",
       "4                          0                 0   \n",
       "5                          0                 0   \n",
       "6                        223                 0   \n",
       "7                          0                23   \n",
       "8                          0                 1   \n",
       "9                          0                 0   \n",
       "10                         0                 0   \n",
       "11                         0                 0   \n",
       "\n",
       "    Predicted: Actin binding proteins  Predicted: Ergic/cisGolgi  \\\n",
       "0                                   0                          0   \n",
       "1                                   0                          0   \n",
       "2                                   0                          0   \n",
       "3                                   0                          0   \n",
       "4                                   1                          0   \n",
       "5                                   0                          1   \n",
       "6                                   0                          0   \n",
       "7                                   0                          0   \n",
       "8                                  24                          0   \n",
       "9                                   0                         24   \n",
       "10                                  0                          0   \n",
       "11                                  0                          0   \n",
       "\n",
       "    Predicted: ER_high_curvature  Predicted: Nuclear pore complex  \\\n",
       "0                              0                                0   \n",
       "1                              0                                0   \n",
       "2                              0                                0   \n",
       "3                              0                                0   \n",
       "4                              0                                0   \n",
       "5                              0                                0   \n",
       "6                              0                                0   \n",
       "7                              0                                0   \n",
       "8                              0                                0   \n",
       "9                              1                                0   \n",
       "10                             9                                0   \n",
       "11                             0                               14   \n",
       "\n",
       "                   T: True group  \n",
       "0                       True: ER  \n",
       "1    True: Large Protein Complex  \n",
       "2                 True: Lysosome  \n",
       "3               True: Peroxisome  \n",
       "4          True: Plasma membrane  \n",
       "5                 True: Endosome  \n",
       "6            True: Mitochondrion  \n",
       "7                    True: Golgi  \n",
       "8   True: Actin binding proteins  \n",
       "9           True: Ergic/cisGolgi  \n",
       "10       True: ER_high_curvature  \n",
       "11    True: Nuclear pore complex  "
      ]
     },
     "execution_count": 17,
     "metadata": {},
     "output_type": "execute_result"
    }
   ],
   "source": [
    "df_SVM"
   ]
  },
  {
   "cell_type": "code",
   "execution_count": null,
   "metadata": {},
   "outputs": [],
   "source": [
    "#global_SVM_dict_total = {}\n",
    "#global_SVM_dict = {}\n",
    "#for exp in self.json_dict.keys():\n",
    "##df_SVM = self.df_SVM.copy()\n",
    "#    pd.read_json(self.json_dict[exp][\"Misclassification Matrix\"])\n",
    "#    SVM_dict = {}\n",
    "#    all_correct = np.diag(df_SVM)\n",
    "#    members = df_SVM.sum(axis=1)\n",
    "#    total_members = 0\n",
    "#    membrame_members = 0\n",
    "#    membrane_correct = 0\n",
    "#    all_organelle_recall = []\n",
    "#    all_organelle_precision = []\n",
    "#    all_organelle_f1 = []\n",
    "#    F1_all_cluster = []\n",
    "#    no_of_membrane_clusters = 0\n",
    "#    total_correct = sum(all_correct)\n",
    "#    predicted_one_organelle = df_SVM.sum(axis=0)\n",
    "#    \n",
    "#    for i in range(len(df_SVM)):\n",
    "#        total_members = total_members + members[i]\n",
    "#        recall = all_correct[i]/members[i]\n",
    "#        fdr = (predicted_one_organelle[i]-all_correct[i])/predicted_one_organelle[i]\n",
    "#        precision = 1-fdr\n",
    "#        F1 = statistics.harmonic_mean([recall, precision])\n",
    "#        F1_all_cluster.append(F1)\n",
    "#        SVM_dict[df_SVM[\"T: True group\"][i]] = {\"Recall\": recall, \"FDR\": fdr, \"Precision\": precision, \"F1\": F1} \n",
    "#        if df_SVM[\"T: True group\"][i]!=\"True: Nuclear pore complex\" and df_SVM[\"T: True group\"][i]!=\"True: Large Protein Complex\" and df_SVM[\"T: True group\"][i]!=\"True: Actin binding proteins\" :\n",
    "#            no_of_membrane_clusters = no_of_membrane_clusters+1\n",
    "#            membrame_members = membrame_members + members[i]\n",
    "#            membrane_correct = membrane_correct + all_correct[i]\n",
    "#            all_organelle_f1.append(F1)\n",
    "#            all_organelle_recall.append(recall)\n",
    "#            all_organelle_precision.append(precision)\n",
    "#        \n",
    "#    total_recall = total_correct/total_members\n",
    "#    membrane_recall = membrane_correct/membrame_members\n",
    "#    av_per_organelle_recall = statistics.mean(all_organelle_recall)\n",
    "#    median_per_organelle_recall = statistics.median(all_organelle_recall)\n",
    "#    av_per_organelle_precision = statistics.mean(all_organelle_precision)\n",
    "#    avg_organelle_f1 = statistics.mean(all_organelle_f1)\n",
    "#    avg_F1_all_cluster = statistics.mean(F1_all_cluster)\n",
    "#    \n",
    "#    SVM_dict_total = {}\n",
    "#    SVM_dict_total[\"Avg. all clusters\"] = {\"Recall\": total_recall, \"F1\": avg_F1_all_cluster} #total recall = marker prediction accuracy\n",
    "#    SVM_dict_total[\"Avg. all organelles\"] = {\"Recall\": av_per_organelle_recall, \"F1\": avg_organelle_f1, \"Precision\": av_per_organelle_precision}\n",
    "#    SVM_dict_total[\"Membrane\"] = {\"Recall\": membrane_recall}\n",
    "#    SVM_dict_total[\"Median. per organelle\"] = {\"Recall\": median_per_organelle_recall}\n",
    "#    \n",
    "#    global_SVM_dict[exp] = SVM_dict\n",
    "#    global_SVM_dict_total[exp] = SVM_dict_total\n",
    "#\n",
    "#    \n",
    "#df_clusterPerformance_global = pd.DataFrame.from_dict({(i,j): global_SVM_dict[i][j] \n",
    "#                           for i in global_SVM_dict.keys() \n",
    "#                           for j in global_SVM_dict[i].keys()},\n",
    "#                       orient='index')\n",
    "#df_clusterPerformance_global.index.names = [\"Experiment\", \"Type\"]\n",
    "#df_clusterPerformance_global = df_clusterPerformance_global.T \n",
    "#\n",
    "#df_AvgClusterPerformance_global = pd.DataFrame.from_dict({(i,j): global_SVM_dict_total[i][j] \n",
    "#                           for i in global_SVM_dict_total.keys() \n",
    "#                           for j in global_SVM_dict_total[i].keys()},\n",
    "#                       orient='index')\n",
    "#df_AvgClusterPerformance_global.index.names = [\"Experiment\", \"Type\"]\n",
    "#df_AvgClusterPerformance_global = df_AvgClusterPerformance_global.T"
   ]
  },
  {
   "cell_type": "code",
   "execution_count": 134,
   "metadata": {},
   "outputs": [
    {
     "data": {
      "application/vnd.plotly.v1+json": {
       "config": {
        "plotlyServerURL": "https://plot.ly"
       },
       "data": [
        {
         "type": "bar",
         "x": [
          " library DIA (8xBPRP) | 3xSDB-RPS | 44 min"
         ],
         "y": [
          0.9816138917262512
         ]
        },
        {
         "type": "bar",
         "x": [
          "Autophagy | direct DIA | Spec"
         ],
         "y": [
          0.9816138917262512
         ]
        },
        {
         "type": "bar",
         "x": [
          "Autophagy | library DIA (mq) | Spec"
         ],
         "y": [
          0.9816138917262512
         ]
        },
        {
         "type": "bar",
         "x": [
          "Autophagy | library DIA (p) | Spec"
         ],
         "y": [
          0.9816138917262512
         ]
        },
        {
         "type": "bar",
         "x": [
          "Autophagy | library DIA | MQ"
         ],
         "y": [
          0.9816138917262512
         ]
        },
        {
         "type": "bar",
         "x": [
          "DDA"
         ],
         "y": [
          0.9816138917262512
         ]
        },
        {
         "type": "bar",
         "x": [
          "direct DIA | 100 min"
         ],
         "y": [
          0.9816138917262512
         ]
        },
        {
         "type": "bar",
         "x": [
          "direct DIA | 3xSDB-RPS | 44 min"
         ],
         "y": [
          0.9816138917262512
         ]
        },
        {
         "type": "bar",
         "x": [
          "library DIA | 100 min"
         ],
         "y": [
          0.9816138917262512
         ]
        }
       ],
       "layout": {
        "template": {
         "data": {
          "bar": [
           {
            "error_x": {
             "color": "rgb(36,36,36)"
            },
            "error_y": {
             "color": "rgb(36,36,36)"
            },
            "marker": {
             "line": {
              "color": "white",
              "width": 0.5
             }
            },
            "type": "bar"
           }
          ],
          "barpolar": [
           {
            "marker": {
             "line": {
              "color": "white",
              "width": 0.5
             }
            },
            "type": "barpolar"
           }
          ],
          "carpet": [
           {
            "aaxis": {
             "endlinecolor": "rgb(36,36,36)",
             "gridcolor": "white",
             "linecolor": "white",
             "minorgridcolor": "white",
             "startlinecolor": "rgb(36,36,36)"
            },
            "baxis": {
             "endlinecolor": "rgb(36,36,36)",
             "gridcolor": "white",
             "linecolor": "white",
             "minorgridcolor": "white",
             "startlinecolor": "rgb(36,36,36)"
            },
            "type": "carpet"
           }
          ],
          "choropleth": [
           {
            "colorbar": {
             "outlinewidth": 1,
             "tickcolor": "rgb(36,36,36)",
             "ticks": "outside"
            },
            "type": "choropleth"
           }
          ],
          "contour": [
           {
            "colorbar": {
             "outlinewidth": 1,
             "tickcolor": "rgb(36,36,36)",
             "ticks": "outside"
            },
            "colorscale": [
             [
              0,
              "#440154"
             ],
             [
              0.1111111111111111,
              "#482878"
             ],
             [
              0.2222222222222222,
              "#3e4989"
             ],
             [
              0.3333333333333333,
              "#31688e"
             ],
             [
              0.4444444444444444,
              "#26828e"
             ],
             [
              0.5555555555555556,
              "#1f9e89"
             ],
             [
              0.6666666666666666,
              "#35b779"
             ],
             [
              0.7777777777777778,
              "#6ece58"
             ],
             [
              0.8888888888888888,
              "#b5de2b"
             ],
             [
              1,
              "#fde725"
             ]
            ],
            "type": "contour"
           }
          ],
          "contourcarpet": [
           {
            "colorbar": {
             "outlinewidth": 1,
             "tickcolor": "rgb(36,36,36)",
             "ticks": "outside"
            },
            "type": "contourcarpet"
           }
          ],
          "heatmap": [
           {
            "colorbar": {
             "outlinewidth": 1,
             "tickcolor": "rgb(36,36,36)",
             "ticks": "outside"
            },
            "colorscale": [
             [
              0,
              "#440154"
             ],
             [
              0.1111111111111111,
              "#482878"
             ],
             [
              0.2222222222222222,
              "#3e4989"
             ],
             [
              0.3333333333333333,
              "#31688e"
             ],
             [
              0.4444444444444444,
              "#26828e"
             ],
             [
              0.5555555555555556,
              "#1f9e89"
             ],
             [
              0.6666666666666666,
              "#35b779"
             ],
             [
              0.7777777777777778,
              "#6ece58"
             ],
             [
              0.8888888888888888,
              "#b5de2b"
             ],
             [
              1,
              "#fde725"
             ]
            ],
            "type": "heatmap"
           }
          ],
          "heatmapgl": [
           {
            "colorbar": {
             "outlinewidth": 1,
             "tickcolor": "rgb(36,36,36)",
             "ticks": "outside"
            },
            "colorscale": [
             [
              0,
              "#440154"
             ],
             [
              0.1111111111111111,
              "#482878"
             ],
             [
              0.2222222222222222,
              "#3e4989"
             ],
             [
              0.3333333333333333,
              "#31688e"
             ],
             [
              0.4444444444444444,
              "#26828e"
             ],
             [
              0.5555555555555556,
              "#1f9e89"
             ],
             [
              0.6666666666666666,
              "#35b779"
             ],
             [
              0.7777777777777778,
              "#6ece58"
             ],
             [
              0.8888888888888888,
              "#b5de2b"
             ],
             [
              1,
              "#fde725"
             ]
            ],
            "type": "heatmapgl"
           }
          ],
          "histogram": [
           {
            "marker": {
             "line": {
              "color": "white",
              "width": 0.6
             }
            },
            "type": "histogram"
           }
          ],
          "histogram2d": [
           {
            "colorbar": {
             "outlinewidth": 1,
             "tickcolor": "rgb(36,36,36)",
             "ticks": "outside"
            },
            "colorscale": [
             [
              0,
              "#440154"
             ],
             [
              0.1111111111111111,
              "#482878"
             ],
             [
              0.2222222222222222,
              "#3e4989"
             ],
             [
              0.3333333333333333,
              "#31688e"
             ],
             [
              0.4444444444444444,
              "#26828e"
             ],
             [
              0.5555555555555556,
              "#1f9e89"
             ],
             [
              0.6666666666666666,
              "#35b779"
             ],
             [
              0.7777777777777778,
              "#6ece58"
             ],
             [
              0.8888888888888888,
              "#b5de2b"
             ],
             [
              1,
              "#fde725"
             ]
            ],
            "type": "histogram2d"
           }
          ],
          "histogram2dcontour": [
           {
            "colorbar": {
             "outlinewidth": 1,
             "tickcolor": "rgb(36,36,36)",
             "ticks": "outside"
            },
            "colorscale": [
             [
              0,
              "#440154"
             ],
             [
              0.1111111111111111,
              "#482878"
             ],
             [
              0.2222222222222222,
              "#3e4989"
             ],
             [
              0.3333333333333333,
              "#31688e"
             ],
             [
              0.4444444444444444,
              "#26828e"
             ],
             [
              0.5555555555555556,
              "#1f9e89"
             ],
             [
              0.6666666666666666,
              "#35b779"
             ],
             [
              0.7777777777777778,
              "#6ece58"
             ],
             [
              0.8888888888888888,
              "#b5de2b"
             ],
             [
              1,
              "#fde725"
             ]
            ],
            "type": "histogram2dcontour"
           }
          ],
          "mesh3d": [
           {
            "colorbar": {
             "outlinewidth": 1,
             "tickcolor": "rgb(36,36,36)",
             "ticks": "outside"
            },
            "type": "mesh3d"
           }
          ],
          "parcoords": [
           {
            "line": {
             "colorbar": {
              "outlinewidth": 1,
              "tickcolor": "rgb(36,36,36)",
              "ticks": "outside"
             }
            },
            "type": "parcoords"
           }
          ],
          "pie": [
           {
            "automargin": true,
            "type": "pie"
           }
          ],
          "scatter": [
           {
            "marker": {
             "colorbar": {
              "outlinewidth": 1,
              "tickcolor": "rgb(36,36,36)",
              "ticks": "outside"
             }
            },
            "type": "scatter"
           }
          ],
          "scatter3d": [
           {
            "line": {
             "colorbar": {
              "outlinewidth": 1,
              "tickcolor": "rgb(36,36,36)",
              "ticks": "outside"
             }
            },
            "marker": {
             "colorbar": {
              "outlinewidth": 1,
              "tickcolor": "rgb(36,36,36)",
              "ticks": "outside"
             }
            },
            "type": "scatter3d"
           }
          ],
          "scattercarpet": [
           {
            "marker": {
             "colorbar": {
              "outlinewidth": 1,
              "tickcolor": "rgb(36,36,36)",
              "ticks": "outside"
             }
            },
            "type": "scattercarpet"
           }
          ],
          "scattergeo": [
           {
            "marker": {
             "colorbar": {
              "outlinewidth": 1,
              "tickcolor": "rgb(36,36,36)",
              "ticks": "outside"
             }
            },
            "type": "scattergeo"
           }
          ],
          "scattergl": [
           {
            "marker": {
             "colorbar": {
              "outlinewidth": 1,
              "tickcolor": "rgb(36,36,36)",
              "ticks": "outside"
             }
            },
            "type": "scattergl"
           }
          ],
          "scattermapbox": [
           {
            "marker": {
             "colorbar": {
              "outlinewidth": 1,
              "tickcolor": "rgb(36,36,36)",
              "ticks": "outside"
             }
            },
            "type": "scattermapbox"
           }
          ],
          "scatterpolar": [
           {
            "marker": {
             "colorbar": {
              "outlinewidth": 1,
              "tickcolor": "rgb(36,36,36)",
              "ticks": "outside"
             }
            },
            "type": "scatterpolar"
           }
          ],
          "scatterpolargl": [
           {
            "marker": {
             "colorbar": {
              "outlinewidth": 1,
              "tickcolor": "rgb(36,36,36)",
              "ticks": "outside"
             }
            },
            "type": "scatterpolargl"
           }
          ],
          "scatterternary": [
           {
            "marker": {
             "colorbar": {
              "outlinewidth": 1,
              "tickcolor": "rgb(36,36,36)",
              "ticks": "outside"
             }
            },
            "type": "scatterternary"
           }
          ],
          "surface": [
           {
            "colorbar": {
             "outlinewidth": 1,
             "tickcolor": "rgb(36,36,36)",
             "ticks": "outside"
            },
            "colorscale": [
             [
              0,
              "#440154"
             ],
             [
              0.1111111111111111,
              "#482878"
             ],
             [
              0.2222222222222222,
              "#3e4989"
             ],
             [
              0.3333333333333333,
              "#31688e"
             ],
             [
              0.4444444444444444,
              "#26828e"
             ],
             [
              0.5555555555555556,
              "#1f9e89"
             ],
             [
              0.6666666666666666,
              "#35b779"
             ],
             [
              0.7777777777777778,
              "#6ece58"
             ],
             [
              0.8888888888888888,
              "#b5de2b"
             ],
             [
              1,
              "#fde725"
             ]
            ],
            "type": "surface"
           }
          ],
          "table": [
           {
            "cells": {
             "fill": {
              "color": "rgb(237,237,237)"
             },
             "line": {
              "color": "white"
             }
            },
            "header": {
             "fill": {
              "color": "rgb(217,217,217)"
             },
             "line": {
              "color": "white"
             }
            },
            "type": "table"
           }
          ]
         },
         "layout": {
          "annotationdefaults": {
           "arrowhead": 0,
           "arrowwidth": 1
          },
          "autotypenumbers": "strict",
          "coloraxis": {
           "colorbar": {
            "outlinewidth": 1,
            "tickcolor": "rgb(36,36,36)",
            "ticks": "outside"
           }
          },
          "colorscale": {
           "diverging": [
            [
             0,
             "rgb(103,0,31)"
            ],
            [
             0.1,
             "rgb(178,24,43)"
            ],
            [
             0.2,
             "rgb(214,96,77)"
            ],
            [
             0.3,
             "rgb(244,165,130)"
            ],
            [
             0.4,
             "rgb(253,219,199)"
            ],
            [
             0.5,
             "rgb(247,247,247)"
            ],
            [
             0.6,
             "rgb(209,229,240)"
            ],
            [
             0.7,
             "rgb(146,197,222)"
            ],
            [
             0.8,
             "rgb(67,147,195)"
            ],
            [
             0.9,
             "rgb(33,102,172)"
            ],
            [
             1,
             "rgb(5,48,97)"
            ]
           ],
           "sequential": [
            [
             0,
             "#440154"
            ],
            [
             0.1111111111111111,
             "#482878"
            ],
            [
             0.2222222222222222,
             "#3e4989"
            ],
            [
             0.3333333333333333,
             "#31688e"
            ],
            [
             0.4444444444444444,
             "#26828e"
            ],
            [
             0.5555555555555556,
             "#1f9e89"
            ],
            [
             0.6666666666666666,
             "#35b779"
            ],
            [
             0.7777777777777778,
             "#6ece58"
            ],
            [
             0.8888888888888888,
             "#b5de2b"
            ],
            [
             1,
             "#fde725"
            ]
           ],
           "sequentialminus": [
            [
             0,
             "#440154"
            ],
            [
             0.1111111111111111,
             "#482878"
            ],
            [
             0.2222222222222222,
             "#3e4989"
            ],
            [
             0.3333333333333333,
             "#31688e"
            ],
            [
             0.4444444444444444,
             "#26828e"
            ],
            [
             0.5555555555555556,
             "#1f9e89"
            ],
            [
             0.6666666666666666,
             "#35b779"
            ],
            [
             0.7777777777777778,
             "#6ece58"
            ],
            [
             0.8888888888888888,
             "#b5de2b"
            ],
            [
             1,
             "#fde725"
            ]
           ]
          },
          "colorway": [
           "#1F77B4",
           "#FF7F0E",
           "#2CA02C",
           "#D62728",
           "#9467BD",
           "#8C564B",
           "#E377C2",
           "#7F7F7F",
           "#BCBD22",
           "#17BECF"
          ],
          "font": {
           "color": "rgb(36,36,36)"
          },
          "geo": {
           "bgcolor": "white",
           "lakecolor": "white",
           "landcolor": "white",
           "showlakes": true,
           "showland": true,
           "subunitcolor": "white"
          },
          "hoverlabel": {
           "align": "left"
          },
          "hovermode": "closest",
          "mapbox": {
           "style": "light"
          },
          "paper_bgcolor": "white",
          "plot_bgcolor": "white",
          "polar": {
           "angularaxis": {
            "gridcolor": "rgb(232,232,232)",
            "linecolor": "rgb(36,36,36)",
            "showgrid": false,
            "showline": true,
            "ticks": "outside"
           },
           "bgcolor": "white",
           "radialaxis": {
            "gridcolor": "rgb(232,232,232)",
            "linecolor": "rgb(36,36,36)",
            "showgrid": false,
            "showline": true,
            "ticks": "outside"
           }
          },
          "scene": {
           "xaxis": {
            "backgroundcolor": "white",
            "gridcolor": "rgb(232,232,232)",
            "gridwidth": 2,
            "linecolor": "rgb(36,36,36)",
            "showbackground": true,
            "showgrid": false,
            "showline": true,
            "ticks": "outside",
            "zeroline": false,
            "zerolinecolor": "rgb(36,36,36)"
           },
           "yaxis": {
            "backgroundcolor": "white",
            "gridcolor": "rgb(232,232,232)",
            "gridwidth": 2,
            "linecolor": "rgb(36,36,36)",
            "showbackground": true,
            "showgrid": false,
            "showline": true,
            "ticks": "outside",
            "zeroline": false,
            "zerolinecolor": "rgb(36,36,36)"
           },
           "zaxis": {
            "backgroundcolor": "white",
            "gridcolor": "rgb(232,232,232)",
            "gridwidth": 2,
            "linecolor": "rgb(36,36,36)",
            "showbackground": true,
            "showgrid": false,
            "showline": true,
            "ticks": "outside",
            "zeroline": false,
            "zerolinecolor": "rgb(36,36,36)"
           }
          },
          "shapedefaults": {
           "fillcolor": "black",
           "line": {
            "width": 0
           },
           "opacity": 0.3
          },
          "ternary": {
           "aaxis": {
            "gridcolor": "rgb(232,232,232)",
            "linecolor": "rgb(36,36,36)",
            "showgrid": false,
            "showline": true,
            "ticks": "outside"
           },
           "baxis": {
            "gridcolor": "rgb(232,232,232)",
            "linecolor": "rgb(36,36,36)",
            "showgrid": false,
            "showline": true,
            "ticks": "outside"
           },
           "bgcolor": "white",
           "caxis": {
            "gridcolor": "rgb(232,232,232)",
            "linecolor": "rgb(36,36,36)",
            "showgrid": false,
            "showline": true,
            "ticks": "outside"
           }
          },
          "title": {
           "x": 0.05
          },
          "xaxis": {
           "automargin": true,
           "gridcolor": "rgb(232,232,232)",
           "linecolor": "rgb(36,36,36)",
           "showgrid": false,
           "showline": true,
           "ticks": "outside",
           "title": {
            "standoff": 15
           },
           "zeroline": false,
           "zerolinecolor": "rgb(36,36,36)"
          },
          "yaxis": {
           "automargin": true,
           "gridcolor": "rgb(232,232,232)",
           "linecolor": "rgb(36,36,36)",
           "showgrid": false,
           "showline": true,
           "ticks": "outside",
           "title": {
            "standoff": 15
           },
           "zeroline": false,
           "zerolinecolor": "rgb(36,36,36)"
          }
         }
        },
        "title": {
         "text": "Cluster Performance"
        },
        "xaxis": {
         "linecolor": "black",
         "linewidth": 1,
         "mirror": true
        },
        "yaxis": {
         "linecolor": "black",
         "linewidth": 1,
         "mirror": true,
         "title": {
          "text": "F1 score - harmonic mean of recall and precision"
         }
        }
       }
      },
      "text/html": [
       "<div>                            <div id=\"282977f8-a6b9-430d-bb26-4a8a18f8a3ce\" class=\"plotly-graph-div\" style=\"height:525px; width:100%;\"></div>            <script type=\"text/javascript\">                require([\"plotly\"], function(Plotly) {                    window.PLOTLYENV=window.PLOTLYENV || {};                                    if (document.getElementById(\"282977f8-a6b9-430d-bb26-4a8a18f8a3ce\")) {                    Plotly.newPlot(                        \"282977f8-a6b9-430d-bb26-4a8a18f8a3ce\",                        [{\"type\": \"bar\", \"x\": [\" library DIA (8xBPRP) | 3xSDB-RPS | 44 min\"], \"y\": [0.9816138917262512]}, {\"type\": \"bar\", \"x\": [\"Autophagy | direct DIA | Spec\"], \"y\": [0.9816138917262512]}, {\"type\": \"bar\", \"x\": [\"Autophagy | library DIA (mq) | Spec\"], \"y\": [0.9816138917262512]}, {\"type\": \"bar\", \"x\": [\"Autophagy | library DIA (p) | Spec\"], \"y\": [0.9816138917262512]}, {\"type\": \"bar\", \"x\": [\"Autophagy | library DIA | MQ\"], \"y\": [0.9816138917262512]}, {\"type\": \"bar\", \"x\": [\"DDA\"], \"y\": [0.9816138917262512]}, {\"type\": \"bar\", \"x\": [\"direct DIA | 100 min\"], \"y\": [0.9816138917262512]}, {\"type\": \"bar\", \"x\": [\"direct DIA | 3xSDB-RPS | 44 min\"], \"y\": [0.9816138917262512]}, {\"type\": \"bar\", \"x\": [\"library DIA | 100 min\"], \"y\": [0.9816138917262512]}],                        {\"template\": {\"data\": {\"bar\": [{\"error_x\": {\"color\": \"rgb(36,36,36)\"}, \"error_y\": {\"color\": \"rgb(36,36,36)\"}, \"marker\": {\"line\": {\"color\": \"white\", \"width\": 0.5}}, \"type\": \"bar\"}], \"barpolar\": [{\"marker\": {\"line\": {\"color\": \"white\", \"width\": 0.5}}, \"type\": \"barpolar\"}], \"carpet\": [{\"aaxis\": {\"endlinecolor\": \"rgb(36,36,36)\", \"gridcolor\": \"white\", \"linecolor\": \"white\", \"minorgridcolor\": \"white\", \"startlinecolor\": \"rgb(36,36,36)\"}, \"baxis\": {\"endlinecolor\": \"rgb(36,36,36)\", \"gridcolor\": \"white\", \"linecolor\": \"white\", \"minorgridcolor\": \"white\", \"startlinecolor\": \"rgb(36,36,36)\"}, \"type\": \"carpet\"}], \"choropleth\": [{\"colorbar\": {\"outlinewidth\": 1, \"tickcolor\": \"rgb(36,36,36)\", \"ticks\": \"outside\"}, \"type\": \"choropleth\"}], \"contour\": [{\"colorbar\": {\"outlinewidth\": 1, \"tickcolor\": \"rgb(36,36,36)\", \"ticks\": \"outside\"}, \"colorscale\": [[0.0, \"#440154\"], [0.1111111111111111, \"#482878\"], [0.2222222222222222, \"#3e4989\"], [0.3333333333333333, \"#31688e\"], [0.4444444444444444, \"#26828e\"], [0.5555555555555556, \"#1f9e89\"], [0.6666666666666666, \"#35b779\"], [0.7777777777777778, \"#6ece58\"], [0.8888888888888888, \"#b5de2b\"], [1.0, \"#fde725\"]], \"type\": \"contour\"}], \"contourcarpet\": [{\"colorbar\": {\"outlinewidth\": 1, \"tickcolor\": \"rgb(36,36,36)\", \"ticks\": \"outside\"}, \"type\": \"contourcarpet\"}], \"heatmap\": [{\"colorbar\": {\"outlinewidth\": 1, \"tickcolor\": \"rgb(36,36,36)\", \"ticks\": \"outside\"}, \"colorscale\": [[0.0, \"#440154\"], [0.1111111111111111, \"#482878\"], [0.2222222222222222, \"#3e4989\"], [0.3333333333333333, \"#31688e\"], [0.4444444444444444, \"#26828e\"], [0.5555555555555556, \"#1f9e89\"], [0.6666666666666666, \"#35b779\"], [0.7777777777777778, \"#6ece58\"], [0.8888888888888888, \"#b5de2b\"], [1.0, \"#fde725\"]], \"type\": \"heatmap\"}], \"heatmapgl\": [{\"colorbar\": {\"outlinewidth\": 1, \"tickcolor\": \"rgb(36,36,36)\", \"ticks\": \"outside\"}, \"colorscale\": [[0.0, \"#440154\"], [0.1111111111111111, \"#482878\"], [0.2222222222222222, \"#3e4989\"], [0.3333333333333333, \"#31688e\"], [0.4444444444444444, \"#26828e\"], [0.5555555555555556, \"#1f9e89\"], [0.6666666666666666, \"#35b779\"], [0.7777777777777778, \"#6ece58\"], [0.8888888888888888, \"#b5de2b\"], [1.0, \"#fde725\"]], \"type\": \"heatmapgl\"}], \"histogram\": [{\"marker\": {\"line\": {\"color\": \"white\", \"width\": 0.6}}, \"type\": \"histogram\"}], \"histogram2d\": [{\"colorbar\": {\"outlinewidth\": 1, \"tickcolor\": \"rgb(36,36,36)\", \"ticks\": \"outside\"}, \"colorscale\": [[0.0, \"#440154\"], [0.1111111111111111, \"#482878\"], [0.2222222222222222, \"#3e4989\"], [0.3333333333333333, \"#31688e\"], [0.4444444444444444, \"#26828e\"], [0.5555555555555556, \"#1f9e89\"], [0.6666666666666666, \"#35b779\"], [0.7777777777777778, \"#6ece58\"], [0.8888888888888888, \"#b5de2b\"], [1.0, \"#fde725\"]], \"type\": \"histogram2d\"}], \"histogram2dcontour\": [{\"colorbar\": {\"outlinewidth\": 1, \"tickcolor\": \"rgb(36,36,36)\", \"ticks\": \"outside\"}, \"colorscale\": [[0.0, \"#440154\"], [0.1111111111111111, \"#482878\"], [0.2222222222222222, \"#3e4989\"], [0.3333333333333333, \"#31688e\"], [0.4444444444444444, \"#26828e\"], [0.5555555555555556, \"#1f9e89\"], [0.6666666666666666, \"#35b779\"], [0.7777777777777778, \"#6ece58\"], [0.8888888888888888, \"#b5de2b\"], [1.0, \"#fde725\"]], \"type\": \"histogram2dcontour\"}], \"mesh3d\": [{\"colorbar\": {\"outlinewidth\": 1, \"tickcolor\": \"rgb(36,36,36)\", \"ticks\": \"outside\"}, \"type\": \"mesh3d\"}], \"parcoords\": [{\"line\": {\"colorbar\": {\"outlinewidth\": 1, \"tickcolor\": \"rgb(36,36,36)\", \"ticks\": \"outside\"}}, \"type\": \"parcoords\"}], \"pie\": [{\"automargin\": true, \"type\": \"pie\"}], \"scatter\": [{\"marker\": {\"colorbar\": {\"outlinewidth\": 1, \"tickcolor\": \"rgb(36,36,36)\", \"ticks\": \"outside\"}}, \"type\": \"scatter\"}], \"scatter3d\": [{\"line\": {\"colorbar\": {\"outlinewidth\": 1, \"tickcolor\": \"rgb(36,36,36)\", \"ticks\": \"outside\"}}, \"marker\": {\"colorbar\": {\"outlinewidth\": 1, \"tickcolor\": \"rgb(36,36,36)\", \"ticks\": \"outside\"}}, \"type\": \"scatter3d\"}], \"scattercarpet\": [{\"marker\": {\"colorbar\": {\"outlinewidth\": 1, \"tickcolor\": \"rgb(36,36,36)\", \"ticks\": \"outside\"}}, \"type\": \"scattercarpet\"}], \"scattergeo\": [{\"marker\": {\"colorbar\": {\"outlinewidth\": 1, \"tickcolor\": \"rgb(36,36,36)\", \"ticks\": \"outside\"}}, \"type\": \"scattergeo\"}], \"scattergl\": [{\"marker\": {\"colorbar\": {\"outlinewidth\": 1, \"tickcolor\": \"rgb(36,36,36)\", \"ticks\": \"outside\"}}, \"type\": \"scattergl\"}], \"scattermapbox\": [{\"marker\": {\"colorbar\": {\"outlinewidth\": 1, \"tickcolor\": \"rgb(36,36,36)\", \"ticks\": \"outside\"}}, \"type\": \"scattermapbox\"}], \"scatterpolar\": [{\"marker\": {\"colorbar\": {\"outlinewidth\": 1, \"tickcolor\": \"rgb(36,36,36)\", \"ticks\": \"outside\"}}, \"type\": \"scatterpolar\"}], \"scatterpolargl\": [{\"marker\": {\"colorbar\": {\"outlinewidth\": 1, \"tickcolor\": \"rgb(36,36,36)\", \"ticks\": \"outside\"}}, \"type\": \"scatterpolargl\"}], \"scatterternary\": [{\"marker\": {\"colorbar\": {\"outlinewidth\": 1, \"tickcolor\": \"rgb(36,36,36)\", \"ticks\": \"outside\"}}, \"type\": \"scatterternary\"}], \"surface\": [{\"colorbar\": {\"outlinewidth\": 1, \"tickcolor\": \"rgb(36,36,36)\", \"ticks\": \"outside\"}, \"colorscale\": [[0.0, \"#440154\"], [0.1111111111111111, \"#482878\"], [0.2222222222222222, \"#3e4989\"], [0.3333333333333333, \"#31688e\"], [0.4444444444444444, \"#26828e\"], [0.5555555555555556, \"#1f9e89\"], [0.6666666666666666, \"#35b779\"], [0.7777777777777778, \"#6ece58\"], [0.8888888888888888, \"#b5de2b\"], [1.0, \"#fde725\"]], \"type\": \"surface\"}], \"table\": [{\"cells\": {\"fill\": {\"color\": \"rgb(237,237,237)\"}, \"line\": {\"color\": \"white\"}}, \"header\": {\"fill\": {\"color\": \"rgb(217,217,217)\"}, \"line\": {\"color\": \"white\"}}, \"type\": \"table\"}]}, \"layout\": {\"annotationdefaults\": {\"arrowhead\": 0, \"arrowwidth\": 1}, \"autotypenumbers\": \"strict\", \"coloraxis\": {\"colorbar\": {\"outlinewidth\": 1, \"tickcolor\": \"rgb(36,36,36)\", \"ticks\": \"outside\"}}, \"colorscale\": {\"diverging\": [[0.0, \"rgb(103,0,31)\"], [0.1, \"rgb(178,24,43)\"], [0.2, \"rgb(214,96,77)\"], [0.3, \"rgb(244,165,130)\"], [0.4, \"rgb(253,219,199)\"], [0.5, \"rgb(247,247,247)\"], [0.6, \"rgb(209,229,240)\"], [0.7, \"rgb(146,197,222)\"], [0.8, \"rgb(67,147,195)\"], [0.9, \"rgb(33,102,172)\"], [1.0, \"rgb(5,48,97)\"]], \"sequential\": [[0.0, \"#440154\"], [0.1111111111111111, \"#482878\"], [0.2222222222222222, \"#3e4989\"], [0.3333333333333333, \"#31688e\"], [0.4444444444444444, \"#26828e\"], [0.5555555555555556, \"#1f9e89\"], [0.6666666666666666, \"#35b779\"], [0.7777777777777778, \"#6ece58\"], [0.8888888888888888, \"#b5de2b\"], [1.0, \"#fde725\"]], \"sequentialminus\": [[0.0, \"#440154\"], [0.1111111111111111, \"#482878\"], [0.2222222222222222, \"#3e4989\"], [0.3333333333333333, \"#31688e\"], [0.4444444444444444, \"#26828e\"], [0.5555555555555556, \"#1f9e89\"], [0.6666666666666666, \"#35b779\"], [0.7777777777777778, \"#6ece58\"], [0.8888888888888888, \"#b5de2b\"], [1.0, \"#fde725\"]]}, \"colorway\": [\"#1F77B4\", \"#FF7F0E\", \"#2CA02C\", \"#D62728\", \"#9467BD\", \"#8C564B\", \"#E377C2\", \"#7F7F7F\", \"#BCBD22\", \"#17BECF\"], \"font\": {\"color\": \"rgb(36,36,36)\"}, \"geo\": {\"bgcolor\": \"white\", \"lakecolor\": \"white\", \"landcolor\": \"white\", \"showlakes\": true, \"showland\": true, \"subunitcolor\": \"white\"}, \"hoverlabel\": {\"align\": \"left\"}, \"hovermode\": \"closest\", \"mapbox\": {\"style\": \"light\"}, \"paper_bgcolor\": \"white\", \"plot_bgcolor\": \"white\", \"polar\": {\"angularaxis\": {\"gridcolor\": \"rgb(232,232,232)\", \"linecolor\": \"rgb(36,36,36)\", \"showgrid\": false, \"showline\": true, \"ticks\": \"outside\"}, \"bgcolor\": \"white\", \"radialaxis\": {\"gridcolor\": \"rgb(232,232,232)\", \"linecolor\": \"rgb(36,36,36)\", \"showgrid\": false, \"showline\": true, \"ticks\": \"outside\"}}, \"scene\": {\"xaxis\": {\"backgroundcolor\": \"white\", \"gridcolor\": \"rgb(232,232,232)\", \"gridwidth\": 2, \"linecolor\": \"rgb(36,36,36)\", \"showbackground\": true, \"showgrid\": false, \"showline\": true, \"ticks\": \"outside\", \"zeroline\": false, \"zerolinecolor\": \"rgb(36,36,36)\"}, \"yaxis\": {\"backgroundcolor\": \"white\", \"gridcolor\": \"rgb(232,232,232)\", \"gridwidth\": 2, \"linecolor\": \"rgb(36,36,36)\", \"showbackground\": true, \"showgrid\": false, \"showline\": true, \"ticks\": \"outside\", \"zeroline\": false, \"zerolinecolor\": \"rgb(36,36,36)\"}, \"zaxis\": {\"backgroundcolor\": \"white\", \"gridcolor\": \"rgb(232,232,232)\", \"gridwidth\": 2, \"linecolor\": \"rgb(36,36,36)\", \"showbackground\": true, \"showgrid\": false, \"showline\": true, \"ticks\": \"outside\", \"zeroline\": false, \"zerolinecolor\": \"rgb(36,36,36)\"}}, \"shapedefaults\": {\"fillcolor\": \"black\", \"line\": {\"width\": 0}, \"opacity\": 0.3}, \"ternary\": {\"aaxis\": {\"gridcolor\": \"rgb(232,232,232)\", \"linecolor\": \"rgb(36,36,36)\", \"showgrid\": false, \"showline\": true, \"ticks\": \"outside\"}, \"baxis\": {\"gridcolor\": \"rgb(232,232,232)\", \"linecolor\": \"rgb(36,36,36)\", \"showgrid\": false, \"showline\": true, \"ticks\": \"outside\"}, \"bgcolor\": \"white\", \"caxis\": {\"gridcolor\": \"rgb(232,232,232)\", \"linecolor\": \"rgb(36,36,36)\", \"showgrid\": false, \"showline\": true, \"ticks\": \"outside\"}}, \"title\": {\"x\": 0.05}, \"xaxis\": {\"automargin\": true, \"gridcolor\": \"rgb(232,232,232)\", \"linecolor\": \"rgb(36,36,36)\", \"showgrid\": false, \"showline\": true, \"ticks\": \"outside\", \"title\": {\"standoff\": 15}, \"zeroline\": false, \"zerolinecolor\": \"rgb(36,36,36)\"}, \"yaxis\": {\"automargin\": true, \"gridcolor\": \"rgb(232,232,232)\", \"linecolor\": \"rgb(36,36,36)\", \"showgrid\": false, \"showline\": true, \"ticks\": \"outside\", \"title\": {\"standoff\": 15}, \"zeroline\": false, \"zerolinecolor\": \"rgb(36,36,36)\"}}}, \"title\": {\"text\": \"Cluster Performance\"}, \"xaxis\": {\"linecolor\": \"black\", \"linewidth\": 1, \"mirror\": true}, \"yaxis\": {\"linecolor\": \"black\", \"linewidth\": 1, \"mirror\": true, \"title\": {\"text\": \"F1 score - harmonic mean of recall and precision\"}}},                        {\"responsive\": true}                    ).then(function(){\n",
       "                            \n",
       "var gd = document.getElementById('282977f8-a6b9-430d-bb26-4a8a18f8a3ce');\n",
       "var x = new MutationObserver(function (mutations, observer) {{\n",
       "        var display = window.getComputedStyle(gd).display;\n",
       "        if (!display || display === 'none') {{\n",
       "            console.log([gd, 'removed!']);\n",
       "            Plotly.purge(gd);\n",
       "            observer.disconnect();\n",
       "        }}\n",
       "}});\n",
       "\n",
       "// Listen for the removal of the full notebook cells\n",
       "var notebookContainer = gd.closest('#notebook-container');\n",
       "if (notebookContainer) {{\n",
       "    x.observe(notebookContainer, {childList: true});\n",
       "}}\n",
       "\n",
       "// Listen for the clearing of the current output cell\n",
       "var outputEl = gd.closest('.output');\n",
       "if (outputEl) {{\n",
       "    x.observe(outputEl, {childList: true});\n",
       "}}\n",
       "\n",
       "                        })                };                });            </script>        </div>"
      ]
     },
     "metadata": {},
     "output_type": "display_data"
    }
   ],
   "source": [
    "df_AvgAllCluster = df_AvgClusterPerformance_global.xs(\"Avg. all clusters\", level='Type', axis=1)\n",
    "fig_markerPredictionAccuracy = go.Figure()#data=[go.Bar(x=df_test.columns, y=df_test.loc[\"Recall\"])])\n",
    "for exp in global_SVM_dict.keys():\n",
    "    fig_markerPredictionAccuracy.add_trace(go.Bar(x=[exp], y=[df_AvgAllCluster[exp].loc[\"Recall\"]]))\n",
    "fig_markerPredictionAccuracy.update_layout(template=\"simple_white\", #showlegend=False, \n",
    "            title=\"Cluster Performance\",\n",
    "            xaxis=go.layout.XAxis(linecolor=\"black\",\n",
    "                                linewidth=1,\n",
    "                                mirror=True),\n",
    "            yaxis=go.layout.YAxis(linecolor=\"black\",\n",
    "                                linewidth=1,\n",
    "                                title=\"F1 score - harmonic mean of recall and precision\",\n",
    "                                mirror=True),\n",
    "            )\n",
    "fig_markerPredictionAccuracy"
   ]
  },
  {
   "cell_type": "code",
   "execution_count": 133,
   "metadata": {
    "scrolled": true
   },
   "outputs": [
    {
     "data": {
      "application/vnd.plotly.v1+json": {
       "config": {
        "plotlyServerURL": "https://plot.ly"
       },
       "data": [
        {
         "marker": {
          "color": "#1F77B4"
         },
         "name": " library DIA (8xBPRP) | 3xSDB-RPS | 44 min",
         "type": "scatter",
         "x": [
          "True: ER",
          "True: Large Protein Complex",
          "True: Lysosome",
          "True: Peroxisome",
          "True: Plasma membrane",
          "True: Endosome",
          "True: Mitochondrion",
          "True: Golgi",
          "True: Actin binding proteins",
          "True: Ergic/cisGolgi",
          "True: ER_high_curvature",
          "True: Nuclear pore complex"
         ],
         "y": [
          0.9741379310344828,
          0.9950083194675541,
          0.9859154929577464,
          1,
          0.9739130434782609,
          0.9517241379310345,
          0.9955357142857143,
          0.9583333333333334,
          0.923076923076923,
          0.96,
          0.9473684210526315,
          0.9333333333333333
         ]
        },
        {
         "marker": {
          "color": "#1F77B4"
         },
         "mode": "markers",
         "showlegend": false,
         "type": "scatter",
         "x": [
          "Avg. all clusters"
         ],
         "y": [
          0.9665288874959178
         ]
        },
        {
         "marker": {
          "color": "#1F77B4"
         },
         "mode": "markers",
         "showlegend": false,
         "type": "scatter",
         "x": [
          "Avg. all organelles"
         ],
         "y": [
          0.9718808971192449
         ]
        },
        {
         "marker": {
          "color": "#FF7F0E"
         },
         "name": "Autophagy | direct DIA | Spec",
         "type": "scatter",
         "x": [
          "True: ER",
          "True: Large Protein Complex",
          "True: Lysosome",
          "True: Peroxisome",
          "True: Plasma membrane",
          "True: Endosome",
          "True: Mitochondrion",
          "True: Golgi",
          "True: Actin binding proteins",
          "True: Ergic/cisGolgi",
          "True: ER_high_curvature",
          "True: Nuclear pore complex"
         ],
         "y": [
          0.9741379310344828,
          0.9950083194675541,
          0.9859154929577464,
          1,
          0.9739130434782609,
          0.9517241379310345,
          0.9955357142857143,
          0.9583333333333334,
          0.923076923076923,
          0.96,
          0.9473684210526315,
          0.9333333333333333
         ]
        },
        {
         "marker": {
          "color": "#FF7F0E"
         },
         "mode": "markers",
         "showlegend": false,
         "type": "scatter",
         "x": [
          "Avg. all clusters"
         ],
         "y": [
          0.9665288874959178
         ]
        },
        {
         "marker": {
          "color": "#FF7F0E"
         },
         "mode": "markers",
         "showlegend": false,
         "type": "scatter",
         "x": [
          "Avg. all organelles"
         ],
         "y": [
          0.9718808971192449
         ]
        },
        {
         "marker": {
          "color": "#2CA02C"
         },
         "name": "Autophagy | library DIA (mq) | Spec",
         "type": "scatter",
         "x": [
          "True: ER",
          "True: Large Protein Complex",
          "True: Lysosome",
          "True: Peroxisome",
          "True: Plasma membrane",
          "True: Endosome",
          "True: Mitochondrion",
          "True: Golgi",
          "True: Actin binding proteins",
          "True: Ergic/cisGolgi",
          "True: ER_high_curvature",
          "True: Nuclear pore complex"
         ],
         "y": [
          0.9741379310344828,
          0.9950083194675541,
          0.9859154929577464,
          1,
          0.9739130434782609,
          0.9517241379310345,
          0.9955357142857143,
          0.9583333333333334,
          0.923076923076923,
          0.96,
          0.9473684210526315,
          0.9333333333333333
         ]
        },
        {
         "marker": {
          "color": "#2CA02C"
         },
         "mode": "markers",
         "showlegend": false,
         "type": "scatter",
         "x": [
          "Avg. all clusters"
         ],
         "y": [
          0.9665288874959178
         ]
        },
        {
         "marker": {
          "color": "#2CA02C"
         },
         "mode": "markers",
         "showlegend": false,
         "type": "scatter",
         "x": [
          "Avg. all organelles"
         ],
         "y": [
          0.9718808971192449
         ]
        },
        {
         "marker": {
          "color": "#D62728"
         },
         "name": "Autophagy | library DIA (p) | Spec",
         "type": "scatter",
         "x": [
          "True: ER",
          "True: Large Protein Complex",
          "True: Lysosome",
          "True: Peroxisome",
          "True: Plasma membrane",
          "True: Endosome",
          "True: Mitochondrion",
          "True: Golgi",
          "True: Actin binding proteins",
          "True: Ergic/cisGolgi",
          "True: ER_high_curvature",
          "True: Nuclear pore complex"
         ],
         "y": [
          0.9741379310344828,
          0.9950083194675541,
          0.9859154929577464,
          1,
          0.9739130434782609,
          0.9517241379310345,
          0.9955357142857143,
          0.9583333333333334,
          0.923076923076923,
          0.96,
          0.9473684210526315,
          0.9333333333333333
         ]
        },
        {
         "marker": {
          "color": "#D62728"
         },
         "mode": "markers",
         "showlegend": false,
         "type": "scatter",
         "x": [
          "Avg. all clusters"
         ],
         "y": [
          0.9665288874959178
         ]
        },
        {
         "marker": {
          "color": "#D62728"
         },
         "mode": "markers",
         "showlegend": false,
         "type": "scatter",
         "x": [
          "Avg. all organelles"
         ],
         "y": [
          0.9718808971192449
         ]
        },
        {
         "marker": {
          "color": "#9467BD"
         },
         "name": "Autophagy | library DIA | MQ",
         "type": "scatter",
         "x": [
          "True: ER",
          "True: Large Protein Complex",
          "True: Lysosome",
          "True: Peroxisome",
          "True: Plasma membrane",
          "True: Endosome",
          "True: Mitochondrion",
          "True: Golgi",
          "True: Actin binding proteins",
          "True: Ergic/cisGolgi",
          "True: ER_high_curvature",
          "True: Nuclear pore complex"
         ],
         "y": [
          0.9741379310344828,
          0.9950083194675541,
          0.9859154929577464,
          1,
          0.9739130434782609,
          0.9517241379310345,
          0.9955357142857143,
          0.9583333333333334,
          0.923076923076923,
          0.96,
          0.9473684210526315,
          0.9333333333333333
         ]
        },
        {
         "marker": {
          "color": "#9467BD"
         },
         "mode": "markers",
         "showlegend": false,
         "type": "scatter",
         "x": [
          "Avg. all clusters"
         ],
         "y": [
          0.9665288874959178
         ]
        },
        {
         "marker": {
          "color": "#9467BD"
         },
         "mode": "markers",
         "showlegend": false,
         "type": "scatter",
         "x": [
          "Avg. all organelles"
         ],
         "y": [
          0.9718808971192449
         ]
        },
        {
         "marker": {
          "color": "#8C564B"
         },
         "name": "DDA",
         "type": "scatter",
         "x": [
          "True: ER",
          "True: Large Protein Complex",
          "True: Lysosome",
          "True: Peroxisome",
          "True: Plasma membrane",
          "True: Endosome",
          "True: Mitochondrion",
          "True: Golgi",
          "True: Actin binding proteins",
          "True: Ergic/cisGolgi",
          "True: ER_high_curvature",
          "True: Nuclear pore complex"
         ],
         "y": [
          0.9741379310344828,
          0.9950083194675541,
          0.9859154929577464,
          1,
          0.9739130434782609,
          0.9517241379310345,
          0.9955357142857143,
          0.9583333333333334,
          0.923076923076923,
          0.96,
          0.9473684210526315,
          0.9333333333333333
         ]
        },
        {
         "marker": {
          "color": "#8C564B"
         },
         "mode": "markers",
         "showlegend": false,
         "type": "scatter",
         "x": [
          "Avg. all clusters"
         ],
         "y": [
          0.9665288874959178
         ]
        },
        {
         "marker": {
          "color": "#8C564B"
         },
         "mode": "markers",
         "showlegend": false,
         "type": "scatter",
         "x": [
          "Avg. all organelles"
         ],
         "y": [
          0.9718808971192449
         ]
        },
        {
         "marker": {
          "color": "#E377C2"
         },
         "name": "direct DIA | 100 min",
         "type": "scatter",
         "x": [
          "True: ER",
          "True: Large Protein Complex",
          "True: Lysosome",
          "True: Peroxisome",
          "True: Plasma membrane",
          "True: Endosome",
          "True: Mitochondrion",
          "True: Golgi",
          "True: Actin binding proteins",
          "True: Ergic/cisGolgi",
          "True: ER_high_curvature",
          "True: Nuclear pore complex"
         ],
         "y": [
          0.9741379310344828,
          0.9950083194675541,
          0.9859154929577464,
          1,
          0.9739130434782609,
          0.9517241379310345,
          0.9955357142857143,
          0.9583333333333334,
          0.923076923076923,
          0.96,
          0.9473684210526315,
          0.9333333333333333
         ]
        },
        {
         "marker": {
          "color": "#E377C2"
         },
         "mode": "markers",
         "showlegend": false,
         "type": "scatter",
         "x": [
          "Avg. all clusters"
         ],
         "y": [
          0.9665288874959178
         ]
        },
        {
         "marker": {
          "color": "#E377C2"
         },
         "mode": "markers",
         "showlegend": false,
         "type": "scatter",
         "x": [
          "Avg. all organelles"
         ],
         "y": [
          0.9718808971192449
         ]
        },
        {
         "marker": {
          "color": "#7F7F7F"
         },
         "name": "direct DIA | 3xSDB-RPS | 44 min",
         "type": "scatter",
         "x": [
          "True: ER",
          "True: Large Protein Complex",
          "True: Lysosome",
          "True: Peroxisome",
          "True: Plasma membrane",
          "True: Endosome",
          "True: Mitochondrion",
          "True: Golgi",
          "True: Actin binding proteins",
          "True: Ergic/cisGolgi",
          "True: ER_high_curvature",
          "True: Nuclear pore complex"
         ],
         "y": [
          0.9741379310344828,
          0.9950083194675541,
          0.9859154929577464,
          1,
          0.9739130434782609,
          0.9517241379310345,
          0.9955357142857143,
          0.9583333333333334,
          0.923076923076923,
          0.96,
          0.9473684210526315,
          0.9333333333333333
         ]
        },
        {
         "marker": {
          "color": "#7F7F7F"
         },
         "mode": "markers",
         "showlegend": false,
         "type": "scatter",
         "x": [
          "Avg. all clusters"
         ],
         "y": [
          0.9665288874959178
         ]
        },
        {
         "marker": {
          "color": "#7F7F7F"
         },
         "mode": "markers",
         "showlegend": false,
         "type": "scatter",
         "x": [
          "Avg. all organelles"
         ],
         "y": [
          0.9718808971192449
         ]
        },
        {
         "marker": {
          "color": "#BCBD22"
         },
         "name": "library DIA | 100 min",
         "type": "scatter",
         "x": [
          "True: ER",
          "True: Large Protein Complex",
          "True: Lysosome",
          "True: Peroxisome",
          "True: Plasma membrane",
          "True: Endosome",
          "True: Mitochondrion",
          "True: Golgi",
          "True: Actin binding proteins",
          "True: Ergic/cisGolgi",
          "True: ER_high_curvature",
          "True: Nuclear pore complex"
         ],
         "y": [
          0.9741379310344828,
          0.9950083194675541,
          0.9859154929577464,
          1,
          0.9739130434782609,
          0.9517241379310345,
          0.9955357142857143,
          0.9583333333333334,
          0.923076923076923,
          0.96,
          0.9473684210526315,
          0.9333333333333333
         ]
        },
        {
         "marker": {
          "color": "#BCBD22"
         },
         "mode": "markers",
         "showlegend": false,
         "type": "scatter",
         "x": [
          "Avg. all clusters"
         ],
         "y": [
          0.9665288874959178
         ]
        },
        {
         "marker": {
          "color": "#BCBD22"
         },
         "mode": "markers",
         "showlegend": false,
         "type": "scatter",
         "x": [
          "Avg. all organelles"
         ],
         "y": [
          0.9718808971192449
         ]
        }
       ],
       "layout": {
        "template": {
         "data": {
          "bar": [
           {
            "error_x": {
             "color": "rgb(36,36,36)"
            },
            "error_y": {
             "color": "rgb(36,36,36)"
            },
            "marker": {
             "line": {
              "color": "white",
              "width": 0.5
             }
            },
            "type": "bar"
           }
          ],
          "barpolar": [
           {
            "marker": {
             "line": {
              "color": "white",
              "width": 0.5
             }
            },
            "type": "barpolar"
           }
          ],
          "carpet": [
           {
            "aaxis": {
             "endlinecolor": "rgb(36,36,36)",
             "gridcolor": "white",
             "linecolor": "white",
             "minorgridcolor": "white",
             "startlinecolor": "rgb(36,36,36)"
            },
            "baxis": {
             "endlinecolor": "rgb(36,36,36)",
             "gridcolor": "white",
             "linecolor": "white",
             "minorgridcolor": "white",
             "startlinecolor": "rgb(36,36,36)"
            },
            "type": "carpet"
           }
          ],
          "choropleth": [
           {
            "colorbar": {
             "outlinewidth": 1,
             "tickcolor": "rgb(36,36,36)",
             "ticks": "outside"
            },
            "type": "choropleth"
           }
          ],
          "contour": [
           {
            "colorbar": {
             "outlinewidth": 1,
             "tickcolor": "rgb(36,36,36)",
             "ticks": "outside"
            },
            "colorscale": [
             [
              0,
              "#440154"
             ],
             [
              0.1111111111111111,
              "#482878"
             ],
             [
              0.2222222222222222,
              "#3e4989"
             ],
             [
              0.3333333333333333,
              "#31688e"
             ],
             [
              0.4444444444444444,
              "#26828e"
             ],
             [
              0.5555555555555556,
              "#1f9e89"
             ],
             [
              0.6666666666666666,
              "#35b779"
             ],
             [
              0.7777777777777778,
              "#6ece58"
             ],
             [
              0.8888888888888888,
              "#b5de2b"
             ],
             [
              1,
              "#fde725"
             ]
            ],
            "type": "contour"
           }
          ],
          "contourcarpet": [
           {
            "colorbar": {
             "outlinewidth": 1,
             "tickcolor": "rgb(36,36,36)",
             "ticks": "outside"
            },
            "type": "contourcarpet"
           }
          ],
          "heatmap": [
           {
            "colorbar": {
             "outlinewidth": 1,
             "tickcolor": "rgb(36,36,36)",
             "ticks": "outside"
            },
            "colorscale": [
             [
              0,
              "#440154"
             ],
             [
              0.1111111111111111,
              "#482878"
             ],
             [
              0.2222222222222222,
              "#3e4989"
             ],
             [
              0.3333333333333333,
              "#31688e"
             ],
             [
              0.4444444444444444,
              "#26828e"
             ],
             [
              0.5555555555555556,
              "#1f9e89"
             ],
             [
              0.6666666666666666,
              "#35b779"
             ],
             [
              0.7777777777777778,
              "#6ece58"
             ],
             [
              0.8888888888888888,
              "#b5de2b"
             ],
             [
              1,
              "#fde725"
             ]
            ],
            "type": "heatmap"
           }
          ],
          "heatmapgl": [
           {
            "colorbar": {
             "outlinewidth": 1,
             "tickcolor": "rgb(36,36,36)",
             "ticks": "outside"
            },
            "colorscale": [
             [
              0,
              "#440154"
             ],
             [
              0.1111111111111111,
              "#482878"
             ],
             [
              0.2222222222222222,
              "#3e4989"
             ],
             [
              0.3333333333333333,
              "#31688e"
             ],
             [
              0.4444444444444444,
              "#26828e"
             ],
             [
              0.5555555555555556,
              "#1f9e89"
             ],
             [
              0.6666666666666666,
              "#35b779"
             ],
             [
              0.7777777777777778,
              "#6ece58"
             ],
             [
              0.8888888888888888,
              "#b5de2b"
             ],
             [
              1,
              "#fde725"
             ]
            ],
            "type": "heatmapgl"
           }
          ],
          "histogram": [
           {
            "marker": {
             "line": {
              "color": "white",
              "width": 0.6
             }
            },
            "type": "histogram"
           }
          ],
          "histogram2d": [
           {
            "colorbar": {
             "outlinewidth": 1,
             "tickcolor": "rgb(36,36,36)",
             "ticks": "outside"
            },
            "colorscale": [
             [
              0,
              "#440154"
             ],
             [
              0.1111111111111111,
              "#482878"
             ],
             [
              0.2222222222222222,
              "#3e4989"
             ],
             [
              0.3333333333333333,
              "#31688e"
             ],
             [
              0.4444444444444444,
              "#26828e"
             ],
             [
              0.5555555555555556,
              "#1f9e89"
             ],
             [
              0.6666666666666666,
              "#35b779"
             ],
             [
              0.7777777777777778,
              "#6ece58"
             ],
             [
              0.8888888888888888,
              "#b5de2b"
             ],
             [
              1,
              "#fde725"
             ]
            ],
            "type": "histogram2d"
           }
          ],
          "histogram2dcontour": [
           {
            "colorbar": {
             "outlinewidth": 1,
             "tickcolor": "rgb(36,36,36)",
             "ticks": "outside"
            },
            "colorscale": [
             [
              0,
              "#440154"
             ],
             [
              0.1111111111111111,
              "#482878"
             ],
             [
              0.2222222222222222,
              "#3e4989"
             ],
             [
              0.3333333333333333,
              "#31688e"
             ],
             [
              0.4444444444444444,
              "#26828e"
             ],
             [
              0.5555555555555556,
              "#1f9e89"
             ],
             [
              0.6666666666666666,
              "#35b779"
             ],
             [
              0.7777777777777778,
              "#6ece58"
             ],
             [
              0.8888888888888888,
              "#b5de2b"
             ],
             [
              1,
              "#fde725"
             ]
            ],
            "type": "histogram2dcontour"
           }
          ],
          "mesh3d": [
           {
            "colorbar": {
             "outlinewidth": 1,
             "tickcolor": "rgb(36,36,36)",
             "ticks": "outside"
            },
            "type": "mesh3d"
           }
          ],
          "parcoords": [
           {
            "line": {
             "colorbar": {
              "outlinewidth": 1,
              "tickcolor": "rgb(36,36,36)",
              "ticks": "outside"
             }
            },
            "type": "parcoords"
           }
          ],
          "pie": [
           {
            "automargin": true,
            "type": "pie"
           }
          ],
          "scatter": [
           {
            "marker": {
             "colorbar": {
              "outlinewidth": 1,
              "tickcolor": "rgb(36,36,36)",
              "ticks": "outside"
             }
            },
            "type": "scatter"
           }
          ],
          "scatter3d": [
           {
            "line": {
             "colorbar": {
              "outlinewidth": 1,
              "tickcolor": "rgb(36,36,36)",
              "ticks": "outside"
             }
            },
            "marker": {
             "colorbar": {
              "outlinewidth": 1,
              "tickcolor": "rgb(36,36,36)",
              "ticks": "outside"
             }
            },
            "type": "scatter3d"
           }
          ],
          "scattercarpet": [
           {
            "marker": {
             "colorbar": {
              "outlinewidth": 1,
              "tickcolor": "rgb(36,36,36)",
              "ticks": "outside"
             }
            },
            "type": "scattercarpet"
           }
          ],
          "scattergeo": [
           {
            "marker": {
             "colorbar": {
              "outlinewidth": 1,
              "tickcolor": "rgb(36,36,36)",
              "ticks": "outside"
             }
            },
            "type": "scattergeo"
           }
          ],
          "scattergl": [
           {
            "marker": {
             "colorbar": {
              "outlinewidth": 1,
              "tickcolor": "rgb(36,36,36)",
              "ticks": "outside"
             }
            },
            "type": "scattergl"
           }
          ],
          "scattermapbox": [
           {
            "marker": {
             "colorbar": {
              "outlinewidth": 1,
              "tickcolor": "rgb(36,36,36)",
              "ticks": "outside"
             }
            },
            "type": "scattermapbox"
           }
          ],
          "scatterpolar": [
           {
            "marker": {
             "colorbar": {
              "outlinewidth": 1,
              "tickcolor": "rgb(36,36,36)",
              "ticks": "outside"
             }
            },
            "type": "scatterpolar"
           }
          ],
          "scatterpolargl": [
           {
            "marker": {
             "colorbar": {
              "outlinewidth": 1,
              "tickcolor": "rgb(36,36,36)",
              "ticks": "outside"
             }
            },
            "type": "scatterpolargl"
           }
          ],
          "scatterternary": [
           {
            "marker": {
             "colorbar": {
              "outlinewidth": 1,
              "tickcolor": "rgb(36,36,36)",
              "ticks": "outside"
             }
            },
            "type": "scatterternary"
           }
          ],
          "surface": [
           {
            "colorbar": {
             "outlinewidth": 1,
             "tickcolor": "rgb(36,36,36)",
             "ticks": "outside"
            },
            "colorscale": [
             [
              0,
              "#440154"
             ],
             [
              0.1111111111111111,
              "#482878"
             ],
             [
              0.2222222222222222,
              "#3e4989"
             ],
             [
              0.3333333333333333,
              "#31688e"
             ],
             [
              0.4444444444444444,
              "#26828e"
             ],
             [
              0.5555555555555556,
              "#1f9e89"
             ],
             [
              0.6666666666666666,
              "#35b779"
             ],
             [
              0.7777777777777778,
              "#6ece58"
             ],
             [
              0.8888888888888888,
              "#b5de2b"
             ],
             [
              1,
              "#fde725"
             ]
            ],
            "type": "surface"
           }
          ],
          "table": [
           {
            "cells": {
             "fill": {
              "color": "rgb(237,237,237)"
             },
             "line": {
              "color": "white"
             }
            },
            "header": {
             "fill": {
              "color": "rgb(217,217,217)"
             },
             "line": {
              "color": "white"
             }
            },
            "type": "table"
           }
          ]
         },
         "layout": {
          "annotationdefaults": {
           "arrowhead": 0,
           "arrowwidth": 1
          },
          "autotypenumbers": "strict",
          "coloraxis": {
           "colorbar": {
            "outlinewidth": 1,
            "tickcolor": "rgb(36,36,36)",
            "ticks": "outside"
           }
          },
          "colorscale": {
           "diverging": [
            [
             0,
             "rgb(103,0,31)"
            ],
            [
             0.1,
             "rgb(178,24,43)"
            ],
            [
             0.2,
             "rgb(214,96,77)"
            ],
            [
             0.3,
             "rgb(244,165,130)"
            ],
            [
             0.4,
             "rgb(253,219,199)"
            ],
            [
             0.5,
             "rgb(247,247,247)"
            ],
            [
             0.6,
             "rgb(209,229,240)"
            ],
            [
             0.7,
             "rgb(146,197,222)"
            ],
            [
             0.8,
             "rgb(67,147,195)"
            ],
            [
             0.9,
             "rgb(33,102,172)"
            ],
            [
             1,
             "rgb(5,48,97)"
            ]
           ],
           "sequential": [
            [
             0,
             "#440154"
            ],
            [
             0.1111111111111111,
             "#482878"
            ],
            [
             0.2222222222222222,
             "#3e4989"
            ],
            [
             0.3333333333333333,
             "#31688e"
            ],
            [
             0.4444444444444444,
             "#26828e"
            ],
            [
             0.5555555555555556,
             "#1f9e89"
            ],
            [
             0.6666666666666666,
             "#35b779"
            ],
            [
             0.7777777777777778,
             "#6ece58"
            ],
            [
             0.8888888888888888,
             "#b5de2b"
            ],
            [
             1,
             "#fde725"
            ]
           ],
           "sequentialminus": [
            [
             0,
             "#440154"
            ],
            [
             0.1111111111111111,
             "#482878"
            ],
            [
             0.2222222222222222,
             "#3e4989"
            ],
            [
             0.3333333333333333,
             "#31688e"
            ],
            [
             0.4444444444444444,
             "#26828e"
            ],
            [
             0.5555555555555556,
             "#1f9e89"
            ],
            [
             0.6666666666666666,
             "#35b779"
            ],
            [
             0.7777777777777778,
             "#6ece58"
            ],
            [
             0.8888888888888888,
             "#b5de2b"
            ],
            [
             1,
             "#fde725"
            ]
           ]
          },
          "colorway": [
           "#1F77B4",
           "#FF7F0E",
           "#2CA02C",
           "#D62728",
           "#9467BD",
           "#8C564B",
           "#E377C2",
           "#7F7F7F",
           "#BCBD22",
           "#17BECF"
          ],
          "font": {
           "color": "rgb(36,36,36)"
          },
          "geo": {
           "bgcolor": "white",
           "lakecolor": "white",
           "landcolor": "white",
           "showlakes": true,
           "showland": true,
           "subunitcolor": "white"
          },
          "hoverlabel": {
           "align": "left"
          },
          "hovermode": "closest",
          "mapbox": {
           "style": "light"
          },
          "paper_bgcolor": "white",
          "plot_bgcolor": "white",
          "polar": {
           "angularaxis": {
            "gridcolor": "rgb(232,232,232)",
            "linecolor": "rgb(36,36,36)",
            "showgrid": false,
            "showline": true,
            "ticks": "outside"
           },
           "bgcolor": "white",
           "radialaxis": {
            "gridcolor": "rgb(232,232,232)",
            "linecolor": "rgb(36,36,36)",
            "showgrid": false,
            "showline": true,
            "ticks": "outside"
           }
          },
          "scene": {
           "xaxis": {
            "backgroundcolor": "white",
            "gridcolor": "rgb(232,232,232)",
            "gridwidth": 2,
            "linecolor": "rgb(36,36,36)",
            "showbackground": true,
            "showgrid": false,
            "showline": true,
            "ticks": "outside",
            "zeroline": false,
            "zerolinecolor": "rgb(36,36,36)"
           },
           "yaxis": {
            "backgroundcolor": "white",
            "gridcolor": "rgb(232,232,232)",
            "gridwidth": 2,
            "linecolor": "rgb(36,36,36)",
            "showbackground": true,
            "showgrid": false,
            "showline": true,
            "ticks": "outside",
            "zeroline": false,
            "zerolinecolor": "rgb(36,36,36)"
           },
           "zaxis": {
            "backgroundcolor": "white",
            "gridcolor": "rgb(232,232,232)",
            "gridwidth": 2,
            "linecolor": "rgb(36,36,36)",
            "showbackground": true,
            "showgrid": false,
            "showline": true,
            "ticks": "outside",
            "zeroline": false,
            "zerolinecolor": "rgb(36,36,36)"
           }
          },
          "shapedefaults": {
           "fillcolor": "black",
           "line": {
            "width": 0
           },
           "opacity": 0.3
          },
          "ternary": {
           "aaxis": {
            "gridcolor": "rgb(232,232,232)",
            "linecolor": "rgb(36,36,36)",
            "showgrid": false,
            "showline": true,
            "ticks": "outside"
           },
           "baxis": {
            "gridcolor": "rgb(232,232,232)",
            "linecolor": "rgb(36,36,36)",
            "showgrid": false,
            "showline": true,
            "ticks": "outside"
           },
           "bgcolor": "white",
           "caxis": {
            "gridcolor": "rgb(232,232,232)",
            "linecolor": "rgb(36,36,36)",
            "showgrid": false,
            "showline": true,
            "ticks": "outside"
           }
          },
          "title": {
           "x": 0.05
          },
          "xaxis": {
           "automargin": true,
           "gridcolor": "rgb(232,232,232)",
           "linecolor": "rgb(36,36,36)",
           "showgrid": false,
           "showline": true,
           "ticks": "outside",
           "title": {
            "standoff": 15
           },
           "zeroline": false,
           "zerolinecolor": "rgb(36,36,36)"
          },
          "yaxis": {
           "automargin": true,
           "gridcolor": "rgb(232,232,232)",
           "linecolor": "rgb(36,36,36)",
           "showgrid": false,
           "showline": true,
           "ticks": "outside",
           "title": {
            "standoff": 15
           },
           "zeroline": false,
           "zerolinecolor": "rgb(36,36,36)"
          }
         }
        },
        "title": {
         "text": "Cluster Performance"
        },
        "xaxis": {
         "linecolor": "black",
         "linewidth": 1,
         "mirror": true
        },
        "yaxis": {
         "linecolor": "black",
         "linewidth": 1,
         "mirror": true,
         "title": {
          "text": "F1 score - harmonic mean of recall and precision"
         }
        }
       }
      },
      "text/html": [
       "<div>                            <div id=\"31fd32e3-7094-4677-a8d8-0bc9afe75b8c\" class=\"plotly-graph-div\" style=\"height:525px; width:100%;\"></div>            <script type=\"text/javascript\">                require([\"plotly\"], function(Plotly) {                    window.PLOTLYENV=window.PLOTLYENV || {};                                    if (document.getElementById(\"31fd32e3-7094-4677-a8d8-0bc9afe75b8c\")) {                    Plotly.newPlot(                        \"31fd32e3-7094-4677-a8d8-0bc9afe75b8c\",                        [{\"marker\": {\"color\": \"#1F77B4\"}, \"name\": \" library DIA (8xBPRP) | 3xSDB-RPS | 44 min\", \"type\": \"scatter\", \"x\": [\"True: ER\", \"True: Large Protein Complex\", \"True: Lysosome\", \"True: Peroxisome\", \"True: Plasma membrane\", \"True: Endosome\", \"True: Mitochondrion\", \"True: Golgi\", \"True: Actin binding proteins\", \"True: Ergic/cisGolgi\", \"True: ER_high_curvature\", \"True: Nuclear pore complex\"], \"y\": [0.9741379310344828, 0.9950083194675541, 0.9859154929577464, 1.0, 0.9739130434782609, 0.9517241379310345, 0.9955357142857143, 0.9583333333333334, 0.923076923076923, 0.96, 0.9473684210526315, 0.9333333333333333]}, {\"marker\": {\"color\": \"#1F77B4\"}, \"mode\": \"markers\", \"showlegend\": false, \"type\": \"scatter\", \"x\": [\"Avg. all clusters\"], \"y\": [0.9665288874959178]}, {\"marker\": {\"color\": \"#1F77B4\"}, \"mode\": \"markers\", \"showlegend\": false, \"type\": \"scatter\", \"x\": [\"Avg. all organelles\"], \"y\": [0.9718808971192449]}, {\"marker\": {\"color\": \"#FF7F0E\"}, \"name\": \"Autophagy | direct DIA | Spec\", \"type\": \"scatter\", \"x\": [\"True: ER\", \"True: Large Protein Complex\", \"True: Lysosome\", \"True: Peroxisome\", \"True: Plasma membrane\", \"True: Endosome\", \"True: Mitochondrion\", \"True: Golgi\", \"True: Actin binding proteins\", \"True: Ergic/cisGolgi\", \"True: ER_high_curvature\", \"True: Nuclear pore complex\"], \"y\": [0.9741379310344828, 0.9950083194675541, 0.9859154929577464, 1.0, 0.9739130434782609, 0.9517241379310345, 0.9955357142857143, 0.9583333333333334, 0.923076923076923, 0.96, 0.9473684210526315, 0.9333333333333333]}, {\"marker\": {\"color\": \"#FF7F0E\"}, \"mode\": \"markers\", \"showlegend\": false, \"type\": \"scatter\", \"x\": [\"Avg. all clusters\"], \"y\": [0.9665288874959178]}, {\"marker\": {\"color\": \"#FF7F0E\"}, \"mode\": \"markers\", \"showlegend\": false, \"type\": \"scatter\", \"x\": [\"Avg. all organelles\"], \"y\": [0.9718808971192449]}, {\"marker\": {\"color\": \"#2CA02C\"}, \"name\": \"Autophagy | library DIA (mq) | Spec\", \"type\": \"scatter\", \"x\": [\"True: ER\", \"True: Large Protein Complex\", \"True: Lysosome\", \"True: Peroxisome\", \"True: Plasma membrane\", \"True: Endosome\", \"True: Mitochondrion\", \"True: Golgi\", \"True: Actin binding proteins\", \"True: Ergic/cisGolgi\", \"True: ER_high_curvature\", \"True: Nuclear pore complex\"], \"y\": [0.9741379310344828, 0.9950083194675541, 0.9859154929577464, 1.0, 0.9739130434782609, 0.9517241379310345, 0.9955357142857143, 0.9583333333333334, 0.923076923076923, 0.96, 0.9473684210526315, 0.9333333333333333]}, {\"marker\": {\"color\": \"#2CA02C\"}, \"mode\": \"markers\", \"showlegend\": false, \"type\": \"scatter\", \"x\": [\"Avg. all clusters\"], \"y\": [0.9665288874959178]}, {\"marker\": {\"color\": \"#2CA02C\"}, \"mode\": \"markers\", \"showlegend\": false, \"type\": \"scatter\", \"x\": [\"Avg. all organelles\"], \"y\": [0.9718808971192449]}, {\"marker\": {\"color\": \"#D62728\"}, \"name\": \"Autophagy | library DIA (p) | Spec\", \"type\": \"scatter\", \"x\": [\"True: ER\", \"True: Large Protein Complex\", \"True: Lysosome\", \"True: Peroxisome\", \"True: Plasma membrane\", \"True: Endosome\", \"True: Mitochondrion\", \"True: Golgi\", \"True: Actin binding proteins\", \"True: Ergic/cisGolgi\", \"True: ER_high_curvature\", \"True: Nuclear pore complex\"], \"y\": [0.9741379310344828, 0.9950083194675541, 0.9859154929577464, 1.0, 0.9739130434782609, 0.9517241379310345, 0.9955357142857143, 0.9583333333333334, 0.923076923076923, 0.96, 0.9473684210526315, 0.9333333333333333]}, {\"marker\": {\"color\": \"#D62728\"}, \"mode\": \"markers\", \"showlegend\": false, \"type\": \"scatter\", \"x\": [\"Avg. all clusters\"], \"y\": [0.9665288874959178]}, {\"marker\": {\"color\": \"#D62728\"}, \"mode\": \"markers\", \"showlegend\": false, \"type\": \"scatter\", \"x\": [\"Avg. all organelles\"], \"y\": [0.9718808971192449]}, {\"marker\": {\"color\": \"#9467BD\"}, \"name\": \"Autophagy | library DIA | MQ\", \"type\": \"scatter\", \"x\": [\"True: ER\", \"True: Large Protein Complex\", \"True: Lysosome\", \"True: Peroxisome\", \"True: Plasma membrane\", \"True: Endosome\", \"True: Mitochondrion\", \"True: Golgi\", \"True: Actin binding proteins\", \"True: Ergic/cisGolgi\", \"True: ER_high_curvature\", \"True: Nuclear pore complex\"], \"y\": [0.9741379310344828, 0.9950083194675541, 0.9859154929577464, 1.0, 0.9739130434782609, 0.9517241379310345, 0.9955357142857143, 0.9583333333333334, 0.923076923076923, 0.96, 0.9473684210526315, 0.9333333333333333]}, {\"marker\": {\"color\": \"#9467BD\"}, \"mode\": \"markers\", \"showlegend\": false, \"type\": \"scatter\", \"x\": [\"Avg. all clusters\"], \"y\": [0.9665288874959178]}, {\"marker\": {\"color\": \"#9467BD\"}, \"mode\": \"markers\", \"showlegend\": false, \"type\": \"scatter\", \"x\": [\"Avg. all organelles\"], \"y\": [0.9718808971192449]}, {\"marker\": {\"color\": \"#8C564B\"}, \"name\": \"DDA\", \"type\": \"scatter\", \"x\": [\"True: ER\", \"True: Large Protein Complex\", \"True: Lysosome\", \"True: Peroxisome\", \"True: Plasma membrane\", \"True: Endosome\", \"True: Mitochondrion\", \"True: Golgi\", \"True: Actin binding proteins\", \"True: Ergic/cisGolgi\", \"True: ER_high_curvature\", \"True: Nuclear pore complex\"], \"y\": [0.9741379310344828, 0.9950083194675541, 0.9859154929577464, 1.0, 0.9739130434782609, 0.9517241379310345, 0.9955357142857143, 0.9583333333333334, 0.923076923076923, 0.96, 0.9473684210526315, 0.9333333333333333]}, {\"marker\": {\"color\": \"#8C564B\"}, \"mode\": \"markers\", \"showlegend\": false, \"type\": \"scatter\", \"x\": [\"Avg. all clusters\"], \"y\": [0.9665288874959178]}, {\"marker\": {\"color\": \"#8C564B\"}, \"mode\": \"markers\", \"showlegend\": false, \"type\": \"scatter\", \"x\": [\"Avg. all organelles\"], \"y\": [0.9718808971192449]}, {\"marker\": {\"color\": \"#E377C2\"}, \"name\": \"direct DIA | 100 min\", \"type\": \"scatter\", \"x\": [\"True: ER\", \"True: Large Protein Complex\", \"True: Lysosome\", \"True: Peroxisome\", \"True: Plasma membrane\", \"True: Endosome\", \"True: Mitochondrion\", \"True: Golgi\", \"True: Actin binding proteins\", \"True: Ergic/cisGolgi\", \"True: ER_high_curvature\", \"True: Nuclear pore complex\"], \"y\": [0.9741379310344828, 0.9950083194675541, 0.9859154929577464, 1.0, 0.9739130434782609, 0.9517241379310345, 0.9955357142857143, 0.9583333333333334, 0.923076923076923, 0.96, 0.9473684210526315, 0.9333333333333333]}, {\"marker\": {\"color\": \"#E377C2\"}, \"mode\": \"markers\", \"showlegend\": false, \"type\": \"scatter\", \"x\": [\"Avg. all clusters\"], \"y\": [0.9665288874959178]}, {\"marker\": {\"color\": \"#E377C2\"}, \"mode\": \"markers\", \"showlegend\": false, \"type\": \"scatter\", \"x\": [\"Avg. all organelles\"], \"y\": [0.9718808971192449]}, {\"marker\": {\"color\": \"#7F7F7F\"}, \"name\": \"direct DIA | 3xSDB-RPS | 44 min\", \"type\": \"scatter\", \"x\": [\"True: ER\", \"True: Large Protein Complex\", \"True: Lysosome\", \"True: Peroxisome\", \"True: Plasma membrane\", \"True: Endosome\", \"True: Mitochondrion\", \"True: Golgi\", \"True: Actin binding proteins\", \"True: Ergic/cisGolgi\", \"True: ER_high_curvature\", \"True: Nuclear pore complex\"], \"y\": [0.9741379310344828, 0.9950083194675541, 0.9859154929577464, 1.0, 0.9739130434782609, 0.9517241379310345, 0.9955357142857143, 0.9583333333333334, 0.923076923076923, 0.96, 0.9473684210526315, 0.9333333333333333]}, {\"marker\": {\"color\": \"#7F7F7F\"}, \"mode\": \"markers\", \"showlegend\": false, \"type\": \"scatter\", \"x\": [\"Avg. all clusters\"], \"y\": [0.9665288874959178]}, {\"marker\": {\"color\": \"#7F7F7F\"}, \"mode\": \"markers\", \"showlegend\": false, \"type\": \"scatter\", \"x\": [\"Avg. all organelles\"], \"y\": [0.9718808971192449]}, {\"marker\": {\"color\": \"#BCBD22\"}, \"name\": \"library DIA | 100 min\", \"type\": \"scatter\", \"x\": [\"True: ER\", \"True: Large Protein Complex\", \"True: Lysosome\", \"True: Peroxisome\", \"True: Plasma membrane\", \"True: Endosome\", \"True: Mitochondrion\", \"True: Golgi\", \"True: Actin binding proteins\", \"True: Ergic/cisGolgi\", \"True: ER_high_curvature\", \"True: Nuclear pore complex\"], \"y\": [0.9741379310344828, 0.9950083194675541, 0.9859154929577464, 1.0, 0.9739130434782609, 0.9517241379310345, 0.9955357142857143, 0.9583333333333334, 0.923076923076923, 0.96, 0.9473684210526315, 0.9333333333333333]}, {\"marker\": {\"color\": \"#BCBD22\"}, \"mode\": \"markers\", \"showlegend\": false, \"type\": \"scatter\", \"x\": [\"Avg. all clusters\"], \"y\": [0.9665288874959178]}, {\"marker\": {\"color\": \"#BCBD22\"}, \"mode\": \"markers\", \"showlegend\": false, \"type\": \"scatter\", \"x\": [\"Avg. all organelles\"], \"y\": [0.9718808971192449]}],                        {\"template\": {\"data\": {\"bar\": [{\"error_x\": {\"color\": \"rgb(36,36,36)\"}, \"error_y\": {\"color\": \"rgb(36,36,36)\"}, \"marker\": {\"line\": {\"color\": \"white\", \"width\": 0.5}}, \"type\": \"bar\"}], \"barpolar\": [{\"marker\": {\"line\": {\"color\": \"white\", \"width\": 0.5}}, \"type\": \"barpolar\"}], \"carpet\": [{\"aaxis\": {\"endlinecolor\": \"rgb(36,36,36)\", \"gridcolor\": \"white\", \"linecolor\": \"white\", \"minorgridcolor\": \"white\", \"startlinecolor\": \"rgb(36,36,36)\"}, \"baxis\": {\"endlinecolor\": \"rgb(36,36,36)\", \"gridcolor\": \"white\", \"linecolor\": \"white\", \"minorgridcolor\": \"white\", \"startlinecolor\": \"rgb(36,36,36)\"}, \"type\": \"carpet\"}], \"choropleth\": [{\"colorbar\": {\"outlinewidth\": 1, \"tickcolor\": \"rgb(36,36,36)\", \"ticks\": \"outside\"}, \"type\": \"choropleth\"}], \"contour\": [{\"colorbar\": {\"outlinewidth\": 1, \"tickcolor\": \"rgb(36,36,36)\", \"ticks\": \"outside\"}, \"colorscale\": [[0.0, \"#440154\"], [0.1111111111111111, \"#482878\"], [0.2222222222222222, \"#3e4989\"], [0.3333333333333333, \"#31688e\"], [0.4444444444444444, \"#26828e\"], [0.5555555555555556, \"#1f9e89\"], [0.6666666666666666, \"#35b779\"], [0.7777777777777778, \"#6ece58\"], [0.8888888888888888, \"#b5de2b\"], [1.0, \"#fde725\"]], \"type\": \"contour\"}], \"contourcarpet\": [{\"colorbar\": {\"outlinewidth\": 1, \"tickcolor\": \"rgb(36,36,36)\", \"ticks\": \"outside\"}, \"type\": \"contourcarpet\"}], \"heatmap\": [{\"colorbar\": {\"outlinewidth\": 1, \"tickcolor\": \"rgb(36,36,36)\", \"ticks\": \"outside\"}, \"colorscale\": [[0.0, \"#440154\"], [0.1111111111111111, \"#482878\"], [0.2222222222222222, \"#3e4989\"], [0.3333333333333333, \"#31688e\"], [0.4444444444444444, \"#26828e\"], [0.5555555555555556, \"#1f9e89\"], [0.6666666666666666, \"#35b779\"], [0.7777777777777778, \"#6ece58\"], [0.8888888888888888, \"#b5de2b\"], [1.0, \"#fde725\"]], \"type\": \"heatmap\"}], \"heatmapgl\": [{\"colorbar\": {\"outlinewidth\": 1, \"tickcolor\": \"rgb(36,36,36)\", \"ticks\": \"outside\"}, \"colorscale\": [[0.0, \"#440154\"], [0.1111111111111111, \"#482878\"], [0.2222222222222222, \"#3e4989\"], [0.3333333333333333, \"#31688e\"], [0.4444444444444444, \"#26828e\"], [0.5555555555555556, \"#1f9e89\"], [0.6666666666666666, \"#35b779\"], [0.7777777777777778, \"#6ece58\"], [0.8888888888888888, \"#b5de2b\"], [1.0, \"#fde725\"]], \"type\": \"heatmapgl\"}], \"histogram\": [{\"marker\": {\"line\": {\"color\": \"white\", \"width\": 0.6}}, \"type\": \"histogram\"}], \"histogram2d\": [{\"colorbar\": {\"outlinewidth\": 1, \"tickcolor\": \"rgb(36,36,36)\", \"ticks\": \"outside\"}, \"colorscale\": [[0.0, \"#440154\"], [0.1111111111111111, \"#482878\"], [0.2222222222222222, \"#3e4989\"], [0.3333333333333333, \"#31688e\"], [0.4444444444444444, \"#26828e\"], [0.5555555555555556, \"#1f9e89\"], [0.6666666666666666, \"#35b779\"], [0.7777777777777778, \"#6ece58\"], [0.8888888888888888, \"#b5de2b\"], [1.0, \"#fde725\"]], \"type\": \"histogram2d\"}], \"histogram2dcontour\": [{\"colorbar\": {\"outlinewidth\": 1, \"tickcolor\": \"rgb(36,36,36)\", \"ticks\": \"outside\"}, \"colorscale\": [[0.0, \"#440154\"], [0.1111111111111111, \"#482878\"], [0.2222222222222222, \"#3e4989\"], [0.3333333333333333, \"#31688e\"], [0.4444444444444444, \"#26828e\"], [0.5555555555555556, \"#1f9e89\"], [0.6666666666666666, \"#35b779\"], [0.7777777777777778, \"#6ece58\"], [0.8888888888888888, \"#b5de2b\"], [1.0, \"#fde725\"]], \"type\": \"histogram2dcontour\"}], \"mesh3d\": [{\"colorbar\": {\"outlinewidth\": 1, \"tickcolor\": \"rgb(36,36,36)\", \"ticks\": \"outside\"}, \"type\": \"mesh3d\"}], \"parcoords\": [{\"line\": {\"colorbar\": {\"outlinewidth\": 1, \"tickcolor\": \"rgb(36,36,36)\", \"ticks\": \"outside\"}}, \"type\": \"parcoords\"}], \"pie\": [{\"automargin\": true, \"type\": \"pie\"}], \"scatter\": [{\"marker\": {\"colorbar\": {\"outlinewidth\": 1, \"tickcolor\": \"rgb(36,36,36)\", \"ticks\": \"outside\"}}, \"type\": \"scatter\"}], \"scatter3d\": [{\"line\": {\"colorbar\": {\"outlinewidth\": 1, \"tickcolor\": \"rgb(36,36,36)\", \"ticks\": \"outside\"}}, \"marker\": {\"colorbar\": {\"outlinewidth\": 1, \"tickcolor\": \"rgb(36,36,36)\", \"ticks\": \"outside\"}}, \"type\": \"scatter3d\"}], \"scattercarpet\": [{\"marker\": {\"colorbar\": {\"outlinewidth\": 1, \"tickcolor\": \"rgb(36,36,36)\", \"ticks\": \"outside\"}}, \"type\": \"scattercarpet\"}], \"scattergeo\": [{\"marker\": {\"colorbar\": {\"outlinewidth\": 1, \"tickcolor\": \"rgb(36,36,36)\", \"ticks\": \"outside\"}}, \"type\": \"scattergeo\"}], \"scattergl\": [{\"marker\": {\"colorbar\": {\"outlinewidth\": 1, \"tickcolor\": \"rgb(36,36,36)\", \"ticks\": \"outside\"}}, \"type\": \"scattergl\"}], \"scattermapbox\": [{\"marker\": {\"colorbar\": {\"outlinewidth\": 1, \"tickcolor\": \"rgb(36,36,36)\", \"ticks\": \"outside\"}}, \"type\": \"scattermapbox\"}], \"scatterpolar\": [{\"marker\": {\"colorbar\": {\"outlinewidth\": 1, \"tickcolor\": \"rgb(36,36,36)\", \"ticks\": \"outside\"}}, \"type\": \"scatterpolar\"}], \"scatterpolargl\": [{\"marker\": {\"colorbar\": {\"outlinewidth\": 1, \"tickcolor\": \"rgb(36,36,36)\", \"ticks\": \"outside\"}}, \"type\": \"scatterpolargl\"}], \"scatterternary\": [{\"marker\": {\"colorbar\": {\"outlinewidth\": 1, \"tickcolor\": \"rgb(36,36,36)\", \"ticks\": \"outside\"}}, \"type\": \"scatterternary\"}], \"surface\": [{\"colorbar\": {\"outlinewidth\": 1, \"tickcolor\": \"rgb(36,36,36)\", \"ticks\": \"outside\"}, \"colorscale\": [[0.0, \"#440154\"], [0.1111111111111111, \"#482878\"], [0.2222222222222222, \"#3e4989\"], [0.3333333333333333, \"#31688e\"], [0.4444444444444444, \"#26828e\"], [0.5555555555555556, \"#1f9e89\"], [0.6666666666666666, \"#35b779\"], [0.7777777777777778, \"#6ece58\"], [0.8888888888888888, \"#b5de2b\"], [1.0, \"#fde725\"]], \"type\": \"surface\"}], \"table\": [{\"cells\": {\"fill\": {\"color\": \"rgb(237,237,237)\"}, \"line\": {\"color\": \"white\"}}, \"header\": {\"fill\": {\"color\": \"rgb(217,217,217)\"}, \"line\": {\"color\": \"white\"}}, \"type\": \"table\"}]}, \"layout\": {\"annotationdefaults\": {\"arrowhead\": 0, \"arrowwidth\": 1}, \"autotypenumbers\": \"strict\", \"coloraxis\": {\"colorbar\": {\"outlinewidth\": 1, \"tickcolor\": \"rgb(36,36,36)\", \"ticks\": \"outside\"}}, \"colorscale\": {\"diverging\": [[0.0, \"rgb(103,0,31)\"], [0.1, \"rgb(178,24,43)\"], [0.2, \"rgb(214,96,77)\"], [0.3, \"rgb(244,165,130)\"], [0.4, \"rgb(253,219,199)\"], [0.5, \"rgb(247,247,247)\"], [0.6, \"rgb(209,229,240)\"], [0.7, \"rgb(146,197,222)\"], [0.8, \"rgb(67,147,195)\"], [0.9, \"rgb(33,102,172)\"], [1.0, \"rgb(5,48,97)\"]], \"sequential\": [[0.0, \"#440154\"], [0.1111111111111111, \"#482878\"], [0.2222222222222222, \"#3e4989\"], [0.3333333333333333, \"#31688e\"], [0.4444444444444444, \"#26828e\"], [0.5555555555555556, \"#1f9e89\"], [0.6666666666666666, \"#35b779\"], [0.7777777777777778, \"#6ece58\"], [0.8888888888888888, \"#b5de2b\"], [1.0, \"#fde725\"]], \"sequentialminus\": [[0.0, \"#440154\"], [0.1111111111111111, \"#482878\"], [0.2222222222222222, \"#3e4989\"], [0.3333333333333333, \"#31688e\"], [0.4444444444444444, \"#26828e\"], [0.5555555555555556, \"#1f9e89\"], [0.6666666666666666, \"#35b779\"], [0.7777777777777778, \"#6ece58\"], [0.8888888888888888, \"#b5de2b\"], [1.0, \"#fde725\"]]}, \"colorway\": [\"#1F77B4\", \"#FF7F0E\", \"#2CA02C\", \"#D62728\", \"#9467BD\", \"#8C564B\", \"#E377C2\", \"#7F7F7F\", \"#BCBD22\", \"#17BECF\"], \"font\": {\"color\": \"rgb(36,36,36)\"}, \"geo\": {\"bgcolor\": \"white\", \"lakecolor\": \"white\", \"landcolor\": \"white\", \"showlakes\": true, \"showland\": true, \"subunitcolor\": \"white\"}, \"hoverlabel\": {\"align\": \"left\"}, \"hovermode\": \"closest\", \"mapbox\": {\"style\": \"light\"}, \"paper_bgcolor\": \"white\", \"plot_bgcolor\": \"white\", \"polar\": {\"angularaxis\": {\"gridcolor\": \"rgb(232,232,232)\", \"linecolor\": \"rgb(36,36,36)\", \"showgrid\": false, \"showline\": true, \"ticks\": \"outside\"}, \"bgcolor\": \"white\", \"radialaxis\": {\"gridcolor\": \"rgb(232,232,232)\", \"linecolor\": \"rgb(36,36,36)\", \"showgrid\": false, \"showline\": true, \"ticks\": \"outside\"}}, \"scene\": {\"xaxis\": {\"backgroundcolor\": \"white\", \"gridcolor\": \"rgb(232,232,232)\", \"gridwidth\": 2, \"linecolor\": \"rgb(36,36,36)\", \"showbackground\": true, \"showgrid\": false, \"showline\": true, \"ticks\": \"outside\", \"zeroline\": false, \"zerolinecolor\": \"rgb(36,36,36)\"}, \"yaxis\": {\"backgroundcolor\": \"white\", \"gridcolor\": \"rgb(232,232,232)\", \"gridwidth\": 2, \"linecolor\": \"rgb(36,36,36)\", \"showbackground\": true, \"showgrid\": false, \"showline\": true, \"ticks\": \"outside\", \"zeroline\": false, \"zerolinecolor\": \"rgb(36,36,36)\"}, \"zaxis\": {\"backgroundcolor\": \"white\", \"gridcolor\": \"rgb(232,232,232)\", \"gridwidth\": 2, \"linecolor\": \"rgb(36,36,36)\", \"showbackground\": true, \"showgrid\": false, \"showline\": true, \"ticks\": \"outside\", \"zeroline\": false, \"zerolinecolor\": \"rgb(36,36,36)\"}}, \"shapedefaults\": {\"fillcolor\": \"black\", \"line\": {\"width\": 0}, \"opacity\": 0.3}, \"ternary\": {\"aaxis\": {\"gridcolor\": \"rgb(232,232,232)\", \"linecolor\": \"rgb(36,36,36)\", \"showgrid\": false, \"showline\": true, \"ticks\": \"outside\"}, \"baxis\": {\"gridcolor\": \"rgb(232,232,232)\", \"linecolor\": \"rgb(36,36,36)\", \"showgrid\": false, \"showline\": true, \"ticks\": \"outside\"}, \"bgcolor\": \"white\", \"caxis\": {\"gridcolor\": \"rgb(232,232,232)\", \"linecolor\": \"rgb(36,36,36)\", \"showgrid\": false, \"showline\": true, \"ticks\": \"outside\"}}, \"title\": {\"x\": 0.05}, \"xaxis\": {\"automargin\": true, \"gridcolor\": \"rgb(232,232,232)\", \"linecolor\": \"rgb(36,36,36)\", \"showgrid\": false, \"showline\": true, \"ticks\": \"outside\", \"title\": {\"standoff\": 15}, \"zeroline\": false, \"zerolinecolor\": \"rgb(36,36,36)\"}, \"yaxis\": {\"automargin\": true, \"gridcolor\": \"rgb(232,232,232)\", \"linecolor\": \"rgb(36,36,36)\", \"showgrid\": false, \"showline\": true, \"ticks\": \"outside\", \"title\": {\"standoff\": 15}, \"zeroline\": false, \"zerolinecolor\": \"rgb(36,36,36)\"}}}, \"title\": {\"text\": \"Cluster Performance\"}, \"xaxis\": {\"linecolor\": \"black\", \"linewidth\": 1, \"mirror\": true}, \"yaxis\": {\"linecolor\": \"black\", \"linewidth\": 1, \"mirror\": true, \"title\": {\"text\": \"F1 score - harmonic mean of recall and precision\"}}},                        {\"responsive\": true}                    ).then(function(){\n",
       "                            \n",
       "var gd = document.getElementById('31fd32e3-7094-4677-a8d8-0bc9afe75b8c');\n",
       "var x = new MutationObserver(function (mutations, observer) {{\n",
       "        var display = window.getComputedStyle(gd).display;\n",
       "        if (!display || display === 'none') {{\n",
       "            console.log([gd, 'removed!']);\n",
       "            Plotly.purge(gd);\n",
       "            observer.disconnect();\n",
       "        }}\n",
       "}});\n",
       "\n",
       "// Listen for the removal of the full notebook cells\n",
       "var notebookContainer = gd.closest('#notebook-container');\n",
       "if (notebookContainer) {{\n",
       "    x.observe(notebookContainer, {childList: true});\n",
       "}}\n",
       "\n",
       "// Listen for the clearing of the current output cell\n",
       "var outputEl = gd.closest('.output');\n",
       "if (outputEl) {{\n",
       "    x.observe(outputEl, {childList: true});\n",
       "}}\n",
       "\n",
       "                        })                };                });            </script>        </div>"
      ]
     },
     "metadata": {},
     "output_type": "display_data"
    }
   ],
   "source": [
    "fig_clusterPerformance = go.Figure()\n",
    "list_data_type = [\"Avg. all clusters\", \"Avg. all organelles\"]\n",
    "for i,exp in enumerate(global_SVM_dict.keys()):\n",
    "    df_clusterPerformance = df_clusterPerformance_global.xs(exp, level='Experiment', axis=1)\n",
    "    df_AvgClusterPerformance = df_AvgClusterPerformance_global.xs(exp, level='Experiment', axis=1)\n",
    "    fig_clusterPerformance.add_trace(go.Scatter(x=df_clusterPerformance.columns, y=df_clusterPerformance.loc[\"F1\"], \n",
    "                                               marker=dict(color=pio.templates[\"simple_white\"].layout[\"colorway\"][i]), name=exp))\n",
    "    for  data_type in list_data_type:\n",
    "        fig_clusterPerformance.add_trace(go.Scatter(x=[data_type], y=[df_AvgClusterPerformance[data_type].loc[\"F1\"]],\n",
    "                    mode=\"markers\",\n",
    "                    showlegend=False,\n",
    "                    marker=dict(color=pio.templates[\"simple_white\"].layout[\"colorway\"][i])\n",
    "                        ))\n",
    "    fig_clusterPerformance.update_layout(template=\"simple_white\", #showlegend=False, \n",
    "                    title=\"Cluster Performance\",\n",
    "                    xaxis=go.layout.XAxis(linecolor=\"black\",\n",
    "                                        linewidth=1,\n",
    "                                        mirror=True),\n",
    "                    yaxis=go.layout.YAxis(linecolor=\"black\",\n",
    "                                        linewidth=1,\n",
    "                                        title=\"F1 score - harmonic mean of recall and precision\",\n",
    "                                        mirror=True),\n",
    "                    )\n",
    "fig_clusterPerformance"
   ]
  },
  {
   "cell_type": "code",
   "execution_count": null,
   "metadata": {},
   "outputs": [],
   "source": [
    "#sorting_list = [ '100 min | direct DIA','100 min | library DIA', '3x 44 min | direct DIA', '3x 44 min | library DIA (8xBPRP)','3x 44 min | library DIA (3xSDB-RPS)']\n",
    "df_quantity_pr_pg_combined = i_class_comp.df_quantity_pr_pg_combined.copy()    \n",
    "df_quantity_pr_pg_combined = df_quantity_pr_pg_combined[df_quantity_pr_pg_combined.filtering != \"before filtering\"]\n",
    "df_quantity_pr_pg_combined = df_quantity_pr_pg_combined[df_quantity_pr_pg_combined[\"Experiment\"].isin(i_multi_choice.value)]\n",
    "#df_quantity_pr_pg_combined = df_quantity_pr_pg_combined.assign(Experiment_lexicographic_sort = pd.Categorical(df_quantity_pr_pg_combined[\"Experiment\"], categories=i_multi_choices, ordered=True))\n",
    "#df_quantity_pr_pg_combined.sort_values(\"Experiment_lexicographic_sort\", inplace=True)\n",
    "#df_quantity_pr_pg_combined.sort_values([\"Experiment_lexicographic_sort\"], ascending=[True], inplace=True)\n",
    "#f_quantity_pr_pg_combined.sort_values([\"number of protein groups\"], ascending=False, inplace=True)\n",
    "layout = go.Layout(barmode=\"overlay\",   autosize=False, width=900,height=400,  template=\"simple_white\")\n",
    "fig_quantity_pg = px.bar(df_quantity_pr_pg_combined, x=\"filtering\", y=\"number of protein groups\", color=\"type\", barmode=\"overlay\", labels={\"Experiment\":\"\", \"filtering\":\"\"}, \n",
    "                         facet_col=\"Experiment\",template=\"simple_white\", opacity=1).for_each_annotation(lambda a: a.update(text=a.text.split(\"=\")[-1]))\n",
    "fig_quantity_pg.update_layout(layout, title=\"Number of Protein Groups\")\n",
    "fig_quantity_pg"
   ]
  },
  {
   "cell_type": "code",
   "execution_count": null,
   "metadata": {},
   "outputs": [],
   "source": [
    "sorting_list = [ '100 min | direct DIA', '3x 44 min | direct DIA','100 min | library DIA', '3x 44 min | library DIA (8xBPRP)','3x 44 min | library DIA (3xSDB-RPS)']\n",
    "df_cluster_normalizedMedian_ref = i_class_comp.df_cluster_normalizedMedian_ref\n",
    "df_cluster_normalizedMedian_ref = df_cluster_normalizedMedian_ref.assign(Experiment_lexicographic_sort = pd.Categorical(df_cluster_normalizedMedian_ref[\"Experiment\"], categories=sorting_list, ordered=True))\n",
    "df_cluster_normalizedMedian_ref.sort_values(\"Experiment_lexicographic_sort\", inplace=True)\n",
    "fig_globalRanking = px.box(df_cluster_normalizedMedian_ref,\n",
    "                                        x=\"Experiment\",\n",
    "                                        y=\"Normalized Median\", \n",
    "                                        title=\"Median manhattan distance distribution for all protein clusters (n>=5 per cluster)\",# \"Ranking - median of all individual normalized medians - reference is the median across all experiments for each cluster\",\n",
    "                                        color=\"Experiment\",\n",
    "                                        points=\"all\",\n",
    "                                        template=\"simple_white\",\n",
    "                                        hover_name=\"Cluster\", \n",
    "                        width=1000)\n",
    "fig_globalRanking"
   ]
  },
  {
   "cell_type": "code",
   "execution_count": null,
   "metadata": {},
   "outputs": [],
   "source": [
    "df_quantity_pr_pg_combined = i_class_comp.df_quantity_pr_pg_combined.copy()        \n",
    "df_quantity_pr_pg_combined = df_quantity_pr_pg_combined[df_quantity_pr_pg_combined[\"Experiment\"].isin(i_multi_choice.value)]\n",
    "df_quantity_pr_pg_combined = df_quantity_pr_pg_combined.assign(Experiment_lexicographic_sort = pd.Categorical(df_quantity_pr_pg_combined[\"Experiment\"],\n",
    "                                                                                                                categories=i_multi_choice.value, ordered=True))\n",
    "df_quantity_pr_pg_combined.sort_values(\"Experiment_lexicographic_sort\", inplace=True)\n",
    "df_quantity_pr_pg_combined.sort_values([\"Experiment_lexicographic_sort\", \"type\"], ascending=[True, False], inplace=True)\n",
    "df_quantity_pr_pg_combined.sort_values(\"type\", ascending=False, inplace=True)\n",
    "\n",
    "layout = go.Layout(barmode=\"overlay\", \n",
    "  autosize=False,\n",
    "  width=250*len(i_multi_choice.value),\n",
    "  height=400,\n",
    "  template=\"simple_white\")\n",
    "\n",
    "fig_quantity_pg = px.bar(df_quantity_pr_pg_combined, x=\"filtering\", y=\"number of protein groups\", color=\"type\", barmode=\"overlay\", labels={\"Experiment\":\"\", \"filtering\":\"\"}, \n",
    "                         facet_col=\"Experiment\",template=\"simple_white\", opacity=1).for_each_annotation(lambda a: a.update(text=a.text.split(\"=\")[-1]))\n",
    "fig_quantity_pg.update_layout(layout, title=\"Number of Protein Groups\")\n",
    "fig_quantity_pg"
   ]
  },
  {
   "cell_type": "code",
   "execution_count": null,
   "metadata": {},
   "outputs": [],
   "source": [
    "df_quantity_pr_pg_combined = i_class_comp.df_quantity_pr_pg_combined.copy()\n",
    "df_quantity_pr_pg_combined = df_quantity_pr_pg_combined[df_quantity_pr_pg_combined[\"Experiment\"].isin(i_multi_choice.value)].sort_values(\"filtering\")\n",
    "df_quantity_pr_pg_combined = df_quantity_pr_pg_combined[df_quantity_pr_pg_combined.type != \"total\"]\n",
    "df_quantity_pr_pg_combined = df_quantity_pr_pg_combined.assign(Experiment_lexicographic_sort = pd.Categorical(df_quantity_pr_pg_combined[\"Experiment\"],\n",
    "                                                                                                                categories=i_multi_choice.value, ordered=True))\n",
    "#df_quantity_pr_pg_combined.sort_values(\"Experiment_lexicographic_sort\", inplace=True)\n",
    "df_quantity_pr_pg_combined.sort_values([\"Experiment_lexicographic_sort\", \"filtering\"], inplace=True)\n",
    "\n",
    "fig_pr_dc = px.bar(df_quantity_pr_pg_combined, x=\"type\", y=\"data completeness of profiles\", color=\"filtering\", barmode=\"overlay\", labels={\"Experiment\":\"\", \"type\":\"\"}, \n",
    "                         facet_col=\"Experiment\",template=\"simple_white\", opacity=1).for_each_annotation(lambda a: a.update(text=a.text.split(\"=\")[-1]))\n",
    "fig_pr_dc.update_layout(#barmode=\"overlay\", \n",
    "                                 #xaxis_tickangle=90, \n",
    "                                 title=\"Data Completeness of Profiles\",\n",
    "                                 autosize=False,\n",
    "                                 width=1800,#250*len(i_multi_choice.value),\n",
    "                                 height=400,\n",
    "                                 template=\"simple_white\")\n",
    "fig_pr_dc"
   ]
  },
  {
   "cell_type": "code",
   "execution_count": null,
   "metadata": {},
   "outputs": [],
   "source": [
    "df_quantity_pr_pg_combined = i_class_comp.df_quantity_pr_pg_combined.copy()\n",
    "df_quantity_pr_pg_combined = df_quantity_pr_pg_combined[df_quantity_pr_pg_combined[\"Experiment\"].isin(i_multi_choice.value)].sort_values(\"filtering\")\n",
    "df_quantity_pr_pg_combined = df_quantity_pr_pg_combined.assign(Experiment_lexicographic_sort = pd.Categorical(df_quantity_pr_pg_combined[\"Experiment\"],\n",
    "                                                                                                                categories=i_multi_choice.value, ordered=True))\n",
    "df_quantity_pr_pg_combined.sort_values(\"Experiment_lexicographic_sort\", inplace=True)\n",
    "df_quantity_pr_pg_combined.sort_values([\"Experiment_lexicographic_sort\", \"type\"], ascending=[True, False], inplace=True)\n",
    "df_quantity_pr_pg_combined.sort_values(\"type\", ascending=False, inplace=True)\n",
    "\n",
    "fig_pr_dc = px.bar(df_quantity_pr_pg_combined, x=\"type\", y=\"data completeness of profiles\", color=\"filtering\", barmode=\"overlay\", labels={\"Experiment\":\"\", \"type\":\"\"}, \n",
    "                                 facet_col=\"Experiment\",template=\"simple_white\", opacity=1).for_each_annotation(lambda a: a.update(text=a.text.split(\"=\")[-1]))\n",
    "fig_pr_dc.update_layout(#barmode=\"overlay\", \n",
    "                                         title=\"Data Completeness of Profiles\",\n",
    "                                         autosize=False,\n",
    "                                         width=300*len(i_multi_choice.value),\n",
    "                                         height=400,\n",
    "                                         template=\"simple_white\")\n",
    "fig_pr_dc"
   ]
  },
  {
   "cell_type": "code",
   "execution_count": 53,
   "metadata": {},
   "outputs": [
    {
     "data": {
      "text/html": [
       "<div>\n",
       "<style scoped>\n",
       "    .dataframe tbody tr th:only-of-type {\n",
       "        vertical-align: middle;\n",
       "    }\n",
       "\n",
       "    .dataframe tbody tr th {\n",
       "        vertical-align: top;\n",
       "    }\n",
       "\n",
       "    .dataframe thead th {\n",
       "        text-align: right;\n",
       "    }\n",
       "</style>\n",
       "<table border=\"1\" class=\"dataframe\">\n",
       "  <thead>\n",
       "    <tr style=\"text-align: right;\">\n",
       "      <th></th>\n",
       "      <th>Predicted: ER</th>\n",
       "      <th>Predicted: Large Protein Complex</th>\n",
       "      <th>Predicted: Lysosome</th>\n",
       "      <th>Predicted: Peroxisome</th>\n",
       "      <th>Predicted: Plasma membrane</th>\n",
       "      <th>Predicted: Endosome</th>\n",
       "      <th>Predicted: Mitochondrion</th>\n",
       "      <th>Predicted: Golgi</th>\n",
       "      <th>Predicted: Actin binding proteins</th>\n",
       "      <th>Predicted: Ergic/cisGolgi</th>\n",
       "      <th>Predicted: ER_high_curvature</th>\n",
       "      <th>Predicted: Nuclear pore complex</th>\n",
       "      <th>T: True group</th>\n",
       "    </tr>\n",
       "  </thead>\n",
       "  <tbody>\n",
       "    <tr>\n",
       "      <th>0</th>\n",
       "      <td>113</td>\n",
       "      <td>0</td>\n",
       "      <td>0</td>\n",
       "      <td>0</td>\n",
       "      <td>0</td>\n",
       "      <td>0</td>\n",
       "      <td>2</td>\n",
       "      <td>0</td>\n",
       "      <td>0</td>\n",
       "      <td>0</td>\n",
       "      <td>0</td>\n",
       "      <td>0</td>\n",
       "      <td>ER</td>\n",
       "    </tr>\n",
       "    <tr>\n",
       "      <th>1</th>\n",
       "      <td>0</td>\n",
       "      <td>299</td>\n",
       "      <td>0</td>\n",
       "      <td>0</td>\n",
       "      <td>0</td>\n",
       "      <td>0</td>\n",
       "      <td>0</td>\n",
       "      <td>0</td>\n",
       "      <td>0</td>\n",
       "      <td>0</td>\n",
       "      <td>0</td>\n",
       "      <td>0</td>\n",
       "      <td>Large Protein Complex</td>\n",
       "    </tr>\n",
       "    <tr>\n",
       "      <th>2</th>\n",
       "      <td>0</td>\n",
       "      <td>0</td>\n",
       "      <td>35</td>\n",
       "      <td>0</td>\n",
       "      <td>0</td>\n",
       "      <td>0</td>\n",
       "      <td>0</td>\n",
       "      <td>0</td>\n",
       "      <td>0</td>\n",
       "      <td>0</td>\n",
       "      <td>0</td>\n",
       "      <td>0</td>\n",
       "      <td>Lysosome</td>\n",
       "    </tr>\n",
       "    <tr>\n",
       "      <th>3</th>\n",
       "      <td>0</td>\n",
       "      <td>0</td>\n",
       "      <td>0</td>\n",
       "      <td>16</td>\n",
       "      <td>0</td>\n",
       "      <td>0</td>\n",
       "      <td>0</td>\n",
       "      <td>0</td>\n",
       "      <td>0</td>\n",
       "      <td>0</td>\n",
       "      <td>0</td>\n",
       "      <td>0</td>\n",
       "      <td>Peroxisome</td>\n",
       "    </tr>\n",
       "    <tr>\n",
       "      <th>4</th>\n",
       "      <td>1</td>\n",
       "      <td>0</td>\n",
       "      <td>0</td>\n",
       "      <td>0</td>\n",
       "      <td>112</td>\n",
       "      <td>0</td>\n",
       "      <td>0</td>\n",
       "      <td>0</td>\n",
       "      <td>1</td>\n",
       "      <td>0</td>\n",
       "      <td>0</td>\n",
       "      <td>0</td>\n",
       "      <td>Plasma membrane</td>\n",
       "    </tr>\n",
       "    <tr>\n",
       "      <th>5</th>\n",
       "      <td>2</td>\n",
       "      <td>3</td>\n",
       "      <td>1</td>\n",
       "      <td>0</td>\n",
       "      <td>0</td>\n",
       "      <td>69</td>\n",
       "      <td>0</td>\n",
       "      <td>0</td>\n",
       "      <td>0</td>\n",
       "      <td>1</td>\n",
       "      <td>0</td>\n",
       "      <td>0</td>\n",
       "      <td>Endosome</td>\n",
       "    </tr>\n",
       "    <tr>\n",
       "      <th>6</th>\n",
       "      <td>0</td>\n",
       "      <td>0</td>\n",
       "      <td>0</td>\n",
       "      <td>0</td>\n",
       "      <td>0</td>\n",
       "      <td>0</td>\n",
       "      <td>223</td>\n",
       "      <td>0</td>\n",
       "      <td>0</td>\n",
       "      <td>0</td>\n",
       "      <td>0</td>\n",
       "      <td>0</td>\n",
       "      <td>Mitochondrion</td>\n",
       "    </tr>\n",
       "    <tr>\n",
       "      <th>7</th>\n",
       "      <td>0</td>\n",
       "      <td>0</td>\n",
       "      <td>0</td>\n",
       "      <td>0</td>\n",
       "      <td>1</td>\n",
       "      <td>0</td>\n",
       "      <td>0</td>\n",
       "      <td>23</td>\n",
       "      <td>0</td>\n",
       "      <td>0</td>\n",
       "      <td>0</td>\n",
       "      <td>0</td>\n",
       "      <td>Golgi</td>\n",
       "    </tr>\n",
       "    <tr>\n",
       "      <th>8</th>\n",
       "      <td>0</td>\n",
       "      <td>0</td>\n",
       "      <td>0</td>\n",
       "      <td>0</td>\n",
       "      <td>2</td>\n",
       "      <td>0</td>\n",
       "      <td>0</td>\n",
       "      <td>1</td>\n",
       "      <td>24</td>\n",
       "      <td>0</td>\n",
       "      <td>0</td>\n",
       "      <td>0</td>\n",
       "      <td>Actin binding proteins</td>\n",
       "    </tr>\n",
       "    <tr>\n",
       "      <th>9</th>\n",
       "      <td>0</td>\n",
       "      <td>0</td>\n",
       "      <td>0</td>\n",
       "      <td>0</td>\n",
       "      <td>0</td>\n",
       "      <td>0</td>\n",
       "      <td>0</td>\n",
       "      <td>0</td>\n",
       "      <td>0</td>\n",
       "      <td>24</td>\n",
       "      <td>1</td>\n",
       "      <td>0</td>\n",
       "      <td>Ergic/cisGolgi</td>\n",
       "    </tr>\n",
       "    <tr>\n",
       "      <th>10</th>\n",
       "      <td>0</td>\n",
       "      <td>0</td>\n",
       "      <td>0</td>\n",
       "      <td>0</td>\n",
       "      <td>0</td>\n",
       "      <td>0</td>\n",
       "      <td>0</td>\n",
       "      <td>0</td>\n",
       "      <td>0</td>\n",
       "      <td>0</td>\n",
       "      <td>9</td>\n",
       "      <td>0</td>\n",
       "      <td>ER_high_curvature</td>\n",
       "    </tr>\n",
       "    <tr>\n",
       "      <th>11</th>\n",
       "      <td>1</td>\n",
       "      <td>0</td>\n",
       "      <td>0</td>\n",
       "      <td>0</td>\n",
       "      <td>1</td>\n",
       "      <td>0</td>\n",
       "      <td>0</td>\n",
       "      <td>0</td>\n",
       "      <td>0</td>\n",
       "      <td>0</td>\n",
       "      <td>0</td>\n",
       "      <td>14</td>\n",
       "      <td>Nuclear pore complex</td>\n",
       "    </tr>\n",
       "  </tbody>\n",
       "</table>\n",
       "</div>"
      ],
      "text/plain": [
       "    Predicted: ER  Predicted: Large Protein Complex  Predicted: Lysosome  \\\n",
       "0             113                                 0                    0   \n",
       "1               0                               299                    0   \n",
       "2               0                                 0                   35   \n",
       "3               0                                 0                    0   \n",
       "4               1                                 0                    0   \n",
       "5               2                                 3                    1   \n",
       "6               0                                 0                    0   \n",
       "7               0                                 0                    0   \n",
       "8               0                                 0                    0   \n",
       "9               0                                 0                    0   \n",
       "10              0                                 0                    0   \n",
       "11              1                                 0                    0   \n",
       "\n",
       "    Predicted: Peroxisome  Predicted: Plasma membrane  Predicted: Endosome  \\\n",
       "0                       0                           0                    0   \n",
       "1                       0                           0                    0   \n",
       "2                       0                           0                    0   \n",
       "3                      16                           0                    0   \n",
       "4                       0                         112                    0   \n",
       "5                       0                           0                   69   \n",
       "6                       0                           0                    0   \n",
       "7                       0                           1                    0   \n",
       "8                       0                           2                    0   \n",
       "9                       0                           0                    0   \n",
       "10                      0                           0                    0   \n",
       "11                      0                           1                    0   \n",
       "\n",
       "    Predicted: Mitochondrion  Predicted: Golgi  \\\n",
       "0                          2                 0   \n",
       "1                          0                 0   \n",
       "2                          0                 0   \n",
       "3                          0                 0   \n",
       "4                          0                 0   \n",
       "5                          0                 0   \n",
       "6                        223                 0   \n",
       "7                          0                23   \n",
       "8                          0                 1   \n",
       "9                          0                 0   \n",
       "10                         0                 0   \n",
       "11                         0                 0   \n",
       "\n",
       "    Predicted: Actin binding proteins  Predicted: Ergic/cisGolgi  \\\n",
       "0                                   0                          0   \n",
       "1                                   0                          0   \n",
       "2                                   0                          0   \n",
       "3                                   0                          0   \n",
       "4                                   1                          0   \n",
       "5                                   0                          1   \n",
       "6                                   0                          0   \n",
       "7                                   0                          0   \n",
       "8                                  24                          0   \n",
       "9                                   0                         24   \n",
       "10                                  0                          0   \n",
       "11                                  0                          0   \n",
       "\n",
       "    Predicted: ER_high_curvature  Predicted: Nuclear pore complex  \\\n",
       "0                              0                                0   \n",
       "1                              0                                0   \n",
       "2                              0                                0   \n",
       "3                              0                                0   \n",
       "4                              0                                0   \n",
       "5                              0                                0   \n",
       "6                              0                                0   \n",
       "7                              0                                0   \n",
       "8                              0                                0   \n",
       "9                              1                                0   \n",
       "10                             9                                0   \n",
       "11                             0                               14   \n",
       "\n",
       "             T: True group  \n",
       "0                       ER  \n",
       "1    Large Protein Complex  \n",
       "2                 Lysosome  \n",
       "3               Peroxisome  \n",
       "4          Plasma membrane  \n",
       "5                 Endosome  \n",
       "6            Mitochondrion  \n",
       "7                    Golgi  \n",
       "8   Actin binding proteins  \n",
       "9           Ergic/cisGolgi  \n",
       "10       ER_high_curvature  \n",
       "11    Nuclear pore complex  "
      ]
     },
     "execution_count": 53,
     "metadata": {},
     "output_type": "execute_result"
    }
   ],
   "source": [
    "fg = pd.read_json(i_class_comp.json_dict[\"r\"][\"Misclassification Matrix\"])\n",
    "fg[\"T: True group\"] = fg[\"T: True group\"].str.replace(r'True: ', '')\n",
    "fg"
   ]
  },
  {
   "cell_type": "code",
   "execution_count": 47,
   "metadata": {},
   "outputs": [
    {
     "data": {
      "text/html": [
       "<div>\n",
       "<style scoped>\n",
       "    .dataframe tbody tr th:only-of-type {\n",
       "        vertical-align: middle;\n",
       "    }\n",
       "\n",
       "    .dataframe tbody tr th {\n",
       "        vertical-align: top;\n",
       "    }\n",
       "\n",
       "    .dataframe thead tr th {\n",
       "        text-align: left;\n",
       "    }\n",
       "</style>\n",
       "<table border=\"1\" class=\"dataframe\">\n",
       "  <thead>\n",
       "    <tr>\n",
       "      <th>Experiment</th>\n",
       "      <th colspan=\"10\" halign=\"left\">44 min</th>\n",
       "      <th>...</th>\n",
       "      <th colspan=\"10\" halign=\"left\">r</th>\n",
       "    </tr>\n",
       "    <tr>\n",
       "      <th>Type</th>\n",
       "      <th>True: ER</th>\n",
       "      <th>True: Large Protein Complex</th>\n",
       "      <th>True: Lysosome</th>\n",
       "      <th>True: Peroxisome</th>\n",
       "      <th>True: Plasma membrane</th>\n",
       "      <th>True: Endosome</th>\n",
       "      <th>True: Mitochondrion</th>\n",
       "      <th>True: Golgi</th>\n",
       "      <th>True: Actin binding proteins</th>\n",
       "      <th>True: Ergic/cisGolgi</th>\n",
       "      <th>...</th>\n",
       "      <th>True: Lysosome</th>\n",
       "      <th>True: Peroxisome</th>\n",
       "      <th>True: Plasma membrane</th>\n",
       "      <th>True: Endosome</th>\n",
       "      <th>True: Mitochondrion</th>\n",
       "      <th>True: Golgi</th>\n",
       "      <th>True: Actin binding proteins</th>\n",
       "      <th>True: Ergic/cisGolgi</th>\n",
       "      <th>True: ER_high_curvature</th>\n",
       "      <th>True: Nuclear pore complex</th>\n",
       "    </tr>\n",
       "  </thead>\n",
       "  <tbody>\n",
       "    <tr>\n",
       "      <th>Recall</th>\n",
       "      <td>0.982609</td>\n",
       "      <td>1.000000</td>\n",
       "      <td>1.000000</td>\n",
       "      <td>1.0</td>\n",
       "      <td>0.982456</td>\n",
       "      <td>0.907895</td>\n",
       "      <td>1.000000</td>\n",
       "      <td>0.958333</td>\n",
       "      <td>0.888889</td>\n",
       "      <td>0.96</td>\n",
       "      <td>...</td>\n",
       "      <td>1.000000</td>\n",
       "      <td>1.0</td>\n",
       "      <td>0.982456</td>\n",
       "      <td>0.907895</td>\n",
       "      <td>1.000000</td>\n",
       "      <td>0.958333</td>\n",
       "      <td>0.888889</td>\n",
       "      <td>0.96</td>\n",
       "      <td>1.000000</td>\n",
       "      <td>0.875000</td>\n",
       "    </tr>\n",
       "    <tr>\n",
       "      <th>FDR</th>\n",
       "      <td>0.034188</td>\n",
       "      <td>0.009934</td>\n",
       "      <td>0.027778</td>\n",
       "      <td>0.0</td>\n",
       "      <td>0.034483</td>\n",
       "      <td>0.000000</td>\n",
       "      <td>0.008889</td>\n",
       "      <td>0.041667</td>\n",
       "      <td>0.040000</td>\n",
       "      <td>0.04</td>\n",
       "      <td>...</td>\n",
       "      <td>0.027778</td>\n",
       "      <td>0.0</td>\n",
       "      <td>0.034483</td>\n",
       "      <td>0.000000</td>\n",
       "      <td>0.008889</td>\n",
       "      <td>0.041667</td>\n",
       "      <td>0.040000</td>\n",
       "      <td>0.04</td>\n",
       "      <td>0.100000</td>\n",
       "      <td>0.000000</td>\n",
       "    </tr>\n",
       "    <tr>\n",
       "      <th>Precision</th>\n",
       "      <td>0.965812</td>\n",
       "      <td>0.990066</td>\n",
       "      <td>0.972222</td>\n",
       "      <td>1.0</td>\n",
       "      <td>0.965517</td>\n",
       "      <td>1.000000</td>\n",
       "      <td>0.991111</td>\n",
       "      <td>0.958333</td>\n",
       "      <td>0.960000</td>\n",
       "      <td>0.96</td>\n",
       "      <td>...</td>\n",
       "      <td>0.972222</td>\n",
       "      <td>1.0</td>\n",
       "      <td>0.965517</td>\n",
       "      <td>1.000000</td>\n",
       "      <td>0.991111</td>\n",
       "      <td>0.958333</td>\n",
       "      <td>0.960000</td>\n",
       "      <td>0.96</td>\n",
       "      <td>0.900000</td>\n",
       "      <td>1.000000</td>\n",
       "    </tr>\n",
       "    <tr>\n",
       "      <th>F1</th>\n",
       "      <td>0.974138</td>\n",
       "      <td>0.995008</td>\n",
       "      <td>0.985915</td>\n",
       "      <td>1.0</td>\n",
       "      <td>0.973913</td>\n",
       "      <td>0.951724</td>\n",
       "      <td>0.995536</td>\n",
       "      <td>0.958333</td>\n",
       "      <td>0.923077</td>\n",
       "      <td>0.96</td>\n",
       "      <td>...</td>\n",
       "      <td>0.985915</td>\n",
       "      <td>1.0</td>\n",
       "      <td>0.973913</td>\n",
       "      <td>0.951724</td>\n",
       "      <td>0.995536</td>\n",
       "      <td>0.958333</td>\n",
       "      <td>0.923077</td>\n",
       "      <td>0.96</td>\n",
       "      <td>0.947368</td>\n",
       "      <td>0.933333</td>\n",
       "    </tr>\n",
       "  </tbody>\n",
       "</table>\n",
       "<p>4 rows × 24 columns</p>\n",
       "</div>"
      ],
      "text/plain": [
       "Experiment    44 min                                             \\\n",
       "Type        True: ER True: Large Protein Complex True: Lysosome   \n",
       "Recall      0.982609                    1.000000       1.000000   \n",
       "FDR         0.034188                    0.009934       0.027778   \n",
       "Precision   0.965812                    0.990066       0.972222   \n",
       "F1          0.974138                    0.995008       0.985915   \n",
       "\n",
       "Experiment                                                        \\\n",
       "Type       True: Peroxisome True: Plasma membrane True: Endosome   \n",
       "Recall                  1.0              0.982456       0.907895   \n",
       "FDR                     0.0              0.034483       0.000000   \n",
       "Precision               1.0              0.965517       1.000000   \n",
       "F1                      1.0              0.973913       0.951724   \n",
       "\n",
       "Experiment                                                               \\\n",
       "Type       True: Mitochondrion True: Golgi True: Actin binding proteins   \n",
       "Recall                1.000000    0.958333                     0.888889   \n",
       "FDR                   0.008889    0.041667                     0.040000   \n",
       "Precision             0.991111    0.958333                     0.960000   \n",
       "F1                    0.995536    0.958333                     0.923077   \n",
       "\n",
       "Experiment                       ...              r                   \\\n",
       "Type       True: Ergic/cisGolgi  ... True: Lysosome True: Peroxisome   \n",
       "Recall                     0.96  ...       1.000000              1.0   \n",
       "FDR                        0.04  ...       0.027778              0.0   \n",
       "Precision                  0.96  ...       0.972222              1.0   \n",
       "F1                         0.96  ...       0.985915              1.0   \n",
       "\n",
       "Experiment                                                           \\\n",
       "Type       True: Plasma membrane True: Endosome True: Mitochondrion   \n",
       "Recall                  0.982456       0.907895            1.000000   \n",
       "FDR                     0.034483       0.000000            0.008889   \n",
       "Precision               0.965517       1.000000            0.991111   \n",
       "F1                      0.973913       0.951724            0.995536   \n",
       "\n",
       "Experiment                                                                \\\n",
       "Type       True: Golgi True: Actin binding proteins True: Ergic/cisGolgi   \n",
       "Recall        0.958333                     0.888889                 0.96   \n",
       "FDR           0.041667                     0.040000                 0.04   \n",
       "Precision     0.958333                     0.960000                 0.96   \n",
       "F1            0.958333                     0.923077                 0.96   \n",
       "\n",
       "Experiment                                                     \n",
       "Type       True: ER_high_curvature True: Nuclear pore complex  \n",
       "Recall                    1.000000                   0.875000  \n",
       "FDR                       0.100000                   0.000000  \n",
       "Precision                 0.900000                   1.000000  \n",
       "F1                        0.947368                   0.933333  \n",
       "\n",
       "[4 rows x 24 columns]"
      ]
     },
     "execution_count": 47,
     "metadata": {},
     "output_type": "execute_result"
    }
   ],
   "source": [
    ".df_clusterPerformance_global"
   ]
  },
  {
   "cell_type": "code",
   "execution_count": null,
   "metadata": {},
   "outputs": [],
   "source": [
    "#\n",
    "#i_organism_comparison = pn.widgets.Select(options=list(SpatialDataSet.markerproteins_set.keys()), name=\"Organism\", width=300) #\n",
    "##i_clusterwidget_comparison = pn.widgets.Select(options=list(SpatialDataSet.markerproteins.keys()), name=\"Cluster of interest\", width=300)\n",
    "#i_clusterwidget_comparison = pn.widgets.Select(options=[\"Proteasome\", \"Lysosome\"], name=\"Cluster of interest\", width=300)\n",
    "#i_clusters_for_ranking = pn.widgets.CrossSelector(name=\"Select clusters to be considered for ranking calculation\", #value=list(SpatialDataSet.markerproteins.keys()), \n",
    "#                                                options=[\"Proteasome\", \"Lysosome\"], size=8)\n",
    "#i_multi_choice = pn.widgets.CrossSelector(name=\"Select experiments for comparison\", value=[\"a\", \"b\"], options=[\"a\", \"b\", \"c\"])\n",
    "#i_ref_exp = pn.widgets.Select(name=\"Select experiments as reference\", options=[\"a\", \"b\", \"c\"])\n",
    "#i_scatter_metric = pn.widgets.Select(name=\"Distance metric\",\n",
    "#                                     options=[\"euclidean distance\", \"manhattan distance\",\n",
    "#                                              \"1 - cosine correlation\", \"1 - pearson correlation\"])\n",
    "#i_scatter_consolidation = pn.widgets.Select(name=\"Consolidation of replicate distances\",\n",
    "#                                            options=[\"median\",\"average\",\"sum\"])\n",
    "#\n",
    "#dashboard_json = pn.Column(\"Please, upload a file first and press 'Compare clusters'\", name=\"Comparison\", css_classes=[\"content-width\"])\n",
    "#comparison_status = pn.Pane(\"No datasets were compared yet\")\n",
    "#i_collapse_maps = pn.widgets.Checkbox(value=False, name=\"Collapse maps\")\n",
    "#i_collapse_cluster = pn.widgets.Checkbox(value=False, name=\"Collapse cluster\")\n",
    "#i_markerset_or_cluster = pn.widgets.Checkbox(value=False, name=\"Display only protein clusters\")\n",
    "##i_ranking_boxPlot = pn.widgets.Checkbox(value=False, name=\"Display box plot\")\n",
    "#i_ranking_boxPlot = pn.widgets.RadioBoxGroup(name=\"Types of ranking\", options=[\"Box plot\", \"Bar plot - median\", \"Bar plot - sum\"], inline=True)\n",
    "##i_toggle_sumORmedian = pn.widgets.Toggle(name=\"Sum or Median\", button_type=\"primary\")\n",
    "#i_ExpOverview = pn.Row(pn.Pane(\"\", width=1000))\n",
    "#wdgts_comparison = [button_comparison,i_organism_comparison] \n",
    "#\n",
    "#@pn.depends(i_jsonFile.param.value)#cache_run.param.value\n",
    "#def open_jsonFile(jsonFile):#run\n",
    "#    cache_run_json.value = False\n",
    "#    if jsonFile is None:\n",
    "#        filereading_status_json = \"No file is uploaded\"\n",
    "#        cache_uploaded_json.value = False\n",
    "#        return filereading_status_json\n",
    "#    else:\n",
    "#        cache_uploaded_json.value = False\n",
    "#        try:\n",
    "#            global json_dict\n",
    "#            #i_jsonFile.value\n",
    "#            json_dict = ast.literal_eval(jsonFile.decode(\"UTF-8\")) #i_class.\n",
    "#            if hasattr(json_dict, \"keys\") == False: #i_class.\n",
    "#                return \"Your json-File does not fulfill the requirements\"\n",
    "#            else:\n",
    "#                i_multi_choice.options = []\n",
    "#                i_ExpOverview[0] = pn.Pane(\"\", width=1000)\n",
    "#                filereading_status_json = list(json_dict.keys())# list(set(list(SpatialDataSet.analysed_datasets_dict.keys()) + )) #i_class.\n",
    "#                cache_uploaded_json.value = True\n",
    "#                for wdgt in wdgts_comparison:\n",
    "#                    wdgt.disabled = False\n",
    "#                return pn.Column(pn.Row(\"You will compare following experiments:\\n {}, and {}\".format(\", \".join(filereading_status_json[:-1]), filereading_status_json[-1])),\n",
    "#                                 pn.Row(i_organism_comparison),\n",
    "#                                 pn.Row(button_comparison),\n",
    "#                                 )\n",
    "#\n",
    "#        except Exception: \n",
    "#            filereading_status_json = traceback.format_exc()\n",
    "#            cache_uploaded_json.value = False\n",
    "#            return filereading_status_json                 \n",
    "#\n",
    "#@pn.depends(i_multi_choice.param.value, i_clusterwidget_comparison.param.value, cache_run_json.param.value, i_xAxis_PCA_comp.param.value, i_yAxis_PCA_comp.param.value, \n",
    "#            i_markerset_or_cluster.param.value)\n",
    "#def update_visualization_map_comparison(multi_choice, clusterwidget_comparison, run_json, xAxis_PCA_comp, yAxis_PCA_comp, markerset_or_cluster):\n",
    "#    try:\n",
    "#        if run_json == True:\n",
    "#            if multi_choice == []:\n",
    "#                return pn.Column(#pn.Row(i_multi_choice),\n",
    "#                                 pn.Row(\"Please select experiments for comparison\")\n",
    "#                                )\n",
    "#            else:\n",
    "#                pass\n",
    "#            pca_global_comparison = i_class_comp.plot_global_pca_comparison(cluster_of_interest_comparison=clusterwidget_comparison, x_PCA=xAxis_PCA_comp, y_PCA=yAxis_PCA_comp, \n",
    "#                                                                       markerset_or_cluster=markerset_or_cluster, multi_choice=multi_choice)\n",
    "#            if markerset_or_cluster == False:\n",
    "#                return pn.Column(#pn.Row(i_multi_choice),\n",
    "#                                 pn.Row(i_clusterwidget_comparison),\n",
    "#                                 pn.Row(i_markerset_or_cluster),\n",
    "#                                 pn.Row(pca_global_comparison),\n",
    "#                                 pn.Row(i_xAxis_PCA_comp, i_yAxis_PCA_comp)  \n",
    "#                                )\n",
    "#            else:\n",
    "#                return pn.Column(#pn.Row(i_multi_choice),\n",
    "#                                 pn.Row(i_markerset_or_cluster),\n",
    "#                                 pn.Row(pca_global_comparison),\n",
    "#                                 pn.Row(i_xAxis_PCA_comp, i_yAxis_PCA_comp)   \n",
    "#                                )\n",
    "#        else:\n",
    "#            pca_global_comparison = \"Run analysis first!\"\n",
    "#            return pca_global_comparison\n",
    "#    except Exception:\n",
    "#        update_status = traceback.format_exc()\n",
    "#        return update_status\n",
    "#\n",
    "#@pn.depends((i_multi_choice.param.value)\n",
    "#def update_ranking_comparison(multi_choice):\n",
    "#    cluster_above_treshold = i_class_comp.distance_ranking_comparison(multi_choice=multi_choice, clusters_for_ranking=i_clusters_for_ranking.value)\n",
    "#    i_clusters_for_ranking.options = list(cluster_above_treshold)\n",
    "#    i_clusters_for_ranking.value = list(cluster_above_treshold)\n",
    "#    \n",
    "#    \n",
    "#@pn.depends(i_multi_choice.param.value, i_clusterwidget_comparison.param.value, i_collapse_maps.param.value, i_collapse_cluster.param.value, i_clusters_for_ranking.param.value, \n",
    "#            i_ranking_boxPlot.param.value, cache_run_json.param.value)\n",
    "#def update_distance_and_pca(multi_choice, clusterwidget_comparison, collapse_maps, collapse_cluster, clusters_for_ranking, ranking_boxPlot, run_json):\n",
    "#    try:\n",
    "#        if run_json == True:\n",
    "#            if multi_choice == []:\n",
    "#                return pn.Column(#pn.Row(i_multi_choice),\n",
    "#                                 pn.Row(\"Please select experiments for comparison\")\n",
    "#                                )\n",
    "#            else:\n",
    "#                pass\n",
    "#            #i_ref_exp.options = multi_choice\n",
    "#            update_ref_exp(i_ref_exp)\n",
    "#            if clusters_for_ranking == []:\n",
    "#                clusters_for_ranking = [clusterwidget_comparison]\n",
    "#            else:\n",
    "#                pass\n",
    "#            \n",
    "#            \n",
    "#            distance_ranking_barplot_comparison(collapse_cluster=collapse_cluster, multi_choice=i_multi_choice.value, ranking_boxPlot=ranking_boxPlot)\n",
    "#            #i_clusters_for_ranking.options = list(i_class_comp.cluster_above_treshold)\n",
    "#            #i_clusters_for_ranking.value = list(i_class_comp.cluster_above_treshold)\n",
    "#            i_class_comp.cache_cluster_quantified = True\n",
    "#            distance_comparison = i_class_comp.distance_boxplot_comparison(collapse_maps=collapse_maps, cluster_of_interest_comparison=clusterwidget_comparison, multi_choice=multi_choice)\n",
    "#            if i_class_comp.cache_cluster_quantified == False:\n",
    "#                return pn.Column(\n",
    "#                                 pn.Row(i_clusterwidget_comparison),\n",
    "#                                 pn.Row(\"Cluster was not quantified in any experiment\")\n",
    "#                                )\n",
    "#            else:\n",
    "#                pca_comparison = i_class_comp.plot_pca_comparison(collapse_maps=collapse_maps, cluster_of_interest_comparison=clusterwidget_comparison, multi_choice=multi_choice)\n",
    "#                if clusters_for_ranking == []:\n",
    "#                    return pn.Column(\n",
    "#                                     pn.Row(i_clusters_for_ranking),\n",
    "#                                     pn.Row(\"Select at least one cluster\"),         \n",
    "#                                     pn.Row(i_clusterwidget_comparison),\n",
    "#                                     pn.Row(i_collapse_maps),\n",
    "#                                     pn.Row(pca_comparison),\n",
    "#                                     pn.Row(distance_comparison),\n",
    "#                                     )\n",
    "#                else:\n",
    "#                    if i_collapse_cluster.value == True:\n",
    "#                        return pn.Column(\n",
    "#                                     pn.Row(i_clusters_for_ranking),\n",
    "#                                     pn.Row(i_collapse_cluster, i_ranking_boxPlot),\n",
    "#                                     pn.Row(distance_ranking_comparison),\n",
    "#                                     #pn.Row(pn.widgets.DataFrame(i_class_comp.df_quantified_cluster, height=200, width=1800, disabled=True)),\n",
    "#                                     pn.Row(pn.widgets.DataFrame(i_class_comp.df_quantified_cluster2, height=200, width=1800, disabled=True)),\n",
    "#                                     pn.Row(i_clusterwidget_comparison),\n",
    "#                                     pn.Row(i_collapse_maps),\n",
    "#                                     pn.Row(pca_comparison),\n",
    "#                                     pn.Row(distance_comparison),\n",
    "#\n",
    "#                                    )\n",
    "#                    else:\n",
    "#                        return pn.Column(\n",
    "#                                     pn.Row(i_clusters_for_ranking),\n",
    "#                                     pn.Row(i_collapse_cluster),\n",
    "#                                     pn.Row(distance_ranking_comparison),\n",
    "#                                     #pn.Row(pn.widgets.DataFrame(i_class_comp.df_quantified_cluster, height=200, width=1800, disabled=True)), \n",
    "#                                     pn.Row(pn.widgets.DataFrame(i_class_comp.df_quantified_cluster2, height=200, width=1800, disabled=True)),\n",
    "#                                     pn.Row(i_clusterwidget_comparison),\n",
    "#                                     pn.Row(i_collapse_maps),\n",
    "#                                     pn.Row(pca_comparison),\n",
    "#                                     pn.Row(distance_comparison),\n",
    "#\n",
    "#                                    )\n",
    "#        else:\n",
    "#            pca_comparison = \"Run analysis first!\"\n",
    "#            return pca_comparison\n",
    "#    except Exception:\n",
    "#        update_status = traceback.format_exc()\n",
    "#        return update_status\n",
    "#    \n",
    "#    \n",
    "#@pn.depends(i_multi_choice.param.value, cache_run_json.param.value)\n",
    "#def update_npr_ngg_nprDc(multi_choice, run_json):\n",
    "#    try:\n",
    "#        if run_json == True: \n",
    "#            if multi_choice == []:\n",
    "#                return pn.Column(\n",
    "#                                 pn.Row(\"Please select experiments for comparison\"))\n",
    "#            else:\n",
    "#                fig_quantity_pg, fig_quantity_pr = i_class_comp.quantity_pr_pg_barplot_comparison(multi_choice=multi_choice)\n",
    "#                coverage_barplot = i_class_comp.coverage_comparison(multi_choice=multi_choice)\n",
    "#                return pn.Column(\n",
    "#                                 pn.Row(fig_quantity_pg), \n",
    "#                                 pn.Row(fig_quantity_pr),\n",
    "#                                 pn.Row(coverage_barplot)\n",
    "#                                )\n",
    "#        else:\n",
    "#            completeness_barplot = \"Run analysis first!\"\n",
    "#            return completeness_barplot\n",
    "#    except Exception:\n",
    "#        update_status = traceback.format_exc()\n",
    "#        return update_status \n",
    "#    \n",
    "#@pn.depends(i_multi_choice.param.value, cache_run_json.param.value)\n",
    "#def update_venn(multi_choice, run_json):\n",
    "#    try:\n",
    "#        if run_json == True: \n",
    "#            venn_plot = []\n",
    "#            if len(multi_choice)<=1:\n",
    "#                return pn.Column(\n",
    "#                                 pn.Row(\"Please select 2 or more experiments for comparison\"))\n",
    "#            else:\n",
    "#                venn_plot, figure_UpSetPlot = i_class_comp.venn_sections(multi_choice_venn = multi_choice)\n",
    "#                return pn.Column(\n",
    "#                                 pn.Pane(venn_plot),\n",
    "#                                 pn.Row(figure_UpSetPlot)\n",
    "#                                )\n",
    "#        else:\n",
    "#            venn_plot = \"Run analysis first!\"\n",
    "#            return venn_plot\n",
    "#    except Exception:\n",
    "#        update_status = traceback.format_exc()\n",
    "#        return update_status    \n",
    "#    \n",
    "##i_ref_exp.options = multi_choice\n",
    "#  #          update_ref_exp(i_ref_exp)\n",
    "#@pn.depends(i_multi_choice.param.value, i_ref_exp.param.value, i_collapse_cluster.param.value, cache_run_json.param.value)\n",
    "#def update_dynamic_range_comparison(multi_choice, ref_exp, collapse_cluster, run_json):\n",
    "#    try:\n",
    "#        if run_json == True: \n",
    "#            if multi_choice == []:\n",
    "#                return pn.Column(\n",
    "#                                 pn.Row(\"Please select experiments for comparison\"))\n",
    "#            else:\n",
    "#                dynamic_range_barplot = i_class_comp.dynamic_range_comparison(collapse_cluster=collapse_cluster, multi_choice=multi_choice, ref_exp=ref_exp)\n",
    "#                return pn.Column(\n",
    "#                                 pn.Row(dynamic_range_barplot),\n",
    "#                                 pn.Row(i_collapse_cluster),\n",
    "#                                 pn.Row(i_ref_exp)\n",
    "#                                )\n",
    "#        else:\n",
    "#            dynamic_range_barplot = \"Run analysis first!\"\n",
    "#            return dynamic_range_barplot\n",
    "#    except Exception:\n",
    "#        update_status = traceback.format_exc()\n",
    "#        return update_status \n",
    "#    \n",
    "#    \n",
    "#@pn.depends(i_multi_choice.param.value, i_scatter_metric.param.value, i_scatter_consolidation.param.value, cache_run_json.param.value)\n",
    "#def update_global_scatter_comparison(multi_choice, metric, consolidation, run_json):\n",
    "#    try:\n",
    "#        if run_json == True: \n",
    "#            if multi_choice == []:\n",
    "#                return pn.Column(#pn.Row(i_multi_choice),\n",
    "#                                 pn.Row(\"Please select experiments for comparison\"))\n",
    "#            else:\n",
    "#                scatter_histogram = i_class_comp.calculate_global_scatter(multi_choice=multi_choice,\n",
    "#                                                                              metric=metric, consolidation=consolidation)\n",
    "#                return pn.Column(pn.Row(i_scatter_metric),\n",
    "#                                 pn.Row(i_scatter_consolidation),\n",
    "#                                 pn.Row(scatter_histogram)\n",
    "#                                )\n",
    "#        else:\n",
    "#            return \"Run analysis first!\"\n",
    "#    except Exception:\n",
    "#        update_status = traceback.format_exc()\n",
    "#        return update_status\n",
    "#    \n",
    "#    \n",
    "#def update_multi_choice(i_multi_choice, i_clusterwidget, i_clusters_for_ranking):\n",
    "#    i_multi_choice.options = list(json_dict.keys())\n",
    "#    i_clusterwidget.options = list(i_class_comp.markerproteins.keys())\n",
    "#    i_clusters_for_ranking.options = list(i_class_comp.markerproteins.keys())\n",
    "#    i_clusters_for_ranking.value = list(i_class_comp.markerproteins.keys())\n",
    "#    i_multi_choice.value = list(json_dict.keys())\n",
    "#    \n",
    "#    \n",
    "#@pn.depends(i_multi_choice.param.value, watch=True)\n",
    "#def update_ref_exp(multi_choice):\n",
    "#    i_ref_exp.options = i_multi_choice.value\n",
    "#    #return i_ref_exp\n",
    "#\n",
    "#\n",
    "#@pn.depends(i_multi_choice.param.value, watch=True)\n",
    "#def update_ExpOverview(multi_choice):\n",
    "#    dict_analysis_parameters={}\n",
    "#    for exp_name in multi_choice:\n",
    "#        dict_analysis_parameters[exp_name] = json_dict[exp_name][\"Analysis parameters\"]\n",
    "#    i_ExpOverview[0] = pn.widgets.DataFrame(pd.DataFrame.from_dict(dict_analysis_parameters))\n",
    "#    i_ExpOverview.value = pd.DataFrame.from_dict(dict_analysis_parameters)\n",
    "#    i_ExpOverview.disabled = True\n",
    "#    i_ExpOverview.height = 200\n",
    "#\n",
    "#    \n",
    "#def execution_comparison(event):\n",
    "#    if cache_uploaded_json.value == False:\n",
    "#        comparison_status.object = \"Please upload a JSON-file first\"\n",
    "#    else:        \n",
    "#        dashboard_comparison.objects[2:] = []\n",
    "#        cache_run_json.value = False\n",
    "#        for wdgt in wdgts_comparison:\n",
    "#            wdgt.disabled = True\n",
    "#        try:\n",
    "#            comparison_status.object = \"Analysis in progress\"\n",
    "#            protein_cluster = SpatialDataSet.markerproteins_set[i_organism_comparison.value].keys()\n",
    "#            update_ref_exp(i_ref_exp)\n",
    "#            global i_class_comp\n",
    "#            i_class_comp = SpatialDataSetComparison(clusters_for_ranking=protein_cluster, ref_exp=i_ref_exp.value, organism=i_organism_comparison.value)\n",
    "#            i_class_comp.json_dict = json_dict\n",
    "#            i_class_comp.read_jsonFile()\n",
    "#            update_multi_choice(i_multi_choice, i_clusterwidget_comparison, i_clusters_for_ranking)\n",
    "#            i_class_comp.perform_pca_comparison()\n",
    "#            dashboard_comparison.append(pn.Row(i_multi_choice))\n",
    "#            dashboard_comparison.append(pn.Row(i_ExpOverview))\n",
    "#            dashboard_comparison.append(comparison_tabs)\n",
    "#            comparison_status.object = \"Comparison finished!\"\n",
    "#            cache_run_json.value = True\n",
    "#        except Exception:\n",
    "#            for wdgt in wdgts_comparison:\n",
    "#                wdgt.disabled = False\n",
    "#            comparison_status.object = traceback.format_exc()\n",
    "#            cache_run_json.value = False\n",
    "#button_comparison.on_click(execution_comparison)\n",
    "#\n",
    "#\n",
    "#i_jsonFile_amendments_intended = pn.widgets.FileInput(name=\"Upload JSON file to be amended\")\n",
    "#i_json_ExpSelector = pn.widgets.CrossSelector(name=\"Select experiments, that will be removed from JSON file\", width=1000)\n",
    "#cache_uploaded_json_amendment = pn.widgets.Checkbox(value=False)\n",
    "#cache_run_json_amendment = pn.widgets.Checkbox(value=False)\n",
    "#button_reset = pn.widgets.Button(name=\"Reset\", width=50)\n",
    "#download_status = pn.Pane(\"Upload a JSON file first\", width=1000)\n",
    "#i_df_ExpComment = pn.widgets.DataFrame()\n",
    "#wdgt_json = [button_reset]\n",
    "#json_dict_amendments_intended = {}\n",
    "##make a cache, and say, if this hasnt been executed so far, please reset it\n",
    "#dict_new_expNames = {}\n",
    "#dict_new_comments = {}\n",
    "#    \n",
    "#@pn.depends(i_jsonFile_amendments_intended.param.value)#cache_run.param.value\n",
    "#def open_jsonFile_amendment(jsonFile_amendments):#run\n",
    "#    cache_run_json_amendment.value = False\n",
    "#    if jsonFile_amendments is None:\n",
    "#        cache_uploaded_json_amendment.value = False\n",
    "#    else:\n",
    "#        cache_uploaded_json_amendment.value = False\n",
    "#        try:\n",
    "#            json_dict_cache = ast.literal_eval(i_jsonFile_amendments_intended.value.decode(\"UTF-8\"))\n",
    "#            if hasattr(json_dict_cache, \"keys\") == False: \n",
    "#                    return \"Your json-File does not fulfill the requirements\"\n",
    "#            else:\n",
    "#                global json_dict_amendments_intended\n",
    "#                try:\n",
    "#                    json_dict_amendments_intended.update(json_dict_cache)\n",
    "#                except Exception:\n",
    "#                    json_dict_amendments_intended = json_dict_cache\n",
    "#                i_json_ExpSelector.options = list(json_dict_amendments_intended.keys())\n",
    "#                cache_uploaded_json_amendment.value = True\n",
    "#                for wdgt in wdgt_json:\n",
    "#                    wdgt.disabled = False\n",
    "#                download_status.object = \"Upload sucessful\"\n",
    "#                return pn.Column(\n",
    "#                                 i_json_ExpSelector,\n",
    "#                                 i_df_ExpComment,\n",
    "#                                 pn.widgets.FileDownload(callback=json_amendment_download, filename=\"AnalysedDatasets2.0.json\"),\n",
    "#                                 button_reset,\n",
    "#                                 )\n",
    "#        except Exception: \n",
    "#            filereading_status_json = traceback.format_exc()\n",
    "#            cache_uploaded_json_amendment.value = False\n",
    "#            return filereading_status_json\n",
    "#\n",
    "#        \n",
    "#def json_amendment_download():\n",
    "#    if i_json_ExpSelector.value == []:\n",
    "#        download_status.object = \"No experiments are selected\"\n",
    "#        return\n",
    "#    else:\n",
    "#        json_new = json_dict_amendments_intended.copy()\n",
    "#        exp_names_del = [elem for elem in i_json_ExpSelector.options if not elem in i_json_ExpSelector.value]        \n",
    "#        for key in exp_names_del:\n",
    "#            del json_new[key]\n",
    "#        checked_exp = set()\n",
    "#        redundant_expNames = set(new_Exp for new_Exp in dict_new_expNames.values() if new_Exp in checked_exp or checked_exp.add(new_Exp))\n",
    "#        if redundant_expNames != set():\n",
    "#            download_status.object = \"Experiments are not allowed to be labelled identically\"\n",
    "#            return\n",
    "#        else:\n",
    "#            for exp_name in json_new:\n",
    "#                json_new[exp_name][\"Analysis parameters\"][\"comment\"] = dict_new_expNames[exp_name]\n",
    "#            json_new = {dict_new_expNames[oldK]: value for oldK, value in json_new.items()}\n",
    "#            sio = StringIO()\n",
    "#            json.dump(\n",
    "#                json_new, \n",
    "#                sio, \n",
    "#                indent=4, \n",
    "#                sort_keys=True\n",
    "#            )\n",
    "#            sio.seek(0)\n",
    "#            download_status.object = \"Download sucessful\"\n",
    "#            return sio\n",
    "#\n",
    "#        \n",
    "#def reset_json_amendment(event):\n",
    "#    global json_dict_amendments_intended\n",
    "#    json_dict_amendments_intended = {}\n",
    "#    i_json_ExpSelector.options = []\n",
    "#    i_json_ExpSelector.value = []\n",
    "#    i_df_ExpComment.value = pd.DataFrame()\n",
    "#    for wdgt in wdgt_json:\n",
    "#        wdgt.disabled = True\n",
    "#    download_status.object = \"Reset sucessful\"\n",
    "#button_reset.on_click(reset_json_amendment)\n",
    "#\n",
    "#\n",
    "#@pn.depends(i_json_ExpSelector.param.value, watch=True)\n",
    "#def update_renameExp(json_ExpSelector):\n",
    "#    dict_ExpComments = {}\n",
    "#    for exp_name in json_ExpSelector:\n",
    "#        dict_ExpComments[exp_name] = json_dict_amendments_intended[exp_name][\"Analysis parameters\"][\"comment\"]\n",
    "#    df_ExpComments = pd.DataFrame(dict_ExpComments.items(), columns=[\"Experiment name - old\", \"Comment\"])#pd.DataFrame.from_dict(dict_ExpComments)\n",
    "#    df_ExpComments.insert(0, \"Experiment name - new\", df_ExpComments[\"Experiment name - old\"])\n",
    "#    df_ExpComments.set_index(\"Experiment name - old\", inplace=True)\n",
    "#    df_ExpComments.replace({\"Experiment name - new\": dict_new_expNames}, inplace=True)\n",
    "#    exp_previous = list(dict_new_comments.keys())\n",
    "#    for exp in exp_previous:\n",
    "#        if exp not in json_ExpSelector:\n",
    "#            del dict_new_comments[exp]\n",
    "#    df_ExpComments.loc[dict_new_comments.keys(),\"Comment\"] = list(dict_new_comments.values())\n",
    "#    i_df_ExpComment.value = df_ExpComments\n",
    "#    i_df_ExpComment.height=len(json_ExpSelector)*50\n",
    "#    #return i_df_ExpComment\n",
    "#\n",
    "#@pn.depends(i_df_ExpComment.param.value, watch=True)\n",
    "#def update_newExpNames(df_ExpComment):\n",
    "#    try:        \n",
    "#        global dict_new_expNames \n",
    "#        changed_expName = set(list(dict_new_expNames.values())+list(df_ExpComment[\"Experiment name - new\"]))-set(dict_new_expNames.values())\n",
    "#        dict_new_expNames = dict(zip(df_ExpComment.index, df_ExpComment[\"Experiment name - new\"]))\n",
    "#        global dict_new_comments\n",
    "#        dict_new_comments_cache = dict_new_comments.copy()\n",
    "#        changed_comment = set(list(dict_new_comments.values())+list(df_ExpComment[\"Comment\"]))-set(dict_new_comments.values())\n",
    "#        dict_new_comments = dict(zip(df_ExpComment.index, df_ExpComment[\"Comment\"]))\n",
    "#        if changed_expName == set() and changed_comment == set():\n",
    "#            tracked_change = \"No changes saved\"\n",
    "#        elif changed_expName != set() and changed_comment != set():\n",
    "#            tracked_change = \"Upload sucessful\"\n",
    "#        elif changed_expName != set():\n",
    "#            new_exp = list(changed_expName)[0]\n",
    "#            old_exp = list(dict_new_expNames.keys())[list(dict_new_expNames.values()).index(new_exp)]\n",
    "#            tracked_change = \"Experiment name was changed from {} to {}\".format(old_exp, new_exp)\n",
    "#        else:# changed_comment != set():\n",
    "#            new_comment = list(changed_comment)[0]\n",
    "#            exp = list(dict_new_comments.keys())[list(dict_new_comments.values()).index(new_comment)]\n",
    "#            old_comment = dict_new_comments_cache[exp]\n",
    "#            tracked_change = \"Comment of the experiment {} was changed from {} to {}\".format(exp, old_comment, new_comment)\n",
    "#        download_status.object = tracked_change\n",
    "#    except Exception:\n",
    "#        pass\n",
    "#\n",
    "#\n",
    "#\n",
    "#\n",
    "#analysis_tabs = pn.Tabs(margin=10, css_classes=[\"content-width\"], dynamic=True)\n",
    "#analysis_tabs.append((\"Data overview\", update_data_overview))\n",
    "#analysis_tabs.append((\"Cluster Overview\", update_cluster_overview))\n",
    "#analysis_tabs.append((\"Cluster Details\", update_cluster_details))\n",
    "#analysis_tabs.append((\"Dynamic Range\", update_dynamic_range))\n",
    "#analysis_tabs.append((\"Protein Groups/Profiles Quantity\", update_quantity))\n",
    "#analysis_tabs.append((\"Download\", show_tabular_overview))\n",
    "#\n",
    "#comparison_tabs = pn.Tabs(margin=10, css_classes=[\"content-width\"], dynamic=True)\n",
    "#comparison_tabs.append((\"Visualization - organellar maps\", update_visualization_map_comparison))\n",
    "#comparison_tabs.append((\"Global Scatter\", update_global_scatter_comparison))\n",
    "#comparison_tabs.append((\"PCA plot and Distance box plot\", update_distance_and_pca))\n",
    "#comparison_tabs.append((\"Venn Diagram\", update_venn))\n",
    "#comparison_tabs.append((\"Protein Groups/Profiles Quantity\", update_npr_ngg_nprDc))\n",
    "#comparison_tabs.append((\"Dynamic Range\", update_dynamic_range_comparison))\n",
    "#\n",
    "#\n",
    "#dasboard_home = pn.Column(i_file, read_file,analysis_status, loading_status, name=\"Home\", css_classes=[\"content-width\"])\n",
    "#dashboard_analysis = pn.Column(\"Please, upload a file first and press 'Analyse clusters'\", name=\"Analysis\", css_classes=[\"content-width\"])\n",
    "#dashboard_svm = pn.Column(\"Please, upload a file first and press 'Analyse clusters'\", name=\"SVM Analysis\", css_classes=[\"content-width\"])\n",
    "#dashboard_comparison = pn.Column(i_jsonFile, open_jsonFile, comparison_status)\n",
    "#dashboard_manageDatasets = pn.Column(i_jsonFile_amendments_intended, open_jsonFile_amendment, download_status)\n",
    "#\n",
    "#\n",
    "#app_tabs = pn.Tabs(margin=10, css_classes=[\"content-width\"], dynamic=True)\n",
    "#app_tabs.append((\"Home\", dasboard_home))\n",
    "#app_tabs.append((\"Analysis\", dashboard_analysis))\n",
    "#app_tabs.append((\"SVM Analysis\", dashboard_svm))\n",
    "#app_tabs.append((\"Data comparison\", dashboard_comparison))\n",
    "#app_tabs.append((\"Manage Datasets\", dashboard_manageDatasets))\n",
    "#\n",
    "#app_tabs.append((\"About\", pn.Row(\"Explanation of what's going on here\", width=2000)))\n",
    "#\n",
    "##i_search = pn.widgets.TextInput(name=\"Search\")\n",
    "#app_center = pn.Column(pn.Row(pn.Pane(\"# QC tool for Spatial Proteomics\", width = 600),\n",
    "#                              pn.layout.HSpacer(),\n",
    "#                              #i_search,\n",
    "#                              #width=1600, \n",
    "#                              margin=10),\n",
    "#                       app_tabs,\n",
    "#                       #pn.Spacer(background=\"#DDDDDD\", height=100, margin=0)\n",
    "#                      )\n",
    "#app = pn.GridSpec()#sizing_mode=\"stretch_both\", margin=0)\n",
    "#app[0,0] = pn.Spacer(background=\"white\", margin=0) #\"#DDDDDD\"\n",
    "#app[0,9] = pn.Spacer(background=\"white\", margin=0) #\"#DDDDDD\"\n",
    "#app[0,1:8] = app_center\n",
    "#\n",
    "#pwd = pn.widgets.PasswordInput(name=\"Please enter password for access.\")\n",
    "#app_container = pn.Column(pwd)\n",
    "#\n",
    "#def check_pwd(event, app=app):\n",
    "#    pwd = event.new\n",
    "#    if pwd == \"pwd\":\n",
    "#        app_container[0]=app\n",
    "#pwd.param.watch(check_pwd, \"value\")\n",
    "#\n",
    "#try:\n",
    "#    server.stop()\n",
    "#except Exception:\n",
    "#    print(\"First server startup\")\n",
    "#server = app.show(port=5065, websocket_max_message_size=2000000000)\n",
    "##app.servable()"
   ]
  },
  {
   "cell_type": "code",
   "execution_count": null,
   "metadata": {},
   "outputs": [],
   "source": [
    "#df_eLifeMarkers = pd.read_csv(\"eLife_markers.txt\", sep=\"\\t\", comment=\"#\",\n",
    "#                                       usecols=lambda x: bool(re.match(\"Gene name|Compartment\", x)))\n",
    "#df_eLifeMarkers = df_eLifeMarkers.rename(columns={\"Gene name\":\"Gene names\"})\n",
    "#df_eLifeMarkers = df_eLifeMarkers.astype({\"Gene names\": \"str\"})\n",
    "#i_class.df_eLifeMarkers =  df_eLifeMarkers"
   ]
  },
  {
   "cell_type": "code",
   "execution_count": null,
   "metadata": {},
   "outputs": [],
   "source": [
    " df_clusterPerformance = pd.DataFrame(SVM_dict)\n",
    "    df_AvgClusterPerformance = pd.DataFrame(SVM_dict_total)"
   ]
  },
  {
   "cell_type": "code",
   "execution_count": null,
   "metadata": {
    "scrolled": true
   },
   "outputs": [],
   "source": [
    "\n",
    "#get_best_distribution(df_conc_fullP)\n",
    "\n",
    "\n",
    "#import scipy.stats as st\n",
    "#def get_best_distribution(data):\n",
    "#    dist_names = [\"foldnorm\",\"genlogistic\",\"gennorm\",\"genpareto\",\"genexpon\",\"genextreme\",\"gausshyper\",\"gamma\",\"gengamma\",\"genhalflogistic\",\"geninvgauss\",\"gilbrat\",\n",
    "#\"gompertz\",\"gumbel_r\",\"gumbel_l\",\"halfcauchy\",\"halflogistic\",\"halfnorm\",\"halfgennorm\",\"hypsecant\",\"invgamma\",\"invgauss\",\"invweibull\",\"johnsonsb\",\n",
    "#\"johnsonsu\",\"kappa4\",\"kappa3\",\"kstwo\",\"kstwobign\",\"laplace\",\"laplace_asymmetric\",\"levy\",\"levy_l\",\"logistic\",\"loggamma\",\n",
    "#\"loglaplace\",\"lognorm\",\"loguniform\",\"lomax\",\"maxwell\",\"mielke\",\"moyal\",\"nakagami\",\"ncx2\",\"ncf\",\"nct\",\"norm\",\"norminvgauss\",\"pareto\",\"pearson3\",\n",
    "#\"powerlaw\",\"powerlognorm\",\"powernorm\",\"rdist\",\"rayleigh\",\"rice\",\"recipinvgauss\",\"semicircular\",\"skewnorm\",\"t\",\"trapezoid\",\"triang\",\"truncexpon\",\n",
    "#\"truncnorm\",\"tukeylambda\",\"uniform\",\"vonmises\",\"vonmises_line\",\"wald\",\"weibull_min\",\"weibull_max\", \"alpha\",\"anglit\",\"arcsine\",\"argus\",\"beta\",\"betaprime\",\"bradford\",\"burr\",\n",
    "#     \"burr12\",\"cauchy\",\"chi\",\"chi2\",\"cosine\",\"crystalball\",\"dgamma\",\"dweibull\",\"erlang\",\"expon\",\"exponnorm\",\"exponweib\",\"exponpow\",\"f\",\"fatiguelife\",\"fisk\",\"foldcauchy\"]\n",
    "#    dist_results = []\n",
    "#    params = {}\n",
    "#    for dist_name in dist_names:\n",
    "#        try:\n",
    "#            dist = getattr(st, dist_name)\n",
    "#            param = dist.fit(data)\n",
    "#    \n",
    "#            params[dist_name] = param\n",
    "#            # Applying the Kolmogorov-Smirnov test\n",
    "#            D, p = st.kstest(data, dist_name, args=param)\n",
    "#            print(\"p value for \"+dist_name+\" = \"+str(p))\n",
    "#            dist_results.append((dist_name, p))\n",
    "#        except:\n",
    "#            continue\n",
    "#    \n",
    "#    # select the best fitted distribution\n",
    "#    best_dist, best_p = (max(dist_results, key=lambda item: item[1]))\n",
    "#    # store the name of the best fit and its p value\n",
    "#\n",
    "#    print(\"Best fitting distribution: \"+str(best_dist))\n",
    "#    print(\"Best p value: \"+ str(best_p))\n",
    "#    print(\"Parameters for the best fit: \"+ str(params[best_dist]))\n",
    "#\n",
    "#    return best_dist, best_p, params[best_dist]\n",
    "\n",
    "#import plotly.figure_factory as ff\n",
    "#\n",
    "#fig = ff.create_distplot(df.reset_index(), group_labels, colors=colors, bin_size=.25,\n",
    "#                         show_curve=False)\n",
    "#\n",
    "## Add title\n",
    "#fig.update_layout(title_text=\"Hist and Rug Plot\")\n",
    "#fig.show()\n",
    "#\n",
    "\n",
    "#df_cluster_normalizedMedian.index.name=\"Experiment\"\n",
    "#df_cluster_normalizedMedian.rename_axis(\"Cluster\", axis=1, inplace=True)\n",
    "#df_ranking = df_cluster_normalizedMedian.stack(\"Cluster\")\n",
    "#df_ranking.name=\"Normalized Median\"\n",
    "#df_ranking = df_ranking.reset_index()\n",
    "#ranking_sum = df_cluster_normalizedMedian.sum(axis=1).round(2)\n",
    "#ranking_sum.name = \"Normalized Median - Sum\"\n",
    "\n",
    "#clusters_for_ranking = i_class_comp.clusters_for_ranking\n",
    "#ref_exp = i_ref_exp.value\n",
    "#ranking_boxPlot=True\n",
    "#collapse_cluster=False\n",
    "#\n",
    "#df_distance_comp = i_class_comp.df_distance_comp.copy()\n",
    "#df_distance_comp = df_distance_comp[df_distance_comp[\"Experiment\"].isin(multi_choice)]\n",
    "#df_distance_comp = df_distance_comp[df_distance_comp[\"Cluster\"].isin(clusters_for_ranking)]\n",
    "#\n",
    "#df_quantified_cluster = df_distance_comp.reset_index()\n",
    "#df_quantified_cluster = df_quantified_cluster.drop_duplicates(subset=[\"Cluster\", \"Experiment\"]).set_index([\"Cluster\", \n",
    "#                                                                                                           \"Experiment\"])[\"distance\"].unstack(\"Cluster\")\n",
    "#i_class_comp.df_quantified_cluster = df_quantified_cluster.notnull().replace({True: \"x\", False: \"-\"})\n",
    "#\n",
    "##dict_cluster_normalizedMedian = {}\n",
    "#dict_cluster_normalizedMedian_ref = {}\n",
    "#dict_median_distance_ranking = {}\n",
    "#for cluster in i_class_comp.markerproteins.keys():\n",
    "#    try:\n",
    "#        df_cluster = df_distance_comp[df_distance_comp[\"Cluster\"]==cluster]\n",
    "#        all_median_one_cluster_several_exp = {}\n",
    "#        for exp in multi_choice:\n",
    "#            median = df_cluster[df_cluster[\"Experiment\"]==exp].median()\n",
    "#            all_median_one_cluster_several_exp[exp] = float(median)\n",
    "#            #new\n",
    "#            if exp == ref_exp:\n",
    "#                ref = median\n",
    "#        dict_median_distance_ranking[cluster] = all_median_one_cluster_several_exp\n",
    "#        min_median = min(all_median_one_cluster_several_exp.items(), key=lambda x: x[1])[1]\n",
    "#        #median_ranking = {exp: median/min_median for exp, median in all_median_one_cluster_several_exp.items()}\n",
    "#        #dict_cluster_normalizedMedian[cluster] = median_ranking\n",
    "#        #new\n",
    "#        median_ranking_ref = {exp: median/ref[0] for exp, median in all_median_one_cluster_several_exp.items()}\n",
    "#        dict_cluster_normalizedMedian_ref[cluster] = median_ranking_ref\n",
    "#    except Exception:\n",
    "#        continue\n",
    "#\n",
    "##df_cluster_normalizedMedian = pd.DataFrame(dict_cluster_normalizedMedian)\n",
    "##df_cluster_normalizedMedian.index.name=\"Experiment\"\n",
    "##df_cluster_normalizedMedian.rename_axis(\"Cluster\", axis=1, inplace=True)\n",
    "##df_ranking = df_cluster_normalizedMedian.stack(\"Cluster\")\n",
    "##df_ranking.name=\"Normalized Median\"\n",
    "##df_ranking = df_ranking.reset_index()\n",
    "##ranking_sum = df_cluster_normalizedMedian.sum(axis=1).round(2)\n",
    "##ranking_sum.name = \"Normalized Median - Sum\"\n",
    "##ranking_product = df_cluster_normalizedMedian.product(axis=1).round(2)\n",
    "##ranking_product.name = \"Normalized Median - Product\"\n",
    "##df_globalRanking = pd.concat([pd.DataFrame(ranking_sum), pd.DataFrame(ranking_product)], axis=1).reset_index()\n",
    "##self.sorting_list = list(df_globalRanking.sort_values(\"Normalized Median - Sum\")[\"Experiment\"])\n",
    "##set categroical column, allowing lexicographic sorting\n",
    "##df_ranking = df_ranking.assign(Experiment_lexicographic_sort = pd.Categorical(df_ranking[\"Experiment\"], categories=self.sorting_list, ordered=True))\n",
    "##df_ranking.sort_values(\"Experiment_lexicographic_sort\", inplace=True)\n",
    "##df_globalRanking = df_globalRanking.assign(Experiment_lexicographic_sort = pd.Categorical(df_globalRanking[\"Experiment\"], categories=self.sorting_list,\n",
    "##                                                                                          ordered=True))\n",
    "##df_globalRanking.sort_values(\"Experiment_lexicographic_sort\", inplace=True)\n",
    "##df_ranking[\"Experiment_lexicographic_sort\"] = pd.Categorical(df_ranking[\"Experiment\"], categories=self.sorting_list, ordered=True)\n",
    "##df_ranking.sort_values(\"Experiment_lexicographic_sort\", inplace=True)\n",
    "##df_globalRanking[\"Experiment_lexicographic_sort\"] = pd.Categorical(df_globalRanking[\"Experiment\"], categories=self.sorting_list, ordered=True)\n",
    "##df_globalRanking.sort_values(\"Experiment_lexicographic_sort\", inplace=True)\n",
    "#\n",
    "#df_cluster_normalizedMedian_ref = pd.DataFrame(dict_cluster_normalizedMedian_ref)\n",
    "#df_cluster_normalizedMedian_ref.index.name=\"Experiment\"\n",
    "#df_cluster_normalizedMedian_ref.rename_axis(\"Cluster\", axis=1, inplace=True)\n",
    "#\n",
    "##median makes a huge differnece, improves result of DIA, MQ, libary\n",
    "#df_RelDistanceRanking = pd.concat([df_cluster_normalizedMedian_ref.median(axis=1), df_cluster_normalizedMedian_ref.sem(axis=1)], axis=1, \n",
    "#                                  keys=[\"Distance Ranking (rel, median)\", \"SEM\"]).reset_index().sort_values(\"Distance Ranking (rel, median)\")\n",
    "#i_class_comp.sorting_list = list(df_RelDistanceRanking[\"Experiment\"])\n",
    "\n",
    "\n",
    "#    if i_class_comp.multi_choice not in list(i_class_comp.json_dict.keys()):\n",
    "#    #        i_class_comp.multi_choice = list(i_class_comp.json_dict.keys())[0:2] \n",
    "#            i_multi_choice.value = list(i_class_comp.json_dict.keys())[0:2] \n",
    "#        \n",
    "#    if i_class_comp.i_clusterwidget not in list(i_class_comp.json_dict.keys()):\n",
    "##        i_class_comp.multi_choice = list(i_class_comp.json_dict.keys())[0:2] \n",
    "#        i_multi_choice.value = list(i_class_comp.json_dict.keys())[0:2] \n",
    "#    \n",
    "#    if i_class_comp.i_clusters_for_ranking not in list(i_class_comp.json_dict.keys()):\n",
    "##    i_class_comp.multi_choice = list(i_class_comp.json_dict.keys())[0:2] \n",
    "#    i_multi_choice.value = list(i_class_comp.json_dict.keys())[0:2] \n",
    "#            \n",
    "##def update_object_selector(i_mapwidget, i_clusterwidget):\n",
    "##    i_mapwidget.options = list(i_class.map_names)\n",
    "##    i_clusterwidget.options = list(i_class.markerproteins.keys())\n",
    "\n",
    "    \n",
    "#def update_multi_choice_venn(i_multi_choice_venn):\n",
    "#    i_multi_choice_venn.options = list(json_dict.keys())\n",
    "    #i_multi_choice_venn.value = list(json_dict.keys())[0:2]\n",
    "    \n",
    "    #if i_class_comp.multi_choice_venn not in list(i_class_comp.json_dict.keys()):\n",
    "    #        i_class_comp.multi_choice_venn = list(i_class_comp.json_dict.keys())[0:2]  \n",
    "    #        i_multi_choice_venn.value = list(i_class_comp.json_dict.keys())[0:2] \n",
    "     \n",
    "        \n",
    "#                   i_renameExp.disabled =  False\n",
    "                    #dict_old_new_ExpName = dict.fromkeys(json_dict_amendments_intended.keys(), \"\")\n",
    "#                    i_renameExp.disabled =  True\n",
    "                    #dict_old_new_ExpName = dict.fromkeys(json_dict_amendments_intended.keys(), \"\")\n",
    "                #filereading_status_json = list(json_dict_amendments_intended.keys())\n",
    "              \n",
    "    #        for key in dict_old_new_ExpName.keys():\n",
    "    #            if dict_old_new_ExpName[key] == \"\":\n",
    "    #                dict_old_new_ExpName[key] = key  \n",
    "    \n",
    "#    i_renameExp.disabled = False\n",
    "#    i_renameExp.options = json_ExpSelector\n",
    "#    return i_renameExp \n",
    "#\n",
    "#@pn.depends(i_renameExp_text.param.value, watch=True)\n",
    "#def update_dict_expName(renameExp_text):\n",
    "#    dict_old_new_ExpName[i_renameExp.value] = renameExp_text \n",
    "#\n",
    "#@pn.depends(i_renameExp.param.value, watch=True)\n",
    "#def update_text(renameExp):\n",
    "#    i_renameExp_text.value = dict_old_new_ExpName[renameExp]\n",
    "\n",
    "\n",
    "\n",
    "\n",
    "\n",
    "####SILAC\n",
    "###df_data_completeness = i_class.df_index[\"Ratio H/L\"].stack([\"Fraction\"])\n",
    "###data_completeness = 1-df_data_completeness.apply(np.isnan).apply(sum)/len(df_data_completeness)\n",
    "###data_completeness = data_completeness.append(pd.Series(data_completeness.mean(), index=[\"combined\"]))\n",
    "###data_completeness.rename(\"Data completness\", inplace=True)\n",
    "####LFQ\n",
    "###df_data_completeness = i_class.df_index[\"LFQ intensity\"].stack([\"Fraction\"])\n",
    "###data_completeness = 1-df_data_completeness.apply(np.isnan).apply(sum)/len(df_data_completeness)\n",
    "###data_completeness = data_completeness.append(pd.Series(data_completeness.mean(), index=[\"combined\"]))\n",
    "###data_completeness.rename(\"Data completness\", inplace=True)\n",
    "####LFQ and SILAC\n",
    "###df_profile_completeness = i_class.df_01_stacked[\"normalized profile\"].xs(i_class.fractions[0], level=\"Fraction\", axis=0).unstack([\"Map\"])\n",
    "###profile_completeness = 1-df_profile_completeness.apply(np.isnan).apply(sum)/len(df_profile_completeness)\n",
    "###profile_completeness = profile_completeness.append(pd.Series(profile_completeness.mean(), index=[\"combined\"]))\n",
    "###profile_completeness.rename(\"Profile completness\", inplace=True)\n",
    "\n",
    "\n",
    "\n",
    "\n",
    "\n",
    "###\n",
    "###df_completeness = pd.concat([data_completeness, profile_completeness], axis=1)\n",
    "###df_completeness.index.name = \"Map\"###################\n",
    "#SVM\n",
    "###################\n",
    "\n",
    "#df_01_test = i_class.df_01_stacked.copy()\n",
    "#\n",
    "##df_01_filtered_combined = df_01_filtered_combined.stack([\"Experiment\", \"Map\"]).swaplevel(0,1, axis=0).dropna(axis=1)\n",
    "#index_ExpMap = df_01_test.index.get_level_values(\"Map\")+\"_\"+df_01_test.index.get_level_values(\"Fraction\")\n",
    "#index_ExpMap.name = \"Map_Frac\"\n",
    "#df_01_test.set_index(index_ExpMap, append=True, inplace=True)      \n",
    "#\n",
    "#df_01_test.index = df_01_test.index.droplevel([\"Map\", \"Fraction\"])\n",
    "#df_01_test = df_01_test.unstack(\"Map_Frac\")\n",
    "#df_01_test.columns = [\"_\".join(col) for col in df_01_test.columns.values]\n",
    "#df_01_test.rename(index={\"undefined\" : np.nan}, level=\"Compartment\", inplace=True)\n",
    "#df_01_test\n",
    "#compartments = i_class.df_eLifeMarkers[\"Compartment\"].unique()\n",
    "#compartment_color = dict(zip(compartments, i_class.css_color))\n",
    "#compartment_color[\"undefined\"] = \"lightgrey\"\n",
    "#\n",
    "#collapse_maps_PCA_test = False\n",
    "#df_global_pca = i_class.df_pca.unstack(\"Map\").swaplevel(0,1, axis=1)[i_class.map_of_interest].reset_index()\n",
    "##        else:\n",
    "# #           df_global_pca = self.df_pca.rename_axis(\"PC\", axis=\"columns\").unstack(\"Map\").stack(\"PC\").median(axis=1).to_frame().unstack(\"PC\")\n",
    "# #           df_global_pca.columns = df_global_pca.columns.droplevel()\n",
    "  #          df_global_pca.reset_index(inplace=True)\n",
    "\n",
    "#if collapse_maps_PCA_test == False:\n",
    "#    title_PCA = \"Protein subcellular localization by PCA of {}\".format(i_class.map_of_interest)\n",
    "#else:\n",
    "#    title_PCA = \"Protein subcellular localization by PCA of combined maps\"\n",
    "        \n",
    "#fig_global_pca = px.scatter(data_frame=df_global_pca,\n",
    "#                            x=\"PC1\",\n",
    "#                            y=\"PC3\",\n",
    "#                            color=\"Compartment\",\n",
    "#                            color_discrete_map=compartment_color,\n",
    "#                            title= \"Protein subcellular localization by PCA for {}\".format(i_class.map_of_interest) \n",
    "#                            if collapse_maps_PCA_test == False else \"Protein subcellular localization by PCA of combined maps\", \n",
    "#                            #title_PCA,\n",
    "#                            hover_data=[\"Protein IDs\", \"Gene names\", \"Compartment\"],\n",
    "#                    #       custom_data=df_annotated_all.columns,\n",
    "#                            opacity=0.9\n",
    "#                            )\n",
    "#fig_global_pca       \n",
    "######################################################WITH RNAKING \n",
    "##dict_cluster_ranking = {}\n",
    "##dict_cluster_normalizedMedian = {}\n",
    "##for cluster in i_class.markerproteins.keys():\n",
    "##    df_cluster = df_distance_map_cluster_gene_in_index.xs(cluster, level=\"Cluster\")\n",
    "##    all_median_one_cluster_several_exp = {}\n",
    "##    for exp in i_class.json_dict.keys():\n",
    "##        median = df_cluster.xs(exp, level=\"Experiment\").median()\n",
    "##        #df_cluster[df_cluster.index.get_level_values(\"Experiment\").isin([exp])].median()\n",
    "##        all_median_one_cluster_several_exp[exp] = float(median)\n",
    "##    \n",
    "##    min_median = min(all_median_one_cluster_several_exp.items(), key=lambda x: x[1])[1]\n",
    "##    median_ranking = {exp: median/min_median for exp, median in all_median_one_cluster_several_exp.items()}\n",
    "##    dict_cluster_normalizedMedian[cluster] = median_ranking\n",
    "##    \n",
    "##    dict_cluster_normalizedMedian[cluster] = median_ranking\n",
    "##    \n",
    "##    ranking_one_cluster = {key: rank for rank, key in enumerate(sorted(all_median_one_cluster_several_exp, key=all_median_one_cluster_several_exp.get), 1)}\n",
    "##    dict_cluster_ranking[cluster] = ranking_one_cluster\n",
    "##\n",
    "##df_ranking = pd.concat([pd.DataFrame(dict_cluster_ranking), pd.DataFrame(dict_cluster_normalizedMedian)], keys=[\"Ranking\", \"Normalized median\"], names=[\"Type\", \"Experiment\"])   \n",
    "##df_ranking.rename_axis(\"Cluster\", axis=1, inplace=True)\n",
    "##df_rank_for_plot = df_ranking.unstack(\"Type\").stack(\"Cluster\").reset_index()\n",
    "##df_rank_for_plot = df_rank_for_plot.sort_values([\"Normalized median\", \"Experiment\"])\n",
    "##fig2 =px.bar(df_rank_for_plot, x=\"Cluster\", y=\"Normalized median\", color=\"Experiment\", barmode=\"group\")\n",
    "##fig2.update_xaxes(categoryorder=\"total ascending\")\n",
    "##fig2 \n",
    "\n",
    "##ranking_sum = df_ranking.sum(axis=1).round(2)\n",
    "##df_ranking2 = df_ranking.copy()\n",
    "##df_ranking2[\"Ranking - Product\"] = df_ranking2.product(axis=1).round(2)\n",
    "##df_ranking2[\"Ranking - Sum\"] = ranking_sum\n",
    "##df_ranking2\n",
    "\n",
    "#on_validProfiles2 = {}\n",
    "#or maps in i_class.map_names : \n",
    "#   series_non_validProfiles_map = df_MQ[\"normalized profile\"].xs(maps, level=\"Map\").unstack(\"Fraction\").apply(lambda x: x.isnull().any(), axis=1)\n",
    "#   total_protein_ids_map = len(series_non_validProfiles_map)\n",
    "#   non_validProfiles_map = len(series_non_validProfiles_map[series_non_validProfiles_map == True].index)\n",
    "#   non_validProfiles2[maps] = non_validProfiles_map/total_protein_ids_map*100\n",
    "#eries_non_validProfiles_combined = df_MQ.unstack([\"Fraction\", \"Map\"])[\"normalized profile\"].apply(lambda x: x.isnull().any(), axis=1)\n",
    "#otal_protein_ids_combined = len(series_non_validProfiles_combined)\n",
    "#on_validProfiles_combined = len(series_non_validProfiles_combined[series_non_validProfiles_combined == True].index)\n",
    "#on_validProfiles2[\"combined maps\"] = non_validProfiles_combined/total_protein_ids_combined*100\n",
    "#self.shape_dict[\"Non valid profiles\"] = non_validProfiles\n",
    "#on_validProfiles2\n",
    "\n",
    "\n",
    "##df_lognorm_MAP1 = df_lognorm_ratio_stacked.loc(axis=0)[:,:,:,:,:,:,:,:,[\"MAP1\"]]\n",
    "##px.histogram(df_lognorm_MAP1.reset_index(), \n",
    "##x=\"normalized profile\",\n",
    "##color=\"Map_Frac\",\n",
    "##facet_row=\"Map_Frac\")\n",
    "#\n",
    "#timsTOF = i_class.df_01_stacked.copy()\n",
    "#timsTOF_tojson = i_class.df_01_stacked[\"normalized profile\"].unstack(\"Map\").median(axis=1).to_frame(name=\"normalized profile\")#.unstack(\"PC\")\n",
    "#\n",
    "#\n",
    "#test_summary_dict = {\"timsTOF\" : {\"0/1 normalized data\" : timsTOF_tojson.reset_index().to_json() }}\n",
    "#test_summary_dict[\"Expl\"] = {\"0/1 normalized data\" : Expl_tojson.reset_index().to_json() }\n",
    "#\n",
    "#for exp_name in test_summary_dict.keys():\n",
    "#    #print(exp_name)\n",
    "#    for data_type in test_summary_dict[exp_name].keys():\n",
    "#        if data_type == \"0/1 normalized data\" and exp_name == list(test_summary_dict.keys())[0]:\n",
    "#            #convert into dataframe\n",
    "#            df_01_combined = pd.read_json(test_summary_dict[exp_name][data_type])\n",
    "#            #get only 01 normalized data \n",
    "#            df_01_combined = df_01_combined.set_index([\"Fraction\", \"Gene names\", \"Protein IDs\", \"Compartment\"])[[\"normalized profile\"]].unstack([\"Fraction\"])\n",
    "#            df_01_combined.rename(columns = {\"normalized profile\":exp_name}, inplace=True)\n",
    "#\n",
    "#        elif data_type == \"0/1 normalized data\" and exp_name != list(test_summary_dict.keys())[0]:\n",
    "#            df_01_toadd = pd.read_json(test_summary_dict[exp_name][data_type])\n",
    "#            df_01_toadd = df_01_toadd.set_index([\"Fraction\", \"Gene names\", \"Protein IDs\", \"Compartment\"])[[\"normalized profile\"]].unstack([\"Fraction\"])\n",
    "#            df_01_toadd.rename(columns = {\"normalized profile\":exp_name}, inplace=True)\n",
    "#            #dataframes will be concatenated, only proteins/Profiles that are in both df will be retained\n",
    "#            df_01_combined = pd.concat([df_01_combined, df_01_toadd], axis=1, join=\"inner\")\n",
    "#            \n",
    "#            \n",
    "#df_01_filtered_combined = df_01_combined.dropna()    \n",
    "#df_01_filtered_combined.columns.names = [\"Experiment\", \"Fraction\"]\n",
    "##reframe it to make it ready for PCA\n",
    "#df_01_filtered_combined = df_01_filtered_combined.stack([\"Experiment\"])\n",
    "#\n",
    "#\n",
    "#pca = PCA(n_components=3)\n",
    "#\n",
    "## df_pca: PCA processed dataframe, containing the columns \"PC1\", \"PC2\", \"PC3\"\n",
    "#df_pca = pd.DataFrame(pca.fit_transform(df_01_filtered_combined))\n",
    "#df_pca.columns = [\"PC1\", \"PC2\", \"PC3\"]\n",
    "#df_pca.index = df_01_filtered_combined.index\n",
    "#\n",
    "#\n",
    "#\n",
    "#df_pca_for_plotting = i_class.df_global_pca_for_plotting\n",
    "#df_pca_for_plotting\n",
    "#\n",
    "#\n",
    "#fig_pca = px.scatter(data_frame=i_class.df_global_pca_for_plotting.reset_index(),\n",
    "#                     x=\"PC1\",\n",
    "#                     y=\"PC3\",\n",
    "#                     color=\"Compartment\",\n",
    "#                     color_discrete_map={\n",
    "#                         \"undefined\": \"lightgrey\",\n",
    "#                         \"Endosome\": \"green\",\n",
    "#                         \"Ergic/cisGolgi\": \"blue\",\n",
    "#                         \"Large Protein Complex\": \"orange\",\n",
    "#                         \"Nuclear pore complex\": \"purple\",\n",
    "#                         \"Peroxisome\" : \"goldenrod\",\n",
    "#                         \"Lysosome\": \"yellow\",\n",
    "#                         \"Plasma membrane\" : \"lightcoral\",\n",
    "#                         \"Actin binding proteins\" : \"magenta\",\n",
    "#                         \"ER\": \"brown\",\n",
    "#                         \"ER_high_curvature\" : \"lightpink\",\n",
    "#                         \"Golgi\": \"red\",\n",
    "#                         \"Mitochondrion\": \"turquoise\",\n",
    "#                     },\n",
    "#                     facet_col=\"Experiment\",\n",
    "#                     #facet_col_wrap=4,\n",
    "##  facet_col_wrap=len(i_class.fractions),     \n",
    "#                         \n",
    "#                     )\n",
    "#fig_pca\n",
    "#\n",
    "#\n",
    "##compartments = self.df_eLifeMarkers[\"Compartment\"].unique()\n",
    "##compartment_color = dict(zip(compartments, css_color))\n",
    "##compartment_color[\"undefined\"] = \"lightgrey\"\n",
    "#\n",
    "#fig_pca = px.scatter(data_frame=i_class.df_pca.reset_index(),\n",
    "#                     x=\"PC1\",\n",
    "#                     y=\"PC3\",\n",
    "#                     color=\"Compartment\",\n",
    "#                     color_discrete_map=compartment_color,\n",
    "#                    title=\"Protein subcellular localization by PCA\",\n",
    "#                    hover_data=[\"Gene names\", \"Compartment\"], #\"Protein names\", \n",
    "#                    #custom_data=df_annotated_all.columns,\n",
    "#                    opacity=0.9\n",
    "#                    )\n",
    "#fig_pca                         \n",
    "\n",
    "#df_fractionnumber_stacked = i_class.df_index.copy().stack(\"Fraction\")\n",
    "#number_fractions = len(df_fractionnumber_stacked.index.get_level_values(\"Fraction\").unique())\n",
    "#\n",
    "#df_index = i_class.df_index.stack(\"Map\")\n",
    "#df_index.sort_index(axis=1, level=0, inplace=True)\n",
    "#df_mscount_mapstacked = df_index.loc[df_index[(\"MS/MS count\")].apply(np.sum, axis=1) >= (\n",
    "#        number_fractions * 2)]\n",
    "#df_stringency_mapfracstacked = df_mscount_mapstacked.copy()\n",
    "#df_stringency_mapfracstacked = df_stringency_mapfracstacked.loc[\n",
    "#    df_stringency_mapfracstacked[(\"LFQ intensity\")].apply(lambda x: any(\n",
    "#        np.invert(np.isnan(x)).rolling(window=4).sum() >=\n",
    "#        4), axis=1)]\n",
    "#df_stringency_mapfracstacked = df_stringency_mapfracstacked.copy().stack(\"Fraction\")\n",
    "#\n",
    "#df_stringency_mapfracstacked\n",
    "\n",
    "#df_eLifeMarkers = pd.read_csv(\"eLife_markers.txt\", sep=\"\\t\", comment=\"#\",\n",
    "#                                       usecols=lambda x: bool(re.match(\"Gene name|Compartment\", x)))\n",
    "#df_eLifeMarkers = df_eLifeMarkers.rename(columns={\"Gene name\":\"Gene names\"})\n",
    "#df_eLifeMarkers = df_eLifeMarkers.astype({\"Gene names\": \"str\"})\n",
    "#df_eLifeMarkers\n",
    "\n",
    "#df_index_annotated_noIndex = df_stringency_mapfracstacked.reset_index()\n",
    "#df_index_annotated_noIndex = df_index_annotated_noIndex.merge(df_eLifeMarkers, how=\"outer\", on=\"Gene names\", indicator = True)\n",
    "##df_index_annotated_noIndex = df_index_annotated_noIndex.sort_values(\"Compartment\")\n",
    "#df_an = df_index_annotated_noIndex.loc[df_index_annotated_noIndex[\"_merge\"].isin([\"both\",\"left_only\"])].drop(\"_merge\", axis=1)\n",
    "#df_an.set_index([c for c in df_an.columns if c != \"MS/MS count\" and c != \"LFQ intensity\"], inplace=True)\n",
    "#df_an.rename(index={np.nan : \"undefined\"}, level=\"Compartment\", inplace=True)\n",
    "#df_an\n",
    "\n",
    "#df_pca_MAP1 = i_class.df_pca.unstack(\"Map\").swaplevel(0,1, axis=1)[\"Map2\"].reset_index()\n",
    "#df_pca_MAP1\n",
    "\n",
    "#fig_pca = px.scatter(data_frame=df_pca_MAP1,\n",
    "#                     x=\"PC1\",\n",
    "#                     y=\"PC3\",\n",
    "#                     color=\"Compartment\",\n",
    "#                     color_discrete_map=compartment_color,\n",
    "#                    title=\"Protein subcellular localization by PCA\",\n",
    "#                    hover_data=[\"Gene names\", \"Compartment\"], #\"Protein names\", \n",
    "#                    #custom_data=df_annotated_all.columns,\n",
    "#                    opacity=0.9\n",
    "#                    )\n",
    "#fig_pca  \n",
    "\n",
    "\n",
    "#i_class.df_pca.query(\"Compartment == \"ER\" or Compartment == \"Plasma membrane\"\")#\"& Compartment == \"Plasma memebrane\"\")  and \n",
    "\n",
    "#json_dict = ast.literal_eval(i_jsonFile.value.decode(\"UTF-8\"))\n",
    "\n",
    "\n",
    "\n",
    "#    @pn.depends(i_SVM_table.param.value, cache_run.param.value)\n",
    "#def read_SVM_matrix(SVM_table, run):   \n",
    "#    try:\n",
    "#        if run == True:\n",
    "#            if SVM_table == \"\":\n",
    "#                SVM_reading_status = \"No misclassification matrix is uploaded\"\n",
    "#                cache_uploaded_SVM.value = False\n",
    "#            else:\n",
    "#                cache_uploaded_SVM.value = False\n",
    "#                try:\n",
    "#                    i_class.df_SVM = pd.read_table(StringIO(SVM_table), sep=\"\\t\")\n",
    "#                    SVM_reading_status = i_class.df_SVM\n",
    "#                    cache_uploaded_SVM.value = True\n",
    "#                    return pn.Column(pn.Pane(SVM_reading_status, width=60*SVM_reading_status.shape[1]),\n",
    "#                                     pn.Row(button_SVM_analysis))\n",
    "#                except: \n",
    "#                    SVM_reading_status = traceback.format_exc()\n",
    "#                    cache_uploaded_SVM.value = False\n",
    "#                    return SVM_reading_status \n",
    "#        else:\n",
    "#            SVM_reading_status = \"Please, upload a file first and press ‘Analyse clusters’\"\n",
    "#            return SVM_reading_status\n",
    "#    except:\n",
    "#        SVM_reading_status = traceback.format_exc()\n",
    "#        return SVM_reading_status#        \n",
    "\n",
    "\n",
    "#from matplotlib_venn import venn2, venn2_circles, venn2_unweighted\n",
    "#from matplotlib_venn import venn3, venn3_circles\n",
    "#from matplotlib import pyplot as plt\n",
    "#Course1=[\"A\", \"B\",\"C\", \"D\", \"E\", \"F\", \"G\", \"I\", \"P\", \"Q\"]\n",
    "#Course2=[\"B\", \"E\", \"F\", \"H\",\"K\", \"Q\", \"R\", \"S\", \"T\", \"U\", \"V\", \"Z\"]\n",
    "#Course3=[\"C\", \"E\", \"G\", \"H\", \"J\", \"K\", \"O\", \"Q\", \"Z\"]\n",
    "#\n",
    "#vd3=venn3([set(Course1),set(Course2),set(Course3)],\n",
    "# set_labels=(\"Course1\", \"Course2\",\"Course3\"),\n",
    "# set_colors=(), \n",
    "# alpha = 0.8)\n",
    "#venn3_circles([set(Course1), set(Course2),set(Course3)], linestyle=\"-.\", linewidth=2, color=\"grey\")\n",
    "#for text in vd3.set_labels:\n",
    "#    text.set_fontsize(16);\n",
    "#for text in vd3.subset_labels:\n",
    "#    text.set_fontsize(16)\n",
    "##plt.title(‘Venn Diagram for 3 courses’,fontname=’Times New Roman’,fontweight=’bold’,fontsize=20,\n",
    "## pad=30,backgroundcolor=’#cbe7e3\",color=’black’,style=’italic’);\n",
    "#plt.show()\n",
    "\n",
    "#                    data_completeness: series, for each individual map, as well as combined maps: 1 - (percentage of NANs)\n",
    "\n",
    "            ##profile completness - percentage of valid profiles (profiles that do not contain NaN)\n",
    "            #df_profile_completeness = df_01_stacked[\"normalized profile\"].xs(self.fractions[0], level=\"Fraction\", axis=0).unstack([\"Map\"])\n",
    "            #profile_completeness = 1-df_profile_completeness.apply(np.isnan).apply(sum)/len(df_profile_completeness)\n",
    "            #profile_completeness = profile_completeness.append(pd.Series(profile_completeness.mean(), index=[\"Combined Maps\"]))\n",
    "            #profile_completeness.rename(\"Profile completeness\", inplace=True)\n",
    "            #\n",
    "            #df_completeness = pd.concat([self.data_completeness, profile_completeness], axis=1)\n",
    "            #df_completeness.index.name = \"Map\"\n",
    "            #self.analysis_summary_dict[\"Data/Profile Completeness\"] = df_completeness.reset_index().to_json()\n",
    "            \n",
    "            \n",
    "            \n",
    "                        ##profile completness - percentage of valid profiles (profiles that do not contain NaN)\n",
    "            #df_profile_completeness = df_01_stacked[\"normalized profile\"].xs(self.fractions[0], level=\"Fraction\", axis=0).unstack([\"Map\"])\n",
    "            #profile_completeness = 1-df_profile_completeness.apply(np.isnan).apply(sum)/len(df_profile_completeness)\n",
    "            #profile_completeness = profile_completeness.append(pd.Series(profile_completeness.mean(), index=[\"Combined Maps\"]))\n",
    "            #profile_completeness.rename(\"Profile completeness\", inplace=True)\n",
    "            #            \n",
    "            #df_completeness = pd.concat([self.data_completeness, profile_completeness], axis=1)\n",
    "            #df_completeness.index.name = \"Map\"\n",
    "            #self.analysis_summary_dict[\"Data/Profile Completeness\"] = df_completeness.reset_index().to_json()\n",
    "            #\n",
    "#df_completeness_combined : df, with information about Data/Profile Completeness, index: \"Experiment\", \"Map\", \n",
    "#                                       column names: \"Data completeness\", \"Profile completeness\"\n",
    "\n",
    "\n",
    "#                    data_completeness : series, for each individual map, as well as combined maps: 1 - (percentage of NANs)\n",
    "#            #data completness - percentage of NANs\n",
    "#            if self.acquisition == \"SILAC\":\n",
    "#                df_data_completeness = df_index[\"Ratio H/L\"].stack([\"Fraction\"])\n",
    "#            elif self.acquisition == \"LFQ\":\n",
    "#                df_data_completeness = df_index[\"LFQ intensity\"].stack([\"Fraction\"])\n",
    "#                \n",
    "#            data_completeness = 1-df_data_completeness.apply(np.isnan).apply(sum)/len(df_data_completeness)\n",
    "#            data_completeness = data_completeness.append(pd.Series(data_completeness.mean(), index=[\"Combined Maps\"]))\n",
    "#            data_completeness.rename(\"Data completeness\", inplace=True)\n",
    "#            self.data_completeness = data_completeness \n",
    "\n",
    "\n",
    "\n",
    "#                    data_completeness : series, for each individual map, as well as combined maps: 1 - (percentage of NANs)\n",
    "            \n",
    "#            #data completness - percentage of NANs\n",
    "#            df_data_completeness = df_index[\"LFQ intensity\"].stack([\"Fraction\"])\n",
    "#            data_completeness = 1-df_data_completeness.apply(np.isnan).apply(sum)/len(df_data_completeness)\n",
    "#            data_completeness = data_completeness.append(pd.Series(data_completeness.mean(), index=[\"Combined Maps\"]))\n",
    "#            data_completeness.rename(\"Data completeness\", inplace=True)\n",
    "#            self.data_completeness = data_completeness\n",
    "\n",
    "\n",
    "                \n",
    "#                self:\n",
    "#                    analysis_summary_dict[\"Data/Profile Completeness\"] : df, with information about Data/Profile Completeness\n",
    "#                                        column: \"Experiment\" \t\"Map\" \t\"Data completeness\" \t\"Profile completeness\"\n",
    "#                                        no row index"
   ]
  },
  {
   "cell_type": "code",
   "execution_count": 10,
   "metadata": {
    "scrolled": true
   },
   "outputs": [
    {
     "data": {
      "text/plain": [
       "{'Avg. all clusters': {'Recall': 0.9816138917262512, 'F1': 0.9665288874959178},\n",
       " 'Avg. all organelles': {'Recall': 0.976810322908721,\n",
       "  'F1': 0.9718808971192449,\n",
       "  'Precision': 0.9681106526508826},\n",
       " 'Membrane': {'Recall': 0.9795918367346939},\n",
       " 'Median. per organelle': {'Recall': 0.9826086956521739}}"
      ]
     },
     "execution_count": 10,
     "metadata": {},
     "output_type": "execute_result"
    }
   ],
   "source": [
    "SVM_dict_total"
   ]
  },
  {
   "cell_type": "code",
   "execution_count": null,
   "metadata": {},
   "outputs": [],
   "source": [
    "try:\n",
    "    x = s['mainsnak']['datavalue']['value']['numeric-id']\n",
    "except KeyError:\n",
    "    pass\n"
   ]
  },
  {
   "cell_type": "code",
   "execution_count": 74,
   "metadata": {},
   "outputs": [
    {
     "data": {
      "text/plain": [
       "{'c'}"
      ]
     },
     "execution_count": 74,
     "metadata": {},
     "output_type": "execute_result"
    }
   ],
   "source": [
    "d = {\"a\": {\"b\": {\"c\"}}}\n",
    "d.get(\"a\", {}).get(\"b\", {})"
   ]
  },
  {
   "cell_type": "code",
   "execution_count": 69,
   "metadata": {},
   "outputs": [
    {
     "ename": "ValueError",
     "evalue": "String 'value' only takes a string value.",
     "output_type": "error",
     "traceback": [
      "\u001b[1;31m---------------------------------------------------------------------------\u001b[0m",
      "\u001b[1;31mValueError\u001b[0m                                Traceback (most recent call last)",
      "\u001b[1;32m<ipython-input-69-0337e8931161>\u001b[0m in \u001b[0;36m<module>\u001b[1;34m\u001b[0m\n\u001b[1;32m----> 1\u001b[1;33m \u001b[0mi_SVM_table\u001b[0m\u001b[1;33m.\u001b[0m\u001b[0mvalue\u001b[0m \u001b[1;33m=\u001b[0m \u001b[1;33m{\u001b[0m\u001b[1;34m\"A\"\u001b[0m\u001b[1;33m:\u001b[0m\u001b[1;34m\"b\"\u001b[0m\u001b[1;33m}\u001b[0m\u001b[1;33m\u001b[0m\u001b[1;33m\u001b[0m\u001b[0m\n\u001b[0m",
      "\u001b[1;32m~\\Anaconda3\\envs\\QC repository\\lib\\site-packages\\param\\parameterized.py\u001b[0m in \u001b[0;36m_f\u001b[1;34m(self, obj, val)\u001b[0m\n\u001b[0;32m    300\u001b[0m         \u001b[0minstance_param\u001b[0m \u001b[1;33m=\u001b[0m \u001b[0mgetattr\u001b[0m\u001b[1;33m(\u001b[0m\u001b[0mobj\u001b[0m\u001b[1;33m,\u001b[0m \u001b[1;34m'_instance__params'\u001b[0m\u001b[1;33m,\u001b[0m \u001b[1;33m{\u001b[0m\u001b[1;33m}\u001b[0m\u001b[1;33m)\u001b[0m\u001b[1;33m.\u001b[0m\u001b[0mget\u001b[0m\u001b[1;33m(\u001b[0m\u001b[0mself\u001b[0m\u001b[1;33m.\u001b[0m\u001b[0mname\u001b[0m\u001b[1;33m)\u001b[0m\u001b[1;33m\u001b[0m\u001b[1;33m\u001b[0m\u001b[0m\n\u001b[0;32m    301\u001b[0m         \u001b[1;32mif\u001b[0m \u001b[0minstance_param\u001b[0m \u001b[1;32mis\u001b[0m \u001b[1;32mnot\u001b[0m \u001b[1;32mNone\u001b[0m \u001b[1;32mand\u001b[0m \u001b[0mself\u001b[0m \u001b[1;32mis\u001b[0m \u001b[1;32mnot\u001b[0m \u001b[0minstance_param\u001b[0m\u001b[1;33m:\u001b[0m\u001b[1;33m\u001b[0m\u001b[1;33m\u001b[0m\u001b[0m\n\u001b[1;32m--> 302\u001b[1;33m             \u001b[0minstance_param\u001b[0m\u001b[1;33m.\u001b[0m\u001b[0m__set__\u001b[0m\u001b[1;33m(\u001b[0m\u001b[0mobj\u001b[0m\u001b[1;33m,\u001b[0m \u001b[0mval\u001b[0m\u001b[1;33m)\u001b[0m\u001b[1;33m\u001b[0m\u001b[1;33m\u001b[0m\u001b[0m\n\u001b[0m\u001b[0;32m    303\u001b[0m             \u001b[1;32mreturn\u001b[0m\u001b[1;33m\u001b[0m\u001b[1;33m\u001b[0m\u001b[0m\n\u001b[0;32m    304\u001b[0m         \u001b[1;32mreturn\u001b[0m \u001b[0mf\u001b[0m\u001b[1;33m(\u001b[0m\u001b[0mself\u001b[0m\u001b[1;33m,\u001b[0m \u001b[0mobj\u001b[0m\u001b[1;33m,\u001b[0m \u001b[0mval\u001b[0m\u001b[1;33m)\u001b[0m\u001b[1;33m\u001b[0m\u001b[1;33m\u001b[0m\u001b[0m\n",
      "\u001b[1;32m~\\Anaconda3\\envs\\QC repository\\lib\\site-packages\\param\\parameterized.py\u001b[0m in \u001b[0;36m_f\u001b[1;34m(self, obj, val)\u001b[0m\n\u001b[0;32m    302\u001b[0m             \u001b[0minstance_param\u001b[0m\u001b[1;33m.\u001b[0m\u001b[0m__set__\u001b[0m\u001b[1;33m(\u001b[0m\u001b[0mobj\u001b[0m\u001b[1;33m,\u001b[0m \u001b[0mval\u001b[0m\u001b[1;33m)\u001b[0m\u001b[1;33m\u001b[0m\u001b[1;33m\u001b[0m\u001b[0m\n\u001b[0;32m    303\u001b[0m             \u001b[1;32mreturn\u001b[0m\u001b[1;33m\u001b[0m\u001b[1;33m\u001b[0m\u001b[0m\n\u001b[1;32m--> 304\u001b[1;33m         \u001b[1;32mreturn\u001b[0m \u001b[0mf\u001b[0m\u001b[1;33m(\u001b[0m\u001b[0mself\u001b[0m\u001b[1;33m,\u001b[0m \u001b[0mobj\u001b[0m\u001b[1;33m,\u001b[0m \u001b[0mval\u001b[0m\u001b[1;33m)\u001b[0m\u001b[1;33m\u001b[0m\u001b[1;33m\u001b[0m\u001b[0m\n\u001b[0m\u001b[0;32m    305\u001b[0m     \u001b[1;32mreturn\u001b[0m \u001b[0m_f\u001b[0m\u001b[1;33m\u001b[0m\u001b[1;33m\u001b[0m\u001b[0m\n\u001b[0;32m    306\u001b[0m \u001b[1;33m\u001b[0m\u001b[0m\n",
      "\u001b[1;32m~\\Anaconda3\\envs\\QC repository\\lib\\site-packages\\param\\parameterized.py\u001b[0m in \u001b[0;36m__set__\u001b[1;34m(self, obj, val)\u001b[0m\n\u001b[0;32m    869\u001b[0m             \u001b[0mval\u001b[0m \u001b[1;33m=\u001b[0m \u001b[0mself\u001b[0m\u001b[1;33m.\u001b[0m\u001b[0mset_hook\u001b[0m\u001b[1;33m(\u001b[0m\u001b[0mobj\u001b[0m\u001b[1;33m,\u001b[0m\u001b[0mval\u001b[0m\u001b[1;33m)\u001b[0m\u001b[1;33m\u001b[0m\u001b[1;33m\u001b[0m\u001b[0m\n\u001b[0;32m    870\u001b[0m \u001b[1;33m\u001b[0m\u001b[0m\n\u001b[1;32m--> 871\u001b[1;33m         \u001b[0mself\u001b[0m\u001b[1;33m.\u001b[0m\u001b[0m_validate\u001b[0m\u001b[1;33m(\u001b[0m\u001b[0mval\u001b[0m\u001b[1;33m)\u001b[0m\u001b[1;33m\u001b[0m\u001b[1;33m\u001b[0m\u001b[0m\n\u001b[0m\u001b[0;32m    872\u001b[0m \u001b[1;33m\u001b[0m\u001b[0m\n\u001b[0;32m    873\u001b[0m         \u001b[0m_old\u001b[0m \u001b[1;33m=\u001b[0m \u001b[0mNotImplemented\u001b[0m\u001b[1;33m\u001b[0m\u001b[1;33m\u001b[0m\u001b[0m\n",
      "\u001b[1;32m~\\Anaconda3\\envs\\QC repository\\lib\\site-packages\\param\\parameterized.py\u001b[0m in \u001b[0;36m_validate\u001b[1;34m(self, val)\u001b[0m\n\u001b[0;32m   1002\u001b[0m \u001b[1;33m\u001b[0m\u001b[0m\n\u001b[0;32m   1003\u001b[0m         \u001b[1;32mif\u001b[0m \u001b[1;32mnot\u001b[0m \u001b[0misinstance\u001b[0m\u001b[1;33m(\u001b[0m\u001b[0mval\u001b[0m\u001b[1;33m,\u001b[0m \u001b[0mbasestring\u001b[0m\u001b[1;33m)\u001b[0m\u001b[1;33m:\u001b[0m\u001b[1;33m\u001b[0m\u001b[1;33m\u001b[0m\u001b[0m\n\u001b[1;32m-> 1004\u001b[1;33m             \u001b[1;32mraise\u001b[0m \u001b[0mValueError\u001b[0m\u001b[1;33m(\u001b[0m\u001b[1;34m\"String '%s' only takes a string value.\"\u001b[0m\u001b[1;33m%\u001b[0m\u001b[0mself\u001b[0m\u001b[1;33m.\u001b[0m\u001b[0mname\u001b[0m\u001b[1;33m)\u001b[0m\u001b[1;33m\u001b[0m\u001b[1;33m\u001b[0m\u001b[0m\n\u001b[0m\u001b[0;32m   1005\u001b[0m \u001b[1;33m\u001b[0m\u001b[0m\n\u001b[0;32m   1006\u001b[0m         \u001b[1;32mif\u001b[0m \u001b[0mself\u001b[0m\u001b[1;33m.\u001b[0m\u001b[0mregex\u001b[0m \u001b[1;32mis\u001b[0m \u001b[1;32mnot\u001b[0m \u001b[1;32mNone\u001b[0m \u001b[1;32mand\u001b[0m \u001b[0mre\u001b[0m\u001b[1;33m.\u001b[0m\u001b[0mmatch\u001b[0m\u001b[1;33m(\u001b[0m\u001b[0mself\u001b[0m\u001b[1;33m.\u001b[0m\u001b[0mregex\u001b[0m\u001b[1;33m,\u001b[0m \u001b[0mval\u001b[0m\u001b[1;33m)\u001b[0m \u001b[1;32mis\u001b[0m \u001b[1;32mNone\u001b[0m\u001b[1;33m:\u001b[0m\u001b[1;33m\u001b[0m\u001b[1;33m\u001b[0m\u001b[0m\n",
      "\u001b[1;31mValueError\u001b[0m: String 'value' only takes a string value."
     ]
    }
   ],
   "source": [
    "i_SVM_table.value = {\"A\":\"b\"}"
   ]
  },
  {
   "cell_type": "code",
   "execution_count": 34,
   "metadata": {},
   "outputs": [
    {
     "data": {
      "text/plain": [
       "[' library DIA (8xBPRP) | 3xSDB-RPS | 44 min',\n",
       " 'DDA',\n",
       " 'direct DIA | 100 min',\n",
       " 'direct DIA | 3xSDB-RPS | 44 min',\n",
       " 'library DIA | 100 min']"
      ]
     },
     "execution_count": 34,
     "metadata": {},
     "output_type": "execute_result"
    }
   ],
   "source": [
    "i_multi_choice.value"
   ]
  },
  {
   "cell_type": "code",
   "execution_count": 10,
   "metadata": {},
   "outputs": [
    {
     "data": {
      "text/plain": [
       "['direct DIA (1.2 s)', 'direct DIA (1.5 s)', 'direct DIA (2.0 s)']"
      ]
     },
     "execution_count": 10,
     "metadata": {},
     "output_type": "execute_result"
    }
   ],
   "source": [
    "i_json_ExpSelector.value"
   ]
  },
  {
   "cell_type": "code",
   "execution_count": 11,
   "metadata": {},
   "outputs": [
    {
     "data": {},
     "metadata": {},
     "output_type": "display_data"
    },
    {
     "data": {
      "application/vnd.holoviews_exec.v0+json": "",
      "text/html": [
       "<div id='7100'>\n",
       "\n",
       "\n",
       "\n",
       "\n",
       "\n",
       "  <div class=\"bk-root\" id=\"c6b5ea66-be84-4785-b11e-e85b0699c416\" data-root-id=\"7100\"></div>\n",
       "</div>\n",
       "<script type=\"application/javascript\">(function(root) {\n",
       "  function embed_document(root) {\n",
       "    var docs_json = {\"ecf4b2d4-b503-45fb-a33a-019112910f75\":{\"roots\":{\"references\":[{\"attributes\":{\"client_comm_id\":\"3885e43436f94d1fa972b25de149464c\",\"comm_id\":\"4f0df3bfa47b43efa7af30937bf519c2\",\"plot_id\":\"7100\"},\"id\":\"7101\",\"type\":\"panel.models.comm_manager.CommManager\"},{\"attributes\":{\"margin\":[5,10,5,10],\"options\":[\"a\",\"b\",\"c\"],\"title\":\"Select experiments as reference\",\"value\":\"a\"},\"id\":\"7100\",\"type\":\"Select\"}],\"root_ids\":[\"7100\",\"7101\"]},\"title\":\"Bokeh Application\",\"version\":\"2.2.3\"}};\n",
       "    var render_items = [{\"docid\":\"ecf4b2d4-b503-45fb-a33a-019112910f75\",\"root_ids\":[\"7100\"],\"roots\":{\"7100\":\"c6b5ea66-be84-4785-b11e-e85b0699c416\"}}];\n",
       "    root.Bokeh.embed.embed_items_notebook(docs_json, render_items);\n",
       "  }\n",
       "  if (root.Bokeh !== undefined && root.Bokeh.Panel !== undefined && root['Plotly'] !== undefined ) {\n",
       "    embed_document(root);\n",
       "  } else {\n",
       "    var attempts = 0;\n",
       "    var timer = setInterval(function(root) {\n",
       "      if (root.Bokeh !== undefined && root.Bokeh.Panel !== undefined && root['Plotly'] !== undefined) {\n",
       "        clearInterval(timer);\n",
       "        embed_document(root);\n",
       "      } else if (document.readyState == \"complete\") {\n",
       "        attempts++;\n",
       "        if (attempts > 100) {\n",
       "          clearInterval(timer);\n",
       "          console.log(\"Bokeh: ERROR: Unable to run BokehJS code because BokehJS library is missing\");\n",
       "        }\n",
       "      }\n",
       "    }, 10, root)\n",
       "  }\n",
       "})(window);</script>"
      ],
      "text/plain": [
       "Select(options=['a', 'b', 'c'], value='a')"
      ]
     },
     "execution_count": 11,
     "metadata": {
      "application/vnd.holoviews_exec.v0+json": {
       "id": "7100"
      }
     },
     "output_type": "execute_result"
    }
   ],
   "source": []
  },
  {
   "cell_type": "code",
   "execution_count": 12,
   "metadata": {},
   "outputs": [
    {
     "data": {
      "text/html": [
       "<div>\n",
       "<style scoped>\n",
       "    .dataframe tbody tr th:only-of-type {\n",
       "        vertical-align: middle;\n",
       "    }\n",
       "\n",
       "    .dataframe tbody tr th {\n",
       "        vertical-align: top;\n",
       "    }\n",
       "\n",
       "    .dataframe thead th {\n",
       "        text-align: right;\n",
       "    }\n",
       "</style>\n",
       "<table border=\"1\" class=\"dataframe\">\n",
       "  <thead>\n",
       "    <tr style=\"text-align: right;\">\n",
       "      <th></th>\n",
       "      <th>Predicted: ER</th>\n",
       "      <th>Predicted: Large Protein Complex</th>\n",
       "      <th>Predicted: Lysosome</th>\n",
       "      <th>Predicted: Peroxisome</th>\n",
       "      <th>Predicted: Plasma membrane</th>\n",
       "      <th>Predicted: Endosome</th>\n",
       "      <th>Predicted: Mitochondrion</th>\n",
       "      <th>Predicted: Golgi</th>\n",
       "      <th>Predicted: Actin binding proteins</th>\n",
       "      <th>Predicted: Ergic/cisGolgi</th>\n",
       "      <th>Predicted: ER_high_curvature</th>\n",
       "      <th>Predicted: Nuclear pore complex</th>\n",
       "    </tr>\n",
       "    <tr>\n",
       "      <th>T: True group</th>\n",
       "      <th></th>\n",
       "      <th></th>\n",
       "      <th></th>\n",
       "      <th></th>\n",
       "      <th></th>\n",
       "      <th></th>\n",
       "      <th></th>\n",
       "      <th></th>\n",
       "      <th></th>\n",
       "      <th></th>\n",
       "      <th></th>\n",
       "      <th></th>\n",
       "    </tr>\n",
       "  </thead>\n",
       "  <tbody>\n",
       "    <tr>\n",
       "      <th>True: Nuclear pore complex</th>\n",
       "      <td>1</td>\n",
       "      <td>0</td>\n",
       "      <td>0</td>\n",
       "      <td>0</td>\n",
       "      <td>1</td>\n",
       "      <td>0</td>\n",
       "      <td>0</td>\n",
       "      <td>0</td>\n",
       "      <td>0</td>\n",
       "      <td>0</td>\n",
       "      <td>0</td>\n",
       "      <td>14</td>\n",
       "    </tr>\n",
       "    <tr>\n",
       "      <th>True: ER_high_curvature</th>\n",
       "      <td>0</td>\n",
       "      <td>0</td>\n",
       "      <td>0</td>\n",
       "      <td>0</td>\n",
       "      <td>0</td>\n",
       "      <td>0</td>\n",
       "      <td>0</td>\n",
       "      <td>0</td>\n",
       "      <td>0</td>\n",
       "      <td>0</td>\n",
       "      <td>9</td>\n",
       "      <td>0</td>\n",
       "    </tr>\n",
       "    <tr>\n",
       "      <th>True: Ergic/cisGolgi</th>\n",
       "      <td>0</td>\n",
       "      <td>0</td>\n",
       "      <td>0</td>\n",
       "      <td>0</td>\n",
       "      <td>0</td>\n",
       "      <td>0</td>\n",
       "      <td>0</td>\n",
       "      <td>0</td>\n",
       "      <td>0</td>\n",
       "      <td>24</td>\n",
       "      <td>1</td>\n",
       "      <td>0</td>\n",
       "    </tr>\n",
       "    <tr>\n",
       "      <th>True: Actin binding proteins</th>\n",
       "      <td>0</td>\n",
       "      <td>0</td>\n",
       "      <td>0</td>\n",
       "      <td>0</td>\n",
       "      <td>2</td>\n",
       "      <td>0</td>\n",
       "      <td>0</td>\n",
       "      <td>1</td>\n",
       "      <td>24</td>\n",
       "      <td>0</td>\n",
       "      <td>0</td>\n",
       "      <td>0</td>\n",
       "    </tr>\n",
       "    <tr>\n",
       "      <th>True: Golgi</th>\n",
       "      <td>0</td>\n",
       "      <td>0</td>\n",
       "      <td>0</td>\n",
       "      <td>0</td>\n",
       "      <td>1</td>\n",
       "      <td>0</td>\n",
       "      <td>0</td>\n",
       "      <td>23</td>\n",
       "      <td>0</td>\n",
       "      <td>0</td>\n",
       "      <td>0</td>\n",
       "      <td>0</td>\n",
       "    </tr>\n",
       "    <tr>\n",
       "      <th>True: Mitochondrion</th>\n",
       "      <td>0</td>\n",
       "      <td>0</td>\n",
       "      <td>0</td>\n",
       "      <td>0</td>\n",
       "      <td>0</td>\n",
       "      <td>0</td>\n",
       "      <td>223</td>\n",
       "      <td>0</td>\n",
       "      <td>0</td>\n",
       "      <td>0</td>\n",
       "      <td>0</td>\n",
       "      <td>0</td>\n",
       "    </tr>\n",
       "    <tr>\n",
       "      <th>True: Endosome</th>\n",
       "      <td>2</td>\n",
       "      <td>3</td>\n",
       "      <td>1</td>\n",
       "      <td>0</td>\n",
       "      <td>0</td>\n",
       "      <td>69</td>\n",
       "      <td>0</td>\n",
       "      <td>0</td>\n",
       "      <td>0</td>\n",
       "      <td>1</td>\n",
       "      <td>0</td>\n",
       "      <td>0</td>\n",
       "    </tr>\n",
       "    <tr>\n",
       "      <th>True: Plasma membrane</th>\n",
       "      <td>1</td>\n",
       "      <td>0</td>\n",
       "      <td>0</td>\n",
       "      <td>0</td>\n",
       "      <td>112</td>\n",
       "      <td>0</td>\n",
       "      <td>0</td>\n",
       "      <td>0</td>\n",
       "      <td>1</td>\n",
       "      <td>0</td>\n",
       "      <td>0</td>\n",
       "      <td>0</td>\n",
       "    </tr>\n",
       "    <tr>\n",
       "      <th>True: Peroxisome</th>\n",
       "      <td>0</td>\n",
       "      <td>0</td>\n",
       "      <td>0</td>\n",
       "      <td>16</td>\n",
       "      <td>0</td>\n",
       "      <td>0</td>\n",
       "      <td>0</td>\n",
       "      <td>0</td>\n",
       "      <td>0</td>\n",
       "      <td>0</td>\n",
       "      <td>0</td>\n",
       "      <td>0</td>\n",
       "    </tr>\n",
       "    <tr>\n",
       "      <th>True: Lysosome</th>\n",
       "      <td>0</td>\n",
       "      <td>0</td>\n",
       "      <td>35</td>\n",
       "      <td>0</td>\n",
       "      <td>0</td>\n",
       "      <td>0</td>\n",
       "      <td>0</td>\n",
       "      <td>0</td>\n",
       "      <td>0</td>\n",
       "      <td>0</td>\n",
       "      <td>0</td>\n",
       "      <td>0</td>\n",
       "    </tr>\n",
       "    <tr>\n",
       "      <th>True: Large Protein Complex</th>\n",
       "      <td>0</td>\n",
       "      <td>299</td>\n",
       "      <td>0</td>\n",
       "      <td>0</td>\n",
       "      <td>0</td>\n",
       "      <td>0</td>\n",
       "      <td>0</td>\n",
       "      <td>0</td>\n",
       "      <td>0</td>\n",
       "      <td>0</td>\n",
       "      <td>0</td>\n",
       "      <td>0</td>\n",
       "    </tr>\n",
       "    <tr>\n",
       "      <th>True: ER</th>\n",
       "      <td>113</td>\n",
       "      <td>0</td>\n",
       "      <td>0</td>\n",
       "      <td>0</td>\n",
       "      <td>0</td>\n",
       "      <td>0</td>\n",
       "      <td>2</td>\n",
       "      <td>0</td>\n",
       "      <td>0</td>\n",
       "      <td>0</td>\n",
       "      <td>0</td>\n",
       "      <td>0</td>\n",
       "    </tr>\n",
       "  </tbody>\n",
       "</table>\n",
       "</div>"
      ],
      "text/plain": [
       "                              Predicted: ER  Predicted: Large Protein Complex  \\\n",
       "T: True group                                                                   \n",
       "True: Nuclear pore complex                1                                 0   \n",
       "True: ER_high_curvature                   0                                 0   \n",
       "True: Ergic/cisGolgi                      0                                 0   \n",
       "True: Actin binding proteins              0                                 0   \n",
       "True: Golgi                               0                                 0   \n",
       "True: Mitochondrion                       0                                 0   \n",
       "True: Endosome                            2                                 3   \n",
       "True: Plasma membrane                     1                                 0   \n",
       "True: Peroxisome                          0                                 0   \n",
       "True: Lysosome                            0                                 0   \n",
       "True: Large Protein Complex               0                               299   \n",
       "True: ER                                113                                 0   \n",
       "\n",
       "                              Predicted: Lysosome  Predicted: Peroxisome  \\\n",
       "T: True group                                                              \n",
       "True: Nuclear pore complex                      0                      0   \n",
       "True: ER_high_curvature                         0                      0   \n",
       "True: Ergic/cisGolgi                            0                      0   \n",
       "True: Actin binding proteins                    0                      0   \n",
       "True: Golgi                                     0                      0   \n",
       "True: Mitochondrion                             0                      0   \n",
       "True: Endosome                                  1                      0   \n",
       "True: Plasma membrane                           0                      0   \n",
       "True: Peroxisome                                0                     16   \n",
       "True: Lysosome                                 35                      0   \n",
       "True: Large Protein Complex                     0                      0   \n",
       "True: ER                                        0                      0   \n",
       "\n",
       "                              Predicted: Plasma membrane  Predicted: Endosome  \\\n",
       "T: True group                                                                   \n",
       "True: Nuclear pore complex                             1                    0   \n",
       "True: ER_high_curvature                                0                    0   \n",
       "True: Ergic/cisGolgi                                   0                    0   \n",
       "True: Actin binding proteins                           2                    0   \n",
       "True: Golgi                                            1                    0   \n",
       "True: Mitochondrion                                    0                    0   \n",
       "True: Endosome                                         0                   69   \n",
       "True: Plasma membrane                                112                    0   \n",
       "True: Peroxisome                                       0                    0   \n",
       "True: Lysosome                                         0                    0   \n",
       "True: Large Protein Complex                            0                    0   \n",
       "True: ER                                               0                    0   \n",
       "\n",
       "                              Predicted: Mitochondrion  Predicted: Golgi  \\\n",
       "T: True group                                                              \n",
       "True: Nuclear pore complex                           0                 0   \n",
       "True: ER_high_curvature                              0                 0   \n",
       "True: Ergic/cisGolgi                                 0                 0   \n",
       "True: Actin binding proteins                         0                 1   \n",
       "True: Golgi                                          0                23   \n",
       "True: Mitochondrion                                223                 0   \n",
       "True: Endosome                                       0                 0   \n",
       "True: Plasma membrane                                0                 0   \n",
       "True: Peroxisome                                     0                 0   \n",
       "True: Lysosome                                       0                 0   \n",
       "True: Large Protein Complex                          0                 0   \n",
       "True: ER                                             2                 0   \n",
       "\n",
       "                              Predicted: Actin binding proteins  \\\n",
       "T: True group                                                     \n",
       "True: Nuclear pore complex                                    0   \n",
       "True: ER_high_curvature                                       0   \n",
       "True: Ergic/cisGolgi                                          0   \n",
       "True: Actin binding proteins                                 24   \n",
       "True: Golgi                                                   0   \n",
       "True: Mitochondrion                                           0   \n",
       "True: Endosome                                                0   \n",
       "True: Plasma membrane                                         1   \n",
       "True: Peroxisome                                              0   \n",
       "True: Lysosome                                                0   \n",
       "True: Large Protein Complex                                   0   \n",
       "True: ER                                                      0   \n",
       "\n",
       "                              Predicted: Ergic/cisGolgi  \\\n",
       "T: True group                                             \n",
       "True: Nuclear pore complex                            0   \n",
       "True: ER_high_curvature                               0   \n",
       "True: Ergic/cisGolgi                                 24   \n",
       "True: Actin binding proteins                          0   \n",
       "True: Golgi                                           0   \n",
       "True: Mitochondrion                                   0   \n",
       "True: Endosome                                        1   \n",
       "True: Plasma membrane                                 0   \n",
       "True: Peroxisome                                      0   \n",
       "True: Lysosome                                        0   \n",
       "True: Large Protein Complex                           0   \n",
       "True: ER                                              0   \n",
       "\n",
       "                              Predicted: ER_high_curvature  \\\n",
       "T: True group                                                \n",
       "True: Nuclear pore complex                               0   \n",
       "True: ER_high_curvature                                  9   \n",
       "True: Ergic/cisGolgi                                     1   \n",
       "True: Actin binding proteins                             0   \n",
       "True: Golgi                                              0   \n",
       "True: Mitochondrion                                      0   \n",
       "True: Endosome                                           0   \n",
       "True: Plasma membrane                                    0   \n",
       "True: Peroxisome                                         0   \n",
       "True: Lysosome                                           0   \n",
       "True: Large Protein Complex                              0   \n",
       "True: ER                                                 0   \n",
       "\n",
       "                              Predicted: Nuclear pore complex  \n",
       "T: True group                                                  \n",
       "True: Nuclear pore complex                                 14  \n",
       "True: ER_high_curvature                                     0  \n",
       "True: Ergic/cisGolgi                                        0  \n",
       "True: Actin binding proteins                                0  \n",
       "True: Golgi                                                 0  \n",
       "True: Mitochondrion                                         0  \n",
       "True: Endosome                                              0  \n",
       "True: Plasma membrane                                       0  \n",
       "True: Peroxisome                                            0  \n",
       "True: Lysosome                                              0  \n",
       "True: Large Protein Complex                                 0  \n",
       "True: ER                                                    0  "
      ]
     },
     "execution_count": 12,
     "metadata": {},
     "output_type": "execute_result"
    }
   ],
   "source": [
    "df_SVM.set_index(\"T: True group\")[::-1]"
   ]
  },
  {
   "cell_type": "code",
   "execution_count": 10,
   "metadata": {},
   "outputs": [],
   "source": [
    "df_SVM = pd.read_table(StringIO(i_SVM_table.value), sep=\"\\t\")"
   ]
  },
  {
   "cell_type": "code",
   "execution_count": 16,
   "metadata": {},
   "outputs": [
    {
     "data": {
      "text/plain": [
       "''"
      ]
     },
     "execution_count": 16,
     "metadata": {},
     "output_type": "execute_result"
    }
   ],
   "source": [
    "xx.value"
   ]
  },
  {
   "cell_type": "code",
   "execution_count": 15,
   "metadata": {},
   "outputs": [],
   "source": [
    "xx = pn.widgets.input.TextAreaInput(name=\"Misclassification matrix from Perseus\", placeholder=\"Copy matrix here...\")"
   ]
  },
  {
   "cell_type": "code",
   "execution_count": 13,
   "metadata": {},
   "outputs": [
    {
     "data": {
      "text/plain": [
       "'Predicted: ER\\tPredicted: Large Protein Complex\\tPredicted: Lysosome\\tPredicted: Peroxisome\\tPredicted: Plasma membrane\\tPredicted: Endosome\\tPredicted: Mitochondrion\\tPredicted: Golgi\\tPredicted: Actin binding proteins\\tPredicted: Ergic/cisGolgi\\tPredicted: ER_high_curvature\\tPredicted: Nuclear pore complex\\tT: True group\\n113\\t0\\t0\\t0\\t0\\t0\\t2\\t0\\t0\\t0\\t0\\t0\\tTrue: ER\\n0\\t299\\t0\\t0\\t0\\t0\\t0\\t0\\t0\\t0\\t0\\t0\\tTrue: Large Protein Complex\\n0\\t0\\t35\\t0\\t0\\t0\\t0\\t0\\t0\\t0\\t0\\t0\\tTrue: Lysosome\\n0\\t0\\t0\\t16\\t0\\t0\\t0\\t0\\t0\\t0\\t0\\t0\\tTrue: Peroxisome\\n1\\t0\\t0\\t0\\t112\\t0\\t0\\t0\\t1\\t0\\t0\\t0\\tTrue: Plasma membrane\\n2\\t3\\t1\\t0\\t0\\t69\\t0\\t0\\t0\\t1\\t0\\t0\\tTrue: Endosome\\n0\\t0\\t0\\t0\\t0\\t0\\t223\\t0\\t0\\t0\\t0\\t0\\tTrue: Mitochondrion\\n0\\t0\\t0\\t0\\t1\\t0\\t0\\t23\\t0\\t0\\t0\\t0\\tTrue: Golgi\\n0\\t0\\t0\\t0\\t2\\t0\\t0\\t1\\t24\\t0\\t0\\t0\\tTrue: Actin binding proteins\\n0\\t0\\t0\\t0\\t0\\t0\\t0\\t0\\t0\\t24\\t1\\t0\\tTrue: Ergic/cisGolgi\\n0\\t0\\t0\\t0\\t0\\t0\\t0\\t0\\t0\\t0\\t9\\t0\\tTrue: ER_high_curvature\\n1\\t0\\t0\\t0\\t1\\t0\\t0\\t0\\t0\\t0\\t0\\t14\\tTrue: Nuclear pore complex'"
      ]
     },
     "execution_count": 13,
     "metadata": {},
     "output_type": "execute_result"
    }
   ],
   "source": [
    "i_SVM_table.value# = pn.widgets.input.TextAreaInput(name=\"Misclassification matrix from Perseus\", placeholder=\"Copy matrix here...\")"
   ]
  },
  {
   "cell_type": "code",
   "execution_count": 22,
   "metadata": {},
   "outputs": [
    {
     "data": {
      "text/plain": [
       "'{\"Predicted: ER\":{\"0\":113,\"1\":0,\"2\":0,\"3\":0,\"4\":1,\"5\":2,\"6\":0,\"7\":0,\"8\":0,\"9\":0,\"10\":0,\"11\":1},\"Predicted: Large Protein Complex\":{\"0\":0,\"1\":299,\"2\":0,\"3\":0,\"4\":0,\"5\":3,\"6\":0,\"7\":0,\"8\":0,\"9\":0,\"10\":0,\"11\":0},\"Predicted: Lysosome\":{\"0\":0,\"1\":0,\"2\":35,\"3\":0,\"4\":0,\"5\":1,\"6\":0,\"7\":0,\"8\":0,\"9\":0,\"10\":0,\"11\":0},\"Predicted: Peroxisome\":{\"0\":0,\"1\":0,\"2\":0,\"3\":16,\"4\":0,\"5\":0,\"6\":0,\"7\":0,\"8\":0,\"9\":0,\"10\":0,\"11\":0},\"Predicted: Plasma membrane\":{\"0\":0,\"1\":0,\"2\":0,\"3\":0,\"4\":112,\"5\":0,\"6\":0,\"7\":1,\"8\":2,\"9\":0,\"10\":0,\"11\":1},\"Predicted: Endosome\":{\"0\":0,\"1\":0,\"2\":0,\"3\":0,\"4\":0,\"5\":69,\"6\":0,\"7\":0,\"8\":0,\"9\":0,\"10\":0,\"11\":0},\"Predicted: Mitochondrion\":{\"0\":2,\"1\":0,\"2\":0,\"3\":0,\"4\":0,\"5\":0,\"6\":223,\"7\":0,\"8\":0,\"9\":0,\"10\":0,\"11\":0},\"Predicted: Golgi\":{\"0\":0,\"1\":0,\"2\":0,\"3\":0,\"4\":0,\"5\":0,\"6\":0,\"7\":23,\"8\":1,\"9\":0,\"10\":0,\"11\":0},\"Predicted: Actin binding proteins\":{\"0\":0,\"1\":0,\"2\":0,\"3\":0,\"4\":1,\"5\":0,\"6\":0,\"7\":0,\"8\":24,\"9\":0,\"10\":0,\"11\":0},\"Predicted: Ergic\\\\/cisGolgi\":{\"0\":0,\"1\":0,\"2\":0,\"3\":0,\"4\":0,\"5\":1,\"6\":0,\"7\":0,\"8\":0,\"9\":24,\"10\":0,\"11\":0},\"Predicted: ER_high_curvature\":{\"0\":0,\"1\":0,\"2\":0,\"3\":0,\"4\":0,\"5\":0,\"6\":0,\"7\":0,\"8\":0,\"9\":1,\"10\":9,\"11\":0},\"Predicted: Nuclear pore complex\":{\"0\":0,\"1\":0,\"2\":0,\"3\":0,\"4\":0,\"5\":0,\"6\":0,\"7\":0,\"8\":0,\"9\":0,\"10\":0,\"11\":14},\"T: True group\":{\"0\":\"True: ER\",\"1\":\"True: Large Protein Complex\",\"2\":\"True: Lysosome\",\"3\":\"True: Peroxisome\",\"4\":\"True: Plasma membrane\",\"5\":\"True: Endosome\",\"6\":\"True: Mitochondrion\",\"7\":\"True: Golgi\",\"8\":\"True: Actin binding proteins\",\"9\":\"True: Ergic\\\\/cisGolgi\",\"10\":\"True: ER_high_curvature\",\"11\":\"True: Nuclear pore complex\"}}'"
      ]
     },
     "execution_count": 22,
     "metadata": {},
     "output_type": "execute_result"
    }
   ],
   "source": [
    "json_dict_amendments_intended[i_exp_SVM.value][\"Misclassification Matrix\"]"
   ]
  },
  {
   "cell_type": "code",
   "execution_count": 21,
   "metadata": {},
   "outputs": [
    {
     "data": {
      "text/plain": [
       "'21 rrrrrrrrrrrrrr'"
      ]
     },
     "execution_count": 21,
     "metadata": {},
     "output_type": "execute_result"
    }
   ],
   "source": []
  },
  {
   "cell_type": "code",
   "execution_count": 25,
   "metadata": {},
   "outputs": [
    {
     "data": {
      "text/html": [
       "<div>\n",
       "<style scoped>\n",
       "    .dataframe tbody tr th:only-of-type {\n",
       "        vertical-align: middle;\n",
       "    }\n",
       "\n",
       "    .dataframe tbody tr th {\n",
       "        vertical-align: top;\n",
       "    }\n",
       "\n",
       "    .dataframe thead th {\n",
       "        text-align: right;\n",
       "    }\n",
       "</style>\n",
       "<table border=\"1\" class=\"dataframe\">\n",
       "  <thead>\n",
       "    <tr style=\"text-align: right;\">\n",
       "      <th></th>\n",
       "      <th>Predicted: ER</th>\n",
       "      <th>Predicted: Large Protein Complex</th>\n",
       "      <th>Predicted: Lysosome</th>\n",
       "      <th>Predicted: Peroxisome</th>\n",
       "      <th>Predicted: Plasma membrane</th>\n",
       "      <th>Predicted: Endosome</th>\n",
       "      <th>Predicted: Mitochondrion</th>\n",
       "      <th>Predicted: Golgi</th>\n",
       "      <th>Predicted: Actin binding proteins</th>\n",
       "      <th>Predicted: Ergic/cisGolgi</th>\n",
       "      <th>Predicted: ER_high_curvature</th>\n",
       "      <th>Predicted: Nuclear pore complex</th>\n",
       "      <th>T: True group</th>\n",
       "    </tr>\n",
       "  </thead>\n",
       "  <tbody>\n",
       "    <tr>\n",
       "      <th>0</th>\n",
       "      <td>113</td>\n",
       "      <td>0</td>\n",
       "      <td>0</td>\n",
       "      <td>0</td>\n",
       "      <td>0</td>\n",
       "      <td>0</td>\n",
       "      <td>2</td>\n",
       "      <td>0</td>\n",
       "      <td>0</td>\n",
       "      <td>0</td>\n",
       "      <td>0</td>\n",
       "      <td>0</td>\n",
       "      <td>True: ER</td>\n",
       "    </tr>\n",
       "    <tr>\n",
       "      <th>1</th>\n",
       "      <td>0</td>\n",
       "      <td>299</td>\n",
       "      <td>0</td>\n",
       "      <td>0</td>\n",
       "      <td>0</td>\n",
       "      <td>0</td>\n",
       "      <td>0</td>\n",
       "      <td>0</td>\n",
       "      <td>0</td>\n",
       "      <td>0</td>\n",
       "      <td>0</td>\n",
       "      <td>0</td>\n",
       "      <td>True: Large Protein Complex</td>\n",
       "    </tr>\n",
       "    <tr>\n",
       "      <th>2</th>\n",
       "      <td>0</td>\n",
       "      <td>0</td>\n",
       "      <td>35</td>\n",
       "      <td>0</td>\n",
       "      <td>0</td>\n",
       "      <td>0</td>\n",
       "      <td>0</td>\n",
       "      <td>0</td>\n",
       "      <td>0</td>\n",
       "      <td>0</td>\n",
       "      <td>0</td>\n",
       "      <td>0</td>\n",
       "      <td>True: Lysosome</td>\n",
       "    </tr>\n",
       "    <tr>\n",
       "      <th>3</th>\n",
       "      <td>0</td>\n",
       "      <td>0</td>\n",
       "      <td>0</td>\n",
       "      <td>16</td>\n",
       "      <td>0</td>\n",
       "      <td>0</td>\n",
       "      <td>0</td>\n",
       "      <td>0</td>\n",
       "      <td>0</td>\n",
       "      <td>0</td>\n",
       "      <td>0</td>\n",
       "      <td>0</td>\n",
       "      <td>True: Peroxisome</td>\n",
       "    </tr>\n",
       "    <tr>\n",
       "      <th>4</th>\n",
       "      <td>1</td>\n",
       "      <td>0</td>\n",
       "      <td>0</td>\n",
       "      <td>0</td>\n",
       "      <td>112</td>\n",
       "      <td>0</td>\n",
       "      <td>0</td>\n",
       "      <td>0</td>\n",
       "      <td>1</td>\n",
       "      <td>0</td>\n",
       "      <td>0</td>\n",
       "      <td>0</td>\n",
       "      <td>True: Plasma membrane</td>\n",
       "    </tr>\n",
       "    <tr>\n",
       "      <th>5</th>\n",
       "      <td>2</td>\n",
       "      <td>3</td>\n",
       "      <td>1</td>\n",
       "      <td>0</td>\n",
       "      <td>0</td>\n",
       "      <td>69</td>\n",
       "      <td>0</td>\n",
       "      <td>0</td>\n",
       "      <td>0</td>\n",
       "      <td>1</td>\n",
       "      <td>0</td>\n",
       "      <td>0</td>\n",
       "      <td>True: Endosome</td>\n",
       "    </tr>\n",
       "    <tr>\n",
       "      <th>6</th>\n",
       "      <td>0</td>\n",
       "      <td>0</td>\n",
       "      <td>0</td>\n",
       "      <td>0</td>\n",
       "      <td>0</td>\n",
       "      <td>0</td>\n",
       "      <td>223</td>\n",
       "      <td>0</td>\n",
       "      <td>0</td>\n",
       "      <td>0</td>\n",
       "      <td>0</td>\n",
       "      <td>0</td>\n",
       "      <td>True: Mitochondrion</td>\n",
       "    </tr>\n",
       "    <tr>\n",
       "      <th>7</th>\n",
       "      <td>0</td>\n",
       "      <td>0</td>\n",
       "      <td>0</td>\n",
       "      <td>0</td>\n",
       "      <td>1</td>\n",
       "      <td>0</td>\n",
       "      <td>0</td>\n",
       "      <td>23</td>\n",
       "      <td>0</td>\n",
       "      <td>0</td>\n",
       "      <td>0</td>\n",
       "      <td>0</td>\n",
       "      <td>True: Golgi</td>\n",
       "    </tr>\n",
       "    <tr>\n",
       "      <th>8</th>\n",
       "      <td>0</td>\n",
       "      <td>0</td>\n",
       "      <td>0</td>\n",
       "      <td>0</td>\n",
       "      <td>2</td>\n",
       "      <td>0</td>\n",
       "      <td>0</td>\n",
       "      <td>1</td>\n",
       "      <td>24</td>\n",
       "      <td>0</td>\n",
       "      <td>0</td>\n",
       "      <td>0</td>\n",
       "      <td>True: Actin binding proteins</td>\n",
       "    </tr>\n",
       "    <tr>\n",
       "      <th>9</th>\n",
       "      <td>0</td>\n",
       "      <td>0</td>\n",
       "      <td>0</td>\n",
       "      <td>0</td>\n",
       "      <td>0</td>\n",
       "      <td>0</td>\n",
       "      <td>0</td>\n",
       "      <td>0</td>\n",
       "      <td>0</td>\n",
       "      <td>24</td>\n",
       "      <td>1</td>\n",
       "      <td>0</td>\n",
       "      <td>True: Ergic/cisGolgi</td>\n",
       "    </tr>\n",
       "    <tr>\n",
       "      <th>10</th>\n",
       "      <td>0</td>\n",
       "      <td>0</td>\n",
       "      <td>0</td>\n",
       "      <td>0</td>\n",
       "      <td>0</td>\n",
       "      <td>0</td>\n",
       "      <td>0</td>\n",
       "      <td>0</td>\n",
       "      <td>0</td>\n",
       "      <td>0</td>\n",
       "      <td>9</td>\n",
       "      <td>0</td>\n",
       "      <td>True: ER_high_curvature</td>\n",
       "    </tr>\n",
       "    <tr>\n",
       "      <th>11</th>\n",
       "      <td>1</td>\n",
       "      <td>0</td>\n",
       "      <td>0</td>\n",
       "      <td>0</td>\n",
       "      <td>1</td>\n",
       "      <td>0</td>\n",
       "      <td>0</td>\n",
       "      <td>0</td>\n",
       "      <td>0</td>\n",
       "      <td>0</td>\n",
       "      <td>0</td>\n",
       "      <td>14</td>\n",
       "      <td>True: Nuclear pore complex</td>\n",
       "    </tr>\n",
       "  </tbody>\n",
       "</table>\n",
       "</div>"
      ],
      "text/plain": [
       "    Predicted: ER  Predicted: Large Protein Complex  Predicted: Lysosome  \\\n",
       "0             113                                 0                    0   \n",
       "1               0                               299                    0   \n",
       "2               0                                 0                   35   \n",
       "3               0                                 0                    0   \n",
       "4               1                                 0                    0   \n",
       "5               2                                 3                    1   \n",
       "6               0                                 0                    0   \n",
       "7               0                                 0                    0   \n",
       "8               0                                 0                    0   \n",
       "9               0                                 0                    0   \n",
       "10              0                                 0                    0   \n",
       "11              1                                 0                    0   \n",
       "\n",
       "    Predicted: Peroxisome  Predicted: Plasma membrane  Predicted: Endosome  \\\n",
       "0                       0                           0                    0   \n",
       "1                       0                           0                    0   \n",
       "2                       0                           0                    0   \n",
       "3                      16                           0                    0   \n",
       "4                       0                         112                    0   \n",
       "5                       0                           0                   69   \n",
       "6                       0                           0                    0   \n",
       "7                       0                           1                    0   \n",
       "8                       0                           2                    0   \n",
       "9                       0                           0                    0   \n",
       "10                      0                           0                    0   \n",
       "11                      0                           1                    0   \n",
       "\n",
       "    Predicted: Mitochondrion  Predicted: Golgi  \\\n",
       "0                          2                 0   \n",
       "1                          0                 0   \n",
       "2                          0                 0   \n",
       "3                          0                 0   \n",
       "4                          0                 0   \n",
       "5                          0                 0   \n",
       "6                        223                 0   \n",
       "7                          0                23   \n",
       "8                          0                 1   \n",
       "9                          0                 0   \n",
       "10                         0                 0   \n",
       "11                         0                 0   \n",
       "\n",
       "    Predicted: Actin binding proteins  Predicted: Ergic/cisGolgi  \\\n",
       "0                                   0                          0   \n",
       "1                                   0                          0   \n",
       "2                                   0                          0   \n",
       "3                                   0                          0   \n",
       "4                                   1                          0   \n",
       "5                                   0                          1   \n",
       "6                                   0                          0   \n",
       "7                                   0                          0   \n",
       "8                                  24                          0   \n",
       "9                                   0                         24   \n",
       "10                                  0                          0   \n",
       "11                                  0                          0   \n",
       "\n",
       "    Predicted: ER_high_curvature  Predicted: Nuclear pore complex  \\\n",
       "0                              0                                0   \n",
       "1                              0                                0   \n",
       "2                              0                                0   \n",
       "3                              0                                0   \n",
       "4                              0                                0   \n",
       "5                              0                                0   \n",
       "6                              0                                0   \n",
       "7                              0                                0   \n",
       "8                              0                                0   \n",
       "9                              1                                0   \n",
       "10                             9                                0   \n",
       "11                             0                               14   \n",
       "\n",
       "                   T: True group  \n",
       "0                       True: ER  \n",
       "1    True: Large Protein Complex  \n",
       "2                 True: Lysosome  \n",
       "3               True: Peroxisome  \n",
       "4          True: Plasma membrane  \n",
       "5                 True: Endosome  \n",
       "6            True: Mitochondrion  \n",
       "7                    True: Golgi  \n",
       "8   True: Actin binding proteins  \n",
       "9           True: Ergic/cisGolgi  \n",
       "10       True: ER_high_curvature  \n",
       "11    True: Nuclear pore complex  "
      ]
     },
     "execution_count": 25,
     "metadata": {},
     "output_type": "execute_result"
    }
   ],
   "source": [
    "pd.read_json(json_dict_amendments_intended[i_exp_SVM.value][\"Misclassification Matrix\"])"
   ]
  },
  {
   "cell_type": "code",
   "execution_count": 28,
   "metadata": {},
   "outputs": [],
   "source": [
    "i_SVM_table.value = json_dict_amendments_intended[i_exp_SVM.value][\"Misclassification Matrix\"]"
   ]
  },
  {
   "cell_type": "code",
   "execution_count": 32,
   "metadata": {},
   "outputs": [
    {
     "data": {
      "text/plain": [
       "'{\"Predicted: ER\":{\"0\":113,\"1\":0,\"2\":0,\"3\":0,\"4\":1,\"5\":2,\"6\":0,\"7\":0,\"8\":0,\"9\":0,\"10\":0,\"11\":1},\"Predicted: Large Protein Complex\":{\"0\":0,\"1\":299,\"2\":0,\"3\":0,\"4\":0,\"5\":3,\"6\":0,\"7\":0,\"8\":0,\"9\":0,\"10\":0,\"11\":0},\"Predicted: Lysosome\":{\"0\":0,\"1\":0,\"2\":35,\"3\":0,\"4\":0,\"5\":1,\"6\":0,\"7\":0,\"8\":0,\"9\":0,\"10\":0,\"11\":0},\"Predicted: Peroxisome\":{\"0\":0,\"1\":0,\"2\":0,\"3\":16,\"4\":0,\"5\":0,\"6\":0,\"7\":0,\"8\":0,\"9\":0,\"10\":0,\"11\":0},\"Predicted: Plasma membrane\":{\"0\":0,\"1\":0,\"2\":0,\"3\":0,\"4\":112,\"5\":0,\"6\":0,\"7\":1,\"8\":2,\"9\":0,\"10\":0,\"11\":1},\"Predicted: Endosome\":{\"0\":0,\"1\":0,\"2\":0,\"3\":0,\"4\":0,\"5\":69,\"6\":0,\"7\":0,\"8\":0,\"9\":0,\"10\":0,\"11\":0},\"Predicted: Mitochondrion\":{\"0\":2,\"1\":0,\"2\":0,\"3\":0,\"4\":0,\"5\":0,\"6\":223,\"7\":0,\"8\":0,\"9\":0,\"10\":0,\"11\":0},\"Predicted: Golgi\":{\"0\":0,\"1\":0,\"2\":0,\"3\":0,\"4\":0,\"5\":0,\"6\":0,\"7\":23,\"8\":1,\"9\":0,\"10\":0,\"11\":0},\"Predicted: Actin binding proteins\":{\"0\":0,\"1\":0,\"2\":0,\"3\":0,\"4\":1,\"5\":0,\"6\":0,\"7\":0,\"8\":24,\"9\":0,\"10\":0,\"11\":0},\"Predicted: Ergic\\\\/cisGolgi\":{\"0\":0,\"1\":0,\"2\":0,\"3\":0,\"4\":0,\"5\":1,\"6\":0,\"7\":0,\"8\":0,\"9\":24,\"10\":0,\"11\":0},\"Predicted: ER_high_curvature\":{\"0\":0,\"1\":0,\"2\":0,\"3\":0,\"4\":0,\"5\":0,\"6\":0,\"7\":0,\"8\":0,\"9\":1,\"10\":9,\"11\":0},\"Predicted: Nuclear pore complex\":{\"0\":0,\"1\":0,\"2\":0,\"3\":0,\"4\":0,\"5\":0,\"6\":0,\"7\":0,\"8\":0,\"9\":0,\"10\":0,\"11\":14},\"T: True group\":{\"0\":\"True: ER\",\"1\":\"True: Large Protein Complex\",\"2\":\"True: Lysosome\",\"3\":\"True: Peroxisome\",\"4\":\"True: Plasma membrane\",\"5\":\"True: Endosome\",\"6\":\"True: Mitochondrion\",\"7\":\"True: Golgi\",\"8\":\"True: Actin binding proteins\",\"9\":\"True: Ergic\\\\/cisGolgi\",\"10\":\"True: ER_high_curvature\",\"11\":\"True: Nuclear pore complex\"}}'"
      ]
     },
     "execution_count": 32,
     "metadata": {},
     "output_type": "execute_result"
    }
   ],
   "source": [
    "str(json_dict_amendments_intended[i_exp_SVM.value][\"Misclassification Matrix\"])"
   ]
  },
  {
   "cell_type": "code",
   "execution_count": 33,
   "metadata": {},
   "outputs": [
    {
     "data": {
      "text/plain": [
       "'Predicted: ER\\tPredicted: Large Protein Complex\\tPredicted: Lysosome\\tPredicted: Peroxisome\\tPredicted: Plasma membrane\\tPredicted: Endosome\\tPredicted: Mitochondrion\\tPredicted: Golgi\\tPredicted: Actin binding proteins\\tPredicted: Ergic/cisGolgi\\tPredicted: ER_high_curvature\\tPredicted: Nuclear pore complex\\tT: True group\\n113\\t0\\t0\\t0\\t0\\t0\\t2\\t0\\t0\\t0\\t0\\t0\\tTrue: ER\\n0\\t299\\t0\\t0\\t0\\t0\\t0\\t0\\t0\\t0\\t0\\t0\\tTrue: Large Protein Complex\\n0\\t0\\t35\\t0\\t0\\t0\\t0\\t0\\t0\\t0\\t0\\t0\\tTrue: Lysosome\\n0\\t0\\t0\\t16\\t0\\t0\\t0\\t0\\t0\\t0\\t0\\t0\\tTrue: Peroxisome\\n1\\t0\\t0\\t0\\t112\\t0\\t0\\t0\\t1\\t0\\t0\\t0\\tTrue: Plasma membrane\\n2\\t3\\t1\\t0\\t0\\t69\\t0\\t0\\t0\\t1\\t0\\t0\\tTrue: Endosome\\n0\\t0\\t0\\t0\\t0\\t0\\t223\\t0\\t0\\t0\\t0\\t0\\tTrue: Mitochondrion\\n0\\t0\\t0\\t0\\t1\\t0\\t0\\t23\\t0\\t0\\t0\\t0\\tTrue: Golgi\\n0\\t0\\t0\\t0\\t2\\t0\\t0\\t1\\t24\\t0\\t0\\t0\\tTrue: Actin binding proteins\\n0\\t0\\t0\\t0\\t0\\t0\\t0\\t0\\t0\\t24\\t1\\t0\\tTrue: Ergic/cisGolgi\\n0\\t0\\t0\\t0\\t0\\t0\\t0\\t0\\t0\\t0\\t9\\t0\\tTrue: ER_high_curvature\\n1\\t0\\t0\\t0\\t1\\t0\\t0\\t0\\t0\\t0\\t0\\t14\\tTrue: Nuclear pore complex'"
      ]
     },
     "execution_count": 33,
     "metadata": {},
     "output_type": "execute_result"
    }
   ],
   "source": [
    "(i_SVM_table.value)"
   ]
  },
  {
   "cell_type": "code",
   "execution_count": 39,
   "metadata": {},
   "outputs": [
    {
     "ename": "ValueError",
     "evalue": "Invalid file path or buffer object type: <class 'pandas.core.frame.DataFrame'>",
     "output_type": "error",
     "traceback": [
      "\u001b[1;31m---------------------------------------------------------------------------\u001b[0m",
      "\u001b[1;31mValueError\u001b[0m                                Traceback (most recent call last)",
      "\u001b[1;32m<ipython-input-39-8de074f6c4de>\u001b[0m in \u001b[0;36m<module>\u001b[1;34m\u001b[0m\n\u001b[1;32m----> 1\u001b[1;33m \u001b[0mpd\u001b[0m\u001b[1;33m.\u001b[0m\u001b[0mread_json\u001b[0m\u001b[1;33m(\u001b[0m\u001b[0mdf_SVM\u001b[0m\u001b[1;33m)\u001b[0m\u001b[1;33m\u001b[0m\u001b[1;33m\u001b[0m\u001b[0m\n\u001b[0m",
      "\u001b[1;32m~\\Anaconda3\\envs\\QC repository\\lib\\site-packages\\pandas\\util\\_decorators.py\u001b[0m in \u001b[0;36mwrapper\u001b[1;34m(*args, **kwargs)\u001b[0m\n\u001b[0;32m    212\u001b[0m                 \u001b[1;32melse\u001b[0m\u001b[1;33m:\u001b[0m\u001b[1;33m\u001b[0m\u001b[1;33m\u001b[0m\u001b[0m\n\u001b[0;32m    213\u001b[0m                     \u001b[0mkwargs\u001b[0m\u001b[1;33m[\u001b[0m\u001b[0mnew_arg_name\u001b[0m\u001b[1;33m]\u001b[0m \u001b[1;33m=\u001b[0m \u001b[0mnew_arg_value\u001b[0m\u001b[1;33m\u001b[0m\u001b[1;33m\u001b[0m\u001b[0m\n\u001b[1;32m--> 214\u001b[1;33m             \u001b[1;32mreturn\u001b[0m \u001b[0mfunc\u001b[0m\u001b[1;33m(\u001b[0m\u001b[1;33m*\u001b[0m\u001b[0margs\u001b[0m\u001b[1;33m,\u001b[0m \u001b[1;33m**\u001b[0m\u001b[0mkwargs\u001b[0m\u001b[1;33m)\u001b[0m\u001b[1;33m\u001b[0m\u001b[1;33m\u001b[0m\u001b[0m\n\u001b[0m\u001b[0;32m    215\u001b[0m \u001b[1;33m\u001b[0m\u001b[0m\n\u001b[0;32m    216\u001b[0m         \u001b[1;32mreturn\u001b[0m \u001b[0mcast\u001b[0m\u001b[1;33m(\u001b[0m\u001b[0mF\u001b[0m\u001b[1;33m,\u001b[0m \u001b[0mwrapper\u001b[0m\u001b[1;33m)\u001b[0m\u001b[1;33m\u001b[0m\u001b[1;33m\u001b[0m\u001b[0m\n",
      "\u001b[1;32m~\\Anaconda3\\envs\\QC repository\\lib\\site-packages\\pandas\\io\\json\\_json.py\u001b[0m in \u001b[0;36mread_json\u001b[1;34m(path_or_buf, orient, typ, dtype, convert_axes, convert_dates, keep_default_dates, numpy, precise_float, date_unit, encoding, lines, chunksize, compression)\u001b[0m\n\u001b[0;32m    582\u001b[0m \u001b[1;33m\u001b[0m\u001b[0m\n\u001b[0;32m    583\u001b[0m     \u001b[0mcompression\u001b[0m \u001b[1;33m=\u001b[0m \u001b[0minfer_compression\u001b[0m\u001b[1;33m(\u001b[0m\u001b[0mpath_or_buf\u001b[0m\u001b[1;33m,\u001b[0m \u001b[0mcompression\u001b[0m\u001b[1;33m)\u001b[0m\u001b[1;33m\u001b[0m\u001b[1;33m\u001b[0m\u001b[0m\n\u001b[1;32m--> 584\u001b[1;33m     filepath_or_buffer, _, compression, should_close = get_filepath_or_buffer(\n\u001b[0m\u001b[0;32m    585\u001b[0m         \u001b[0mpath_or_buf\u001b[0m\u001b[1;33m,\u001b[0m \u001b[0mencoding\u001b[0m\u001b[1;33m=\u001b[0m\u001b[0mencoding\u001b[0m\u001b[1;33m,\u001b[0m \u001b[0mcompression\u001b[0m\u001b[1;33m=\u001b[0m\u001b[0mcompression\u001b[0m\u001b[1;33m\u001b[0m\u001b[1;33m\u001b[0m\u001b[0m\n\u001b[0;32m    586\u001b[0m     )\n",
      "\u001b[1;32m~\\Anaconda3\\envs\\QC repository\\lib\\site-packages\\pandas\\io\\common.py\u001b[0m in \u001b[0;36mget_filepath_or_buffer\u001b[1;34m(filepath_or_buffer, encoding, compression, mode)\u001b[0m\n\u001b[0;32m    198\u001b[0m     \u001b[1;32mif\u001b[0m \u001b[1;32mnot\u001b[0m \u001b[0mis_file_like\u001b[0m\u001b[1;33m(\u001b[0m\u001b[0mfilepath_or_buffer\u001b[0m\u001b[1;33m)\u001b[0m\u001b[1;33m:\u001b[0m\u001b[1;33m\u001b[0m\u001b[1;33m\u001b[0m\u001b[0m\n\u001b[0;32m    199\u001b[0m         \u001b[0mmsg\u001b[0m \u001b[1;33m=\u001b[0m \u001b[1;34mf\"Invalid file path or buffer object type: {type(filepath_or_buffer)}\"\u001b[0m\u001b[1;33m\u001b[0m\u001b[1;33m\u001b[0m\u001b[0m\n\u001b[1;32m--> 200\u001b[1;33m         \u001b[1;32mraise\u001b[0m \u001b[0mValueError\u001b[0m\u001b[1;33m(\u001b[0m\u001b[0mmsg\u001b[0m\u001b[1;33m)\u001b[0m\u001b[1;33m\u001b[0m\u001b[1;33m\u001b[0m\u001b[0m\n\u001b[0m\u001b[0;32m    201\u001b[0m \u001b[1;33m\u001b[0m\u001b[0m\n\u001b[0;32m    202\u001b[0m     \u001b[1;32mreturn\u001b[0m \u001b[0mfilepath_or_buffer\u001b[0m\u001b[1;33m,\u001b[0m \u001b[1;32mNone\u001b[0m\u001b[1;33m,\u001b[0m \u001b[0mcompression\u001b[0m\u001b[1;33m,\u001b[0m \u001b[1;32mFalse\u001b[0m\u001b[1;33m\u001b[0m\u001b[1;33m\u001b[0m\u001b[0m\n",
      "\u001b[1;31mValueError\u001b[0m: Invalid file path or buffer object type: <class 'pandas.core.frame.DataFrame'>"
     ]
    }
   ],
   "source": [
    "pd.read_json(df_SVM)"
   ]
  },
  {
   "cell_type": "code",
   "execution_count": 36,
   "metadata": {},
   "outputs": [],
   "source": [
    "df_SVM = pd.read_json(json_dict_amendments_intended[i_exp_SVM.value][\"Misclassification Matrix\"])"
   ]
  },
  {
   "cell_type": "code",
   "execution_count": 43,
   "metadata": {},
   "outputs": [
    {
     "data": {
      "text/plain": [
       "'{\"{\\\\\"{\\\\\\\\\\\\\"Predicted: ER\\\\\\\\\\\\\":{\\\\\\\\\\\\\"0\\\\\\\\\\\\\":113,\\\\\\\\\\\\\"1\\\\\\\\\\\\\":0,\\\\\\\\\\\\\"2\\\\\\\\\\\\\":0,\\\\\\\\\\\\\"3\\\\\\\\\\\\\":0,\\\\\\\\\\\\\"4\\\\\\\\\\\\\":1,\\\\\\\\\\\\\"5\\\\\\\\\\\\\":2,\\\\\\\\\\\\\"6\\\\\\\\\\\\\":0,\\\\\\\\\\\\\"7\\\\\\\\\\\\\":0,\\\\\\\\\\\\\"8\\\\\\\\\\\\\":0,\\\\\\\\\\\\\"9\\\\\\\\\\\\\":0,\\\\\\\\\\\\\"10\\\\\\\\\\\\\":0,\\\\\\\\\\\\\"11\\\\\\\\\\\\\":1},\\\\\\\\\\\\\"Predicted: Large Protein Complex\\\\\\\\\\\\\":{\\\\\\\\\\\\\"0\\\\\\\\\\\\\":0,\\\\\\\\\\\\\"1\\\\\\\\\\\\\":299,\\\\\\\\\\\\\"2\\\\\\\\\\\\\":0,\\\\\\\\\\\\\"3\\\\\\\\\\\\\":0,\\\\\\\\\\\\\"4\\\\\\\\\\\\\":0,\\\\\\\\\\\\\"5\\\\\\\\\\\\\":3,\\\\\\\\\\\\\"6\\\\\\\\\\\\\":0,\\\\\\\\\\\\\"7\\\\\\\\\\\\\":0,\\\\\\\\\\\\\"8\\\\\\\\\\\\\":0,\\\\\\\\\\\\\"9\\\\\\\\\\\\\":0,\\\\\\\\\\\\\"10\\\\\\\\\\\\\":0,\\\\\\\\\\\\\"11\\\\\\\\\\\\\":0},\\\\\\\\\\\\\"Predicted: Lysosome\\\\\\\\\\\\\":{\\\\\\\\\\\\\"0\\\\\\\\\\\\\":0,\\\\\\\\\\\\\"1\\\\\\\\\\\\\":0,\\\\\\\\\\\\\"2\\\\\\\\\\\\\":35,\\\\\\\\\\\\\"3\\\\\\\\\\\\\":0,\\\\\\\\\\\\\"4\\\\\\\\\\\\\":0,\\\\\\\\\\\\\"5\\\\\\\\\\\\\":1,\\\\\\\\\\\\\"6\\\\\\\\\\\\\":0,\\\\\\\\\\\\\"7\\\\\\\\\\\\\":0,\\\\\\\\\\\\\"8\\\\\\\\\\\\\":0,\\\\\\\\\\\\\"9\\\\\\\\\\\\\":0,\\\\\\\\\\\\\"10\\\\\\\\\\\\\":0,\\\\\\\\\\\\\"11\\\\\\\\\\\\\":0},\\\\\\\\\\\\\"Predicted: Peroxisome\\\\\\\\\\\\\":{\\\\\\\\\\\\\"0\\\\\\\\\\\\\":0,\\\\\\\\\\\\\"1\\\\\\\\\\\\\":0,\\\\\\\\\\\\\"2\\\\\\\\\\\\\":0,\\\\\\\\\\\\\"3\\\\\\\\\\\\\":16,\\\\\\\\\\\\\"4\\\\\\\\\\\\\":0,\\\\\\\\\\\\\"5\\\\\\\\\\\\\":0,\\\\\\\\\\\\\"6\\\\\\\\\\\\\":0,\\\\\\\\\\\\\"7\\\\\\\\\\\\\":0,\\\\\\\\\\\\\"8\\\\\\\\\\\\\":0,\\\\\\\\\\\\\"9\\\\\\\\\\\\\":0,\\\\\\\\\\\\\"10\\\\\\\\\\\\\":0,\\\\\\\\\\\\\"11\\\\\\\\\\\\\":0},\\\\\\\\\\\\\"Predicted: Plasma membrane\\\\\\\\\\\\\":{\\\\\\\\\\\\\"0\\\\\\\\\\\\\":0,\\\\\\\\\\\\\"1\\\\\\\\\\\\\":0,\\\\\\\\\\\\\"2\\\\\\\\\\\\\":0,\\\\\\\\\\\\\"3\\\\\\\\\\\\\":0,\\\\\\\\\\\\\"4\\\\\\\\\\\\\":112,\\\\\\\\\\\\\"5\\\\\\\\\\\\\":0,\\\\\\\\\\\\\"6\\\\\\\\\\\\\":0,\\\\\\\\\\\\\"7\\\\\\\\\\\\\":1,\\\\\\\\\\\\\"8\\\\\\\\\\\\\":2,\\\\\\\\\\\\\"9\\\\\\\\\\\\\":0,\\\\\\\\\\\\\"10\\\\\\\\\\\\\":0,\\\\\\\\\\\\\"11\\\\\\\\\\\\\":1},\\\\\\\\\\\\\"Predicted: Endosome\\\\\\\\\\\\\":{\\\\\\\\\\\\\"0\\\\\\\\\\\\\":0,\\\\\\\\\\\\\"1\\\\\\\\\\\\\":0,\\\\\\\\\\\\\"2\\\\\\\\\\\\\":0,\\\\\\\\\\\\\"3\\\\\\\\\\\\\":0,\\\\\\\\\\\\\"4\\\\\\\\\\\\\":0,\\\\\\\\\\\\\"5\\\\\\\\\\\\\":69,\\\\\\\\\\\\\"6\\\\\\\\\\\\\":0,\\\\\\\\\\\\\"7\\\\\\\\\\\\\":0,\\\\\\\\\\\\\"8\\\\\\\\\\\\\":0,\\\\\\\\\\\\\"9\\\\\\\\\\\\\":0,\\\\\\\\\\\\\"10\\\\\\\\\\\\\":0,\\\\\\\\\\\\\"11\\\\\\\\\\\\\":0},\\\\\\\\\\\\\"Predicted: Mitochondrion\\\\\\\\\\\\\":{\\\\\\\\\\\\\"0\\\\\\\\\\\\\":2,\\\\\\\\\\\\\"1\\\\\\\\\\\\\":0,\\\\\\\\\\\\\"2\\\\\\\\\\\\\":0,\\\\\\\\\\\\\"3\\\\\\\\\\\\\":0,\\\\\\\\\\\\\"4\\\\\\\\\\\\\":0,\\\\\\\\\\\\\"5\\\\\\\\\\\\\":0,\\\\\\\\\\\\\"6\\\\\\\\\\\\\":223,\\\\\\\\\\\\\"7\\\\\\\\\\\\\":0,\\\\\\\\\\\\\"8\\\\\\\\\\\\\":0,\\\\\\\\\\\\\"9\\\\\\\\\\\\\":0,\\\\\\\\\\\\\"10\\\\\\\\\\\\\":0,\\\\\\\\\\\\\"11\\\\\\\\\\\\\":0},\\\\\\\\\\\\\"Predicted: Golgi\\\\\\\\\\\\\":{\\\\\\\\\\\\\"0\\\\\\\\\\\\\":0,\\\\\\\\\\\\\"1\\\\\\\\\\\\\":0,\\\\\\\\\\\\\"2\\\\\\\\\\\\\":0,\\\\\\\\\\\\\"3\\\\\\\\\\\\\":0,\\\\\\\\\\\\\"4\\\\\\\\\\\\\":0,\\\\\\\\\\\\\"5\\\\\\\\\\\\\":0,\\\\\\\\\\\\\"6\\\\\\\\\\\\\":0,\\\\\\\\\\\\\"7\\\\\\\\\\\\\":23,\\\\\\\\\\\\\"8\\\\\\\\\\\\\":1,\\\\\\\\\\\\\"9\\\\\\\\\\\\\":0,\\\\\\\\\\\\\"10\\\\\\\\\\\\\":0,\\\\\\\\\\\\\"11\\\\\\\\\\\\\":0},\\\\\\\\\\\\\"Predicted: Actin binding proteins\\\\\\\\\\\\\":{\\\\\\\\\\\\\"0\\\\\\\\\\\\\":0,\\\\\\\\\\\\\"1\\\\\\\\\\\\\":0,\\\\\\\\\\\\\"2\\\\\\\\\\\\\":0,\\\\\\\\\\\\\"3\\\\\\\\\\\\\":0,\\\\\\\\\\\\\"4\\\\\\\\\\\\\":1,\\\\\\\\\\\\\"5\\\\\\\\\\\\\":0,\\\\\\\\\\\\\"6\\\\\\\\\\\\\":0,\\\\\\\\\\\\\"7\\\\\\\\\\\\\":0,\\\\\\\\\\\\\"8\\\\\\\\\\\\\":24,\\\\\\\\\\\\\"9\\\\\\\\\\\\\":0,\\\\\\\\\\\\\"10\\\\\\\\\\\\\":0,\\\\\\\\\\\\\"11\\\\\\\\\\\\\":0},\\\\\\\\\\\\\"Predicted: Ergic\\\\\\\\\\\\\\\\\\\\\\\\\\\\/cisGolgi\\\\\\\\\\\\\":{\\\\\\\\\\\\\"0\\\\\\\\\\\\\":0,\\\\\\\\\\\\\"1\\\\\\\\\\\\\":0,\\\\\\\\\\\\\"2\\\\\\\\\\\\\":0,\\\\\\\\\\\\\"3\\\\\\\\\\\\\":0,\\\\\\\\\\\\\"4\\\\\\\\\\\\\":0,\\\\\\\\\\\\\"5\\\\\\\\\\\\\":1,\\\\\\\\\\\\\"6\\\\\\\\\\\\\":0,\\\\\\\\\\\\\"7\\\\\\\\\\\\\":0,\\\\\\\\\\\\\"8\\\\\\\\\\\\\":0,\\\\\\\\\\\\\"9\\\\\\\\\\\\\":24,\\\\\\\\\\\\\"10\\\\\\\\\\\\\":0,\\\\\\\\\\\\\"11\\\\\\\\\\\\\":0},\\\\\\\\\\\\\"Predicted: ER_high_curvature\\\\\\\\\\\\\":{\\\\\\\\\\\\\"0\\\\\\\\\\\\\":0,\\\\\\\\\\\\\"1\\\\\\\\\\\\\":0,\\\\\\\\\\\\\"2\\\\\\\\\\\\\":0,\\\\\\\\\\\\\"3\\\\\\\\\\\\\":0,\\\\\\\\\\\\\"4\\\\\\\\\\\\\":0,\\\\\\\\\\\\\"5\\\\\\\\\\\\\":0,\\\\\\\\\\\\\"6\\\\\\\\\\\\\":0,\\\\\\\\\\\\\"7\\\\\\\\\\\\\":0,\\\\\\\\\\\\\"8\\\\\\\\\\\\\":0,\\\\\\\\\\\\\"9\\\\\\\\\\\\\":1,\\\\\\\\\\\\\"10\\\\\\\\\\\\\":9,\\\\\\\\\\\\\"11\\\\\\\\\\\\\":0},\\\\\\\\\\\\\"Predicted: Nuclear pore complex\\\\\\\\\\\\\":{\\\\\\\\\\\\\"0\\\\\\\\\\\\\":0,\\\\\\\\\\\\\"1\\\\\\\\\\\\\":0,\\\\\\\\\\\\\"2\\\\\\\\\\\\\":0,\\\\\\\\\\\\\"3\\\\\\\\\\\\\":0,\\\\\\\\\\\\\"4\\\\\\\\\\\\\":0,\\\\\\\\\\\\\"5\\\\\\\\\\\\\":0,\\\\\\\\\\\\\"6\\\\\\\\\\\\\":0,\\\\\\\\\\\\\"7\\\\\\\\\\\\\":0,\\\\\\\\\\\\\"8\\\\\\\\\\\\\":0,\\\\\\\\\\\\\"9\\\\\\\\\\\\\":0,\\\\\\\\\\\\\"10\\\\\\\\\\\\\":0,\\\\\\\\\\\\\"11\\\\\\\\\\\\\":14},\\\\\\\\\\\\\"T: True group\\\\\\\\\\\\\":{\\\\\\\\\\\\\"0\\\\\\\\\\\\\":\\\\\\\\\\\\\"True: ER\\\\\\\\\\\\\",\\\\\\\\\\\\\"1\\\\\\\\\\\\\":\\\\\\\\\\\\\"True: Large Protein Complex\\\\\\\\\\\\\",\\\\\\\\\\\\\"2\\\\\\\\\\\\\":\\\\\\\\\\\\\"True: Lysosome\\\\\\\\\\\\\",\\\\\\\\\\\\\"3\\\\\\\\\\\\\":\\\\\\\\\\\\\"True: Peroxisome\\\\\\\\\\\\\",\\\\\\\\\\\\\"4\\\\\\\\\\\\\":\\\\\\\\\\\\\"True: Plasma membrane\\\\\\\\\\\\\",\\\\\\\\\\\\\"5\\\\\\\\\\\\\":\\\\\\\\\\\\\"True: Endosome\\\\\\\\\\\\\",\\\\\\\\\\\\\"6\\\\\\\\\\\\\":\\\\\\\\\\\\\"True: Mitochondrion\\\\\\\\\\\\\",\\\\\\\\\\\\\"7\\\\\\\\\\\\\":\\\\\\\\\\\\\"True: Golgi\\\\\\\\\\\\\",\\\\\\\\\\\\\"8\\\\\\\\\\\\\":\\\\\\\\\\\\\"True: Actin binding proteins\\\\\\\\\\\\\",\\\\\\\\\\\\\"9\\\\\\\\\\\\\":\\\\\\\\\\\\\"True: Ergic\\\\\\\\\\\\\\\\\\\\\\\\\\\\/cisGolgi\\\\\\\\\\\\\",\\\\\\\\\\\\\"10\\\\\\\\\\\\\":\\\\\\\\\\\\\"True: ER_high_curvature\\\\\\\\\\\\\",\\\\\\\\\\\\\"11\\\\\\\\\\\\\":\\\\\\\\\\\\\"True: Nuclear pore complex\\\\\\\\\\\\\"}}\\\\\":{}}\":{}}'"
      ]
     },
     "execution_count": 43,
     "metadata": {},
     "output_type": "execute_result"
    }
   ],
   "source": [
    "json_dict_amendments_intended[i_exp_SVM.value][\"Misclassification Matrix\"]"
   ]
  },
  {
   "cell_type": "code",
   "execution_count": 40,
   "metadata": {},
   "outputs": [
    {
     "data": {
      "text/plain": [
       "'{\"Predicted: ER\":{\"0\":113,\"1\":0,\"2\":0,\"3\":0,\"4\":1,\"5\":2,\"6\":0,\"7\":0,\"8\":0,\"9\":0,\"10\":0,\"11\":1},\"Predicted: Large Protein Complex\":{\"0\":0,\"1\":299,\"2\":0,\"3\":0,\"4\":0,\"5\":3,\"6\":0,\"7\":0,\"8\":0,\"9\":0,\"10\":0,\"11\":0},\"Predicted: Lysosome\":{\"0\":0,\"1\":0,\"2\":35,\"3\":0,\"4\":0,\"5\":1,\"6\":0,\"7\":0,\"8\":0,\"9\":0,\"10\":0,\"11\":0},\"Predicted: Peroxisome\":{\"0\":0,\"1\":0,\"2\":0,\"3\":16,\"4\":0,\"5\":0,\"6\":0,\"7\":0,\"8\":0,\"9\":0,\"10\":0,\"11\":0},\"Predicted: Plasma membrane\":{\"0\":0,\"1\":0,\"2\":0,\"3\":0,\"4\":112,\"5\":0,\"6\":0,\"7\":1,\"8\":2,\"9\":0,\"10\":0,\"11\":1},\"Predicted: Endosome\":{\"0\":0,\"1\":0,\"2\":0,\"3\":0,\"4\":0,\"5\":69,\"6\":0,\"7\":0,\"8\":0,\"9\":0,\"10\":0,\"11\":0},\"Predicted: Mitochondrion\":{\"0\":2,\"1\":0,\"2\":0,\"3\":0,\"4\":0,\"5\":0,\"6\":223,\"7\":0,\"8\":0,\"9\":0,\"10\":0,\"11\":0},\"Predicted: Golgi\":{\"0\":0,\"1\":0,\"2\":0,\"3\":0,\"4\":0,\"5\":0,\"6\":0,\"7\":23,\"8\":1,\"9\":0,\"10\":0,\"11\":0},\"Predicted: Actin binding proteins\":{\"0\":0,\"1\":0,\"2\":0,\"3\":0,\"4\":1,\"5\":0,\"6\":0,\"7\":0,\"8\":24,\"9\":0,\"10\":0,\"11\":0},\"Predicted: Ergic\\\\/cisGolgi\":{\"0\":0,\"1\":0,\"2\":0,\"3\":0,\"4\":0,\"5\":1,\"6\":0,\"7\":0,\"8\":0,\"9\":24,\"10\":0,\"11\":0},\"Predicted: ER_high_curvature\":{\"0\":0,\"1\":0,\"2\":0,\"3\":0,\"4\":0,\"5\":0,\"6\":0,\"7\":0,\"8\":0,\"9\":1,\"10\":9,\"11\":0},\"Predicted: Nuclear pore complex\":{\"0\":0,\"1\":0,\"2\":0,\"3\":0,\"4\":0,\"5\":0,\"6\":0,\"7\":0,\"8\":0,\"9\":0,\"10\":0,\"11\":14},\"T: True group\":{\"0\":\"True: ER\",\"1\":\"True: Large Protein Complex\",\"2\":\"True: Lysosome\",\"3\":\"True: Peroxisome\",\"4\":\"True: Plasma membrane\",\"5\":\"True: Endosome\",\"6\":\"True: Mitochondrion\",\"7\":\"True: Golgi\",\"8\":\"True: Actin binding proteins\",\"9\":\"True: Ergic\\\\/cisGolgi\",\"10\":\"True: ER_high_curvature\",\"11\":\"True: Nuclear pore complex\"}}'"
      ]
     },
     "execution_count": 40,
     "metadata": {},
     "output_type": "execute_result"
    }
   ],
   "source": [
    "json_dict_amendments_intended[i_exp_SVM.value][\"Misclassification Matrix\"]"
   ]
  },
  {
   "cell_type": "code",
   "execution_count": 49,
   "metadata": {},
   "outputs": [
    {
     "data": {
      "text/html": [
       "<div>\n",
       "<style scoped>\n",
       "    .dataframe tbody tr th:only-of-type {\n",
       "        vertical-align: middle;\n",
       "    }\n",
       "\n",
       "    .dataframe tbody tr th {\n",
       "        vertical-align: top;\n",
       "    }\n",
       "\n",
       "    .dataframe thead th {\n",
       "        text-align: right;\n",
       "    }\n",
       "</style>\n",
       "<table border=\"1\" class=\"dataframe\">\n",
       "  <thead>\n",
       "    <tr style=\"text-align: right;\">\n",
       "      <th></th>\n",
       "      <th>Predicted: ER</th>\n",
       "      <th>Predicted: Large Protein Complex</th>\n",
       "      <th>Predicted: Lysosome</th>\n",
       "      <th>Predicted: Peroxisome</th>\n",
       "      <th>Predicted: Plasma membrane</th>\n",
       "      <th>Predicted: Endosome</th>\n",
       "      <th>Predicted: Mitochondrion</th>\n",
       "      <th>Predicted: Golgi</th>\n",
       "      <th>Predicted: Actin binding proteins</th>\n",
       "      <th>Predicted: Ergic/cisGolgi</th>\n",
       "      <th>Predicted: ER_high_curvature</th>\n",
       "      <th>Predicted: Nuclear pore complex</th>\n",
       "      <th>T: True group</th>\n",
       "    </tr>\n",
       "  </thead>\n",
       "  <tbody>\n",
       "    <tr>\n",
       "      <th>0</th>\n",
       "      <td>113</td>\n",
       "      <td>0</td>\n",
       "      <td>0</td>\n",
       "      <td>0</td>\n",
       "      <td>0</td>\n",
       "      <td>0</td>\n",
       "      <td>2</td>\n",
       "      <td>0</td>\n",
       "      <td>0</td>\n",
       "      <td>0</td>\n",
       "      <td>0</td>\n",
       "      <td>0</td>\n",
       "      <td>True: ER</td>\n",
       "    </tr>\n",
       "    <tr>\n",
       "      <th>1</th>\n",
       "      <td>0</td>\n",
       "      <td>299</td>\n",
       "      <td>0</td>\n",
       "      <td>0</td>\n",
       "      <td>0</td>\n",
       "      <td>0</td>\n",
       "      <td>0</td>\n",
       "      <td>0</td>\n",
       "      <td>0</td>\n",
       "      <td>0</td>\n",
       "      <td>0</td>\n",
       "      <td>0</td>\n",
       "      <td>True: Large Protein Complex</td>\n",
       "    </tr>\n",
       "    <tr>\n",
       "      <th>2</th>\n",
       "      <td>0</td>\n",
       "      <td>0</td>\n",
       "      <td>35</td>\n",
       "      <td>0</td>\n",
       "      <td>0</td>\n",
       "      <td>0</td>\n",
       "      <td>0</td>\n",
       "      <td>0</td>\n",
       "      <td>0</td>\n",
       "      <td>0</td>\n",
       "      <td>0</td>\n",
       "      <td>0</td>\n",
       "      <td>True: Lysosome</td>\n",
       "    </tr>\n",
       "    <tr>\n",
       "      <th>3</th>\n",
       "      <td>0</td>\n",
       "      <td>0</td>\n",
       "      <td>0</td>\n",
       "      <td>16</td>\n",
       "      <td>0</td>\n",
       "      <td>0</td>\n",
       "      <td>0</td>\n",
       "      <td>0</td>\n",
       "      <td>0</td>\n",
       "      <td>0</td>\n",
       "      <td>0</td>\n",
       "      <td>0</td>\n",
       "      <td>True: Peroxisome</td>\n",
       "    </tr>\n",
       "    <tr>\n",
       "      <th>4</th>\n",
       "      <td>1</td>\n",
       "      <td>0</td>\n",
       "      <td>0</td>\n",
       "      <td>0</td>\n",
       "      <td>112</td>\n",
       "      <td>0</td>\n",
       "      <td>0</td>\n",
       "      <td>0</td>\n",
       "      <td>1</td>\n",
       "      <td>0</td>\n",
       "      <td>0</td>\n",
       "      <td>0</td>\n",
       "      <td>True: Plasma membrane</td>\n",
       "    </tr>\n",
       "    <tr>\n",
       "      <th>5</th>\n",
       "      <td>2</td>\n",
       "      <td>3</td>\n",
       "      <td>1</td>\n",
       "      <td>0</td>\n",
       "      <td>0</td>\n",
       "      <td>69</td>\n",
       "      <td>0</td>\n",
       "      <td>0</td>\n",
       "      <td>0</td>\n",
       "      <td>1</td>\n",
       "      <td>0</td>\n",
       "      <td>0</td>\n",
       "      <td>True: Endosome</td>\n",
       "    </tr>\n",
       "    <tr>\n",
       "      <th>6</th>\n",
       "      <td>0</td>\n",
       "      <td>0</td>\n",
       "      <td>0</td>\n",
       "      <td>0</td>\n",
       "      <td>0</td>\n",
       "      <td>0</td>\n",
       "      <td>223</td>\n",
       "      <td>0</td>\n",
       "      <td>0</td>\n",
       "      <td>0</td>\n",
       "      <td>0</td>\n",
       "      <td>0</td>\n",
       "      <td>True: Mitochondrion</td>\n",
       "    </tr>\n",
       "    <tr>\n",
       "      <th>7</th>\n",
       "      <td>0</td>\n",
       "      <td>0</td>\n",
       "      <td>0</td>\n",
       "      <td>0</td>\n",
       "      <td>1</td>\n",
       "      <td>0</td>\n",
       "      <td>0</td>\n",
       "      <td>23</td>\n",
       "      <td>0</td>\n",
       "      <td>0</td>\n",
       "      <td>0</td>\n",
       "      <td>0</td>\n",
       "      <td>True: Golgi</td>\n",
       "    </tr>\n",
       "    <tr>\n",
       "      <th>8</th>\n",
       "      <td>0</td>\n",
       "      <td>0</td>\n",
       "      <td>0</td>\n",
       "      <td>0</td>\n",
       "      <td>2</td>\n",
       "      <td>0</td>\n",
       "      <td>0</td>\n",
       "      <td>1</td>\n",
       "      <td>24</td>\n",
       "      <td>0</td>\n",
       "      <td>0</td>\n",
       "      <td>0</td>\n",
       "      <td>True: Actin binding proteins</td>\n",
       "    </tr>\n",
       "    <tr>\n",
       "      <th>9</th>\n",
       "      <td>0</td>\n",
       "      <td>0</td>\n",
       "      <td>0</td>\n",
       "      <td>0</td>\n",
       "      <td>0</td>\n",
       "      <td>0</td>\n",
       "      <td>0</td>\n",
       "      <td>0</td>\n",
       "      <td>0</td>\n",
       "      <td>24</td>\n",
       "      <td>1</td>\n",
       "      <td>0</td>\n",
       "      <td>True: Ergic/cisGolgi</td>\n",
       "    </tr>\n",
       "    <tr>\n",
       "      <th>10</th>\n",
       "      <td>0</td>\n",
       "      <td>0</td>\n",
       "      <td>0</td>\n",
       "      <td>0</td>\n",
       "      <td>0</td>\n",
       "      <td>0</td>\n",
       "      <td>0</td>\n",
       "      <td>0</td>\n",
       "      <td>0</td>\n",
       "      <td>0</td>\n",
       "      <td>9</td>\n",
       "      <td>0</td>\n",
       "      <td>True: ER_high_curvature</td>\n",
       "    </tr>\n",
       "    <tr>\n",
       "      <th>11</th>\n",
       "      <td>1</td>\n",
       "      <td>0</td>\n",
       "      <td>0</td>\n",
       "      <td>0</td>\n",
       "      <td>1</td>\n",
       "      <td>0</td>\n",
       "      <td>0</td>\n",
       "      <td>0</td>\n",
       "      <td>0</td>\n",
       "      <td>0</td>\n",
       "      <td>0</td>\n",
       "      <td>14</td>\n",
       "      <td>True: Nuclear pore complex</td>\n",
       "    </tr>\n",
       "  </tbody>\n",
       "</table>\n",
       "</div>"
      ],
      "text/plain": [
       "    Predicted: ER  Predicted: Large Protein Complex  Predicted: Lysosome  \\\n",
       "0             113                                 0                    0   \n",
       "1               0                               299                    0   \n",
       "2               0                                 0                   35   \n",
       "3               0                                 0                    0   \n",
       "4               1                                 0                    0   \n",
       "5               2                                 3                    1   \n",
       "6               0                                 0                    0   \n",
       "7               0                                 0                    0   \n",
       "8               0                                 0                    0   \n",
       "9               0                                 0                    0   \n",
       "10              0                                 0                    0   \n",
       "11              1                                 0                    0   \n",
       "\n",
       "    Predicted: Peroxisome  Predicted: Plasma membrane  Predicted: Endosome  \\\n",
       "0                       0                           0                    0   \n",
       "1                       0                           0                    0   \n",
       "2                       0                           0                    0   \n",
       "3                      16                           0                    0   \n",
       "4                       0                         112                    0   \n",
       "5                       0                           0                   69   \n",
       "6                       0                           0                    0   \n",
       "7                       0                           1                    0   \n",
       "8                       0                           2                    0   \n",
       "9                       0                           0                    0   \n",
       "10                      0                           0                    0   \n",
       "11                      0                           1                    0   \n",
       "\n",
       "    Predicted: Mitochondrion  Predicted: Golgi  \\\n",
       "0                          2                 0   \n",
       "1                          0                 0   \n",
       "2                          0                 0   \n",
       "3                          0                 0   \n",
       "4                          0                 0   \n",
       "5                          0                 0   \n",
       "6                        223                 0   \n",
       "7                          0                23   \n",
       "8                          0                 1   \n",
       "9                          0                 0   \n",
       "10                         0                 0   \n",
       "11                         0                 0   \n",
       "\n",
       "    Predicted: Actin binding proteins  Predicted: Ergic/cisGolgi  \\\n",
       "0                                   0                          0   \n",
       "1                                   0                          0   \n",
       "2                                   0                          0   \n",
       "3                                   0                          0   \n",
       "4                                   1                          0   \n",
       "5                                   0                          1   \n",
       "6                                   0                          0   \n",
       "7                                   0                          0   \n",
       "8                                  24                          0   \n",
       "9                                   0                         24   \n",
       "10                                  0                          0   \n",
       "11                                  0                          0   \n",
       "\n",
       "    Predicted: ER_high_curvature  Predicted: Nuclear pore complex  \\\n",
       "0                              0                                0   \n",
       "1                              0                                0   \n",
       "2                              0                                0   \n",
       "3                              0                                0   \n",
       "4                              0                                0   \n",
       "5                              0                                0   \n",
       "6                              0                                0   \n",
       "7                              0                                0   \n",
       "8                              0                                0   \n",
       "9                              1                                0   \n",
       "10                             9                                0   \n",
       "11                             0                               14   \n",
       "\n",
       "                   T: True group  \n",
       "0                       True: ER  \n",
       "1    True: Large Protein Complex  \n",
       "2                 True: Lysosome  \n",
       "3               True: Peroxisome  \n",
       "4          True: Plasma membrane  \n",
       "5                 True: Endosome  \n",
       "6            True: Mitochondrion  \n",
       "7                    True: Golgi  \n",
       "8   True: Actin binding proteins  \n",
       "9           True: Ergic/cisGolgi  \n",
       "10       True: ER_high_curvature  \n",
       "11    True: Nuclear pore complex  "
      ]
     },
     "execution_count": 49,
     "metadata": {},
     "output_type": "execute_result"
    }
   ],
   "source": [
    "pd.read_json(json_dict_amendments_intended[i_exp_SVM.value][\"Misclassification Matrix\"])"
   ]
  },
  {
   "cell_type": "code",
   "execution_count": 56,
   "metadata": {},
   "outputs": [
    {
     "ename": "KeyError",
     "evalue": "'Misclassification Matrix'",
     "output_type": "error",
     "traceback": [
      "\u001b[1;31m---------------------------------------------------------------------------\u001b[0m",
      "\u001b[1;31mKeyError\u001b[0m                                  Traceback (most recent call last)",
      "\u001b[1;32m<ipython-input-56-9488cfda3860>\u001b[0m in \u001b[0;36m<module>\u001b[1;34m\u001b[0m\n\u001b[1;32m----> 1\u001b[1;33m \u001b[0mjson_dict_amendments_intended\u001b[0m\u001b[1;33m[\u001b[0m\u001b[0mi_exp_SVM\u001b[0m\u001b[1;33m.\u001b[0m\u001b[0mvalue\u001b[0m\u001b[1;33m]\u001b[0m\u001b[1;33m[\u001b[0m\u001b[1;34m\"Misclassification Matrix\"\u001b[0m\u001b[1;33m]\u001b[0m\u001b[1;31m#.\u001b[0m\u001b[1;33m\u001b[0m\u001b[1;33m\u001b[0m\u001b[0m\n\u001b[0m",
      "\u001b[1;31mKeyError\u001b[0m: 'Misclassification Matrix'"
     ]
    }
   ],
   "source": [
    "json_dict_amendments_intended[i_exp_SVM.value][\"Misclassification Matrix\"]#."
   ]
  },
  {
   "cell_type": "code",
   "execution_count": null,
   "metadata": {},
   "outputs": [],
   "source": []
  },
  {
   "cell_type": "code",
   "execution_count": 64,
   "metadata": {},
   "outputs": [
    {
     "name": "stdout",
     "output_type": "stream",
     "text": [
      "True\n"
     ]
    }
   ],
   "source": [
    "if hasattr(i_SVM_table.value, \"keys\") == True: \n",
    "    print(\"NO\")\n",
    "else:\n",
    "    print(\"True\")\n"
   ]
  },
  {
   "cell_type": "code",
   "execution_count": 58,
   "metadata": {},
   "outputs": [
    {
     "data": {
      "text/plain": [
       "'gb'"
      ]
     },
     "execution_count": 58,
     "metadata": {},
     "output_type": "execute_result"
    }
   ],
   "source": [
    "dictio[\"a\"]"
   ]
  },
  {
   "cell_type": "code",
   "execution_count": 57,
   "metadata": {},
   "outputs": [],
   "source": [
    "dictio = {\"a\":\"gb\"}"
   ]
  }
 ],
 "metadata": {
  "kernelspec": {
   "display_name": "Python 3",
   "language": "python",
   "name": "python3"
  },
  "language_info": {
   "codemirror_mode": {
    "name": "ipython",
    "version": 3
   },
   "file_extension": ".py",
   "mimetype": "text/x-python",
   "name": "python",
   "nbconvert_exporter": "python",
   "pygments_lexer": "ipython3",
   "version": "3.8.5"
  }
 },
 "nbformat": 4,
 "nbformat_minor": 4
}
