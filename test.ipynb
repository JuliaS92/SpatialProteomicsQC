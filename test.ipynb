{
 "cells": [
  {
   "cell_type": "code",
   "execution_count": 70,
   "metadata": {},
   "outputs": [],
   "source": [
    "import pandas as pd\n",
    "import numpy as np\n",
    "import re\n",
    "import plotly.express as px"
   ]
  },
  {
   "cell_type": "code",
   "execution_count": 74,
   "metadata": {},
   "outputs": [
    {
     "data": {
      "text/plain": [
       "__main__.SpatialDataSet"
      ]
     },
     "execution_count": 74,
     "metadata": {},
     "output_type": "execute_result"
    }
   ],
   "source": [
    "exec(open(\"./class.py\").read())\n",
    "SpatialDataSet"
   ]
  },
  {
   "cell_type": "code",
   "execution_count": 53,
   "metadata": {
    "collapsed": true
   },
   "outputs": [
    {
     "name": "stderr",
     "output_type": "stream",
     "text": [
      "C:\\Users\\valbrecht\\Anaconda3\\envs\\QC repository\\lib\\site-packages\\IPython\\core\\interactiveshell.py:3263: DtypeWarning:\n",
      "\n",
      "Columns (31) have mixed types.Specify dtype option on import or set low_memory=False.\n",
      "\n"
     ]
    }
   ],
   "source": [
    "df_class = SpatialDataSet('6_deep_maps.txt')"
   ]
  },
  {
   "cell_type": "code",
   "execution_count": 54,
   "metadata": {
    "collapsed": true
   },
   "outputs": [
    {
     "data": {
      "text/html": [
       "<div>\n",
       "<style scoped>\n",
       "    .dataframe tbody tr th:only-of-type {\n",
       "        vertical-align: middle;\n",
       "    }\n",
       "\n",
       "    .dataframe tbody tr th {\n",
       "        vertical-align: top;\n",
       "    }\n",
       "\n",
       "    .dataframe thead th {\n",
       "        text-align: right;\n",
       "    }\n",
       "</style>\n",
       "<table border=\"1\" class=\"dataframe\">\n",
       "  <thead>\n",
       "    <tr style=\"text-align: right;\">\n",
       "      <th></th>\n",
       "      <th></th>\n",
       "      <th></th>\n",
       "      <th></th>\n",
       "      <th></th>\n",
       "      <th></th>\n",
       "      <th></th>\n",
       "      <th>Ratio H/L count</th>\n",
       "      <th>Ratio H/L variability [%]</th>\n",
       "      <th>normalized profile</th>\n",
       "    </tr>\n",
       "    <tr>\n",
       "      <th>Protein IDs</th>\n",
       "      <th>Majority protein IDs</th>\n",
       "      <th>Protein names</th>\n",
       "      <th>Gene names</th>\n",
       "      <th>id</th>\n",
       "      <th>Fraction</th>\n",
       "      <th>Map</th>\n",
       "      <th></th>\n",
       "      <th></th>\n",
       "      <th></th>\n",
       "    </tr>\n",
       "  </thead>\n",
       "  <tbody>\n",
       "    <tr>\n",
       "      <th rowspan=\"5\" valign=\"top\">A0AV96;A0AV96-2;Q9NQ94;Q9NQ94-5;Q9NQ94-6;Q9NQ94-3;Q9NQ94-2;Q9NQ94-4</th>\n",
       "      <th rowspan=\"5\" valign=\"top\">A0AV96;A0AV96-2</th>\n",
       "      <th rowspan=\"5\" valign=\"top\">RNA-binding protein 47</th>\n",
       "      <th rowspan=\"5\" valign=\"top\">RBM47</th>\n",
       "      <th rowspan=\"5\" valign=\"top\">1</th>\n",
       "      <th rowspan=\"5\" valign=\"top\">03K</th>\n",
       "      <th>MAP1</th>\n",
       "      <td>8</td>\n",
       "      <td>12.069</td>\n",
       "      <td>0.047144</td>\n",
       "    </tr>\n",
       "    <tr>\n",
       "      <th>MAP2</th>\n",
       "      <td>11</td>\n",
       "      <td>17.206</td>\n",
       "      <td>0.045552</td>\n",
       "    </tr>\n",
       "    <tr>\n",
       "      <th>MAP3</th>\n",
       "      <td>10</td>\n",
       "      <td>25.194</td>\n",
       "      <td>0.054042</td>\n",
       "    </tr>\n",
       "    <tr>\n",
       "      <th>MAP4</th>\n",
       "      <td>14</td>\n",
       "      <td>34.456</td>\n",
       "      <td>0.045721</td>\n",
       "    </tr>\n",
       "    <tr>\n",
       "      <th>MAP5</th>\n",
       "      <td>10</td>\n",
       "      <td>76.902</td>\n",
       "      <td>0.050388</td>\n",
       "    </tr>\n",
       "  </tbody>\n",
       "</table>\n",
       "</div>"
      ],
      "text/plain": [
       "                                                                                                                            Ratio H/L count  \\\n",
       "Protein IDs                                        Majority protein IDs Protein names          Gene names id Fraction Map                     \n",
       "A0AV96;A0AV96-2;Q9NQ94;Q9NQ94-5;Q9NQ94-6;Q9NQ94... A0AV96;A0AV96-2      RNA-binding protein 47 RBM47      1  03K      MAP1                8   \n",
       "                                                                                                                      MAP2               11   \n",
       "                                                                                                                      MAP3               10   \n",
       "                                                                                                                      MAP4               14   \n",
       "                                                                                                                      MAP5               10   \n",
       "\n",
       "                                                                                                                            Ratio H/L variability [%]  \\\n",
       "Protein IDs                                        Majority protein IDs Protein names          Gene names id Fraction Map                               \n",
       "A0AV96;A0AV96-2;Q9NQ94;Q9NQ94-5;Q9NQ94-6;Q9NQ94... A0AV96;A0AV96-2      RNA-binding protein 47 RBM47      1  03K      MAP1                     12.069   \n",
       "                                                                                                                      MAP2                     17.206   \n",
       "                                                                                                                      MAP3                     25.194   \n",
       "                                                                                                                      MAP4                     34.456   \n",
       "                                                                                                                      MAP5                     76.902   \n",
       "\n",
       "                                                                                                                            normalized profile  \n",
       "Protein IDs                                        Majority protein IDs Protein names          Gene names id Fraction Map                       \n",
       "A0AV96;A0AV96-2;Q9NQ94;Q9NQ94-5;Q9NQ94-6;Q9NQ94... A0AV96;A0AV96-2      RNA-binding protein 47 RBM47      1  03K      MAP1            0.047144  \n",
       "                                                                                                                      MAP2            0.045552  \n",
       "                                                                                                                      MAP3            0.054042  \n",
       "                                                                                                                      MAP4            0.045721  \n",
       "                                                                                                                      MAP5            0.050388  "
      ]
     },
     "execution_count": 54,
     "metadata": {},
     "output_type": "execute_result"
    }
   ],
   "source": [
    "df_class.analyze(\"SILAC\")"
   ]
  },
  {
   "cell_type": "code",
   "execution_count": 75,
   "metadata": {},
   "outputs": [
    {
     "name": "stderr",
     "output_type": "stream",
     "text": [
      "C:\\Users\\valbrecht\\Anaconda3\\envs\\QC repository\\lib\\site-packages\\IPython\\core\\interactiveshell.py:3263: DtypeWarning:\n",
      "\n",
      "Columns (269,270) have mixed types.Specify dtype option on import or set low_memory=False.\n",
      "\n",
      "C:\\Users\\valbrecht\\Anaconda3\\envs\\QC repository\\lib\\site-packages\\IPython\\core\\interactiveshell.py:3343: DtypeWarning:\n",
      "\n",
      "Columns (269,270) have mixed types.Specify dtype option on import or set low_memory=False.\n",
      "\n"
     ]
    },
    {
     "data": {
      "text/html": [
       "<div>\n",
       "<style scoped>\n",
       "    .dataframe tbody tr th:only-of-type {\n",
       "        vertical-align: middle;\n",
       "    }\n",
       "\n",
       "    .dataframe tbody tr th {\n",
       "        vertical-align: top;\n",
       "    }\n",
       "\n",
       "    .dataframe thead th {\n",
       "        text-align: right;\n",
       "    }\n",
       "</style>\n",
       "<table border=\"1\" class=\"dataframe\">\n",
       "  <thead>\n",
       "    <tr style=\"text-align: right;\">\n",
       "      <th></th>\n",
       "      <th></th>\n",
       "      <th></th>\n",
       "      <th></th>\n",
       "      <th></th>\n",
       "      <th></th>\n",
       "      <th></th>\n",
       "      <th></th>\n",
       "      <th></th>\n",
       "      <th>normalized profile</th>\n",
       "      <th>MS/MS count</th>\n",
       "    </tr>\n",
       "    <tr>\n",
       "      <th>Protein IDs</th>\n",
       "      <th>Majority protein IDs</th>\n",
       "      <th>Protein names</th>\n",
       "      <th>Gene names</th>\n",
       "      <th>Q-value</th>\n",
       "      <th>Score</th>\n",
       "      <th>id</th>\n",
       "      <th>Map</th>\n",
       "      <th>Fraction</th>\n",
       "      <th></th>\n",
       "      <th></th>\n",
       "    </tr>\n",
       "  </thead>\n",
       "  <tbody>\n",
       "    <tr>\n",
       "      <th rowspan=\"5\" valign=\"top\">A0AV96;A0AV96-2;Q8TBY0-2;Q8TBY0;Q9NQ94-5;Q9NQ94-6;Q9NQ94-3;Q9NQ94-2;Q9NQ94-4;Q9NQ94</th>\n",
       "      <th rowspan=\"5\" valign=\"top\">A0AV96;A0AV96-2</th>\n",
       "      <th rowspan=\"5\" valign=\"top\">RNA-binding protein 47</th>\n",
       "      <th rowspan=\"5\" valign=\"top\">RBM47</th>\n",
       "      <th rowspan=\"5\" valign=\"top\">0.0</th>\n",
       "      <th rowspan=\"5\" valign=\"top\">303.78</th>\n",
       "      <th rowspan=\"5\" valign=\"top\">7</th>\n",
       "      <th rowspan=\"5\" valign=\"top\">EGF_rep1</th>\n",
       "      <th>03K</th>\n",
       "      <td>0.067708</td>\n",
       "      <td>5</td>\n",
       "    </tr>\n",
       "    <tr>\n",
       "      <th>06K</th>\n",
       "      <td>0.045733</td>\n",
       "      <td>5</td>\n",
       "    </tr>\n",
       "    <tr>\n",
       "      <th>12K</th>\n",
       "      <td>0.155562</td>\n",
       "      <td>8</td>\n",
       "    </tr>\n",
       "    <tr>\n",
       "      <th>24K</th>\n",
       "      <td>0.353797</td>\n",
       "      <td>17</td>\n",
       "    </tr>\n",
       "    <tr>\n",
       "      <th>80K</th>\n",
       "      <td>0.377200</td>\n",
       "      <td>21</td>\n",
       "    </tr>\n",
       "    <tr>\n",
       "      <th>...</th>\n",
       "      <th>...</th>\n",
       "      <th>...</th>\n",
       "      <th>...</th>\n",
       "      <th>...</th>\n",
       "      <th>...</th>\n",
       "      <th>...</th>\n",
       "      <th>...</th>\n",
       "      <th>...</th>\n",
       "      <td>...</td>\n",
       "      <td>...</td>\n",
       "    </tr>\n",
       "    <tr>\n",
       "      <th rowspan=\"5\" valign=\"top\">Q9Y6Y8;Q9Y6Y8-2</th>\n",
       "      <th rowspan=\"5\" valign=\"top\">Q9Y6Y8;Q9Y6Y8-2</th>\n",
       "      <th rowspan=\"5\" valign=\"top\">SEC23-interacting protein</th>\n",
       "      <th rowspan=\"5\" valign=\"top\">SEC23IP</th>\n",
       "      <th rowspan=\"5\" valign=\"top\">0.0</th>\n",
       "      <th rowspan=\"5\" valign=\"top\">323.31</th>\n",
       "      <th rowspan=\"5\" valign=\"top\">7434</th>\n",
       "      <th rowspan=\"5\" valign=\"top\">nt_rep3</th>\n",
       "      <th>03K</th>\n",
       "      <td>0.029200</td>\n",
       "      <td>2</td>\n",
       "    </tr>\n",
       "    <tr>\n",
       "      <th>06K</th>\n",
       "      <td>0.050794</td>\n",
       "      <td>4</td>\n",
       "    </tr>\n",
       "    <tr>\n",
       "      <th>12K</th>\n",
       "      <td>0.155796</td>\n",
       "      <td>9</td>\n",
       "    </tr>\n",
       "    <tr>\n",
       "      <th>24K</th>\n",
       "      <td>0.298854</td>\n",
       "      <td>25</td>\n",
       "    </tr>\n",
       "    <tr>\n",
       "      <th>80K</th>\n",
       "      <td>0.465356</td>\n",
       "      <td>26</td>\n",
       "    </tr>\n",
       "  </tbody>\n",
       "</table>\n",
       "<p>104440 rows × 2 columns</p>\n",
       "</div>"
      ],
      "text/plain": [
       "                                                                                                                                                    normalized profile  \\\n",
       "Protein IDs                                        Majority protein IDs Protein names             Gene names Q-value Score  id   Map      Fraction                       \n",
       "A0AV96;A0AV96-2;Q8TBY0-2;Q8TBY0;Q9NQ94-5;Q9NQ94... A0AV96;A0AV96-2      RNA-binding protein 47    RBM47      0.0     303.78 7    EGF_rep1 03K                 0.067708   \n",
       "                                                                                                                                          06K                 0.045733   \n",
       "                                                                                                                                          12K                 0.155562   \n",
       "                                                                                                                                          24K                 0.353797   \n",
       "                                                                                                                                          80K                 0.377200   \n",
       "...                                                                                                                                                                ...   \n",
       "Q9Y6Y8;Q9Y6Y8-2                                    Q9Y6Y8;Q9Y6Y8-2      SEC23-interacting protein SEC23IP    0.0     323.31 7434 nt_rep3  03K                 0.029200   \n",
       "                                                                                                                                          06K                 0.050794   \n",
       "                                                                                                                                          12K                 0.155796   \n",
       "                                                                                                                                          24K                 0.298854   \n",
       "                                                                                                                                          80K                 0.465356   \n",
       "\n",
       "                                                                                                                                                    MS/MS count  \n",
       "Protein IDs                                        Majority protein IDs Protein names             Gene names Q-value Score  id   Map      Fraction               \n",
       "A0AV96;A0AV96-2;Q8TBY0-2;Q8TBY0;Q9NQ94-5;Q9NQ94... A0AV96;A0AV96-2      RNA-binding protein 47    RBM47      0.0     303.78 7    EGF_rep1 03K                 5  \n",
       "                                                                                                                                          06K                 5  \n",
       "                                                                                                                                          12K                 8  \n",
       "                                                                                                                                          24K                17  \n",
       "                                                                                                                                          80K                21  \n",
       "...                                                                                                                                                         ...  \n",
       "Q9Y6Y8;Q9Y6Y8-2                                    Q9Y6Y8;Q9Y6Y8-2      SEC23-interacting protein SEC23IP    0.0     323.31 7434 nt_rep3  03K                 2  \n",
       "                                                                                                                                          06K                 4  \n",
       "                                                                                                                                          12K                 9  \n",
       "                                                                                                                                          24K                25  \n",
       "                                                                                                                                          80K                26  \n",
       "\n",
       "[104440 rows x 2 columns]"
      ]
     },
     "execution_count": 75,
     "metadata": {},
     "output_type": "execute_result"
    }
   ],
   "source": [
    "df_class = SpatialDataSet(\"LFQ_proteinGroups.txt\") \n",
    "df_class.analyze(\"LFQ\")"
   ]
  },
  {
   "cell_type": "code",
   "execution_count": 76,
   "metadata": {},
   "outputs": [
    {
     "data": {
      "application/vnd.plotly.v1+json": {
       "config": {
        "plotlyServerURL": "https://plot.ly"
       },
       "data": [
        {
         "hovertemplate": "Gene names=PSMA1<br>Fraction=%{x}<br>normalized profile=%{y}<extra></extra>",
         "legendgroup": "PSMA1",
         "line": {
          "color": "#636efa",
          "dash": "solid"
         },
         "mode": "lines",
         "name": "PSMA1",
         "orientation": "v",
         "showlegend": true,
         "type": "scatter",
         "x": [
          "03K",
          "06K",
          "12K",
          "24K",
          "80K"
         ],
         "xaxis": "x",
         "y": [
          0.17555997578483093,
          0.1720187348939676,
          0.15583735781553684,
          0.1655416323390852,
          0.3310422991665794
         ],
         "yaxis": "y"
        },
        {
         "hovertemplate": "Gene names=PSMA2<br>Fraction=%{x}<br>normalized profile=%{y}<extra></extra>",
         "legendgroup": "PSMA2",
         "line": {
          "color": "#EF553B",
          "dash": "solid"
         },
         "mode": "lines",
         "name": "PSMA2",
         "orientation": "v",
         "showlegend": true,
         "type": "scatter",
         "x": [
          "03K",
          "06K",
          "12K",
          "24K",
          "80K"
         ],
         "xaxis": "x",
         "y": [
          0.14525995356767848,
          0.06893562091188456,
          0.1599699442234146,
          0.217480516728159,
          0.40835396456886336
         ],
         "yaxis": "y"
        },
        {
         "hovertemplate": "Gene names=PSMA3<br>Fraction=%{x}<br>normalized profile=%{y}<extra></extra>",
         "legendgroup": "PSMA3",
         "line": {
          "color": "#00cc96",
          "dash": "solid"
         },
         "mode": "lines",
         "name": "PSMA3",
         "orientation": "v",
         "showlegend": true,
         "type": "scatter",
         "x": [
          "03K",
          "06K",
          "12K",
          "24K",
          "80K"
         ],
         "xaxis": "x",
         "y": [
          0.12727891590614163,
          0.19087582700448869,
          0.14495713404386582,
          0.1736018039866403,
          0.36328631905886355
         ],
         "yaxis": "y"
        },
        {
         "hovertemplate": "Gene names=PSMA4<br>Fraction=%{x}<br>normalized profile=%{y}<extra></extra>",
         "legendgroup": "PSMA4",
         "line": {
          "color": "#ab63fa",
          "dash": "solid"
         },
         "mode": "lines",
         "name": "PSMA4",
         "orientation": "v",
         "showlegend": true,
         "type": "scatter",
         "x": [
          "03K",
          "06K",
          "12K",
          "24K",
          "80K"
         ],
         "xaxis": "x",
         "y": [
          0.20917785988052898,
          0.15317841234763993,
          0.1461620800386727,
          0.16399295604433548,
          0.3274886916888229
         ],
         "yaxis": "y"
        },
        {
         "hovertemplate": "Gene names=PSMA5<br>Fraction=%{x}<br>normalized profile=%{y}<extra></extra>",
         "legendgroup": "PSMA5",
         "line": {
          "color": "#FFA15A",
          "dash": "solid"
         },
         "mode": "lines",
         "name": "PSMA5",
         "orientation": "v",
         "showlegend": true,
         "type": "scatter",
         "x": [
          "03K",
          "06K",
          "12K",
          "24K",
          "80K"
         ],
         "xaxis": "x",
         "y": [
          0.1885644513630432,
          0.15615519852975113,
          0.1954499490196243,
          0.1640225404591171,
          0.29580786062846426
         ],
         "yaxis": "y"
        },
        {
         "hovertemplate": "Gene names=PSMA6<br>Fraction=%{x}<br>normalized profile=%{y}<extra></extra>",
         "legendgroup": "PSMA6",
         "line": {
          "color": "#19d3f3",
          "dash": "solid"
         },
         "mode": "lines",
         "name": "PSMA6",
         "orientation": "v",
         "showlegend": true,
         "type": "scatter",
         "x": [
          "03K",
          "06K",
          "12K",
          "24K",
          "80K"
         ],
         "xaxis": "x",
         "y": [
          0.17339845452323,
          0.12822461495944984,
          0.16177017676257693,
          0.1721282724460837,
          0.36447848130865956
         ],
         "yaxis": "y"
        },
        {
         "hovertemplate": "Gene names=PSMA7<br>Fraction=%{x}<br>normalized profile=%{y}<extra></extra>",
         "legendgroup": "PSMA7",
         "line": {
          "color": "#FF6692",
          "dash": "solid"
         },
         "mode": "lines",
         "name": "PSMA7",
         "orientation": "v",
         "showlegend": true,
         "type": "scatter",
         "x": [
          "03K",
          "06K",
          "12K",
          "24K",
          "80K"
         ],
         "xaxis": "x",
         "y": [
          0.1682785033338844,
          0.1709557135247332,
          0.16523851508973017,
          0.165514042725152,
          0.33001322532650024
         ],
         "yaxis": "y"
        },
        {
         "hovertemplate": "Gene names=PSMB1<br>Fraction=%{x}<br>normalized profile=%{y}<extra></extra>",
         "legendgroup": "PSMB1",
         "line": {
          "color": "#B6E880",
          "dash": "solid"
         },
         "mode": "lines",
         "name": "PSMB1",
         "orientation": "v",
         "showlegend": true,
         "type": "scatter",
         "x": [
          "03K",
          "06K",
          "12K",
          "24K",
          "80K"
         ],
         "xaxis": "x",
         "y": [
          0.17509509100656065,
          0.07946800091900033,
          0.14897378296275496,
          0.18855461670027826,
          0.4079085084114058
         ],
         "yaxis": "y"
        },
        {
         "hovertemplate": "Gene names=PSMB2<br>Fraction=%{x}<br>normalized profile=%{y}<extra></extra>",
         "legendgroup": "PSMB2",
         "line": {
          "color": "#FF97FF",
          "dash": "solid"
         },
         "mode": "lines",
         "name": "PSMB2",
         "orientation": "v",
         "showlegend": true,
         "type": "scatter",
         "x": [
          "03K",
          "06K",
          "12K",
          "24K",
          "80K"
         ],
         "xaxis": "x",
         "y": [
          0.18842358426934222,
          0.12354416004062006,
          0.20560899289599674,
          0.15400770038501926,
          0.32841556240902176
         ],
         "yaxis": "y"
        },
        {
         "hovertemplate": "Gene names=PSMB3<br>Fraction=%{x}<br>normalized profile=%{y}<extra></extra>",
         "legendgroup": "PSMB3",
         "line": {
          "color": "#FECB52",
          "dash": "solid"
         },
         "mode": "lines",
         "name": "PSMB3",
         "orientation": "v",
         "showlegend": true,
         "type": "scatter",
         "x": [
          "03K",
          "06K",
          "12K",
          "24K",
          "80K"
         ],
         "xaxis": "x",
         "y": [
          0.1628817524389554,
          0.10345100040680398,
          0.16122677560329243,
          0.17258739078487542,
          0.3998530807660728
         ],
         "yaxis": "y"
        },
        {
         "hovertemplate": "Gene names=PSMB4<br>Fraction=%{x}<br>normalized profile=%{y}<extra></extra>",
         "legendgroup": "PSMB4",
         "line": {
          "color": "#636efa",
          "dash": "solid"
         },
         "mode": "lines",
         "name": "PSMB4",
         "orientation": "v",
         "showlegend": true,
         "type": "scatter",
         "x": [
          "03K",
          "06K",
          "12K",
          "24K",
          "80K"
         ],
         "xaxis": "x",
         "y": [
          0.1547385447602885,
          0.1514372083156555,
          0.14932912600763681,
          0.15735044548154434,
          0.38714467543487485
         ],
         "yaxis": "y"
        },
        {
         "hovertemplate": "Gene names=PSMB5<br>Fraction=%{x}<br>normalized profile=%{y}<extra></extra>",
         "legendgroup": "PSMB5",
         "line": {
          "color": "#EF553B",
          "dash": "solid"
         },
         "mode": "lines",
         "name": "PSMB5",
         "orientation": "v",
         "showlegend": true,
         "type": "scatter",
         "x": [
          "03K",
          "06K",
          "12K",
          "24K",
          "80K"
         ],
         "xaxis": "x",
         "y": [
          0.1407882714947333,
          0.11533695298306046,
          0.1700412724083973,
          0.1736696737064303,
          0.4001638294073786
         ],
         "yaxis": "y"
        },
        {
         "hovertemplate": "Gene names=PSMB6<br>Fraction=%{x}<br>normalized profile=%{y}<extra></extra>",
         "legendgroup": "PSMB6",
         "line": {
          "color": "#00cc96",
          "dash": "solid"
         },
         "mode": "lines",
         "name": "PSMB6",
         "orientation": "v",
         "showlegend": true,
         "type": "scatter",
         "x": [
          "03K",
          "06K",
          "12K",
          "24K",
          "80K"
         ],
         "xaxis": "x",
         "y": [
          0.15719414796180056,
          0.16502210390054467,
          0.14671616637764698,
          0.15631487677991354,
          0.3747527049800943
         ],
         "yaxis": "y"
        },
        {
         "hovertemplate": "Gene names=PSMB7<br>Fraction=%{x}<br>normalized profile=%{y}<extra></extra>",
         "legendgroup": "PSMB7",
         "line": {
          "color": "#ab63fa",
          "dash": "solid"
         },
         "mode": "lines",
         "name": "PSMB7",
         "orientation": "v",
         "showlegend": true,
         "type": "scatter",
         "x": [
          "03K",
          "06K",
          "12K",
          "24K",
          "80K"
         ],
         "xaxis": "x",
         "y": [
          0.1837253607038793,
          0.06071396624866062,
          0.1837253607038793,
          0.19625792920478616,
          0.37557738313879463
         ],
         "yaxis": "y"
        }
       ],
       "layout": {
        "legend": {
         "title": {
          "text": "Gene names"
         },
         "tracegroupgap": 0
        },
        "template": {
         "data": {
          "bar": [
           {
            "error_x": {
             "color": "#2a3f5f"
            },
            "error_y": {
             "color": "#2a3f5f"
            },
            "marker": {
             "line": {
              "color": "#E5ECF6",
              "width": 0.5
             }
            },
            "type": "bar"
           }
          ],
          "barpolar": [
           {
            "marker": {
             "line": {
              "color": "#E5ECF6",
              "width": 0.5
             }
            },
            "type": "barpolar"
           }
          ],
          "carpet": [
           {
            "aaxis": {
             "endlinecolor": "#2a3f5f",
             "gridcolor": "white",
             "linecolor": "white",
             "minorgridcolor": "white",
             "startlinecolor": "#2a3f5f"
            },
            "baxis": {
             "endlinecolor": "#2a3f5f",
             "gridcolor": "white",
             "linecolor": "white",
             "minorgridcolor": "white",
             "startlinecolor": "#2a3f5f"
            },
            "type": "carpet"
           }
          ],
          "choropleth": [
           {
            "colorbar": {
             "outlinewidth": 0,
             "ticks": ""
            },
            "type": "choropleth"
           }
          ],
          "contour": [
           {
            "colorbar": {
             "outlinewidth": 0,
             "ticks": ""
            },
            "colorscale": [
             [
              0,
              "#0d0887"
             ],
             [
              0.1111111111111111,
              "#46039f"
             ],
             [
              0.2222222222222222,
              "#7201a8"
             ],
             [
              0.3333333333333333,
              "#9c179e"
             ],
             [
              0.4444444444444444,
              "#bd3786"
             ],
             [
              0.5555555555555556,
              "#d8576b"
             ],
             [
              0.6666666666666666,
              "#ed7953"
             ],
             [
              0.7777777777777778,
              "#fb9f3a"
             ],
             [
              0.8888888888888888,
              "#fdca26"
             ],
             [
              1,
              "#f0f921"
             ]
            ],
            "type": "contour"
           }
          ],
          "contourcarpet": [
           {
            "colorbar": {
             "outlinewidth": 0,
             "ticks": ""
            },
            "type": "contourcarpet"
           }
          ],
          "heatmap": [
           {
            "colorbar": {
             "outlinewidth": 0,
             "ticks": ""
            },
            "colorscale": [
             [
              0,
              "#0d0887"
             ],
             [
              0.1111111111111111,
              "#46039f"
             ],
             [
              0.2222222222222222,
              "#7201a8"
             ],
             [
              0.3333333333333333,
              "#9c179e"
             ],
             [
              0.4444444444444444,
              "#bd3786"
             ],
             [
              0.5555555555555556,
              "#d8576b"
             ],
             [
              0.6666666666666666,
              "#ed7953"
             ],
             [
              0.7777777777777778,
              "#fb9f3a"
             ],
             [
              0.8888888888888888,
              "#fdca26"
             ],
             [
              1,
              "#f0f921"
             ]
            ],
            "type": "heatmap"
           }
          ],
          "heatmapgl": [
           {
            "colorbar": {
             "outlinewidth": 0,
             "ticks": ""
            },
            "colorscale": [
             [
              0,
              "#0d0887"
             ],
             [
              0.1111111111111111,
              "#46039f"
             ],
             [
              0.2222222222222222,
              "#7201a8"
             ],
             [
              0.3333333333333333,
              "#9c179e"
             ],
             [
              0.4444444444444444,
              "#bd3786"
             ],
             [
              0.5555555555555556,
              "#d8576b"
             ],
             [
              0.6666666666666666,
              "#ed7953"
             ],
             [
              0.7777777777777778,
              "#fb9f3a"
             ],
             [
              0.8888888888888888,
              "#fdca26"
             ],
             [
              1,
              "#f0f921"
             ]
            ],
            "type": "heatmapgl"
           }
          ],
          "histogram": [
           {
            "marker": {
             "colorbar": {
              "outlinewidth": 0,
              "ticks": ""
             }
            },
            "type": "histogram"
           }
          ],
          "histogram2d": [
           {
            "colorbar": {
             "outlinewidth": 0,
             "ticks": ""
            },
            "colorscale": [
             [
              0,
              "#0d0887"
             ],
             [
              0.1111111111111111,
              "#46039f"
             ],
             [
              0.2222222222222222,
              "#7201a8"
             ],
             [
              0.3333333333333333,
              "#9c179e"
             ],
             [
              0.4444444444444444,
              "#bd3786"
             ],
             [
              0.5555555555555556,
              "#d8576b"
             ],
             [
              0.6666666666666666,
              "#ed7953"
             ],
             [
              0.7777777777777778,
              "#fb9f3a"
             ],
             [
              0.8888888888888888,
              "#fdca26"
             ],
             [
              1,
              "#f0f921"
             ]
            ],
            "type": "histogram2d"
           }
          ],
          "histogram2dcontour": [
           {
            "colorbar": {
             "outlinewidth": 0,
             "ticks": ""
            },
            "colorscale": [
             [
              0,
              "#0d0887"
             ],
             [
              0.1111111111111111,
              "#46039f"
             ],
             [
              0.2222222222222222,
              "#7201a8"
             ],
             [
              0.3333333333333333,
              "#9c179e"
             ],
             [
              0.4444444444444444,
              "#bd3786"
             ],
             [
              0.5555555555555556,
              "#d8576b"
             ],
             [
              0.6666666666666666,
              "#ed7953"
             ],
             [
              0.7777777777777778,
              "#fb9f3a"
             ],
             [
              0.8888888888888888,
              "#fdca26"
             ],
             [
              1,
              "#f0f921"
             ]
            ],
            "type": "histogram2dcontour"
           }
          ],
          "mesh3d": [
           {
            "colorbar": {
             "outlinewidth": 0,
             "ticks": ""
            },
            "type": "mesh3d"
           }
          ],
          "parcoords": [
           {
            "line": {
             "colorbar": {
              "outlinewidth": 0,
              "ticks": ""
             }
            },
            "type": "parcoords"
           }
          ],
          "pie": [
           {
            "automargin": true,
            "type": "pie"
           }
          ],
          "scatter": [
           {
            "marker": {
             "colorbar": {
              "outlinewidth": 0,
              "ticks": ""
             }
            },
            "type": "scatter"
           }
          ],
          "scatter3d": [
           {
            "line": {
             "colorbar": {
              "outlinewidth": 0,
              "ticks": ""
             }
            },
            "marker": {
             "colorbar": {
              "outlinewidth": 0,
              "ticks": ""
             }
            },
            "type": "scatter3d"
           }
          ],
          "scattercarpet": [
           {
            "marker": {
             "colorbar": {
              "outlinewidth": 0,
              "ticks": ""
             }
            },
            "type": "scattercarpet"
           }
          ],
          "scattergeo": [
           {
            "marker": {
             "colorbar": {
              "outlinewidth": 0,
              "ticks": ""
             }
            },
            "type": "scattergeo"
           }
          ],
          "scattergl": [
           {
            "marker": {
             "colorbar": {
              "outlinewidth": 0,
              "ticks": ""
             }
            },
            "type": "scattergl"
           }
          ],
          "scattermapbox": [
           {
            "marker": {
             "colorbar": {
              "outlinewidth": 0,
              "ticks": ""
             }
            },
            "type": "scattermapbox"
           }
          ],
          "scatterpolar": [
           {
            "marker": {
             "colorbar": {
              "outlinewidth": 0,
              "ticks": ""
             }
            },
            "type": "scatterpolar"
           }
          ],
          "scatterpolargl": [
           {
            "marker": {
             "colorbar": {
              "outlinewidth": 0,
              "ticks": ""
             }
            },
            "type": "scatterpolargl"
           }
          ],
          "scatterternary": [
           {
            "marker": {
             "colorbar": {
              "outlinewidth": 0,
              "ticks": ""
             }
            },
            "type": "scatterternary"
           }
          ],
          "surface": [
           {
            "colorbar": {
             "outlinewidth": 0,
             "ticks": ""
            },
            "colorscale": [
             [
              0,
              "#0d0887"
             ],
             [
              0.1111111111111111,
              "#46039f"
             ],
             [
              0.2222222222222222,
              "#7201a8"
             ],
             [
              0.3333333333333333,
              "#9c179e"
             ],
             [
              0.4444444444444444,
              "#bd3786"
             ],
             [
              0.5555555555555556,
              "#d8576b"
             ],
             [
              0.6666666666666666,
              "#ed7953"
             ],
             [
              0.7777777777777778,
              "#fb9f3a"
             ],
             [
              0.8888888888888888,
              "#fdca26"
             ],
             [
              1,
              "#f0f921"
             ]
            ],
            "type": "surface"
           }
          ],
          "table": [
           {
            "cells": {
             "fill": {
              "color": "#EBF0F8"
             },
             "line": {
              "color": "white"
             }
            },
            "header": {
             "fill": {
              "color": "#C8D4E3"
             },
             "line": {
              "color": "white"
             }
            },
            "type": "table"
           }
          ]
         },
         "layout": {
          "annotationdefaults": {
           "arrowcolor": "#2a3f5f",
           "arrowhead": 0,
           "arrowwidth": 1
          },
          "coloraxis": {
           "colorbar": {
            "outlinewidth": 0,
            "ticks": ""
           }
          },
          "colorscale": {
           "diverging": [
            [
             0,
             "#8e0152"
            ],
            [
             0.1,
             "#c51b7d"
            ],
            [
             0.2,
             "#de77ae"
            ],
            [
             0.3,
             "#f1b6da"
            ],
            [
             0.4,
             "#fde0ef"
            ],
            [
             0.5,
             "#f7f7f7"
            ],
            [
             0.6,
             "#e6f5d0"
            ],
            [
             0.7,
             "#b8e186"
            ],
            [
             0.8,
             "#7fbc41"
            ],
            [
             0.9,
             "#4d9221"
            ],
            [
             1,
             "#276419"
            ]
           ],
           "sequential": [
            [
             0,
             "#0d0887"
            ],
            [
             0.1111111111111111,
             "#46039f"
            ],
            [
             0.2222222222222222,
             "#7201a8"
            ],
            [
             0.3333333333333333,
             "#9c179e"
            ],
            [
             0.4444444444444444,
             "#bd3786"
            ],
            [
             0.5555555555555556,
             "#d8576b"
            ],
            [
             0.6666666666666666,
             "#ed7953"
            ],
            [
             0.7777777777777778,
             "#fb9f3a"
            ],
            [
             0.8888888888888888,
             "#fdca26"
            ],
            [
             1,
             "#f0f921"
            ]
           ],
           "sequentialminus": [
            [
             0,
             "#0d0887"
            ],
            [
             0.1111111111111111,
             "#46039f"
            ],
            [
             0.2222222222222222,
             "#7201a8"
            ],
            [
             0.3333333333333333,
             "#9c179e"
            ],
            [
             0.4444444444444444,
             "#bd3786"
            ],
            [
             0.5555555555555556,
             "#d8576b"
            ],
            [
             0.6666666666666666,
             "#ed7953"
            ],
            [
             0.7777777777777778,
             "#fb9f3a"
            ],
            [
             0.8888888888888888,
             "#fdca26"
            ],
            [
             1,
             "#f0f921"
            ]
           ]
          },
          "colorway": [
           "#636efa",
           "#EF553B",
           "#00cc96",
           "#ab63fa",
           "#FFA15A",
           "#19d3f3",
           "#FF6692",
           "#B6E880",
           "#FF97FF",
           "#FECB52"
          ],
          "font": {
           "color": "#2a3f5f"
          },
          "geo": {
           "bgcolor": "white",
           "lakecolor": "white",
           "landcolor": "#E5ECF6",
           "showlakes": true,
           "showland": true,
           "subunitcolor": "white"
          },
          "hoverlabel": {
           "align": "left"
          },
          "hovermode": "closest",
          "mapbox": {
           "style": "light"
          },
          "paper_bgcolor": "white",
          "plot_bgcolor": "#E5ECF6",
          "polar": {
           "angularaxis": {
            "gridcolor": "white",
            "linecolor": "white",
            "ticks": ""
           },
           "bgcolor": "#E5ECF6",
           "radialaxis": {
            "gridcolor": "white",
            "linecolor": "white",
            "ticks": ""
           }
          },
          "scene": {
           "xaxis": {
            "backgroundcolor": "#E5ECF6",
            "gridcolor": "white",
            "gridwidth": 2,
            "linecolor": "white",
            "showbackground": true,
            "ticks": "",
            "zerolinecolor": "white"
           },
           "yaxis": {
            "backgroundcolor": "#E5ECF6",
            "gridcolor": "white",
            "gridwidth": 2,
            "linecolor": "white",
            "showbackground": true,
            "ticks": "",
            "zerolinecolor": "white"
           },
           "zaxis": {
            "backgroundcolor": "#E5ECF6",
            "gridcolor": "white",
            "gridwidth": 2,
            "linecolor": "white",
            "showbackground": true,
            "ticks": "",
            "zerolinecolor": "white"
           }
          },
          "shapedefaults": {
           "line": {
            "color": "#2a3f5f"
           }
          },
          "ternary": {
           "aaxis": {
            "gridcolor": "white",
            "linecolor": "white",
            "ticks": ""
           },
           "baxis": {
            "gridcolor": "white",
            "linecolor": "white",
            "ticks": ""
           },
           "bgcolor": "#E5ECF6",
           "caxis": {
            "gridcolor": "white",
            "linecolor": "white",
            "ticks": ""
           }
          },
          "title": {
           "x": 0.05
          },
          "xaxis": {
           "automargin": true,
           "gridcolor": "white",
           "linecolor": "white",
           "ticks": "",
           "title": {
            "standoff": 15
           },
           "zerolinecolor": "white",
           "zerolinewidth": 2
          },
          "yaxis": {
           "automargin": true,
           "gridcolor": "white",
           "linecolor": "white",
           "ticks": "",
           "title": {
            "standoff": 15
           },
           "zerolinecolor": "white",
           "zerolinewidth": 2
          }
         }
        },
        "title": {
         "text": "Relative abundance profile"
        },
        "xaxis": {
         "anchor": "y",
         "domain": [
          0,
          1
         ],
         "title": {
          "text": "Fraction"
         }
        },
        "yaxis": {
         "anchor": "x",
         "domain": [
          0,
          1
         ],
         "title": {
          "text": "normalized profile"
         }
        }
       }
      },
      "text/html": [
       "<div>\n",
       "        \n",
       "        \n",
       "            <div id=\"7c20dd1f-bdab-4e70-b96a-738d4f3a2d29\" class=\"plotly-graph-div\" style=\"height:525px; width:100%;\"></div>\n",
       "            <script type=\"text/javascript\">\n",
       "                require([\"plotly\"], function(Plotly) {\n",
       "                    window.PLOTLYENV=window.PLOTLYENV || {};\n",
       "                    \n",
       "                if (document.getElementById(\"7c20dd1f-bdab-4e70-b96a-738d4f3a2d29\")) {\n",
       "                    Plotly.newPlot(\n",
       "                        '7c20dd1f-bdab-4e70-b96a-738d4f3a2d29',\n",
       "                        [{\"hovertemplate\": \"Gene names=PSMA1<br>Fraction=%{x}<br>normalized profile=%{y}<extra></extra>\", \"legendgroup\": \"PSMA1\", \"line\": {\"color\": \"#636efa\", \"dash\": \"solid\"}, \"mode\": \"lines\", \"name\": \"PSMA1\", \"orientation\": \"v\", \"showlegend\": true, \"type\": \"scatter\", \"x\": [\"03K\", \"06K\", \"12K\", \"24K\", \"80K\"], \"xaxis\": \"x\", \"y\": [0.17555997578483093, 0.1720187348939676, 0.15583735781553684, 0.1655416323390852, 0.3310422991665794], \"yaxis\": \"y\"}, {\"hovertemplate\": \"Gene names=PSMA2<br>Fraction=%{x}<br>normalized profile=%{y}<extra></extra>\", \"legendgroup\": \"PSMA2\", \"line\": {\"color\": \"#EF553B\", \"dash\": \"solid\"}, \"mode\": \"lines\", \"name\": \"PSMA2\", \"orientation\": \"v\", \"showlegend\": true, \"type\": \"scatter\", \"x\": [\"03K\", \"06K\", \"12K\", \"24K\", \"80K\"], \"xaxis\": \"x\", \"y\": [0.14525995356767848, 0.06893562091188456, 0.1599699442234146, 0.217480516728159, 0.40835396456886336], \"yaxis\": \"y\"}, {\"hovertemplate\": \"Gene names=PSMA3<br>Fraction=%{x}<br>normalized profile=%{y}<extra></extra>\", \"legendgroup\": \"PSMA3\", \"line\": {\"color\": \"#00cc96\", \"dash\": \"solid\"}, \"mode\": \"lines\", \"name\": \"PSMA3\", \"orientation\": \"v\", \"showlegend\": true, \"type\": \"scatter\", \"x\": [\"03K\", \"06K\", \"12K\", \"24K\", \"80K\"], \"xaxis\": \"x\", \"y\": [0.12727891590614163, 0.19087582700448869, 0.14495713404386582, 0.1736018039866403, 0.36328631905886355], \"yaxis\": \"y\"}, {\"hovertemplate\": \"Gene names=PSMA4<br>Fraction=%{x}<br>normalized profile=%{y}<extra></extra>\", \"legendgroup\": \"PSMA4\", \"line\": {\"color\": \"#ab63fa\", \"dash\": \"solid\"}, \"mode\": \"lines\", \"name\": \"PSMA4\", \"orientation\": \"v\", \"showlegend\": true, \"type\": \"scatter\", \"x\": [\"03K\", \"06K\", \"12K\", \"24K\", \"80K\"], \"xaxis\": \"x\", \"y\": [0.20917785988052898, 0.15317841234763993, 0.1461620800386727, 0.16399295604433548, 0.3274886916888229], \"yaxis\": \"y\"}, {\"hovertemplate\": \"Gene names=PSMA5<br>Fraction=%{x}<br>normalized profile=%{y}<extra></extra>\", \"legendgroup\": \"PSMA5\", \"line\": {\"color\": \"#FFA15A\", \"dash\": \"solid\"}, \"mode\": \"lines\", \"name\": \"PSMA5\", \"orientation\": \"v\", \"showlegend\": true, \"type\": \"scatter\", \"x\": [\"03K\", \"06K\", \"12K\", \"24K\", \"80K\"], \"xaxis\": \"x\", \"y\": [0.1885644513630432, 0.15615519852975113, 0.1954499490196243, 0.1640225404591171, 0.29580786062846426], \"yaxis\": \"y\"}, {\"hovertemplate\": \"Gene names=PSMA6<br>Fraction=%{x}<br>normalized profile=%{y}<extra></extra>\", \"legendgroup\": \"PSMA6\", \"line\": {\"color\": \"#19d3f3\", \"dash\": \"solid\"}, \"mode\": \"lines\", \"name\": \"PSMA6\", \"orientation\": \"v\", \"showlegend\": true, \"type\": \"scatter\", \"x\": [\"03K\", \"06K\", \"12K\", \"24K\", \"80K\"], \"xaxis\": \"x\", \"y\": [0.17339845452323, 0.12822461495944984, 0.16177017676257693, 0.1721282724460837, 0.36447848130865956], \"yaxis\": \"y\"}, {\"hovertemplate\": \"Gene names=PSMA7<br>Fraction=%{x}<br>normalized profile=%{y}<extra></extra>\", \"legendgroup\": \"PSMA7\", \"line\": {\"color\": \"#FF6692\", \"dash\": \"solid\"}, \"mode\": \"lines\", \"name\": \"PSMA7\", \"orientation\": \"v\", \"showlegend\": true, \"type\": \"scatter\", \"x\": [\"03K\", \"06K\", \"12K\", \"24K\", \"80K\"], \"xaxis\": \"x\", \"y\": [0.1682785033338844, 0.1709557135247332, 0.16523851508973017, 0.165514042725152, 0.33001322532650024], \"yaxis\": \"y\"}, {\"hovertemplate\": \"Gene names=PSMB1<br>Fraction=%{x}<br>normalized profile=%{y}<extra></extra>\", \"legendgroup\": \"PSMB1\", \"line\": {\"color\": \"#B6E880\", \"dash\": \"solid\"}, \"mode\": \"lines\", \"name\": \"PSMB1\", \"orientation\": \"v\", \"showlegend\": true, \"type\": \"scatter\", \"x\": [\"03K\", \"06K\", \"12K\", \"24K\", \"80K\"], \"xaxis\": \"x\", \"y\": [0.17509509100656065, 0.07946800091900033, 0.14897378296275496, 0.18855461670027826, 0.4079085084114058], \"yaxis\": \"y\"}, {\"hovertemplate\": \"Gene names=PSMB2<br>Fraction=%{x}<br>normalized profile=%{y}<extra></extra>\", \"legendgroup\": \"PSMB2\", \"line\": {\"color\": \"#FF97FF\", \"dash\": \"solid\"}, \"mode\": \"lines\", \"name\": \"PSMB2\", \"orientation\": \"v\", \"showlegend\": true, \"type\": \"scatter\", \"x\": [\"03K\", \"06K\", \"12K\", \"24K\", \"80K\"], \"xaxis\": \"x\", \"y\": [0.18842358426934222, 0.12354416004062006, 0.20560899289599674, 0.15400770038501926, 0.32841556240902176], \"yaxis\": \"y\"}, {\"hovertemplate\": \"Gene names=PSMB3<br>Fraction=%{x}<br>normalized profile=%{y}<extra></extra>\", \"legendgroup\": \"PSMB3\", \"line\": {\"color\": \"#FECB52\", \"dash\": \"solid\"}, \"mode\": \"lines\", \"name\": \"PSMB3\", \"orientation\": \"v\", \"showlegend\": true, \"type\": \"scatter\", \"x\": [\"03K\", \"06K\", \"12K\", \"24K\", \"80K\"], \"xaxis\": \"x\", \"y\": [0.1628817524389554, 0.10345100040680398, 0.16122677560329243, 0.17258739078487542, 0.3998530807660728], \"yaxis\": \"y\"}, {\"hovertemplate\": \"Gene names=PSMB4<br>Fraction=%{x}<br>normalized profile=%{y}<extra></extra>\", \"legendgroup\": \"PSMB4\", \"line\": {\"color\": \"#636efa\", \"dash\": \"solid\"}, \"mode\": \"lines\", \"name\": \"PSMB4\", \"orientation\": \"v\", \"showlegend\": true, \"type\": \"scatter\", \"x\": [\"03K\", \"06K\", \"12K\", \"24K\", \"80K\"], \"xaxis\": \"x\", \"y\": [0.1547385447602885, 0.1514372083156555, 0.14932912600763681, 0.15735044548154434, 0.38714467543487485], \"yaxis\": \"y\"}, {\"hovertemplate\": \"Gene names=PSMB5<br>Fraction=%{x}<br>normalized profile=%{y}<extra></extra>\", \"legendgroup\": \"PSMB5\", \"line\": {\"color\": \"#EF553B\", \"dash\": \"solid\"}, \"mode\": \"lines\", \"name\": \"PSMB5\", \"orientation\": \"v\", \"showlegend\": true, \"type\": \"scatter\", \"x\": [\"03K\", \"06K\", \"12K\", \"24K\", \"80K\"], \"xaxis\": \"x\", \"y\": [0.1407882714947333, 0.11533695298306046, 0.1700412724083973, 0.1736696737064303, 0.4001638294073786], \"yaxis\": \"y\"}, {\"hovertemplate\": \"Gene names=PSMB6<br>Fraction=%{x}<br>normalized profile=%{y}<extra></extra>\", \"legendgroup\": \"PSMB6\", \"line\": {\"color\": \"#00cc96\", \"dash\": \"solid\"}, \"mode\": \"lines\", \"name\": \"PSMB6\", \"orientation\": \"v\", \"showlegend\": true, \"type\": \"scatter\", \"x\": [\"03K\", \"06K\", \"12K\", \"24K\", \"80K\"], \"xaxis\": \"x\", \"y\": [0.15719414796180056, 0.16502210390054467, 0.14671616637764698, 0.15631487677991354, 0.3747527049800943], \"yaxis\": \"y\"}, {\"hovertemplate\": \"Gene names=PSMB7<br>Fraction=%{x}<br>normalized profile=%{y}<extra></extra>\", \"legendgroup\": \"PSMB7\", \"line\": {\"color\": \"#ab63fa\", \"dash\": \"solid\"}, \"mode\": \"lines\", \"name\": \"PSMB7\", \"orientation\": \"v\", \"showlegend\": true, \"type\": \"scatter\", \"x\": [\"03K\", \"06K\", \"12K\", \"24K\", \"80K\"], \"xaxis\": \"x\", \"y\": [0.1837253607038793, 0.06071396624866062, 0.1837253607038793, 0.19625792920478616, 0.37557738313879463], \"yaxis\": \"y\"}],\n",
       "                        {\"legend\": {\"title\": {\"text\": \"Gene names\"}, \"tracegroupgap\": 0}, \"template\": {\"data\": {\"bar\": [{\"error_x\": {\"color\": \"#2a3f5f\"}, \"error_y\": {\"color\": \"#2a3f5f\"}, \"marker\": {\"line\": {\"color\": \"#E5ECF6\", \"width\": 0.5}}, \"type\": \"bar\"}], \"barpolar\": [{\"marker\": {\"line\": {\"color\": \"#E5ECF6\", \"width\": 0.5}}, \"type\": \"barpolar\"}], \"carpet\": [{\"aaxis\": {\"endlinecolor\": \"#2a3f5f\", \"gridcolor\": \"white\", \"linecolor\": \"white\", \"minorgridcolor\": \"white\", \"startlinecolor\": \"#2a3f5f\"}, \"baxis\": {\"endlinecolor\": \"#2a3f5f\", \"gridcolor\": \"white\", \"linecolor\": \"white\", \"minorgridcolor\": \"white\", \"startlinecolor\": \"#2a3f5f\"}, \"type\": \"carpet\"}], \"choropleth\": [{\"colorbar\": {\"outlinewidth\": 0, \"ticks\": \"\"}, \"type\": \"choropleth\"}], \"contour\": [{\"colorbar\": {\"outlinewidth\": 0, \"ticks\": \"\"}, \"colorscale\": [[0.0, \"#0d0887\"], [0.1111111111111111, \"#46039f\"], [0.2222222222222222, \"#7201a8\"], [0.3333333333333333, \"#9c179e\"], [0.4444444444444444, \"#bd3786\"], [0.5555555555555556, \"#d8576b\"], [0.6666666666666666, \"#ed7953\"], [0.7777777777777778, \"#fb9f3a\"], [0.8888888888888888, \"#fdca26\"], [1.0, \"#f0f921\"]], \"type\": \"contour\"}], \"contourcarpet\": [{\"colorbar\": {\"outlinewidth\": 0, \"ticks\": \"\"}, \"type\": \"contourcarpet\"}], \"heatmap\": [{\"colorbar\": {\"outlinewidth\": 0, \"ticks\": \"\"}, \"colorscale\": [[0.0, \"#0d0887\"], [0.1111111111111111, \"#46039f\"], [0.2222222222222222, \"#7201a8\"], [0.3333333333333333, \"#9c179e\"], [0.4444444444444444, \"#bd3786\"], [0.5555555555555556, \"#d8576b\"], [0.6666666666666666, \"#ed7953\"], [0.7777777777777778, \"#fb9f3a\"], [0.8888888888888888, \"#fdca26\"], [1.0, \"#f0f921\"]], \"type\": \"heatmap\"}], \"heatmapgl\": [{\"colorbar\": {\"outlinewidth\": 0, \"ticks\": \"\"}, \"colorscale\": [[0.0, \"#0d0887\"], [0.1111111111111111, \"#46039f\"], [0.2222222222222222, \"#7201a8\"], [0.3333333333333333, \"#9c179e\"], [0.4444444444444444, \"#bd3786\"], [0.5555555555555556, \"#d8576b\"], [0.6666666666666666, \"#ed7953\"], [0.7777777777777778, \"#fb9f3a\"], [0.8888888888888888, \"#fdca26\"], [1.0, \"#f0f921\"]], \"type\": \"heatmapgl\"}], \"histogram\": [{\"marker\": {\"colorbar\": {\"outlinewidth\": 0, \"ticks\": \"\"}}, \"type\": \"histogram\"}], \"histogram2d\": [{\"colorbar\": {\"outlinewidth\": 0, \"ticks\": \"\"}, \"colorscale\": [[0.0, \"#0d0887\"], [0.1111111111111111, \"#46039f\"], [0.2222222222222222, \"#7201a8\"], [0.3333333333333333, \"#9c179e\"], [0.4444444444444444, \"#bd3786\"], [0.5555555555555556, \"#d8576b\"], [0.6666666666666666, \"#ed7953\"], [0.7777777777777778, \"#fb9f3a\"], [0.8888888888888888, \"#fdca26\"], [1.0, \"#f0f921\"]], \"type\": \"histogram2d\"}], \"histogram2dcontour\": [{\"colorbar\": {\"outlinewidth\": 0, \"ticks\": \"\"}, \"colorscale\": [[0.0, \"#0d0887\"], [0.1111111111111111, \"#46039f\"], [0.2222222222222222, \"#7201a8\"], [0.3333333333333333, \"#9c179e\"], [0.4444444444444444, \"#bd3786\"], [0.5555555555555556, \"#d8576b\"], [0.6666666666666666, \"#ed7953\"], [0.7777777777777778, \"#fb9f3a\"], [0.8888888888888888, \"#fdca26\"], [1.0, \"#f0f921\"]], \"type\": \"histogram2dcontour\"}], \"mesh3d\": [{\"colorbar\": {\"outlinewidth\": 0, \"ticks\": \"\"}, \"type\": \"mesh3d\"}], \"parcoords\": [{\"line\": {\"colorbar\": {\"outlinewidth\": 0, \"ticks\": \"\"}}, \"type\": \"parcoords\"}], \"pie\": [{\"automargin\": true, \"type\": \"pie\"}], \"scatter\": [{\"marker\": {\"colorbar\": {\"outlinewidth\": 0, \"ticks\": \"\"}}, \"type\": \"scatter\"}], \"scatter3d\": [{\"line\": {\"colorbar\": {\"outlinewidth\": 0, \"ticks\": \"\"}}, \"marker\": {\"colorbar\": {\"outlinewidth\": 0, \"ticks\": \"\"}}, \"type\": \"scatter3d\"}], \"scattercarpet\": [{\"marker\": {\"colorbar\": {\"outlinewidth\": 0, \"ticks\": \"\"}}, \"type\": \"scattercarpet\"}], \"scattergeo\": [{\"marker\": {\"colorbar\": {\"outlinewidth\": 0, \"ticks\": \"\"}}, \"type\": \"scattergeo\"}], \"scattergl\": [{\"marker\": {\"colorbar\": {\"outlinewidth\": 0, \"ticks\": \"\"}}, \"type\": \"scattergl\"}], \"scattermapbox\": [{\"marker\": {\"colorbar\": {\"outlinewidth\": 0, \"ticks\": \"\"}}, \"type\": \"scattermapbox\"}], \"scatterpolar\": [{\"marker\": {\"colorbar\": {\"outlinewidth\": 0, \"ticks\": \"\"}}, \"type\": \"scatterpolar\"}], \"scatterpolargl\": [{\"marker\": {\"colorbar\": {\"outlinewidth\": 0, \"ticks\": \"\"}}, \"type\": \"scatterpolargl\"}], \"scatterternary\": [{\"marker\": {\"colorbar\": {\"outlinewidth\": 0, \"ticks\": \"\"}}, \"type\": \"scatterternary\"}], \"surface\": [{\"colorbar\": {\"outlinewidth\": 0, \"ticks\": \"\"}, \"colorscale\": [[0.0, \"#0d0887\"], [0.1111111111111111, \"#46039f\"], [0.2222222222222222, \"#7201a8\"], [0.3333333333333333, \"#9c179e\"], [0.4444444444444444, \"#bd3786\"], [0.5555555555555556, \"#d8576b\"], [0.6666666666666666, \"#ed7953\"], [0.7777777777777778, \"#fb9f3a\"], [0.8888888888888888, \"#fdca26\"], [1.0, \"#f0f921\"]], \"type\": \"surface\"}], \"table\": [{\"cells\": {\"fill\": {\"color\": \"#EBF0F8\"}, \"line\": {\"color\": \"white\"}}, \"header\": {\"fill\": {\"color\": \"#C8D4E3\"}, \"line\": {\"color\": \"white\"}}, \"type\": \"table\"}]}, \"layout\": {\"annotationdefaults\": {\"arrowcolor\": \"#2a3f5f\", \"arrowhead\": 0, \"arrowwidth\": 1}, \"coloraxis\": {\"colorbar\": {\"outlinewidth\": 0, \"ticks\": \"\"}}, \"colorscale\": {\"diverging\": [[0, \"#8e0152\"], [0.1, \"#c51b7d\"], [0.2, \"#de77ae\"], [0.3, \"#f1b6da\"], [0.4, \"#fde0ef\"], [0.5, \"#f7f7f7\"], [0.6, \"#e6f5d0\"], [0.7, \"#b8e186\"], [0.8, \"#7fbc41\"], [0.9, \"#4d9221\"], [1, \"#276419\"]], \"sequential\": [[0.0, \"#0d0887\"], [0.1111111111111111, \"#46039f\"], [0.2222222222222222, \"#7201a8\"], [0.3333333333333333, \"#9c179e\"], [0.4444444444444444, \"#bd3786\"], [0.5555555555555556, \"#d8576b\"], [0.6666666666666666, \"#ed7953\"], [0.7777777777777778, \"#fb9f3a\"], [0.8888888888888888, \"#fdca26\"], [1.0, \"#f0f921\"]], \"sequentialminus\": [[0.0, \"#0d0887\"], [0.1111111111111111, \"#46039f\"], [0.2222222222222222, \"#7201a8\"], [0.3333333333333333, \"#9c179e\"], [0.4444444444444444, \"#bd3786\"], [0.5555555555555556, \"#d8576b\"], [0.6666666666666666, \"#ed7953\"], [0.7777777777777778, \"#fb9f3a\"], [0.8888888888888888, \"#fdca26\"], [1.0, \"#f0f921\"]]}, \"colorway\": [\"#636efa\", \"#EF553B\", \"#00cc96\", \"#ab63fa\", \"#FFA15A\", \"#19d3f3\", \"#FF6692\", \"#B6E880\", \"#FF97FF\", \"#FECB52\"], \"font\": {\"color\": \"#2a3f5f\"}, \"geo\": {\"bgcolor\": \"white\", \"lakecolor\": \"white\", \"landcolor\": \"#E5ECF6\", \"showlakes\": true, \"showland\": true, \"subunitcolor\": \"white\"}, \"hoverlabel\": {\"align\": \"left\"}, \"hovermode\": \"closest\", \"mapbox\": {\"style\": \"light\"}, \"paper_bgcolor\": \"white\", \"plot_bgcolor\": \"#E5ECF6\", \"polar\": {\"angularaxis\": {\"gridcolor\": \"white\", \"linecolor\": \"white\", \"ticks\": \"\"}, \"bgcolor\": \"#E5ECF6\", \"radialaxis\": {\"gridcolor\": \"white\", \"linecolor\": \"white\", \"ticks\": \"\"}}, \"scene\": {\"xaxis\": {\"backgroundcolor\": \"#E5ECF6\", \"gridcolor\": \"white\", \"gridwidth\": 2, \"linecolor\": \"white\", \"showbackground\": true, \"ticks\": \"\", \"zerolinecolor\": \"white\"}, \"yaxis\": {\"backgroundcolor\": \"#E5ECF6\", \"gridcolor\": \"white\", \"gridwidth\": 2, \"linecolor\": \"white\", \"showbackground\": true, \"ticks\": \"\", \"zerolinecolor\": \"white\"}, \"zaxis\": {\"backgroundcolor\": \"#E5ECF6\", \"gridcolor\": \"white\", \"gridwidth\": 2, \"linecolor\": \"white\", \"showbackground\": true, \"ticks\": \"\", \"zerolinecolor\": \"white\"}}, \"shapedefaults\": {\"line\": {\"color\": \"#2a3f5f\"}}, \"ternary\": {\"aaxis\": {\"gridcolor\": \"white\", \"linecolor\": \"white\", \"ticks\": \"\"}, \"baxis\": {\"gridcolor\": \"white\", \"linecolor\": \"white\", \"ticks\": \"\"}, \"bgcolor\": \"#E5ECF6\", \"caxis\": {\"gridcolor\": \"white\", \"linecolor\": \"white\", \"ticks\": \"\"}}, \"title\": {\"x\": 0.05}, \"xaxis\": {\"automargin\": true, \"gridcolor\": \"white\", \"linecolor\": \"white\", \"ticks\": \"\", \"title\": {\"standoff\": 15}, \"zerolinecolor\": \"white\", \"zerolinewidth\": 2}, \"yaxis\": {\"automargin\": true, \"gridcolor\": \"white\", \"linecolor\": \"white\", \"ticks\": \"\", \"title\": {\"standoff\": 15}, \"zerolinecolor\": \"white\", \"zerolinewidth\": 2}}}, \"title\": {\"text\": \"Relative abundance profile\"}, \"xaxis\": {\"anchor\": \"y\", \"domain\": [0.0, 1.0], \"title\": {\"text\": \"Fraction\"}}, \"yaxis\": {\"anchor\": \"x\", \"domain\": [0.0, 1.0], \"title\": {\"text\": \"normalized profile\"}}},\n",
       "                        {\"responsive\": true}\n",
       "                    ).then(function(){\n",
       "                            \n",
       "var gd = document.getElementById('7c20dd1f-bdab-4e70-b96a-738d4f3a2d29');\n",
       "var x = new MutationObserver(function (mutations, observer) {{\n",
       "        var display = window.getComputedStyle(gd).display;\n",
       "        if (!display || display === 'none') {{\n",
       "            console.log([gd, 'removed!']);\n",
       "            Plotly.purge(gd);\n",
       "            observer.disconnect();\n",
       "        }}\n",
       "}});\n",
       "\n",
       "// Listen for the removal of the full notebook cells\n",
       "var notebookContainer = gd.closest('#notebook-container');\n",
       "if (notebookContainer) {{\n",
       "    x.observe(notebookContainer, {childList: true});\n",
       "}}\n",
       "\n",
       "// Listen for the clearing of the current output cell\n",
       "var outputEl = gd.closest('.output');\n",
       "if (outputEl) {{\n",
       "    x.observe(outputEl, {childList: true});\n",
       "}}\n",
       "\n",
       "                        })\n",
       "                };\n",
       "                });\n",
       "            </script>\n",
       "        </div>"
      ]
     },
     "metadata": {},
     "output_type": "display_data"
    }
   ],
   "source": [
    "df_class.plottingdf() #for EGF_rep1"
   ]
  },
  {
   "cell_type": "code",
   "execution_count": 36,
   "metadata": {},
   "outputs": [
    {
     "data": {
      "application/vnd.plotly.v1+json": {
       "config": {
        "plotlyServerURL": "https://plot.ly"
       },
       "data": [
        {
         "hovertemplate": "Gene names=PSMA1<br>Fraction=%{x}<br>Ratio H/L=%{y}<extra></extra>",
         "legendgroup": "PSMA1",
         "line": {
          "color": "#636efa",
          "dash": "solid"
         },
         "mode": "lines",
         "name": "PSMA1",
         "orientation": "v",
         "showlegend": true,
         "type": "scatter",
         "x": [
          "03K",
          "06K",
          "12K",
          "24K",
          "80K"
         ],
         "xaxis": "x",
         "y": [
          0.12745704693552265,
          0.11226106119120012,
          0.17423165024793846,
          0.1859059850870657,
          0.40014425653827307
         ],
         "yaxis": "y"
        },
        {
         "hovertemplate": "Gene names=PSMA2<br>Fraction=%{x}<br>Ratio H/L=%{y}<extra></extra>",
         "legendgroup": "PSMA2",
         "line": {
          "color": "#EF553B",
          "dash": "solid"
         },
         "mode": "lines",
         "name": "PSMA2",
         "orientation": "v",
         "showlegend": true,
         "type": "scatter",
         "x": [
          "03K",
          "06K",
          "12K",
          "24K",
          "80K"
         ],
         "xaxis": "x",
         "y": [
          0.12399419408278947,
          0.11182141785042721,
          0.17161342796573484,
          0.17776156417025865,
          0.4148093959307899
         ],
         "yaxis": "y"
        },
        {
         "hovertemplate": "Gene names=PSMA3<br>Fraction=%{x}<br>Ratio H/L=%{y}<extra></extra>",
         "legendgroup": "PSMA3",
         "line": {
          "color": "#00cc96",
          "dash": "solid"
         },
         "mode": "lines",
         "name": "PSMA3",
         "orientation": "v",
         "showlegend": true,
         "type": "scatter",
         "x": [
          "03K",
          "06K",
          "12K",
          "24K",
          "80K"
         ],
         "xaxis": "x",
         "y": [
          0.11619647709432862,
          0.10761066456484236,
          0.17776282485061762,
          0.17961826611693119,
          0.41881176737328013
         ],
         "yaxis": "y"
        },
        {
         "hovertemplate": "Gene names=PSMA4<br>Fraction=%{x}<br>Ratio H/L=%{y}<extra></extra>",
         "legendgroup": "PSMA4",
         "line": {
          "color": "#ab63fa",
          "dash": "solid"
         },
         "mode": "lines",
         "name": "PSMA4",
         "orientation": "v",
         "showlegend": true,
         "type": "scatter",
         "x": [
          "03K",
          "06K",
          "12K",
          "24K",
          "80K"
         ],
         "xaxis": "x",
         "y": [
          0.11517901325709709,
          0.12333995743506748,
          0.1779698918445849,
          0.19526029035555226,
          0.38825084710769825
         ],
         "yaxis": "y"
        },
        {
         "hovertemplate": "Gene names=PSMA5<br>Fraction=%{x}<br>Ratio H/L=%{y}<extra></extra>",
         "legendgroup": "PSMA5",
         "line": {
          "color": "#FFA15A",
          "dash": "solid"
         },
         "mode": "lines",
         "name": "PSMA5",
         "orientation": "v",
         "showlegend": true,
         "type": "scatter",
         "x": [
          "03K",
          "06K",
          "12K",
          "24K",
          "80K"
         ],
         "xaxis": "x",
         "y": [
          0.14174471437605649,
          0.12555075373325947,
          0.19173045778983888,
          0.18273824497282243,
          0.3582358291280227
         ],
         "yaxis": "y"
        },
        {
         "hovertemplate": "Gene names=PSMA6<br>Fraction=%{x}<br>Ratio H/L=%{y}<extra></extra>",
         "legendgroup": "PSMA6",
         "line": {
          "color": "#19d3f3",
          "dash": "solid"
         },
         "mode": "lines",
         "name": "PSMA6",
         "orientation": "v",
         "showlegend": true,
         "type": "scatter",
         "x": [
          "03K",
          "06K",
          "12K",
          "24K",
          "80K"
         ],
         "xaxis": "x",
         "y": [
          0.11447955436124814,
          0.11151769447050004,
          0.16849163902439324,
          0.1788856166723159,
          0.4266254954715426
         ],
         "yaxis": "y"
        },
        {
         "hovertemplate": "Gene names=PSMA7<br>Fraction=%{x}<br>Ratio H/L=%{y}<extra></extra>",
         "legendgroup": "PSMA7",
         "line": {
          "color": "#FF6692",
          "dash": "solid"
         },
         "mode": "lines",
         "name": "PSMA7",
         "orientation": "v",
         "showlegend": true,
         "type": "scatter",
         "x": [
          "03K",
          "06K",
          "12K",
          "24K",
          "80K"
         ],
         "xaxis": "x",
         "y": [
          0.12097802488541944,
          0.11144545196402807,
          0.18006598837508242,
          0.1908576190625284,
          0.39665291571294164
         ],
         "yaxis": "y"
        },
        {
         "hovertemplate": "Gene names=PSMB1<br>Fraction=%{x}<br>Ratio H/L=%{y}<extra></extra>",
         "legendgroup": "PSMB1",
         "line": {
          "color": "#B6E880",
          "dash": "solid"
         },
         "mode": "lines",
         "name": "PSMB1",
         "orientation": "v",
         "showlegend": true,
         "type": "scatter",
         "x": [
          "03K",
          "06K",
          "12K",
          "24K",
          "80K"
         ],
         "xaxis": "x",
         "y": [
          0.12021367908298422,
          0.11833958609092027,
          0.16675799957186746,
          0.17673176218054834,
          0.41795697307367957
         ],
         "yaxis": "y"
        },
        {
         "hovertemplate": "Gene names=PSMB2<br>Fraction=%{x}<br>Ratio H/L=%{y}<extra></extra>",
         "legendgroup": "PSMB2",
         "line": {
          "color": "#FF97FF",
          "dash": "solid"
         },
         "mode": "lines",
         "name": "PSMB2",
         "orientation": "v",
         "showlegend": true,
         "type": "scatter",
         "x": [
          "03K",
          "06K",
          "12K",
          "24K",
          "80K"
         ],
         "xaxis": "x",
         "y": [
          0.12888025208024323,
          0.11706339788273581,
          0.1751700573055329,
          0.175708064367459,
          0.403178228364029
         ],
         "yaxis": "y"
        },
        {
         "hovertemplate": "Gene names=PSMB3<br>Fraction=%{x}<br>Ratio H/L=%{y}<extra></extra>",
         "legendgroup": "PSMB3",
         "line": {
          "color": "#FECB52",
          "dash": "solid"
         },
         "mode": "lines",
         "name": "PSMB3",
         "orientation": "v",
         "showlegend": true,
         "type": "scatter",
         "x": [
          "03K",
          "06K",
          "12K",
          "24K",
          "80K"
         ],
         "xaxis": "x",
         "y": [
          0.11963797401121262,
          0.11411168664925068,
          0.17118008865378925,
          0.18475636544986002,
          0.4103138852358874
         ],
         "yaxis": "y"
        },
        {
         "hovertemplate": "Gene names=PSMB4<br>Fraction=%{x}<br>Ratio H/L=%{y}<extra></extra>",
         "legendgroup": "PSMB4",
         "line": {
          "color": "#636efa",
          "dash": "solid"
         },
         "mode": "lines",
         "name": "PSMB4",
         "orientation": "v",
         "showlegend": true,
         "type": "scatter",
         "x": [
          "03K",
          "06K",
          "12K",
          "24K",
          "80K"
         ],
         "xaxis": "x",
         "y": [
          0.11757663769735834,
          0.11089341226134436,
          0.1778233496948322,
          0.17679041969611414,
          0.4169161806503511
         ],
         "yaxis": "y"
        },
        {
         "hovertemplate": "Gene names=PSMB5<br>Fraction=%{x}<br>Ratio H/L=%{y}<extra></extra>",
         "legendgroup": "PSMB5",
         "line": {
          "color": "#EF553B",
          "dash": "solid"
         },
         "mode": "lines",
         "name": "PSMB5",
         "orientation": "v",
         "showlegend": true,
         "type": "scatter",
         "x": [
          "03K",
          "06K",
          "12K",
          "24K",
          "80K"
         ],
         "xaxis": "x",
         "y": [
          0.1152547183680475,
          0.11068763957450499,
          0.1664785717827086,
          0.17644591285917088,
          0.431133157415568
         ],
         "yaxis": "y"
        },
        {
         "hovertemplate": "Gene names=PSMB6<br>Fraction=%{x}<br>Ratio H/L=%{y}<extra></extra>",
         "legendgroup": "PSMB6",
         "line": {
          "color": "#00cc96",
          "dash": "solid"
         },
         "mode": "lines",
         "name": "PSMB6",
         "orientation": "v",
         "showlegend": true,
         "type": "scatter",
         "x": [
          "03K",
          "06K",
          "12K",
          "24K",
          "80K"
         ],
         "xaxis": "x",
         "y": [
          0.11587395080190656,
          0.10820401141161992,
          0.17067382915784982,
          0.18507931376975598,
          0.42016889485886777
         ],
         "yaxis": "y"
        },
        {
         "hovertemplate": "Gene names=PSMB7<br>Fraction=%{x}<br>Ratio H/L=%{y}<extra></extra>",
         "legendgroup": "PSMB7",
         "line": {
          "color": "#ab63fa",
          "dash": "solid"
         },
         "mode": "lines",
         "name": "PSMB7",
         "orientation": "v",
         "showlegend": true,
         "type": "scatter",
         "x": [
          "03K",
          "06K",
          "12K",
          "24K",
          "80K"
         ],
         "xaxis": "x",
         "y": [
          0.10985784604070847,
          0.10102912950390489,
          0.17347683565097696,
          0.201254878861882,
          0.4143813099425276
         ],
         "yaxis": "y"
        }
       ],
       "layout": {
        "legend": {
         "title": {
          "text": "Gene names"
         },
         "tracegroupgap": 0
        },
        "template": {
         "data": {
          "bar": [
           {
            "error_x": {
             "color": "#2a3f5f"
            },
            "error_y": {
             "color": "#2a3f5f"
            },
            "marker": {
             "line": {
              "color": "#E5ECF6",
              "width": 0.5
             }
            },
            "type": "bar"
           }
          ],
          "barpolar": [
           {
            "marker": {
             "line": {
              "color": "#E5ECF6",
              "width": 0.5
             }
            },
            "type": "barpolar"
           }
          ],
          "carpet": [
           {
            "aaxis": {
             "endlinecolor": "#2a3f5f",
             "gridcolor": "white",
             "linecolor": "white",
             "minorgridcolor": "white",
             "startlinecolor": "#2a3f5f"
            },
            "baxis": {
             "endlinecolor": "#2a3f5f",
             "gridcolor": "white",
             "linecolor": "white",
             "minorgridcolor": "white",
             "startlinecolor": "#2a3f5f"
            },
            "type": "carpet"
           }
          ],
          "choropleth": [
           {
            "colorbar": {
             "outlinewidth": 0,
             "ticks": ""
            },
            "type": "choropleth"
           }
          ],
          "contour": [
           {
            "colorbar": {
             "outlinewidth": 0,
             "ticks": ""
            },
            "colorscale": [
             [
              0,
              "#0d0887"
             ],
             [
              0.1111111111111111,
              "#46039f"
             ],
             [
              0.2222222222222222,
              "#7201a8"
             ],
             [
              0.3333333333333333,
              "#9c179e"
             ],
             [
              0.4444444444444444,
              "#bd3786"
             ],
             [
              0.5555555555555556,
              "#d8576b"
             ],
             [
              0.6666666666666666,
              "#ed7953"
             ],
             [
              0.7777777777777778,
              "#fb9f3a"
             ],
             [
              0.8888888888888888,
              "#fdca26"
             ],
             [
              1,
              "#f0f921"
             ]
            ],
            "type": "contour"
           }
          ],
          "contourcarpet": [
           {
            "colorbar": {
             "outlinewidth": 0,
             "ticks": ""
            },
            "type": "contourcarpet"
           }
          ],
          "heatmap": [
           {
            "colorbar": {
             "outlinewidth": 0,
             "ticks": ""
            },
            "colorscale": [
             [
              0,
              "#0d0887"
             ],
             [
              0.1111111111111111,
              "#46039f"
             ],
             [
              0.2222222222222222,
              "#7201a8"
             ],
             [
              0.3333333333333333,
              "#9c179e"
             ],
             [
              0.4444444444444444,
              "#bd3786"
             ],
             [
              0.5555555555555556,
              "#d8576b"
             ],
             [
              0.6666666666666666,
              "#ed7953"
             ],
             [
              0.7777777777777778,
              "#fb9f3a"
             ],
             [
              0.8888888888888888,
              "#fdca26"
             ],
             [
              1,
              "#f0f921"
             ]
            ],
            "type": "heatmap"
           }
          ],
          "heatmapgl": [
           {
            "colorbar": {
             "outlinewidth": 0,
             "ticks": ""
            },
            "colorscale": [
             [
              0,
              "#0d0887"
             ],
             [
              0.1111111111111111,
              "#46039f"
             ],
             [
              0.2222222222222222,
              "#7201a8"
             ],
             [
              0.3333333333333333,
              "#9c179e"
             ],
             [
              0.4444444444444444,
              "#bd3786"
             ],
             [
              0.5555555555555556,
              "#d8576b"
             ],
             [
              0.6666666666666666,
              "#ed7953"
             ],
             [
              0.7777777777777778,
              "#fb9f3a"
             ],
             [
              0.8888888888888888,
              "#fdca26"
             ],
             [
              1,
              "#f0f921"
             ]
            ],
            "type": "heatmapgl"
           }
          ],
          "histogram": [
           {
            "marker": {
             "colorbar": {
              "outlinewidth": 0,
              "ticks": ""
             }
            },
            "type": "histogram"
           }
          ],
          "histogram2d": [
           {
            "colorbar": {
             "outlinewidth": 0,
             "ticks": ""
            },
            "colorscale": [
             [
              0,
              "#0d0887"
             ],
             [
              0.1111111111111111,
              "#46039f"
             ],
             [
              0.2222222222222222,
              "#7201a8"
             ],
             [
              0.3333333333333333,
              "#9c179e"
             ],
             [
              0.4444444444444444,
              "#bd3786"
             ],
             [
              0.5555555555555556,
              "#d8576b"
             ],
             [
              0.6666666666666666,
              "#ed7953"
             ],
             [
              0.7777777777777778,
              "#fb9f3a"
             ],
             [
              0.8888888888888888,
              "#fdca26"
             ],
             [
              1,
              "#f0f921"
             ]
            ],
            "type": "histogram2d"
           }
          ],
          "histogram2dcontour": [
           {
            "colorbar": {
             "outlinewidth": 0,
             "ticks": ""
            },
            "colorscale": [
             [
              0,
              "#0d0887"
             ],
             [
              0.1111111111111111,
              "#46039f"
             ],
             [
              0.2222222222222222,
              "#7201a8"
             ],
             [
              0.3333333333333333,
              "#9c179e"
             ],
             [
              0.4444444444444444,
              "#bd3786"
             ],
             [
              0.5555555555555556,
              "#d8576b"
             ],
             [
              0.6666666666666666,
              "#ed7953"
             ],
             [
              0.7777777777777778,
              "#fb9f3a"
             ],
             [
              0.8888888888888888,
              "#fdca26"
             ],
             [
              1,
              "#f0f921"
             ]
            ],
            "type": "histogram2dcontour"
           }
          ],
          "mesh3d": [
           {
            "colorbar": {
             "outlinewidth": 0,
             "ticks": ""
            },
            "type": "mesh3d"
           }
          ],
          "parcoords": [
           {
            "line": {
             "colorbar": {
              "outlinewidth": 0,
              "ticks": ""
             }
            },
            "type": "parcoords"
           }
          ],
          "pie": [
           {
            "automargin": true,
            "type": "pie"
           }
          ],
          "scatter": [
           {
            "marker": {
             "colorbar": {
              "outlinewidth": 0,
              "ticks": ""
             }
            },
            "type": "scatter"
           }
          ],
          "scatter3d": [
           {
            "line": {
             "colorbar": {
              "outlinewidth": 0,
              "ticks": ""
             }
            },
            "marker": {
             "colorbar": {
              "outlinewidth": 0,
              "ticks": ""
             }
            },
            "type": "scatter3d"
           }
          ],
          "scattercarpet": [
           {
            "marker": {
             "colorbar": {
              "outlinewidth": 0,
              "ticks": ""
             }
            },
            "type": "scattercarpet"
           }
          ],
          "scattergeo": [
           {
            "marker": {
             "colorbar": {
              "outlinewidth": 0,
              "ticks": ""
             }
            },
            "type": "scattergeo"
           }
          ],
          "scattergl": [
           {
            "marker": {
             "colorbar": {
              "outlinewidth": 0,
              "ticks": ""
             }
            },
            "type": "scattergl"
           }
          ],
          "scattermapbox": [
           {
            "marker": {
             "colorbar": {
              "outlinewidth": 0,
              "ticks": ""
             }
            },
            "type": "scattermapbox"
           }
          ],
          "scatterpolar": [
           {
            "marker": {
             "colorbar": {
              "outlinewidth": 0,
              "ticks": ""
             }
            },
            "type": "scatterpolar"
           }
          ],
          "scatterpolargl": [
           {
            "marker": {
             "colorbar": {
              "outlinewidth": 0,
              "ticks": ""
             }
            },
            "type": "scatterpolargl"
           }
          ],
          "scatterternary": [
           {
            "marker": {
             "colorbar": {
              "outlinewidth": 0,
              "ticks": ""
             }
            },
            "type": "scatterternary"
           }
          ],
          "surface": [
           {
            "colorbar": {
             "outlinewidth": 0,
             "ticks": ""
            },
            "colorscale": [
             [
              0,
              "#0d0887"
             ],
             [
              0.1111111111111111,
              "#46039f"
             ],
             [
              0.2222222222222222,
              "#7201a8"
             ],
             [
              0.3333333333333333,
              "#9c179e"
             ],
             [
              0.4444444444444444,
              "#bd3786"
             ],
             [
              0.5555555555555556,
              "#d8576b"
             ],
             [
              0.6666666666666666,
              "#ed7953"
             ],
             [
              0.7777777777777778,
              "#fb9f3a"
             ],
             [
              0.8888888888888888,
              "#fdca26"
             ],
             [
              1,
              "#f0f921"
             ]
            ],
            "type": "surface"
           }
          ],
          "table": [
           {
            "cells": {
             "fill": {
              "color": "#EBF0F8"
             },
             "line": {
              "color": "white"
             }
            },
            "header": {
             "fill": {
              "color": "#C8D4E3"
             },
             "line": {
              "color": "white"
             }
            },
            "type": "table"
           }
          ]
         },
         "layout": {
          "annotationdefaults": {
           "arrowcolor": "#2a3f5f",
           "arrowhead": 0,
           "arrowwidth": 1
          },
          "coloraxis": {
           "colorbar": {
            "outlinewidth": 0,
            "ticks": ""
           }
          },
          "colorscale": {
           "diverging": [
            [
             0,
             "#8e0152"
            ],
            [
             0.1,
             "#c51b7d"
            ],
            [
             0.2,
             "#de77ae"
            ],
            [
             0.3,
             "#f1b6da"
            ],
            [
             0.4,
             "#fde0ef"
            ],
            [
             0.5,
             "#f7f7f7"
            ],
            [
             0.6,
             "#e6f5d0"
            ],
            [
             0.7,
             "#b8e186"
            ],
            [
             0.8,
             "#7fbc41"
            ],
            [
             0.9,
             "#4d9221"
            ],
            [
             1,
             "#276419"
            ]
           ],
           "sequential": [
            [
             0,
             "#0d0887"
            ],
            [
             0.1111111111111111,
             "#46039f"
            ],
            [
             0.2222222222222222,
             "#7201a8"
            ],
            [
             0.3333333333333333,
             "#9c179e"
            ],
            [
             0.4444444444444444,
             "#bd3786"
            ],
            [
             0.5555555555555556,
             "#d8576b"
            ],
            [
             0.6666666666666666,
             "#ed7953"
            ],
            [
             0.7777777777777778,
             "#fb9f3a"
            ],
            [
             0.8888888888888888,
             "#fdca26"
            ],
            [
             1,
             "#f0f921"
            ]
           ],
           "sequentialminus": [
            [
             0,
             "#0d0887"
            ],
            [
             0.1111111111111111,
             "#46039f"
            ],
            [
             0.2222222222222222,
             "#7201a8"
            ],
            [
             0.3333333333333333,
             "#9c179e"
            ],
            [
             0.4444444444444444,
             "#bd3786"
            ],
            [
             0.5555555555555556,
             "#d8576b"
            ],
            [
             0.6666666666666666,
             "#ed7953"
            ],
            [
             0.7777777777777778,
             "#fb9f3a"
            ],
            [
             0.8888888888888888,
             "#fdca26"
            ],
            [
             1,
             "#f0f921"
            ]
           ]
          },
          "colorway": [
           "#636efa",
           "#EF553B",
           "#00cc96",
           "#ab63fa",
           "#FFA15A",
           "#19d3f3",
           "#FF6692",
           "#B6E880",
           "#FF97FF",
           "#FECB52"
          ],
          "font": {
           "color": "#2a3f5f"
          },
          "geo": {
           "bgcolor": "white",
           "lakecolor": "white",
           "landcolor": "#E5ECF6",
           "showlakes": true,
           "showland": true,
           "subunitcolor": "white"
          },
          "hoverlabel": {
           "align": "left"
          },
          "hovermode": "closest",
          "mapbox": {
           "style": "light"
          },
          "paper_bgcolor": "white",
          "plot_bgcolor": "#E5ECF6",
          "polar": {
           "angularaxis": {
            "gridcolor": "white",
            "linecolor": "white",
            "ticks": ""
           },
           "bgcolor": "#E5ECF6",
           "radialaxis": {
            "gridcolor": "white",
            "linecolor": "white",
            "ticks": ""
           }
          },
          "scene": {
           "xaxis": {
            "backgroundcolor": "#E5ECF6",
            "gridcolor": "white",
            "gridwidth": 2,
            "linecolor": "white",
            "showbackground": true,
            "ticks": "",
            "zerolinecolor": "white"
           },
           "yaxis": {
            "backgroundcolor": "#E5ECF6",
            "gridcolor": "white",
            "gridwidth": 2,
            "linecolor": "white",
            "showbackground": true,
            "ticks": "",
            "zerolinecolor": "white"
           },
           "zaxis": {
            "backgroundcolor": "#E5ECF6",
            "gridcolor": "white",
            "gridwidth": 2,
            "linecolor": "white",
            "showbackground": true,
            "ticks": "",
            "zerolinecolor": "white"
           }
          },
          "shapedefaults": {
           "line": {
            "color": "#2a3f5f"
           }
          },
          "ternary": {
           "aaxis": {
            "gridcolor": "white",
            "linecolor": "white",
            "ticks": ""
           },
           "baxis": {
            "gridcolor": "white",
            "linecolor": "white",
            "ticks": ""
           },
           "bgcolor": "#E5ECF6",
           "caxis": {
            "gridcolor": "white",
            "linecolor": "white",
            "ticks": ""
           }
          },
          "title": {
           "x": 0.05
          },
          "xaxis": {
           "automargin": true,
           "gridcolor": "white",
           "linecolor": "white",
           "ticks": "",
           "title": {
            "standoff": 15
           },
           "zerolinecolor": "white",
           "zerolinewidth": 2
          },
          "yaxis": {
           "automargin": true,
           "gridcolor": "white",
           "linecolor": "white",
           "ticks": "",
           "title": {
            "standoff": 15
           },
           "zerolinecolor": "white",
           "zerolinewidth": 2
          }
         }
        },
        "title": {
         "text": "Relative abundance profile"
        },
        "xaxis": {
         "anchor": "y",
         "domain": [
          0,
          1
         ],
         "title": {
          "text": "Fraction"
         }
        },
        "yaxis": {
         "anchor": "x",
         "domain": [
          0,
          1
         ],
         "title": {
          "text": "Ratio H/L"
         }
        }
       }
      },
      "text/html": [
       "<div>\n",
       "        \n",
       "        \n",
       "            <div id=\"c79adf29-a1cc-49b4-911d-ed62a7d8e7b2\" class=\"plotly-graph-div\" style=\"height:525px; width:100%;\"></div>\n",
       "            <script type=\"text/javascript\">\n",
       "                require([\"plotly\"], function(Plotly) {\n",
       "                    window.PLOTLYENV=window.PLOTLYENV || {};\n",
       "                    \n",
       "                if (document.getElementById(\"c79adf29-a1cc-49b4-911d-ed62a7d8e7b2\")) {\n",
       "                    Plotly.newPlot(\n",
       "                        'c79adf29-a1cc-49b4-911d-ed62a7d8e7b2',\n",
       "                        [{\"hovertemplate\": \"Gene names=PSMA1<br>Fraction=%{x}<br>Ratio H/L=%{y}<extra></extra>\", \"legendgroup\": \"PSMA1\", \"line\": {\"color\": \"#636efa\", \"dash\": \"solid\"}, \"mode\": \"lines\", \"name\": \"PSMA1\", \"orientation\": \"v\", \"showlegend\": true, \"type\": \"scatter\", \"x\": [\"03K\", \"06K\", \"12K\", \"24K\", \"80K\"], \"xaxis\": \"x\", \"y\": [0.12745704693552265, 0.11226106119120012, 0.17423165024793846, 0.1859059850870657, 0.40014425653827307], \"yaxis\": \"y\"}, {\"hovertemplate\": \"Gene names=PSMA2<br>Fraction=%{x}<br>Ratio H/L=%{y}<extra></extra>\", \"legendgroup\": \"PSMA2\", \"line\": {\"color\": \"#EF553B\", \"dash\": \"solid\"}, \"mode\": \"lines\", \"name\": \"PSMA2\", \"orientation\": \"v\", \"showlegend\": true, \"type\": \"scatter\", \"x\": [\"03K\", \"06K\", \"12K\", \"24K\", \"80K\"], \"xaxis\": \"x\", \"y\": [0.12399419408278947, 0.11182141785042721, 0.17161342796573484, 0.17776156417025865, 0.4148093959307899], \"yaxis\": \"y\"}, {\"hovertemplate\": \"Gene names=PSMA3<br>Fraction=%{x}<br>Ratio H/L=%{y}<extra></extra>\", \"legendgroup\": \"PSMA3\", \"line\": {\"color\": \"#00cc96\", \"dash\": \"solid\"}, \"mode\": \"lines\", \"name\": \"PSMA3\", \"orientation\": \"v\", \"showlegend\": true, \"type\": \"scatter\", \"x\": [\"03K\", \"06K\", \"12K\", \"24K\", \"80K\"], \"xaxis\": \"x\", \"y\": [0.11619647709432862, 0.10761066456484236, 0.17776282485061762, 0.17961826611693119, 0.41881176737328013], \"yaxis\": \"y\"}, {\"hovertemplate\": \"Gene names=PSMA4<br>Fraction=%{x}<br>Ratio H/L=%{y}<extra></extra>\", \"legendgroup\": \"PSMA4\", \"line\": {\"color\": \"#ab63fa\", \"dash\": \"solid\"}, \"mode\": \"lines\", \"name\": \"PSMA4\", \"orientation\": \"v\", \"showlegend\": true, \"type\": \"scatter\", \"x\": [\"03K\", \"06K\", \"12K\", \"24K\", \"80K\"], \"xaxis\": \"x\", \"y\": [0.11517901325709709, 0.12333995743506748, 0.1779698918445849, 0.19526029035555226, 0.38825084710769825], \"yaxis\": \"y\"}, {\"hovertemplate\": \"Gene names=PSMA5<br>Fraction=%{x}<br>Ratio H/L=%{y}<extra></extra>\", \"legendgroup\": \"PSMA5\", \"line\": {\"color\": \"#FFA15A\", \"dash\": \"solid\"}, \"mode\": \"lines\", \"name\": \"PSMA5\", \"orientation\": \"v\", \"showlegend\": true, \"type\": \"scatter\", \"x\": [\"03K\", \"06K\", \"12K\", \"24K\", \"80K\"], \"xaxis\": \"x\", \"y\": [0.14174471437605649, 0.12555075373325947, 0.19173045778983888, 0.18273824497282243, 0.3582358291280227], \"yaxis\": \"y\"}, {\"hovertemplate\": \"Gene names=PSMA6<br>Fraction=%{x}<br>Ratio H/L=%{y}<extra></extra>\", \"legendgroup\": \"PSMA6\", \"line\": {\"color\": \"#19d3f3\", \"dash\": \"solid\"}, \"mode\": \"lines\", \"name\": \"PSMA6\", \"orientation\": \"v\", \"showlegend\": true, \"type\": \"scatter\", \"x\": [\"03K\", \"06K\", \"12K\", \"24K\", \"80K\"], \"xaxis\": \"x\", \"y\": [0.11447955436124814, 0.11151769447050004, 0.16849163902439324, 0.1788856166723159, 0.4266254954715426], \"yaxis\": \"y\"}, {\"hovertemplate\": \"Gene names=PSMA7<br>Fraction=%{x}<br>Ratio H/L=%{y}<extra></extra>\", \"legendgroup\": \"PSMA7\", \"line\": {\"color\": \"#FF6692\", \"dash\": \"solid\"}, \"mode\": \"lines\", \"name\": \"PSMA7\", \"orientation\": \"v\", \"showlegend\": true, \"type\": \"scatter\", \"x\": [\"03K\", \"06K\", \"12K\", \"24K\", \"80K\"], \"xaxis\": \"x\", \"y\": [0.12097802488541944, 0.11144545196402807, 0.18006598837508242, 0.1908576190625284, 0.39665291571294164], \"yaxis\": \"y\"}, {\"hovertemplate\": \"Gene names=PSMB1<br>Fraction=%{x}<br>Ratio H/L=%{y}<extra></extra>\", \"legendgroup\": \"PSMB1\", \"line\": {\"color\": \"#B6E880\", \"dash\": \"solid\"}, \"mode\": \"lines\", \"name\": \"PSMB1\", \"orientation\": \"v\", \"showlegend\": true, \"type\": \"scatter\", \"x\": [\"03K\", \"06K\", \"12K\", \"24K\", \"80K\"], \"xaxis\": \"x\", \"y\": [0.12021367908298422, 0.11833958609092027, 0.16675799957186746, 0.17673176218054834, 0.41795697307367957], \"yaxis\": \"y\"}, {\"hovertemplate\": \"Gene names=PSMB2<br>Fraction=%{x}<br>Ratio H/L=%{y}<extra></extra>\", \"legendgroup\": \"PSMB2\", \"line\": {\"color\": \"#FF97FF\", \"dash\": \"solid\"}, \"mode\": \"lines\", \"name\": \"PSMB2\", \"orientation\": \"v\", \"showlegend\": true, \"type\": \"scatter\", \"x\": [\"03K\", \"06K\", \"12K\", \"24K\", \"80K\"], \"xaxis\": \"x\", \"y\": [0.12888025208024323, 0.11706339788273581, 0.1751700573055329, 0.175708064367459, 0.403178228364029], \"yaxis\": \"y\"}, {\"hovertemplate\": \"Gene names=PSMB3<br>Fraction=%{x}<br>Ratio H/L=%{y}<extra></extra>\", \"legendgroup\": \"PSMB3\", \"line\": {\"color\": \"#FECB52\", \"dash\": \"solid\"}, \"mode\": \"lines\", \"name\": \"PSMB3\", \"orientation\": \"v\", \"showlegend\": true, \"type\": \"scatter\", \"x\": [\"03K\", \"06K\", \"12K\", \"24K\", \"80K\"], \"xaxis\": \"x\", \"y\": [0.11963797401121262, 0.11411168664925068, 0.17118008865378925, 0.18475636544986002, 0.4103138852358874], \"yaxis\": \"y\"}, {\"hovertemplate\": \"Gene names=PSMB4<br>Fraction=%{x}<br>Ratio H/L=%{y}<extra></extra>\", \"legendgroup\": \"PSMB4\", \"line\": {\"color\": \"#636efa\", \"dash\": \"solid\"}, \"mode\": \"lines\", \"name\": \"PSMB4\", \"orientation\": \"v\", \"showlegend\": true, \"type\": \"scatter\", \"x\": [\"03K\", \"06K\", \"12K\", \"24K\", \"80K\"], \"xaxis\": \"x\", \"y\": [0.11757663769735834, 0.11089341226134436, 0.1778233496948322, 0.17679041969611414, 0.4169161806503511], \"yaxis\": \"y\"}, {\"hovertemplate\": \"Gene names=PSMB5<br>Fraction=%{x}<br>Ratio H/L=%{y}<extra></extra>\", \"legendgroup\": \"PSMB5\", \"line\": {\"color\": \"#EF553B\", \"dash\": \"solid\"}, \"mode\": \"lines\", \"name\": \"PSMB5\", \"orientation\": \"v\", \"showlegend\": true, \"type\": \"scatter\", \"x\": [\"03K\", \"06K\", \"12K\", \"24K\", \"80K\"], \"xaxis\": \"x\", \"y\": [0.1152547183680475, 0.11068763957450499, 0.1664785717827086, 0.17644591285917088, 0.431133157415568], \"yaxis\": \"y\"}, {\"hovertemplate\": \"Gene names=PSMB6<br>Fraction=%{x}<br>Ratio H/L=%{y}<extra></extra>\", \"legendgroup\": \"PSMB6\", \"line\": {\"color\": \"#00cc96\", \"dash\": \"solid\"}, \"mode\": \"lines\", \"name\": \"PSMB6\", \"orientation\": \"v\", \"showlegend\": true, \"type\": \"scatter\", \"x\": [\"03K\", \"06K\", \"12K\", \"24K\", \"80K\"], \"xaxis\": \"x\", \"y\": [0.11587395080190656, 0.10820401141161992, 0.17067382915784982, 0.18507931376975598, 0.42016889485886777], \"yaxis\": \"y\"}, {\"hovertemplate\": \"Gene names=PSMB7<br>Fraction=%{x}<br>Ratio H/L=%{y}<extra></extra>\", \"legendgroup\": \"PSMB7\", \"line\": {\"color\": \"#ab63fa\", \"dash\": \"solid\"}, \"mode\": \"lines\", \"name\": \"PSMB7\", \"orientation\": \"v\", \"showlegend\": true, \"type\": \"scatter\", \"x\": [\"03K\", \"06K\", \"12K\", \"24K\", \"80K\"], \"xaxis\": \"x\", \"y\": [0.10985784604070847, 0.10102912950390489, 0.17347683565097696, 0.201254878861882, 0.4143813099425276], \"yaxis\": \"y\"}],\n",
       "                        {\"legend\": {\"title\": {\"text\": \"Gene names\"}, \"tracegroupgap\": 0}, \"template\": {\"data\": {\"bar\": [{\"error_x\": {\"color\": \"#2a3f5f\"}, \"error_y\": {\"color\": \"#2a3f5f\"}, \"marker\": {\"line\": {\"color\": \"#E5ECF6\", \"width\": 0.5}}, \"type\": \"bar\"}], \"barpolar\": [{\"marker\": {\"line\": {\"color\": \"#E5ECF6\", \"width\": 0.5}}, \"type\": \"barpolar\"}], \"carpet\": [{\"aaxis\": {\"endlinecolor\": \"#2a3f5f\", \"gridcolor\": \"white\", \"linecolor\": \"white\", \"minorgridcolor\": \"white\", \"startlinecolor\": \"#2a3f5f\"}, \"baxis\": {\"endlinecolor\": \"#2a3f5f\", \"gridcolor\": \"white\", \"linecolor\": \"white\", \"minorgridcolor\": \"white\", \"startlinecolor\": \"#2a3f5f\"}, \"type\": \"carpet\"}], \"choropleth\": [{\"colorbar\": {\"outlinewidth\": 0, \"ticks\": \"\"}, \"type\": \"choropleth\"}], \"contour\": [{\"colorbar\": {\"outlinewidth\": 0, \"ticks\": \"\"}, \"colorscale\": [[0.0, \"#0d0887\"], [0.1111111111111111, \"#46039f\"], [0.2222222222222222, \"#7201a8\"], [0.3333333333333333, \"#9c179e\"], [0.4444444444444444, \"#bd3786\"], [0.5555555555555556, \"#d8576b\"], [0.6666666666666666, \"#ed7953\"], [0.7777777777777778, \"#fb9f3a\"], [0.8888888888888888, \"#fdca26\"], [1.0, \"#f0f921\"]], \"type\": \"contour\"}], \"contourcarpet\": [{\"colorbar\": {\"outlinewidth\": 0, \"ticks\": \"\"}, \"type\": \"contourcarpet\"}], \"heatmap\": [{\"colorbar\": {\"outlinewidth\": 0, \"ticks\": \"\"}, \"colorscale\": [[0.0, \"#0d0887\"], [0.1111111111111111, \"#46039f\"], [0.2222222222222222, \"#7201a8\"], [0.3333333333333333, \"#9c179e\"], [0.4444444444444444, \"#bd3786\"], [0.5555555555555556, \"#d8576b\"], [0.6666666666666666, \"#ed7953\"], [0.7777777777777778, \"#fb9f3a\"], [0.8888888888888888, \"#fdca26\"], [1.0, \"#f0f921\"]], \"type\": \"heatmap\"}], \"heatmapgl\": [{\"colorbar\": {\"outlinewidth\": 0, \"ticks\": \"\"}, \"colorscale\": [[0.0, \"#0d0887\"], [0.1111111111111111, \"#46039f\"], [0.2222222222222222, \"#7201a8\"], [0.3333333333333333, \"#9c179e\"], [0.4444444444444444, \"#bd3786\"], [0.5555555555555556, \"#d8576b\"], [0.6666666666666666, \"#ed7953\"], [0.7777777777777778, \"#fb9f3a\"], [0.8888888888888888, \"#fdca26\"], [1.0, \"#f0f921\"]], \"type\": \"heatmapgl\"}], \"histogram\": [{\"marker\": {\"colorbar\": {\"outlinewidth\": 0, \"ticks\": \"\"}}, \"type\": \"histogram\"}], \"histogram2d\": [{\"colorbar\": {\"outlinewidth\": 0, \"ticks\": \"\"}, \"colorscale\": [[0.0, \"#0d0887\"], [0.1111111111111111, \"#46039f\"], [0.2222222222222222, \"#7201a8\"], [0.3333333333333333, \"#9c179e\"], [0.4444444444444444, \"#bd3786\"], [0.5555555555555556, \"#d8576b\"], [0.6666666666666666, \"#ed7953\"], [0.7777777777777778, \"#fb9f3a\"], [0.8888888888888888, \"#fdca26\"], [1.0, \"#f0f921\"]], \"type\": \"histogram2d\"}], \"histogram2dcontour\": [{\"colorbar\": {\"outlinewidth\": 0, \"ticks\": \"\"}, \"colorscale\": [[0.0, \"#0d0887\"], [0.1111111111111111, \"#46039f\"], [0.2222222222222222, \"#7201a8\"], [0.3333333333333333, \"#9c179e\"], [0.4444444444444444, \"#bd3786\"], [0.5555555555555556, \"#d8576b\"], [0.6666666666666666, \"#ed7953\"], [0.7777777777777778, \"#fb9f3a\"], [0.8888888888888888, \"#fdca26\"], [1.0, \"#f0f921\"]], \"type\": \"histogram2dcontour\"}], \"mesh3d\": [{\"colorbar\": {\"outlinewidth\": 0, \"ticks\": \"\"}, \"type\": \"mesh3d\"}], \"parcoords\": [{\"line\": {\"colorbar\": {\"outlinewidth\": 0, \"ticks\": \"\"}}, \"type\": \"parcoords\"}], \"pie\": [{\"automargin\": true, \"type\": \"pie\"}], \"scatter\": [{\"marker\": {\"colorbar\": {\"outlinewidth\": 0, \"ticks\": \"\"}}, \"type\": \"scatter\"}], \"scatter3d\": [{\"line\": {\"colorbar\": {\"outlinewidth\": 0, \"ticks\": \"\"}}, \"marker\": {\"colorbar\": {\"outlinewidth\": 0, \"ticks\": \"\"}}, \"type\": \"scatter3d\"}], \"scattercarpet\": [{\"marker\": {\"colorbar\": {\"outlinewidth\": 0, \"ticks\": \"\"}}, \"type\": \"scattercarpet\"}], \"scattergeo\": [{\"marker\": {\"colorbar\": {\"outlinewidth\": 0, \"ticks\": \"\"}}, \"type\": \"scattergeo\"}], \"scattergl\": [{\"marker\": {\"colorbar\": {\"outlinewidth\": 0, \"ticks\": \"\"}}, \"type\": \"scattergl\"}], \"scattermapbox\": [{\"marker\": {\"colorbar\": {\"outlinewidth\": 0, \"ticks\": \"\"}}, \"type\": \"scattermapbox\"}], \"scatterpolar\": [{\"marker\": {\"colorbar\": {\"outlinewidth\": 0, \"ticks\": \"\"}}, \"type\": \"scatterpolar\"}], \"scatterpolargl\": [{\"marker\": {\"colorbar\": {\"outlinewidth\": 0, \"ticks\": \"\"}}, \"type\": \"scatterpolargl\"}], \"scatterternary\": [{\"marker\": {\"colorbar\": {\"outlinewidth\": 0, \"ticks\": \"\"}}, \"type\": \"scatterternary\"}], \"surface\": [{\"colorbar\": {\"outlinewidth\": 0, \"ticks\": \"\"}, \"colorscale\": [[0.0, \"#0d0887\"], [0.1111111111111111, \"#46039f\"], [0.2222222222222222, \"#7201a8\"], [0.3333333333333333, \"#9c179e\"], [0.4444444444444444, \"#bd3786\"], [0.5555555555555556, \"#d8576b\"], [0.6666666666666666, \"#ed7953\"], [0.7777777777777778, \"#fb9f3a\"], [0.8888888888888888, \"#fdca26\"], [1.0, \"#f0f921\"]], \"type\": \"surface\"}], \"table\": [{\"cells\": {\"fill\": {\"color\": \"#EBF0F8\"}, \"line\": {\"color\": \"white\"}}, \"header\": {\"fill\": {\"color\": \"#C8D4E3\"}, \"line\": {\"color\": \"white\"}}, \"type\": \"table\"}]}, \"layout\": {\"annotationdefaults\": {\"arrowcolor\": \"#2a3f5f\", \"arrowhead\": 0, \"arrowwidth\": 1}, \"coloraxis\": {\"colorbar\": {\"outlinewidth\": 0, \"ticks\": \"\"}}, \"colorscale\": {\"diverging\": [[0, \"#8e0152\"], [0.1, \"#c51b7d\"], [0.2, \"#de77ae\"], [0.3, \"#f1b6da\"], [0.4, \"#fde0ef\"], [0.5, \"#f7f7f7\"], [0.6, \"#e6f5d0\"], [0.7, \"#b8e186\"], [0.8, \"#7fbc41\"], [0.9, \"#4d9221\"], [1, \"#276419\"]], \"sequential\": [[0.0, \"#0d0887\"], [0.1111111111111111, \"#46039f\"], [0.2222222222222222, \"#7201a8\"], [0.3333333333333333, \"#9c179e\"], [0.4444444444444444, \"#bd3786\"], [0.5555555555555556, \"#d8576b\"], [0.6666666666666666, \"#ed7953\"], [0.7777777777777778, \"#fb9f3a\"], [0.8888888888888888, \"#fdca26\"], [1.0, \"#f0f921\"]], \"sequentialminus\": [[0.0, \"#0d0887\"], [0.1111111111111111, \"#46039f\"], [0.2222222222222222, \"#7201a8\"], [0.3333333333333333, \"#9c179e\"], [0.4444444444444444, \"#bd3786\"], [0.5555555555555556, \"#d8576b\"], [0.6666666666666666, \"#ed7953\"], [0.7777777777777778, \"#fb9f3a\"], [0.8888888888888888, \"#fdca26\"], [1.0, \"#f0f921\"]]}, \"colorway\": [\"#636efa\", \"#EF553B\", \"#00cc96\", \"#ab63fa\", \"#FFA15A\", \"#19d3f3\", \"#FF6692\", \"#B6E880\", \"#FF97FF\", \"#FECB52\"], \"font\": {\"color\": \"#2a3f5f\"}, \"geo\": {\"bgcolor\": \"white\", \"lakecolor\": \"white\", \"landcolor\": \"#E5ECF6\", \"showlakes\": true, \"showland\": true, \"subunitcolor\": \"white\"}, \"hoverlabel\": {\"align\": \"left\"}, \"hovermode\": \"closest\", \"mapbox\": {\"style\": \"light\"}, \"paper_bgcolor\": \"white\", \"plot_bgcolor\": \"#E5ECF6\", \"polar\": {\"angularaxis\": {\"gridcolor\": \"white\", \"linecolor\": \"white\", \"ticks\": \"\"}, \"bgcolor\": \"#E5ECF6\", \"radialaxis\": {\"gridcolor\": \"white\", \"linecolor\": \"white\", \"ticks\": \"\"}}, \"scene\": {\"xaxis\": {\"backgroundcolor\": \"#E5ECF6\", \"gridcolor\": \"white\", \"gridwidth\": 2, \"linecolor\": \"white\", \"showbackground\": true, \"ticks\": \"\", \"zerolinecolor\": \"white\"}, \"yaxis\": {\"backgroundcolor\": \"#E5ECF6\", \"gridcolor\": \"white\", \"gridwidth\": 2, \"linecolor\": \"white\", \"showbackground\": true, \"ticks\": \"\", \"zerolinecolor\": \"white\"}, \"zaxis\": {\"backgroundcolor\": \"#E5ECF6\", \"gridcolor\": \"white\", \"gridwidth\": 2, \"linecolor\": \"white\", \"showbackground\": true, \"ticks\": \"\", \"zerolinecolor\": \"white\"}}, \"shapedefaults\": {\"line\": {\"color\": \"#2a3f5f\"}}, \"ternary\": {\"aaxis\": {\"gridcolor\": \"white\", \"linecolor\": \"white\", \"ticks\": \"\"}, \"baxis\": {\"gridcolor\": \"white\", \"linecolor\": \"white\", \"ticks\": \"\"}, \"bgcolor\": \"#E5ECF6\", \"caxis\": {\"gridcolor\": \"white\", \"linecolor\": \"white\", \"ticks\": \"\"}}, \"title\": {\"x\": 0.05}, \"xaxis\": {\"automargin\": true, \"gridcolor\": \"white\", \"linecolor\": \"white\", \"ticks\": \"\", \"title\": {\"standoff\": 15}, \"zerolinecolor\": \"white\", \"zerolinewidth\": 2}, \"yaxis\": {\"automargin\": true, \"gridcolor\": \"white\", \"linecolor\": \"white\", \"ticks\": \"\", \"title\": {\"standoff\": 15}, \"zerolinecolor\": \"white\", \"zerolinewidth\": 2}}}, \"title\": {\"text\": \"Relative abundance profile\"}, \"xaxis\": {\"anchor\": \"y\", \"domain\": [0.0, 1.0], \"title\": {\"text\": \"Fraction\"}}, \"yaxis\": {\"anchor\": \"x\", \"domain\": [0.0, 1.0], \"title\": {\"text\": \"Ratio H/L\"}}},\n",
       "                        {\"responsive\": true}\n",
       "                    ).then(function(){\n",
       "                            \n",
       "var gd = document.getElementById('c79adf29-a1cc-49b4-911d-ed62a7d8e7b2');\n",
       "var x = new MutationObserver(function (mutations, observer) {{\n",
       "        var display = window.getComputedStyle(gd).display;\n",
       "        if (!display || display === 'none') {{\n",
       "            console.log([gd, 'removed!']);\n",
       "            Plotly.purge(gd);\n",
       "            observer.disconnect();\n",
       "        }}\n",
       "}});\n",
       "\n",
       "// Listen for the removal of the full notebook cells\n",
       "var notebookContainer = gd.closest('#notebook-container');\n",
       "if (notebookContainer) {{\n",
       "    x.observe(notebookContainer, {childList: true});\n",
       "}}\n",
       "\n",
       "// Listen for the clearing of the current output cell\n",
       "var outputEl = gd.closest('.output');\n",
       "if (outputEl) {{\n",
       "    x.observe(outputEl, {childList: true});\n",
       "}}\n",
       "\n",
       "                        })\n",
       "                };\n",
       "                });\n",
       "            </script>\n",
       "        </div>"
      ]
     },
     "metadata": {},
     "output_type": "display_data"
    }
   ],
   "source": [
    "df_class.plottingdf() #for MAP1"
   ]
  }
 ],
 "metadata": {
  "kernelspec": {
   "display_name": "Python 3",
   "language": "python",
   "name": "python3"
  },
  "language_info": {
   "codemirror_mode": {
    "name": "ipython",
    "version": 3
   },
   "file_extension": ".py",
   "mimetype": "text/x-python",
   "name": "python",
   "nbconvert_exporter": "python",
   "pygments_lexer": "ipython3",
   "version": "3.8.5"
  }
 },
 "nbformat": 4,
 "nbformat_minor": 1
}
